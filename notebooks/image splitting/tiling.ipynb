{
 "cells": [
  {
   "cell_type": "code",
   "execution_count": null,
   "metadata": {
    "collapsed": true
   },
   "outputs": [],
   "source": []
  },
  {
   "cell_type": "code",
   "execution_count": 2,
   "outputs": [],
   "source": [
    "from PIL import Image\n",
    "import numpy as np"
   ],
   "metadata": {
    "collapsed": false,
    "pycharm": {
     "name": "#%%\n"
    }
   }
  },
  {
   "cell_type": "code",
   "execution_count": 3,
   "outputs": [],
   "source": [
    "path = r'C:\\Users\\R\\PycharmProjects\\Thesis_cur-AI-tor\\images\\ff742b8e8e6120f27ec567f60143fc82.jpg'\n",
    "\n",
    "img = Image.open(path)\n",
    "red_channel = np.array(img.getchannel(0))\n",
    "# img.shape"
   ],
   "metadata": {
    "collapsed": false,
    "pycharm": {
     "name": "#%%\n"
    }
   }
  },
  {
   "cell_type": "code",
   "execution_count": 4,
   "outputs": [
    {
     "name": "stdout",
     "output_type": "stream",
     "text": [
      "h, w: 400, 371\n"
     ]
    }
   ],
   "source": [
    "# red_channel_array = np.array(red_channel)\n",
    "\n",
    "width = red_channel.shape[0]\n",
    "height = red_channel.shape[1]\n",
    "\n",
    "print(f'h, w: {height}, {width}')"
   ],
   "metadata": {
    "collapsed": false,
    "pycharm": {
     "name": "#%%\n"
    }
   }
  },
  {
   "cell_type": "code",
   "execution_count": 5,
   "outputs": [
    {
     "ename": "ValueError",
     "evalue": "cannot reshape array of size 148400 into shape (1,1)",
     "output_type": "error",
     "traceback": [
      "\u001B[1;31m---------------------------------------------------------------------------\u001B[0m",
      "\u001B[1;31mValueError\u001B[0m                                Traceback (most recent call last)",
      "\u001B[1;32m<ipython-input-5-d5d4551ca5c8>\u001B[0m in \u001B[0;36m<module>\u001B[1;34m\u001B[0m\n\u001B[0;32m      6\u001B[0m     \u001B[1;32mreturn\u001B[0m \u001B[0mnp\u001B[0m\u001B[1;33m.\u001B[0m\u001B[0masarray\u001B[0m\u001B[1;33m(\u001B[0m\u001B[0msplit_img\u001B[0m\u001B[1;33m,\u001B[0m \u001B[0mdtype\u001B[0m\u001B[1;33m=\u001B[0m\u001B[0mnp\u001B[0m\u001B[1;33m.\u001B[0m\u001B[0mndarray\u001B[0m\u001B[1;33m)\u001B[0m\u001B[1;33m.\u001B[0m\u001B[0mreshape\u001B[0m\u001B[1;33m(\u001B[0m\u001B[0mn_blocks\u001B[0m\u001B[1;33m)\u001B[0m\u001B[1;33m\u001B[0m\u001B[1;33m\u001B[0m\u001B[0m\n\u001B[0;32m      7\u001B[0m \u001B[1;33m\u001B[0m\u001B[0m\n\u001B[1;32m----> 8\u001B[1;33m \u001B[0mresult\u001B[0m \u001B[1;33m=\u001B[0m \u001B[0mdivide_img_blocks\u001B[0m\u001B[1;33m(\u001B[0m\u001B[0mred_channel\u001B[0m\u001B[1;33m,\u001B[0m \u001B[0mn_blocks\u001B[0m\u001B[1;33m=\u001B[0m\u001B[1;33m(\u001B[0m\u001B[1;36m1\u001B[0m\u001B[1;33m,\u001B[0m\u001B[1;36m1\u001B[0m\u001B[1;33m)\u001B[0m\u001B[1;33m)\u001B[0m\u001B[1;33m\u001B[0m\u001B[1;33m\u001B[0m\u001B[0m\n\u001B[0m\u001B[0;32m      9\u001B[0m \u001B[1;33m\u001B[0m\u001B[0m\n\u001B[0;32m     10\u001B[0m \u001B[1;32mfor\u001B[0m \u001B[0mi\u001B[0m \u001B[1;32min\u001B[0m \u001B[0mrange\u001B[0m\u001B[1;33m(\u001B[0m\u001B[0mresult\u001B[0m\u001B[1;33m.\u001B[0m\u001B[0mshape\u001B[0m\u001B[1;33m[\u001B[0m\u001B[1;36m0\u001B[0m\u001B[1;33m]\u001B[0m\u001B[1;33m)\u001B[0m\u001B[1;33m:\u001B[0m\u001B[1;33m\u001B[0m\u001B[1;33m\u001B[0m\u001B[0m\n",
      "\u001B[1;32m<ipython-input-5-d5d4551ca5c8>\u001B[0m in \u001B[0;36mdivide_img_blocks\u001B[1;34m(img, n_blocks)\u001B[0m\n\u001B[0;32m      4\u001B[0m     \u001B[0mhorizontal\u001B[0m \u001B[1;33m=\u001B[0m \u001B[0mnp\u001B[0m\u001B[1;33m.\u001B[0m\u001B[0marray_split\u001B[0m\u001B[1;33m(\u001B[0m\u001B[0mimg\u001B[0m\u001B[1;33m,\u001B[0m \u001B[0mn_blocks\u001B[0m\u001B[1;33m[\u001B[0m\u001B[1;36m0\u001B[0m\u001B[1;33m]\u001B[0m\u001B[1;33m)\u001B[0m\u001B[1;33m\u001B[0m\u001B[1;33m\u001B[0m\u001B[0m\n\u001B[0;32m      5\u001B[0m     \u001B[0msplit_img\u001B[0m \u001B[1;33m=\u001B[0m \u001B[1;33m[\u001B[0m\u001B[0mnp\u001B[0m\u001B[1;33m.\u001B[0m\u001B[0marray_split\u001B[0m\u001B[1;33m(\u001B[0m\u001B[0mblock\u001B[0m\u001B[1;33m,\u001B[0m \u001B[0mn_blocks\u001B[0m\u001B[1;33m[\u001B[0m\u001B[1;36m1\u001B[0m\u001B[1;33m]\u001B[0m\u001B[1;33m,\u001B[0m \u001B[0maxis\u001B[0m\u001B[1;33m=\u001B[0m\u001B[1;36m1\u001B[0m\u001B[1;33m)\u001B[0m \u001B[1;32mfor\u001B[0m \u001B[0mblock\u001B[0m \u001B[1;32min\u001B[0m \u001B[0mhorizontal\u001B[0m\u001B[1;33m]\u001B[0m\u001B[1;33m\u001B[0m\u001B[1;33m\u001B[0m\u001B[0m\n\u001B[1;32m----> 6\u001B[1;33m     \u001B[1;32mreturn\u001B[0m \u001B[0mnp\u001B[0m\u001B[1;33m.\u001B[0m\u001B[0masarray\u001B[0m\u001B[1;33m(\u001B[0m\u001B[0msplit_img\u001B[0m\u001B[1;33m,\u001B[0m \u001B[0mdtype\u001B[0m\u001B[1;33m=\u001B[0m\u001B[0mnp\u001B[0m\u001B[1;33m.\u001B[0m\u001B[0mndarray\u001B[0m\u001B[1;33m)\u001B[0m\u001B[1;33m.\u001B[0m\u001B[0mreshape\u001B[0m\u001B[1;33m(\u001B[0m\u001B[0mn_blocks\u001B[0m\u001B[1;33m)\u001B[0m\u001B[1;33m\u001B[0m\u001B[1;33m\u001B[0m\u001B[0m\n\u001B[0m\u001B[0;32m      7\u001B[0m \u001B[1;33m\u001B[0m\u001B[0m\n\u001B[0;32m      8\u001B[0m \u001B[0mresult\u001B[0m \u001B[1;33m=\u001B[0m \u001B[0mdivide_img_blocks\u001B[0m\u001B[1;33m(\u001B[0m\u001B[0mred_channel\u001B[0m\u001B[1;33m,\u001B[0m \u001B[0mn_blocks\u001B[0m\u001B[1;33m=\u001B[0m\u001B[1;33m(\u001B[0m\u001B[1;36m1\u001B[0m\u001B[1;33m,\u001B[0m\u001B[1;36m1\u001B[0m\u001B[1;33m)\u001B[0m\u001B[1;33m)\u001B[0m\u001B[1;33m\u001B[0m\u001B[1;33m\u001B[0m\u001B[0m\n",
      "\u001B[1;31mValueError\u001B[0m: cannot reshape array of size 148400 into shape (1,1)"
     ]
    }
   ],
   "source": [
    "l = []\n",
    "\n",
    "def divide_img_blocks(img, n_blocks=(3, 3)):\n",
    "    horizontal = np.array_split(img, n_blocks[0])\n",
    "    split_img = [np.array_split(block, n_blocks[1], axis=1) for block in horizontal]\n",
    "    return np.asarray(split_img, dtype=np.ndarray).reshape(n_blocks)\n",
    "\n",
    "result = divide_img_blocks(red_channel)\n",
    "\n",
    "for i in range(result.shape[0]):\n",
    "    for j in range(result.shape[1]):\n",
    "        l.append(result[i,j])"
   ],
   "metadata": {
    "collapsed": false,
    "pycharm": {
     "name": "#%%\n"
    }
   }
  },
  {
   "cell_type": "code",
   "execution_count": 34,
   "outputs": [
    {
     "data": {
      "text/plain": "(3, 3)"
     },
     "execution_count": 34,
     "metadata": {},
     "output_type": "execute_result"
    }
   ],
   "source": [
    "result.shape"
   ],
   "metadata": {
    "collapsed": false,
    "pycharm": {
     "name": "#%%\n"
    }
   }
  },
  {
   "cell_type": "code",
   "execution_count": 39,
   "outputs": [
    {
     "data": {
      "text/plain": "(124, 134)"
     },
     "execution_count": 39,
     "metadata": {},
     "output_type": "execute_result"
    }
   ],
   "source": [
    "result[0][0].shape"
   ],
   "metadata": {
    "collapsed": false,
    "pycharm": {
     "name": "#%%\n"
    }
   }
  },
  {
   "cell_type": "code",
   "execution_count": 40,
   "outputs": [
    {
     "data": {
      "text/plain": "(124, 134)"
     },
     "execution_count": 40,
     "metadata": {},
     "output_type": "execute_result"
    }
   ],
   "source": [
    "result[1][0].shape"
   ],
   "metadata": {
    "collapsed": false,
    "pycharm": {
     "name": "#%%\n"
    }
   }
  },
  {
   "cell_type": "code",
   "execution_count": 41,
   "outputs": [
    {
     "data": {
      "text/plain": "(123, 134)"
     },
     "execution_count": 41,
     "metadata": {},
     "output_type": "execute_result"
    }
   ],
   "source": [
    "result[2][0].shape\n"
   ],
   "metadata": {
    "collapsed": false,
    "pycharm": {
     "name": "#%%\n"
    }
   }
  },
  {
   "cell_type": "code",
   "execution_count": 42,
   "outputs": [
    {
     "data": {
      "text/plain": "array([[145, 132, 207, ..., 210, 223, 230],\n       [126, 135, 194, ..., 207, 218, 232],\n       [118, 126, 165, ..., 207, 211, 228],\n       ...,\n       [100, 135, 167, ..., 213, 208, 227],\n       [ 92, 165, 205, ..., 217, 210, 225],\n       [ 93, 177, 218, ..., 221, 212, 223]], dtype=uint8)"
     },
     "execution_count": 42,
     "metadata": {},
     "output_type": "execute_result"
    }
   ],
   "source": [
    "result[2][0]\n"
   ],
   "metadata": {
    "collapsed": false,
    "pycharm": {
     "name": "#%%\n"
    }
   }
  },
  {
   "cell_type": "code",
   "execution_count": 46,
   "outputs": [],
   "source": [
    "im = Image.fromarray(result[0][0])\n",
    "im.show()"
   ],
   "metadata": {
    "collapsed": false,
    "pycharm": {
     "name": "#%%\n"
    }
   }
  },
  {
   "cell_type": "code",
   "execution_count": 47,
   "outputs": [
    {
     "data": {
      "text/plain": "[array([[100, 100, 104, ...,  38,  38,  20],\n        [102, 106, 112, ...,  24,  31,  18],\n        [105, 107, 112, ...,  18,  27,  26],\n        ...,\n        [203, 174, 148, ...,  97, 126,  35],\n        [176, 190, 200, ...,  57, 122,  35],\n        [153, 188, 224, ...,  58, 136,  67]], dtype=uint8),\n array([[ 18,  21,  19, ...,   7,  10,  13],\n        [ 11,   2,  14, ...,  27,  19,  16],\n        [ 20,   6,  12, ...,  32,  32,  39],\n        ...,\n        [ 77,  58,  83, ..., 131,  33,  69],\n        [ 71,  73,  88, ...,  70,   7,  40],\n        [ 70,  73,  59, ...,  47,  74,  61]], dtype=uint8),\n array([[ 13,  10,  13, ..., 126, 127, 127],\n        [ 17,  13,  14, ..., 121, 124, 123],\n        [ 42,  35,  32, ..., 121, 124, 121],\n        ...,\n        [ 73,  85,  58, ..., 116, 116, 120],\n        [ 61,  38,  43, ..., 113, 115, 118],\n        [ 63,  45,  60, ..., 113, 115, 118]], dtype=uint8),\n array([[134, 192, 209, ...,  48, 108,  85],\n        [140, 211, 194, ...,  76, 113, 130],\n        [123, 139, 119, ...,  96,  81, 152],\n        ...,\n        [112, 106, 178, ..., 226, 227, 208],\n        [126, 148, 222, ..., 221, 228, 216],\n        [133, 162, 211, ..., 217, 227, 223]], dtype=uint8),\n array([[ 65,  96,  22, ...,  37,  86, 123],\n        [ 69,  91,  36, ...,  48,  71, 119],\n        [102,  98,  30, ...,  57,  76,  66],\n        ...,\n        [190, 168, 181, ...,  19,  64,  98],\n        [204, 178, 172, ...,   4,  83, 101],\n        [209, 170, 170, ...,   4,  79, 105]], dtype=uint8),\n array([[ 76,  92,  89, ..., 114, 115, 118],\n        [135, 148, 165, ..., 117, 117, 120],\n        [151, 166, 192, ..., 120, 119, 122],\n        ...,\n        [107, 107, 114, ..., 164, 165, 149],\n        [ 97, 104, 113, ..., 152, 166, 141],\n        [107,  94, 103, ..., 113, 135, 129]], dtype=uint8),\n array([[145, 132, 207, ..., 210, 223, 230],\n        [126, 135, 194, ..., 207, 218, 232],\n        [118, 126, 165, ..., 207, 211, 228],\n        ...,\n        [100, 135, 167, ..., 213, 208, 227],\n        [ 92, 165, 205, ..., 217, 210, 225],\n        [ 93, 177, 218, ..., 221, 212, 223]], dtype=uint8),\n array([[206, 179, 173, ...,  24,  82,  80],\n        [217, 184, 179, ...,   6,  68, 101],\n        [237, 199, 171, ...,  18,  60, 102],\n        ...,\n        [227, 217, 230, ..., 245, 223, 195],\n        [224, 218, 229, ..., 233, 227, 209],\n        [220, 221, 215, ..., 212, 225, 221]], dtype=uint8),\n array([[ 91, 107,  92, ...,  88,  81,  81],\n        [ 77,  70,  89, ...,  86,  75,  84],\n        [104,  90,  71, ..., 156, 149, 121],\n        ...,\n        [184, 186, 179, ..., 184, 193, 166],\n        [192, 185, 179, ..., 184, 181, 167],\n        [200, 186, 181, ..., 212, 215, 179]], dtype=uint8)]"
     },
     "execution_count": 47,
     "metadata": {},
     "output_type": "execute_result"
    }
   ],
   "source": [
    "l"
   ],
   "metadata": {
    "collapsed": false,
    "pycharm": {
     "name": "#%%\n"
    }
   }
  },
  {
   "cell_type": "code",
   "execution_count": null,
   "outputs": [],
   "source": [],
   "metadata": {
    "collapsed": false,
    "pycharm": {
     "name": "#%%\n"
    }
   }
  }
 ],
 "metadata": {
  "kernelspec": {
   "display_name": "Python 3",
   "language": "python",
   "name": "python3"
  },
  "language_info": {
   "codemirror_mode": {
    "name": "ipython",
    "version": 2
   },
   "file_extension": ".py",
   "mimetype": "text/x-python",
   "name": "python",
   "nbconvert_exporter": "python",
   "pygments_lexer": "ipython2",
   "version": "2.7.6"
  }
 },
 "nbformat": 4,
 "nbformat_minor": 0
}