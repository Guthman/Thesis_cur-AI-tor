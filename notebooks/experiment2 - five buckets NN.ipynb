{
 "cells": [
  {
   "cell_type": "code",
   "execution_count": 1,
   "metadata": {
    "collapsed": true
   },
   "outputs": [],
   "source": [
    "try:\n",
    "    import ujson as json\n",
    "except ModuleNotFoundError:\n",
    "    ! pip install ujson -qU\n",
    "import pandas as pd\n",
    "# import itertools\n",
    "\n",
    "try:\n",
    "  import pytorch_lightning as pl\n",
    "  from pl_bolts.models.regression import LinearRegression\n",
    "except ModuleNotFoundError:\n",
    "  ! pip install pytorch-lightning -qU\n",
    "  ! pip install lightning-bolts -qU\n",
    "  import pytorch_lightning as pl\n",
    "\n",
    "import torch\n",
    "from torch.utils.data import Dataset, DataLoader\n",
    "from torch import nn\n",
    "\n",
    "on_colab = False\n",
    "# on_colab = True"
   ]
  },
  {
   "cell_type": "code",
   "execution_count": 2,
   "outputs": [
    {
     "data": {
      "text/plain": "                                                    0         1         2    \\\n3865991_3865991_691412_2935874-DSMUXGTJ-7.jpg  0.402192  0.215186  1.006052   \n7980766_7980766_669333_7048178-XOYQRJZQ-7.jpg  1.073950  0.707743  0.106056   \n3749936_3749936_314728_2819820-JDANXKLD-7.jpg  2.806773  0.006849  0.898165   \n5610715_5610715_91068_4680525-LMQNOWJA-7.jpg   0.039423  0.658119  1.192224   \n6771765_6771765_786228_5841405-PSPFNCAV-7.jpg  0.292377  0.011645  0.000842   \n\n                                                    3         4         5    \\\n3865991_3865991_691412_2935874-DSMUXGTJ-7.jpg  2.535887  0.223182  0.966906   \n7980766_7980766_669333_7048178-XOYQRJZQ-7.jpg  0.551383  0.680530  1.220285   \n3749936_3749936_314728_2819820-JDANXKLD-7.jpg  0.802126  0.967394  0.287235   \n5610715_5610715_91068_4680525-LMQNOWJA-7.jpg   2.684522  2.460881  0.046748   \n6771765_6771765_786228_5841405-PSPFNCAV-7.jpg  1.337585  0.382337  0.305897   \n\n                                                    6         7         8    \\\n3865991_3865991_691412_2935874-DSMUXGTJ-7.jpg  0.067344  3.101986  1.115319   \n7980766_7980766_669333_7048178-XOYQRJZQ-7.jpg  1.024527  0.305020  1.039700   \n3749936_3749936_314728_2819820-JDANXKLD-7.jpg  0.244238  1.446031  6.778771   \n5610715_5610715_91068_4680525-LMQNOWJA-7.jpg   0.357242  3.366874  0.919030   \n6771765_6771765_786228_5841405-PSPFNCAV-7.jpg  0.060697  0.592383  1.287450   \n\n                                                    9    ...       502  \\\n3865991_3865991_691412_2935874-DSMUXGTJ-7.jpg  0.726254  ...  0.732725   \n7980766_7980766_669333_7048178-XOYQRJZQ-7.jpg  0.217051  ...  0.649347   \n3749936_3749936_314728_2819820-JDANXKLD-7.jpg  0.235296  ...  1.267828   \n5610715_5610715_91068_4680525-LMQNOWJA-7.jpg   0.776935  ...  0.823428   \n6771765_6771765_786228_5841405-PSPFNCAV-7.jpg  0.122081  ...  0.067053   \n\n                                                    503       504       505  \\\n3865991_3865991_691412_2935874-DSMUXGTJ-7.jpg  0.914586  0.618770  0.791526   \n7980766_7980766_669333_7048178-XOYQRJZQ-7.jpg  1.637149  2.630768  2.322523   \n3749936_3749936_314728_2819820-JDANXKLD-7.jpg  0.326778  0.115728  0.466623   \n5610715_5610715_91068_4680525-LMQNOWJA-7.jpg   0.713102  0.531813  1.427407   \n6771765_6771765_786228_5841405-PSPFNCAV-7.jpg  0.803128  0.234250  2.015079   \n\n                                                    506       507       508  \\\n3865991_3865991_691412_2935874-DSMUXGTJ-7.jpg  2.018329  0.108899  0.651192   \n7980766_7980766_669333_7048178-XOYQRJZQ-7.jpg  0.047876  1.300324  3.735312   \n3749936_3749936_314728_2819820-JDANXKLD-7.jpg  0.193548  1.720899  1.446586   \n5610715_5610715_91068_4680525-LMQNOWJA-7.jpg   0.424931  2.481088  0.868538   \n6771765_6771765_786228_5841405-PSPFNCAV-7.jpg  1.405711  0.291771  0.038078   \n\n                                                    509       510       511  \n3865991_3865991_691412_2935874-DSMUXGTJ-7.jpg  0.192771  2.346089  1.501905  \n7980766_7980766_669333_7048178-XOYQRJZQ-7.jpg  1.352288  0.054118  3.584239  \n3749936_3749936_314728_2819820-JDANXKLD-7.jpg  2.535370  0.864782  0.062465  \n5610715_5610715_91068_4680525-LMQNOWJA-7.jpg   2.333207  0.845097  1.062181  \n6771765_6771765_786228_5841405-PSPFNCAV-7.jpg  0.586244  0.069435  0.066380  \n\n[5 rows x 512 columns]",
      "text/html": "<div>\n<style scoped>\n    .dataframe tbody tr th:only-of-type {\n        vertical-align: middle;\n    }\n\n    .dataframe tbody tr th {\n        vertical-align: top;\n    }\n\n    .dataframe thead th {\n        text-align: right;\n    }\n</style>\n<table border=\"1\" class=\"dataframe\">\n  <thead>\n    <tr style=\"text-align: right;\">\n      <th></th>\n      <th>0</th>\n      <th>1</th>\n      <th>2</th>\n      <th>3</th>\n      <th>4</th>\n      <th>5</th>\n      <th>6</th>\n      <th>7</th>\n      <th>8</th>\n      <th>9</th>\n      <th>...</th>\n      <th>502</th>\n      <th>503</th>\n      <th>504</th>\n      <th>505</th>\n      <th>506</th>\n      <th>507</th>\n      <th>508</th>\n      <th>509</th>\n      <th>510</th>\n      <th>511</th>\n    </tr>\n  </thead>\n  <tbody>\n    <tr>\n      <th>3865991_3865991_691412_2935874-DSMUXGTJ-7.jpg</th>\n      <td>0.402192</td>\n      <td>0.215186</td>\n      <td>1.006052</td>\n      <td>2.535887</td>\n      <td>0.223182</td>\n      <td>0.966906</td>\n      <td>0.067344</td>\n      <td>3.101986</td>\n      <td>1.115319</td>\n      <td>0.726254</td>\n      <td>...</td>\n      <td>0.732725</td>\n      <td>0.914586</td>\n      <td>0.618770</td>\n      <td>0.791526</td>\n      <td>2.018329</td>\n      <td>0.108899</td>\n      <td>0.651192</td>\n      <td>0.192771</td>\n      <td>2.346089</td>\n      <td>1.501905</td>\n    </tr>\n    <tr>\n      <th>7980766_7980766_669333_7048178-XOYQRJZQ-7.jpg</th>\n      <td>1.073950</td>\n      <td>0.707743</td>\n      <td>0.106056</td>\n      <td>0.551383</td>\n      <td>0.680530</td>\n      <td>1.220285</td>\n      <td>1.024527</td>\n      <td>0.305020</td>\n      <td>1.039700</td>\n      <td>0.217051</td>\n      <td>...</td>\n      <td>0.649347</td>\n      <td>1.637149</td>\n      <td>2.630768</td>\n      <td>2.322523</td>\n      <td>0.047876</td>\n      <td>1.300324</td>\n      <td>3.735312</td>\n      <td>1.352288</td>\n      <td>0.054118</td>\n      <td>3.584239</td>\n    </tr>\n    <tr>\n      <th>3749936_3749936_314728_2819820-JDANXKLD-7.jpg</th>\n      <td>2.806773</td>\n      <td>0.006849</td>\n      <td>0.898165</td>\n      <td>0.802126</td>\n      <td>0.967394</td>\n      <td>0.287235</td>\n      <td>0.244238</td>\n      <td>1.446031</td>\n      <td>6.778771</td>\n      <td>0.235296</td>\n      <td>...</td>\n      <td>1.267828</td>\n      <td>0.326778</td>\n      <td>0.115728</td>\n      <td>0.466623</td>\n      <td>0.193548</td>\n      <td>1.720899</td>\n      <td>1.446586</td>\n      <td>2.535370</td>\n      <td>0.864782</td>\n      <td>0.062465</td>\n    </tr>\n    <tr>\n      <th>5610715_5610715_91068_4680525-LMQNOWJA-7.jpg</th>\n      <td>0.039423</td>\n      <td>0.658119</td>\n      <td>1.192224</td>\n      <td>2.684522</td>\n      <td>2.460881</td>\n      <td>0.046748</td>\n      <td>0.357242</td>\n      <td>3.366874</td>\n      <td>0.919030</td>\n      <td>0.776935</td>\n      <td>...</td>\n      <td>0.823428</td>\n      <td>0.713102</td>\n      <td>0.531813</td>\n      <td>1.427407</td>\n      <td>0.424931</td>\n      <td>2.481088</td>\n      <td>0.868538</td>\n      <td>2.333207</td>\n      <td>0.845097</td>\n      <td>1.062181</td>\n    </tr>\n    <tr>\n      <th>6771765_6771765_786228_5841405-PSPFNCAV-7.jpg</th>\n      <td>0.292377</td>\n      <td>0.011645</td>\n      <td>0.000842</td>\n      <td>1.337585</td>\n      <td>0.382337</td>\n      <td>0.305897</td>\n      <td>0.060697</td>\n      <td>0.592383</td>\n      <td>1.287450</td>\n      <td>0.122081</td>\n      <td>...</td>\n      <td>0.067053</td>\n      <td>0.803128</td>\n      <td>0.234250</td>\n      <td>2.015079</td>\n      <td>1.405711</td>\n      <td>0.291771</td>\n      <td>0.038078</td>\n      <td>0.586244</td>\n      <td>0.069435</td>\n      <td>0.066380</td>\n    </tr>\n  </tbody>\n</table>\n<p>5 rows × 512 columns</p>\n</div>"
     },
     "execution_count": 2,
     "metadata": {},
     "output_type": "execute_result"
    }
   ],
   "source": [
    "# Load x data\n",
    "if on_colab:\n",
    "    data_dir = r'micro_dataset1_resnet18_output_identity.json'\n",
    "else:\n",
    "    data_dir = r'F:\\temp\\thesisdata\\micro_dataset_1\\micro_dataset1_resnet18_output_identity.json'\n",
    "\n",
    "with open(data_dir, 'r') as f:\n",
    "    data_dict_list = json.load(f)\n",
    "\n",
    "data_dict = {}\n",
    "for element in data_dict_list:\n",
    "    data_dict.update(element)\n",
    "\n",
    "# Show first two elements of the dict\n",
    "# dict(itertools.islice(data_dict.items(), 2))\n",
    "df_x = pd.DataFrame.from_dict(data_dict, orient='index')\n",
    "df_x.head()"
   ],
   "metadata": {
    "collapsed": false,
    "pycharm": {
     "name": "#%%\n"
    }
   }
  },
  {
   "cell_type": "code",
   "execution_count": 3,
   "outputs": [
    {
     "data": {
      "text/plain": "                                             PRICE_BIN_IDX  \\\nFILENAME                                                     \n481029_481029_349215_257967-7.jpg                        3   \n511001_511001_388280_276511-7.jpg                        4   \n517326_517326_376595_282597-CCCWLPRX-7.jpg               5   \n524310_524310_342634_286117-LEMCITZY-7.jpg               5   \n5045187_5045187_7198_4115009-DDZJITSS-7.jpg              3   \n\n                                             LIKES_VIEWS_RATIO_BIN_IDX  \nFILENAME                                                                \n481029_481029_349215_257967-7.jpg                                    2  \n511001_511001_388280_276511-7.jpg                                    1  \n517326_517326_376595_282597-CCCWLPRX-7.jpg                           1  \n524310_524310_342634_286117-LEMCITZY-7.jpg                           1  \n5045187_5045187_7198_4115009-DDZJITSS-7.jpg                          2  ",
      "text/html": "<div>\n<style scoped>\n    .dataframe tbody tr th:only-of-type {\n        vertical-align: middle;\n    }\n\n    .dataframe tbody tr th {\n        vertical-align: top;\n    }\n\n    .dataframe thead th {\n        text-align: right;\n    }\n</style>\n<table border=\"1\" class=\"dataframe\">\n  <thead>\n    <tr style=\"text-align: right;\">\n      <th></th>\n      <th>PRICE_BIN_IDX</th>\n      <th>LIKES_VIEWS_RATIO_BIN_IDX</th>\n    </tr>\n    <tr>\n      <th>FILENAME</th>\n      <th></th>\n      <th></th>\n    </tr>\n  </thead>\n  <tbody>\n    <tr>\n      <th>481029_481029_349215_257967-7.jpg</th>\n      <td>3</td>\n      <td>2</td>\n    </tr>\n    <tr>\n      <th>511001_511001_388280_276511-7.jpg</th>\n      <td>4</td>\n      <td>1</td>\n    </tr>\n    <tr>\n      <th>517326_517326_376595_282597-CCCWLPRX-7.jpg</th>\n      <td>5</td>\n      <td>1</td>\n    </tr>\n    <tr>\n      <th>524310_524310_342634_286117-LEMCITZY-7.jpg</th>\n      <td>5</td>\n      <td>1</td>\n    </tr>\n    <tr>\n      <th>5045187_5045187_7198_4115009-DDZJITSS-7.jpg</th>\n      <td>3</td>\n      <td>2</td>\n    </tr>\n  </tbody>\n</table>\n</div>"
     },
     "execution_count": 3,
     "metadata": {},
     "output_type": "execute_result"
    }
   ],
   "source": [
    "# Load y data\n",
    "if on_colab:\n",
    "    data_dir = 'SAATCHI_MICRO_DATASET_PRICE_VIEWSLIKES.tsv'\n",
    "else:\n",
    "    data_dir = r'F:\\temp\\thesisdata\\SAATCHI_MICRO_DATASET_PRICE_VIEWSLIKES.tsv'\n",
    "\n",
    "df_y = pd.read_csv(data_dir, sep='\\t')\n",
    "df_y.set_index('FILENAME', inplace=True)\n",
    "# df_y['PRICE_BIN'] = pd.qcut(df_y['PRICE'], q=5)\n",
    "df_y['PRICE_BIN_IDX'] = pd.qcut(df_y['PRICE'], q=5, labels=[1,2,3,4,5])\n",
    "# df_y['LIKES_VIEWS_RATIO_BIN'] = pd.qcut(df_y['LIKES_VIEWS_RATIO'], q=5)\n",
    "df_y['LIKES_VIEWS_RATIO_BIN_IDX'] = pd.qcut(df_y['LIKES_VIEWS_RATIO'], q=5, labels=[1,2,3,4,5])\n",
    "df_y = df_y.astype({'PRICE_BIN_IDX': int, 'LIKES_VIEWS_RATIO_BIN_IDX': int})\n",
    "df_y.drop(['PRICE', 'LIKES_VIEWS_RATIO'], axis=1, inplace=True)\n",
    "\n",
    "df_y.head()"
   ],
   "metadata": {
    "collapsed": false,
    "pycharm": {
     "name": "#%%\n"
    }
   }
  },
  {
   "cell_type": "code",
   "execution_count": 4,
   "outputs": [
    {
     "data": {
      "text/plain": "                                             PRICE_BIN_IDX  \\\n1008695_1008695_16575_492565-WPTALJUX-7.jpg              5   \n1020928_1020928_20375_496298-MVOEZUTF-7.jpg              2   \n1051436_1051436_17127_506738-INLFTOGF-7.jpg              2   \n1055377_1055377_18467_508857-HYTIVNMU-7.jpg              4   \n1057504_1057504_19082_509430-EKIORJVM-7.jpg              5   \n\n                                             LIKES_VIEWS_RATIO_BIN_IDX  \\\n1008695_1008695_16575_492565-WPTALJUX-7.jpg                          1   \n1020928_1020928_20375_496298-MVOEZUTF-7.jpg                          1   \n1051436_1051436_17127_506738-INLFTOGF-7.jpg                          2   \n1055377_1055377_18467_508857-HYTIVNMU-7.jpg                          1   \n1057504_1057504_19082_509430-EKIORJVM-7.jpg                          2   \n\n                                                    0         1         2  \\\n1008695_1008695_16575_492565-WPTALJUX-7.jpg  0.506733  1.394197  0.142876   \n1020928_1020928_20375_496298-MVOEZUTF-7.jpg  0.833585  1.465594  0.606634   \n1051436_1051436_17127_506738-INLFTOGF-7.jpg  1.898964  0.537831  0.355688   \n1055377_1055377_18467_508857-HYTIVNMU-7.jpg  0.959911  1.014624  0.928045   \n1057504_1057504_19082_509430-EKIORJVM-7.jpg  1.535582  0.951705  0.470121   \n\n                                                    3         4         5  \\\n1008695_1008695_16575_492565-WPTALJUX-7.jpg  1.595724  0.447865  2.721004   \n1020928_1020928_20375_496298-MVOEZUTF-7.jpg  0.643496  0.979372  1.374905   \n1051436_1051436_17127_506738-INLFTOGF-7.jpg  1.914660  0.678449  0.122319   \n1055377_1055377_18467_508857-HYTIVNMU-7.jpg  0.345727  0.310256  0.644479   \n1057504_1057504_19082_509430-EKIORJVM-7.jpg  2.631895  0.672225  0.481367   \n\n                                                    6         7  ...  \\\n1008695_1008695_16575_492565-WPTALJUX-7.jpg  0.549245  0.088606  ...   \n1020928_1020928_20375_496298-MVOEZUTF-7.jpg  1.059826  0.382815  ...   \n1051436_1051436_17127_506738-INLFTOGF-7.jpg  0.920843  0.896121  ...   \n1055377_1055377_18467_508857-HYTIVNMU-7.jpg  0.349452  1.512597  ...   \n1057504_1057504_19082_509430-EKIORJVM-7.jpg  0.571308  0.184078  ...   \n\n                                                  502       503       504  \\\n1008695_1008695_16575_492565-WPTALJUX-7.jpg  0.514084  1.684672  2.690634   \n1020928_1020928_20375_496298-MVOEZUTF-7.jpg  0.505261  1.688515  0.417936   \n1051436_1051436_17127_506738-INLFTOGF-7.jpg  0.213230  0.716053  0.299384   \n1055377_1055377_18467_508857-HYTIVNMU-7.jpg  0.680928  2.470096  2.451149   \n1057504_1057504_19082_509430-EKIORJVM-7.jpg  0.659331  0.722163  1.269953   \n\n                                                  505       506       507  \\\n1008695_1008695_16575_492565-WPTALJUX-7.jpg  1.076642  1.014139  0.403866   \n1020928_1020928_20375_496298-MVOEZUTF-7.jpg  0.200680  1.674028  1.199314   \n1051436_1051436_17127_506738-INLFTOGF-7.jpg  2.024731  0.045484  1.757237   \n1055377_1055377_18467_508857-HYTIVNMU-7.jpg  3.417884  1.716235  0.149804   \n1057504_1057504_19082_509430-EKIORJVM-7.jpg  0.223978  1.508935  0.835212   \n\n                                                  508       509       510  \\\n1008695_1008695_16575_492565-WPTALJUX-7.jpg  1.054885  1.213333  0.088460   \n1020928_1020928_20375_496298-MVOEZUTF-7.jpg  0.406038  1.510623  0.472602   \n1051436_1051436_17127_506738-INLFTOGF-7.jpg  0.775970  2.071618  0.271196   \n1055377_1055377_18467_508857-HYTIVNMU-7.jpg  0.000000  1.423536  0.022786   \n1057504_1057504_19082_509430-EKIORJVM-7.jpg  2.030264  1.891201  0.333001   \n\n                                                  511  \n1008695_1008695_16575_492565-WPTALJUX-7.jpg  0.786160  \n1020928_1020928_20375_496298-MVOEZUTF-7.jpg  1.073225  \n1051436_1051436_17127_506738-INLFTOGF-7.jpg  1.722807  \n1055377_1055377_18467_508857-HYTIVNMU-7.jpg  0.289719  \n1057504_1057504_19082_509430-EKIORJVM-7.jpg  2.909141  \n\n[5 rows x 514 columns]",
      "text/html": "<div>\n<style scoped>\n    .dataframe tbody tr th:only-of-type {\n        vertical-align: middle;\n    }\n\n    .dataframe tbody tr th {\n        vertical-align: top;\n    }\n\n    .dataframe thead th {\n        text-align: right;\n    }\n</style>\n<table border=\"1\" class=\"dataframe\">\n  <thead>\n    <tr style=\"text-align: right;\">\n      <th></th>\n      <th>PRICE_BIN_IDX</th>\n      <th>LIKES_VIEWS_RATIO_BIN_IDX</th>\n      <th>0</th>\n      <th>1</th>\n      <th>2</th>\n      <th>3</th>\n      <th>4</th>\n      <th>5</th>\n      <th>6</th>\n      <th>7</th>\n      <th>...</th>\n      <th>502</th>\n      <th>503</th>\n      <th>504</th>\n      <th>505</th>\n      <th>506</th>\n      <th>507</th>\n      <th>508</th>\n      <th>509</th>\n      <th>510</th>\n      <th>511</th>\n    </tr>\n  </thead>\n  <tbody>\n    <tr>\n      <th>1008695_1008695_16575_492565-WPTALJUX-7.jpg</th>\n      <td>5</td>\n      <td>1</td>\n      <td>0.506733</td>\n      <td>1.394197</td>\n      <td>0.142876</td>\n      <td>1.595724</td>\n      <td>0.447865</td>\n      <td>2.721004</td>\n      <td>0.549245</td>\n      <td>0.088606</td>\n      <td>...</td>\n      <td>0.514084</td>\n      <td>1.684672</td>\n      <td>2.690634</td>\n      <td>1.076642</td>\n      <td>1.014139</td>\n      <td>0.403866</td>\n      <td>1.054885</td>\n      <td>1.213333</td>\n      <td>0.088460</td>\n      <td>0.786160</td>\n    </tr>\n    <tr>\n      <th>1020928_1020928_20375_496298-MVOEZUTF-7.jpg</th>\n      <td>2</td>\n      <td>1</td>\n      <td>0.833585</td>\n      <td>1.465594</td>\n      <td>0.606634</td>\n      <td>0.643496</td>\n      <td>0.979372</td>\n      <td>1.374905</td>\n      <td>1.059826</td>\n      <td>0.382815</td>\n      <td>...</td>\n      <td>0.505261</td>\n      <td>1.688515</td>\n      <td>0.417936</td>\n      <td>0.200680</td>\n      <td>1.674028</td>\n      <td>1.199314</td>\n      <td>0.406038</td>\n      <td>1.510623</td>\n      <td>0.472602</td>\n      <td>1.073225</td>\n    </tr>\n    <tr>\n      <th>1051436_1051436_17127_506738-INLFTOGF-7.jpg</th>\n      <td>2</td>\n      <td>2</td>\n      <td>1.898964</td>\n      <td>0.537831</td>\n      <td>0.355688</td>\n      <td>1.914660</td>\n      <td>0.678449</td>\n      <td>0.122319</td>\n      <td>0.920843</td>\n      <td>0.896121</td>\n      <td>...</td>\n      <td>0.213230</td>\n      <td>0.716053</td>\n      <td>0.299384</td>\n      <td>2.024731</td>\n      <td>0.045484</td>\n      <td>1.757237</td>\n      <td>0.775970</td>\n      <td>2.071618</td>\n      <td>0.271196</td>\n      <td>1.722807</td>\n    </tr>\n    <tr>\n      <th>1055377_1055377_18467_508857-HYTIVNMU-7.jpg</th>\n      <td>4</td>\n      <td>1</td>\n      <td>0.959911</td>\n      <td>1.014624</td>\n      <td>0.928045</td>\n      <td>0.345727</td>\n      <td>0.310256</td>\n      <td>0.644479</td>\n      <td>0.349452</td>\n      <td>1.512597</td>\n      <td>...</td>\n      <td>0.680928</td>\n      <td>2.470096</td>\n      <td>2.451149</td>\n      <td>3.417884</td>\n      <td>1.716235</td>\n      <td>0.149804</td>\n      <td>0.000000</td>\n      <td>1.423536</td>\n      <td>0.022786</td>\n      <td>0.289719</td>\n    </tr>\n    <tr>\n      <th>1057504_1057504_19082_509430-EKIORJVM-7.jpg</th>\n      <td>5</td>\n      <td>2</td>\n      <td>1.535582</td>\n      <td>0.951705</td>\n      <td>0.470121</td>\n      <td>2.631895</td>\n      <td>0.672225</td>\n      <td>0.481367</td>\n      <td>0.571308</td>\n      <td>0.184078</td>\n      <td>...</td>\n      <td>0.659331</td>\n      <td>0.722163</td>\n      <td>1.269953</td>\n      <td>0.223978</td>\n      <td>1.508935</td>\n      <td>0.835212</td>\n      <td>2.030264</td>\n      <td>1.891201</td>\n      <td>0.333001</td>\n      <td>2.909141</td>\n    </tr>\n  </tbody>\n</table>\n<p>5 rows × 514 columns</p>\n</div>"
     },
     "execution_count": 4,
     "metadata": {},
     "output_type": "execute_result"
    }
   ],
   "source": [
    "# Join x and y into a single dataframe\n",
    "df = df_y.join(df_x)\n",
    "df.head()"
   ],
   "metadata": {
    "collapsed": false,
    "pycharm": {
     "name": "#%%\n"
    }
   }
  },
  {
   "cell_type": "code",
   "execution_count": 5,
   "outputs": [],
   "source": [
    "class SaatchiDataset(Dataset):\n",
    "    training_set = df[:13000]\n",
    "    validation_set = df[13000:14000]\n",
    "    test_set = df[14000:]\n",
    "\n",
    "    @property\n",
    "    def targets(self):\n",
    "        return self.targets_\n",
    "\n",
    "    @property\n",
    "    def data(self):\n",
    "        return self.data_\n",
    "\n",
    "    def __init__(self, stage: str = None, target_selection=None):\n",
    "        self.stage = stage\n",
    "        self.target_selection = target_selection\n",
    "\n",
    "        if self.stage == 'train':\n",
    "            self.dataset = self.training_set\n",
    "        elif self.stage == 'validation':\n",
    "            self.dataset = self.validation_set\n",
    "        elif self.stage == 'test':\n",
    "            self.dataset = self.test_set\n",
    "        else:\n",
    "            print(f'Invalid stage specified: \"{stage}\" , valid options are: [train, validation, test].')\n",
    "            self.dataset = None\n",
    "\n",
    "        self.data_ = self.dataset.drop(['PRICE_BIN_IDX', 'LIKES_VIEWS_RATIO_BIN_IDX'], axis=1).values\n",
    "\n",
    "        if self.target_selection == 'price':\n",
    "            self.targets_ = self.dataset['PRICE_BIN_IDX'].values\n",
    "        elif self.target_selection == 'likes_view_ratio':\n",
    "            self.targets_ = self.dataset['LIKES_VIEWS_RATIO_BIN_IDX'].values\n",
    "        else:\n",
    "            print(\n",
    "                f'Invalid target selection specified: \"{target_selection}\"'\n",
    "                f', valid options are: [price, likes_view_ratio].')\n",
    "\n",
    "    def __getitem__(self, index):\n",
    "        return torch.as_tensor(self.data_[index]).float(), torch.as_tensor(self.targets_[index]).long()\n",
    "\n",
    "    def __len__(self):\n",
    "        return len(self.data_)"
   ],
   "metadata": {
    "collapsed": false,
    "pycharm": {
     "name": "#%%\n"
    }
   }
  },
  {
   "cell_type": "code",
   "execution_count": null,
   "outputs": [],
   "source": [
    "class SaatchiDataModule(pl.LightningDataModule):\n",
    "  def __init__(self,\n",
    "               batch_size: int = 64,\n",
    "               num_workers: int = 4,\n",
    "               target_selection: str = 'price'):\n",
    "    super().__init__()\n",
    "    self.batch_size = batch_size\n",
    "    self.data = None\n",
    "    self.num_workers = num_workers\n",
    "    self.target_selection = target_selection\n",
    "\n",
    "  def prepare_data(self):\n",
    "      pass\n",
    "\n",
    "  def setup(self, stage: str = None):\n",
    "    if stage == 'fit':\n",
    "      self.data = SaatchiDataset(stage='train', target_selection=self.target_selection)\n",
    "    else:\n",
    "      self.data = SaatchiDataset(stage=stage, target_selection=self.target_selection)\n",
    "\n",
    "  def train_dataloader(self):\n",
    "    return DataLoader(self.data,\n",
    "                      batch_size=self.batch_size,\n",
    "                      drop_last=True,\n",
    "                      num_workers=self.num_workers)\n",
    "\n",
    "  def val_dataloader(self):\n",
    "    return DataLoader(self.data,\n",
    "                      batch_size=self.batch_size,\n",
    "                      drop_last=True,\n",
    "                      num_workers=self.num_workers)\n",
    "\n",
    "  def test_dataloader(self):\n",
    "    return DataLoader(self.data,\n",
    "                      batch_size=self.batch_size,\n",
    "                      drop_last=True,\n",
    "                      num_workers=self.num_workers)"
   ],
   "metadata": {
    "collapsed": false,
    "pycharm": {
     "name": "#%%\n"
    }
   }
  },
  {
   "cell_type": "code",
   "execution_count": 7,
   "outputs": [],
   "source": [
    "class SaatchiMLP(pl.LightningModule):\n",
    "\n",
    "  def __init__(self):\n",
    "    super().__init__()\n",
    "    self.layers = nn.Sequential(\n",
    "      nn.Linear(8, 64),\n",
    "      nn.ReLU(),\n",
    "      nn.Linear(64, 32),\n",
    "      nn.ReLU(),\n",
    "      nn.Linear(32, 10)\n",
    "    )\n",
    "    self.ce = nn.CrossEntropyLoss()\n",
    "\n",
    "  def forward(self, x):\n",
    "    return self.layers(x)\n",
    "\n",
    "  def training_step(self, batch, batch_idx):\n",
    "    x, y = batch\n",
    "    x = x.view(x.size(0), -1)\n",
    "    y_hat = self.layers(x)\n",
    "    loss = self.ce(y_hat, y)\n",
    "    self.log('train_loss', loss)\n",
    "    return loss\n",
    "\n",
    "  def configure_optimizers(self):\n",
    "    optimizer = torch.optim.Adam(self.parameters(), lr=1e-4)\n",
    "    return optimizer"
   ],
   "metadata": {
    "collapsed": false,
    "pycharm": {
     "name": "#%%\n"
    }
   }
  },
  {
   "cell_type": "code",
   "execution_count": null,
   "outputs": [
    {
     "name": "stderr",
     "output_type": "stream",
     "text": [
      "Global seed set to 42\n",
      "GPU available: False, used: False\n",
      "TPU available: False, using: 0 TPU cores\n",
      "C:\\Users\\R\\anaconda3\\envs\\Thesis_cur-AI-tor\\lib\\site-packages\\pytorch_lightning\\utilities\\distributed.py:69: UserWarning: you passed in a val_dataloader but have no validation_step. Skipping val loop\n",
      "  warnings.warn(*args, **kwargs)\n",
      "\n",
      "  | Name   | Type             | Params\n",
      "--------------------------------------------\n",
      "0 | layers | Sequential       | 3.0 K \n",
      "1 | ce     | CrossEntropyLoss | 0     \n",
      "--------------------------------------------\n",
      "3.0 K     Trainable params\n",
      "0         Non-trainable params\n",
      "3.0 K     Total params\n",
      "0.012     Total estimated model params size (MB)\n"
     ]
    },
    {
     "data": {
      "text/plain": "Training: 0it [00:00, ?it/s]",
      "application/vnd.jupyter.widget-view+json": {
       "version_major": 2,
       "version_minor": 0,
       "model_id": "8f61e8fc428d4b7295ec5eac1a7d21d7"
      }
     },
     "metadata": {},
     "output_type": "display_data"
    }
   ],
   "source": [
    "saatchi_data = SaatchiDataModule(target_selection='price',\n",
    "                                 batch_size=128,\n",
    "                                 num_workers=4)\n",
    "\n",
    "num_sanity_val_steps = 2\n",
    "num_processes = 1\n",
    "pl.seed_everything(42)\n",
    "\n",
    "saatchi_mlp = SaatchiMLP()\n",
    "\n",
    "trainer = pl.Trainer(auto_scale_batch_size='power',\n",
    "                     gpus=0,\n",
    "                     deterministic=True,\n",
    "                     max_epochs=5,\n",
    "                     num_sanity_val_steps=num_sanity_val_steps,\n",
    "                     num_processes=num_processes)\n",
    "\n",
    "trainer.fit(saatchi_mlp, saatchi_data)\n"
   ],
   "metadata": {
    "collapsed": false,
    "pycharm": {
     "name": "#%%\n"
    }
   }
  },
  {
   "cell_type": "code",
   "execution_count": 8,
   "outputs": [],
   "source": [],
   "metadata": {
    "collapsed": false,
    "pycharm": {
     "name": "#%%\n"
    }
   }
  },
  {
   "cell_type": "code",
   "execution_count": 19,
   "outputs": [],
   "source": [
    "s = SaatchiDataset(stage='train', target_selection='price')"
   ],
   "metadata": {
    "collapsed": false,
    "pycharm": {
     "name": "#%%\n"
    }
   }
  },
  {
   "cell_type": "code",
   "execution_count": 20,
   "outputs": [
    {
     "data": {
      "text/plain": "(tensor([8.3358e-01, 1.4656e+00, 6.0663e-01, 6.4350e-01, 9.7937e-01, 1.3749e+00,\n         1.0598e+00, 3.8282e-01, 1.7371e+00, 1.3165e+00, 8.4487e-02, 7.2686e-01,\n         5.0259e-01, 9.7484e-01, 3.5470e-02, 7.4033e-01, 1.0573e-01, 9.3338e-02,\n         5.6450e-01, 3.5845e+00, 1.2657e-01, 2.1859e-01, 8.7261e-01, 6.8871e-02,\n         0.0000e+00, 5.6699e-01, 5.1588e-02, 9.6060e-01, 7.5788e-01, 9.1408e-01,\n         8.4011e-01, 1.4301e-01, 2.0771e+00, 1.6457e+00, 0.0000e+00, 1.0527e+00,\n         6.7318e-02, 3.0488e-02, 3.3339e-02, 4.7980e-01, 1.5049e-01, 1.1792e+00,\n         1.2090e-01, 2.4724e+00, 3.0945e-01, 1.0033e+00, 5.8185e-01, 1.3272e+00,\n         1.0598e+00, 4.4798e+00, 1.3553e+00, 1.8673e-01, 3.2338e-01, 9.0151e-01,\n         8.1014e-01, 1.2512e+00, 3.6425e-01, 2.5358e+00, 1.1446e+00, 1.5309e+00,\n         1.6809e+00, 3.8651e-01, 1.4370e+00, 3.7613e-01, 2.3121e-01, 1.1596e+00,\n         3.6522e-01, 1.4408e+00, 2.6578e-01, 1.1220e+00, 2.9462e-01, 5.0846e-01,\n         4.7008e-02, 6.4151e-01, 3.6875e-01, 3.7507e-01, 1.5970e+00, 3.8674e+00,\n         6.8069e-01, 4.2082e-01, 1.2798e+00, 8.6983e-01, 1.7917e-01, 1.0655e+00,\n         4.0754e-01, 6.9301e-01, 9.2709e-02, 1.2021e-01, 3.2108e-01, 9.6865e-01,\n         6.4679e-02, 3.1715e-01, 1.9251e-01, 1.0716e+00, 1.6925e+00, 1.3700e+00,\n         3.7199e-01, 2.1342e+00, 4.4452e-01, 1.1907e+00, 1.2040e+00, 9.6828e-01,\n         6.2365e-01, 4.9114e-01, 4.2140e-01, 1.6901e-02, 2.3407e-01, 8.2709e-02,\n         0.0000e+00, 3.8802e-01, 2.7782e-01, 5.6003e-01, 2.9336e-01, 3.0749e+00,\n         1.8181e+00, 3.1001e-01, 1.6758e+00, 1.6080e-01, 8.9057e-01, 1.3642e-01,\n         2.1479e+00, 1.1436e+00, 4.6500e-01, 1.7509e+00, 5.2139e-01, 3.3715e+00,\n         1.9495e-01, 1.8500e+00, 1.2641e-01, 7.4071e-01, 6.6929e-02, 6.7420e-01,\n         2.8625e-01, 3.0011e+00, 2.2442e+00, 9.9453e-01, 2.0707e+00, 4.3960e-01,\n         6.0462e-01, 2.0576e+00, 6.1898e-01, 1.9608e-01, 2.9651e-01, 3.1902e-02,\n         7.9218e-01, 1.1587e-01, 1.1486e+00, 8.4406e-01, 3.9325e-01, 5.8308e-01,\n         3.7742e-01, 7.5273e-01, 8.5785e-01, 1.3697e+00, 4.2956e-02, 1.0689e+00,\n         7.6602e-01, 3.8565e-01, 8.5606e-02, 2.1387e-01, 8.5881e-01, 2.7138e-01,\n         1.2298e+00, 3.8509e-03, 0.0000e+00, 5.1331e-01, 3.9243e-01, 1.5686e-01,\n         8.4031e-02, 2.4376e-02, 9.9072e-01, 3.9182e-01, 3.6725e-01, 2.1380e+00,\n         3.8071e-01, 1.1523e+00, 6.7884e-02, 8.9576e-01, 1.5310e+00, 4.1970e-02,\n         1.0667e-01, 3.8838e-01, 7.0944e-01, 1.1823e+00, 4.1370e-02, 1.0846e-01,\n         0.0000e+00, 9.1634e-03, 1.7038e-01, 1.1674e+00, 1.2054e+00, 1.0067e-01,\n         3.3226e-01, 1.6152e-01, 1.6956e-02, 1.1742e+00, 1.9814e-01, 3.2978e-01,\n         7.7712e-01, 1.9857e-01, 1.1967e+00, 4.6097e-01, 1.6449e+00, 0.0000e+00,\n         1.4020e+00, 2.1441e+00, 6.1323e-01, 1.0272e-02, 5.1893e-01, 5.0723e-01,\n         2.9462e+00, 2.5382e-01, 3.9961e-01, 1.3546e+00, 1.3419e+00, 9.3526e-01,\n         1.1199e+00, 1.1765e+00, 1.7338e+00, 1.5639e+00, 9.9951e-01, 1.3188e-01,\n         3.4915e-01, 1.4033e+00, 3.1578e-01, 2.2725e+00, 1.5510e+00, 7.8175e-01,\n         1.2126e+00, 1.4693e-01, 2.1646e-01, 5.6382e-01, 4.9253e+00, 5.0276e-03,\n         4.6188e-02, 1.6599e-02, 7.3853e-02, 3.4972e-01, 8.2894e-01, 1.6411e+00,\n         3.0193e-02, 1.2881e-03, 7.9862e-01, 5.0138e-02, 5.2587e-01, 1.0148e+00,\n         7.5464e-01, 9.4225e-01, 6.0070e-01, 2.9546e-01, 1.9415e+00, 1.9794e+00,\n         8.6765e-01, 6.3011e-02, 5.0526e-01, 2.7723e+00, 7.9482e-01, 6.8652e-03,\n         6.8728e-01, 1.9016e+00, 8.4542e-01, 9.0674e-02, 1.4402e+00, 6.7858e-01,\n         7.4551e-01, 6.4386e-02, 3.7045e-01, 1.2581e+00, 5.7651e-01, 1.8571e+00,\n         1.1844e-01, 5.7888e-01, 3.6066e-01, 1.0120e+00, 9.4990e-01, 6.1588e-01,\n         5.5870e+00, 3.9018e-01, 1.7606e+00, 1.5988e+00, 8.1983e-01, 9.6370e-01,\n         5.4156e-01, 5.6208e-01, 8.3387e-01, 4.6918e-01, 8.9407e-02, 1.2895e+00,\n         1.1554e+00, 2.3192e+00, 1.2866e-01, 1.4022e+00, 1.0494e+00, 1.1837e-01,\n         1.8215e-01, 1.4943e-01, 5.3055e-01, 1.2607e+00, 1.4674e+00, 1.3831e-01,\n         3.0873e-02, 9.7194e-02, 2.1763e+00, 4.0502e-01, 1.0068e+00, 2.5849e+00,\n         6.1093e-02, 1.4872e+00, 1.1203e+00, 2.1427e+00, 5.0944e-01, 2.1746e-01,\n         3.4413e-01, 6.4635e-02, 7.2613e-01, 1.2196e+00, 4.6698e-01, 1.0330e+00,\n         5.1531e-01, 1.4551e+00, 2.7586e+00, 4.8875e-01, 4.4351e-02, 2.0835e-01,\n         9.8223e-01, 1.1790e-01, 5.5451e-01, 4.7305e-01, 9.1182e-01, 1.8661e-01,\n         0.0000e+00, 8.5763e-01, 9.5766e-02, 5.4137e-01, 0.0000e+00, 1.2301e+00,\n         4.2470e-01, 3.7088e-01, 1.2216e+00, 2.8302e+00, 1.1579e+00, 2.6368e-01,\n         2.2229e+00, 9.1775e-01, 1.4992e+00, 3.0032e-01, 8.2118e-01, 8.5857e-02,\n         3.3871e-01, 1.2484e-01, 1.0776e+00, 4.8206e-01, 2.3640e+00, 1.0410e+00,\n         1.0356e-01, 2.5366e+00, 4.8783e-01, 2.0790e+00, 6.0890e-01, 4.0187e-01,\n         6.9915e-02, 3.0412e-01, 8.0554e-01, 1.0845e+00, 5.7598e-01, 3.3811e-01,\n         1.0862e-01, 1.3293e-02, 1.6801e+00, 7.3973e-01, 2.5992e-01, 3.0331e-01,\n         1.7204e+00, 1.9555e+00, 2.0246e-01, 7.0714e-01, 4.1378e-01, 5.9894e-01,\n         2.0124e-02, 2.6010e-01, 4.8765e-01, 1.7875e+00, 1.4089e-01, 1.5562e-01,\n         1.1232e+00, 1.6149e+00, 1.8713e+00, 1.6915e+00, 3.1538e+00, 1.1534e+00,\n         1.0223e+00, 6.6069e-01, 2.7674e-01, 5.5220e-01, 2.8821e-01, 2.8515e-01,\n         4.4882e-01, 5.0297e-01, 4.6314e-02, 1.2147e+00, 2.4834e-01, 3.7905e-01,\n         1.5408e-01, 2.7837e-01, 8.7028e-01, 1.4043e+00, 1.8557e-01, 3.9609e-01,\n         9.0873e-01, 1.6863e-01, 2.1436e-01, 2.2718e-01, 2.6287e-01, 0.0000e+00,\n         8.9859e-01, 1.8170e-01, 1.6464e+00, 3.3442e-01, 4.4917e-01, 5.4749e-01,\n         4.1828e-01, 3.2560e-01, 6.0106e-02, 1.6072e+00, 1.9958e+00, 2.4928e-01,\n         5.8467e-01, 2.6171e-01, 1.0847e+00, 6.1671e-02, 1.2053e+00, 8.0217e-01,\n         1.5941e+00, 3.0343e-01, 2.5387e-01, 6.3139e-02, 1.4351e-01, 2.1079e+00,\n         1.7569e-01, 2.5358e+00, 2.2431e-01, 1.1502e+00, 1.9255e+00, 1.9543e-01,\n         2.0265e+00, 9.2134e-02, 1.9857e+00, 4.6122e-01, 2.8847e-01, 2.1506e-01,\n         8.8414e-02, 5.0002e-01, 6.7279e-01, 1.1463e+00, 8.5703e-02, 3.3140e-02,\n         1.6980e+00, 1.2900e-01, 2.9556e-01, 2.0128e+00, 9.5815e-01, 7.5067e-02,\n         2.4525e-01, 5.9789e-01, 1.2924e-01, 1.4826e+00, 1.0027e-01, 2.2526e-01,\n         9.6219e-03, 2.0380e-01, 3.5551e-02, 2.5599e-02, 9.5707e-01, 2.0848e-01,\n         8.3497e-02, 2.0913e+00, 5.6426e-01, 1.5423e-01, 1.8930e-01, 2.4552e+00,\n         1.0413e+00, 2.8268e-01, 2.5998e-01, 4.7717e-01, 1.4643e+00, 1.1488e-01,\n         1.8770e+00, 4.4328e-02, 4.8010e-01, 1.3861e-01, 2.5756e-01, 9.7999e-01,\n         8.2339e-01, 5.6994e-01, 1.9459e+00, 1.4616e+00, 1.9330e-01, 6.4243e-01,\n         1.8691e-01, 1.0721e-01, 5.3460e-02, 2.7892e+00, 5.0526e-01, 1.6885e+00,\n         4.1794e-01, 2.0068e-01, 1.6740e+00, 1.1993e+00, 4.0604e-01, 1.5106e+00,\n         4.7260e-01, 1.0732e+00], dtype=torch.float64),\n tensor([2], dtype=torch.int32))"
     },
     "execution_count": 20,
     "metadata": {},
     "output_type": "execute_result"
    }
   ],
   "source": [
    "s.__getitem__(1)"
   ],
   "metadata": {
    "collapsed": false,
    "pycharm": {
     "name": "#%%\n"
    }
   }
  },
  {
   "cell_type": "code",
   "execution_count": 21,
   "outputs": [
    {
     "data": {
      "text/plain": "tensor([[-1.8437,  0.6353, -1.3477, -0.8129, -1.6047],\n        [ 2.2752, -2.4281,  0.0616,  1.9438, -0.5913],\n        [-0.8803, -0.1096, -1.0684, -0.9640,  0.6950]], requires_grad=True)"
     },
     "execution_count": 21,
     "metadata": {},
     "output_type": "execute_result"
    }
   ],
   "source": [
    "\n",
    "input = torch.randn(3, 5, requires_grad=True)\n",
    "target = torch.empty(3, dtype=torch.long).random_(5)\n",
    "input"
   ],
   "metadata": {
    "collapsed": false,
    "pycharm": {
     "name": "#%%\n"
    }
   }
  },
  {
   "cell_type": "code",
   "execution_count": 22,
   "outputs": [
    {
     "data": {
      "text/plain": "tensor([0, 1, 4])"
     },
     "execution_count": 22,
     "metadata": {},
     "output_type": "execute_result"
    }
   ],
   "source": [
    "target"
   ],
   "metadata": {
    "collapsed": false,
    "pycharm": {
     "name": "#%%\n"
    }
   }
  },
  {
   "cell_type": "code",
   "execution_count": null,
   "outputs": [],
   "source": [],
   "metadata": {
    "collapsed": false,
    "pycharm": {
     "name": "#%%\n"
    }
   }
  }
 ],
 "metadata": {
  "kernelspec": {
   "display_name": "Python 3",
   "language": "python",
   "name": "python3"
  },
  "language_info": {
   "codemirror_mode": {
    "name": "ipython",
    "version": 2
   },
   "file_extension": ".py",
   "mimetype": "text/x-python",
   "name": "python",
   "nbconvert_exporter": "python",
   "pygments_lexer": "ipython2",
   "version": "2.7.6"
  }
 },
 "nbformat": 4,
 "nbformat_minor": 0
}