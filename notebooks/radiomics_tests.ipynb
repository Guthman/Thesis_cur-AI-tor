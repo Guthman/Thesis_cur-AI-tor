{
 "cells": [
  {
   "cell_type": "code",
   "execution_count": 11,
   "metadata": {
    "collapsed": true
   },
   "outputs": [],
   "source": [
    "from radiomics import featureextractor\n",
    "from cv2 import imread\n",
    "import SimpleITK as sitk\n",
    "import numpy as np\n",
    "from PIL import Image, ImageCms"
   ]
  },
  {
   "cell_type": "code",
   "execution_count": 12,
   "outputs": [
    {
     "name": "stdout",
     "output_type": "stream",
     "text": [
      "image shape: (371, 400, 3); \n",
      "image size: 445200\n"
     ]
    }
   ],
   "source": [
    "path = r'C:\\Users\\R\\PycharmProjects\\Thesis_cur-AI-tor\\images\\ff742b8e8e6120f27ec567f60143fc82.jpg'\n",
    "# path = r'C:\\Users\\Rodney\\PycharmProjects\\Thesis_cur-AI-tor\\images\\ff742b8e8e6120f27ec567f60143fc82.jpg'\n",
    "\n",
    "image = imread(path)\n",
    "print(f'image shape: {image.shape}; \\nimage size: {image.size}')"
   ],
   "metadata": {
    "collapsed": false,
    "pycharm": {
     "name": "#%%\n"
    }
   }
  },
  {
   "cell_type": "code",
   "execution_count": 13,
   "outputs": [],
   "source": [
    "# Instantiate the extractor\n",
    "extractor = featureextractor.RadiomicsFeatureExtractor()"
   ],
   "metadata": {
    "collapsed": false,
    "pycharm": {
     "name": "#%%\n"
    }
   }
  },
  {
   "cell_type": "code",
   "execution_count": 14,
   "outputs": [
    {
     "ename": "ImportError",
     "evalue": "cannot import name '_imagingcms' from 'PIL' (C:\\Users\\R\\anaconda3\\envs\\Thesis_cur-AI-tor\\lib\\site-packages\\PIL\\__init__.py)",
     "output_type": "error",
     "traceback": [
      "\u001B[1;31m---------------------------------------------------------------------------\u001B[0m",
      "\u001B[1;31mImportError\u001B[0m                               Traceback (most recent call last)",
      "\u001B[1;32m<ipython-input-14-8703556e8f2d>\u001B[0m in \u001B[0;36m<module>\u001B[1;34m\u001B[0m\n\u001B[0;32m      8\u001B[0m \u001B[1;33m\u001B[0m\u001B[0m\n\u001B[0;32m      9\u001B[0m \u001B[1;31m#Extract Lab channels\u001B[0m\u001B[1;33m\u001B[0m\u001B[1;33m\u001B[0m\u001B[1;33m\u001B[0m\u001B[0m\n\u001B[1;32m---> 10\u001B[1;33m \u001B[0msrgb_p\u001B[0m \u001B[1;33m=\u001B[0m \u001B[0mImageCms\u001B[0m\u001B[1;33m.\u001B[0m\u001B[0mcreateProfile\u001B[0m\u001B[1;33m(\u001B[0m\u001B[1;34m\"sRGB\"\u001B[0m\u001B[1;33m)\u001B[0m\u001B[1;33m\u001B[0m\u001B[1;33m\u001B[0m\u001B[0m\n\u001B[0m\u001B[0;32m     11\u001B[0m \u001B[0mlab_p\u001B[0m  \u001B[1;33m=\u001B[0m \u001B[0mImageCms\u001B[0m\u001B[1;33m.\u001B[0m\u001B[0mcreateProfile\u001B[0m\u001B[1;33m(\u001B[0m\u001B[1;34m\"LAB\"\u001B[0m\u001B[1;33m)\u001B[0m\u001B[1;33m\u001B[0m\u001B[1;33m\u001B[0m\u001B[0m\n\u001B[0;32m     12\u001B[0m \u001B[0mrgb2lab\u001B[0m \u001B[1;33m=\u001B[0m \u001B[0mImageCms\u001B[0m\u001B[1;33m.\u001B[0m\u001B[0mbuildTransformFromOpenProfiles\u001B[0m\u001B[1;33m(\u001B[0m\u001B[0msrgb_p\u001B[0m\u001B[1;33m,\u001B[0m \u001B[0mlab_p\u001B[0m\u001B[1;33m,\u001B[0m \u001B[1;34m\"RGB\"\u001B[0m\u001B[1;33m,\u001B[0m \u001B[1;34m\"LAB\"\u001B[0m\u001B[1;33m)\u001B[0m\u001B[1;33m\u001B[0m\u001B[1;33m\u001B[0m\u001B[0m\n",
      "\u001B[1;32m~\\anaconda3\\envs\\Thesis_cur-AI-tor\\lib\\site-packages\\PIL\\ImageCms.py\u001B[0m in \u001B[0;36mcreateProfile\u001B[1;34m(colorSpace, colorTemp)\u001B[0m\n\u001B[0;32m    701\u001B[0m \u001B[1;33m\u001B[0m\u001B[0m\n\u001B[0;32m    702\u001B[0m     \u001B[1;32mtry\u001B[0m\u001B[1;33m:\u001B[0m\u001B[1;33m\u001B[0m\u001B[1;33m\u001B[0m\u001B[0m\n\u001B[1;32m--> 703\u001B[1;33m         \u001B[1;32mreturn\u001B[0m \u001B[0mcore\u001B[0m\u001B[1;33m.\u001B[0m\u001B[0mcreateProfile\u001B[0m\u001B[1;33m(\u001B[0m\u001B[0mcolorSpace\u001B[0m\u001B[1;33m,\u001B[0m \u001B[0mcolorTemp\u001B[0m\u001B[1;33m)\u001B[0m\u001B[1;33m\u001B[0m\u001B[1;33m\u001B[0m\u001B[0m\n\u001B[0m\u001B[0;32m    704\u001B[0m     \u001B[1;32mexcept\u001B[0m \u001B[1;33m(\u001B[0m\u001B[0mTypeError\u001B[0m\u001B[1;33m,\u001B[0m \u001B[0mValueError\u001B[0m\u001B[1;33m)\u001B[0m \u001B[1;32mas\u001B[0m \u001B[0mv\u001B[0m\u001B[1;33m:\u001B[0m\u001B[1;33m\u001B[0m\u001B[1;33m\u001B[0m\u001B[0m\n\u001B[0;32m    705\u001B[0m         \u001B[1;32mraise\u001B[0m \u001B[0mPyCMSError\u001B[0m\u001B[1;33m(\u001B[0m\u001B[0mv\u001B[0m\u001B[1;33m)\u001B[0m \u001B[1;32mfrom\u001B[0m \u001B[0mv\u001B[0m\u001B[1;33m\u001B[0m\u001B[1;33m\u001B[0m\u001B[0m\n",
      "\u001B[1;32m~\\anaconda3\\envs\\Thesis_cur-AI-tor\\lib\\site-packages\\PIL\\_util.py\u001B[0m in \u001B[0;36m__getattr__\u001B[1;34m(self, elt)\u001B[0m\n\u001B[0;32m     17\u001B[0m \u001B[1;33m\u001B[0m\u001B[0m\n\u001B[0;32m     18\u001B[0m     \u001B[1;32mdef\u001B[0m \u001B[0m__getattr__\u001B[0m\u001B[1;33m(\u001B[0m\u001B[0mself\u001B[0m\u001B[1;33m,\u001B[0m \u001B[0melt\u001B[0m\u001B[1;33m)\u001B[0m\u001B[1;33m:\u001B[0m\u001B[1;33m\u001B[0m\u001B[1;33m\u001B[0m\u001B[0m\n\u001B[1;32m---> 19\u001B[1;33m         \u001B[1;32mraise\u001B[0m \u001B[0mself\u001B[0m\u001B[1;33m.\u001B[0m\u001B[0mex\u001B[0m\u001B[1;33m\u001B[0m\u001B[1;33m\u001B[0m\u001B[0m\n\u001B[0m",
      "\u001B[1;32m~\\anaconda3\\envs\\Thesis_cur-AI-tor\\lib\\site-packages\\PIL\\ImageCms.py\u001B[0m in \u001B[0;36m<module>\u001B[1;34m\u001B[0m\n\u001B[0;32m     21\u001B[0m \u001B[1;33m\u001B[0m\u001B[0m\n\u001B[0;32m     22\u001B[0m \u001B[1;32mtry\u001B[0m\u001B[1;33m:\u001B[0m\u001B[1;33m\u001B[0m\u001B[1;33m\u001B[0m\u001B[0m\n\u001B[1;32m---> 23\u001B[1;33m     \u001B[1;32mfrom\u001B[0m \u001B[0mPIL\u001B[0m \u001B[1;32mimport\u001B[0m \u001B[0m_imagingcms\u001B[0m\u001B[1;33m\u001B[0m\u001B[1;33m\u001B[0m\u001B[0m\n\u001B[0m\u001B[0;32m     24\u001B[0m \u001B[1;32mexcept\u001B[0m \u001B[0mImportError\u001B[0m \u001B[1;32mas\u001B[0m \u001B[0mex\u001B[0m\u001B[1;33m:\u001B[0m\u001B[1;33m\u001B[0m\u001B[1;33m\u001B[0m\u001B[0m\n\u001B[0;32m     25\u001B[0m     \u001B[1;31m# Allow error import for doc purposes, but error out when accessing\u001B[0m\u001B[1;33m\u001B[0m\u001B[1;33m\u001B[0m\u001B[1;33m\u001B[0m\u001B[0m\n",
      "\u001B[1;31mImportError\u001B[0m: cannot import name '_imagingcms' from 'PIL' (C:\\Users\\R\\anaconda3\\envs\\Thesis_cur-AI-tor\\lib\\site-packages\\PIL\\__init__.py)"
     ]
    }
   ],
   "source": [
    "img = Image.open(path)\n",
    "# img = img.convert('L')\n",
    "\n",
    "# Extract RGB channels\n",
    "red_channel = np.array(img.getchannel(0))\n",
    "green_channel = np.array(img.getchannel(1))\n",
    "blue_channel = np.array(img.getchannel(2))\n",
    "\n",
    "#Extract Lab channels\n",
    "srgb_p = ImageCms.createProfile(\"sRGB\")\n",
    "lab_p  = ImageCms.createProfile(\"LAB\")\n",
    "rgb2lab = ImageCms.buildTransformFromOpenProfiles(srgb_p, lab_p, \"RGB\", \"LAB\")\n",
    "lab = ImageCms.applyTransform(img, rgb2lab)\n",
    "l_channel, a_channel, b_channel = lab.split()\n"
   ],
   "metadata": {
    "collapsed": false,
    "pycharm": {
     "name": "#%%\n"
    }
   }
  },
  {
   "cell_type": "code",
   "execution_count": null,
   "outputs": [],
   "source": [
    "grayscale = np.array(img)\n",
    "im = sitk.GetImageFromArray(grayscale)\n",
    "ma = sitk.GetImageFromArray(np.ones(grayscale.shape, dtype='uint8'))\n",
    "ma.CopyInformation(im)"
   ],
   "metadata": {
    "collapsed": false,
    "pycharm": {
     "name": "#%%\n"
    }
   }
  },
  {
   "cell_type": "code",
   "execution_count": 5,
   "outputs": [
    {
     "name": "stderr",
     "output_type": "stream",
     "text": [
      "Shape features are only available 3D input (for 2D input, use shape2D). Found 2D input\n",
      "GLCM is symmetrical, therefore Sum Average = 2 * Joint Average, only 1 needs to be calculated\n"
     ]
    }
   ],
   "source": [
    "features = extractor.execute(im, ma, label=1)"
   ],
   "metadata": {
    "collapsed": false,
    "pycharm": {
     "name": "#%%\n"
    }
   }
  },
  {
   "cell_type": "code",
   "execution_count": 7,
   "outputs": [],
   "source": [
    "stats_keys = [x for x in list(features.keys()) if x[0][0] == 'o']"
   ],
   "metadata": {
    "collapsed": false,
    "pycharm": {
     "name": "#%%\n"
    }
   }
  },
  {
   "cell_type": "code",
   "execution_count": 8,
   "outputs": [],
   "source": [
    "stats_dict = {k[9:]: float(features[k]) for k in stats_keys}"
   ],
   "metadata": {
    "collapsed": false,
    "pycharm": {
     "name": "#%%\n"
    }
   }
  },
  {
   "cell_type": "code",
   "execution_count": 9,
   "outputs": [
    {
     "data": {
      "text/plain": "{'firstorder_10Percentile': 46.0,\n 'firstorder_90Percentile': 184.0,\n 'firstorder_Energy': 2296362615.0,\n 'firstorder_Entropy': 3.051072904638223,\n 'firstorder_InterquartileRange': 87.0,\n 'firstorder_Kurtosis': 2.095084047450319,\n 'firstorder_Maximum': 249.0,\n 'firstorder_MeanAbsoluteDeviation': 44.42428651528251,\n 'firstorder_Mean': 112.68588274932614,\n 'firstorder_Median': 114.0,\n 'firstorder_Minimum': 0.0,\n 'firstorder_Range': 249.0,\n 'firstorder_RobustMeanAbsoluteDeviation': 34.215055726801246,\n 'firstorder_RootMeanSquared': 124.3951028397506,\n 'firstorder_Skewness': -0.00809546849360065,\n 'firstorder_TotalEnergy': 2296362615.0,\n 'firstorder_Uniformity': 0.12937744222288416,\n 'firstorder_Variance': 2776.033439517249,\n 'glcm_Autocorrelation': 29.18871561014432,\n 'glcm_ClusterProminence': 560.0536554699604,\n 'glcm_ClusterShade': 2.29552077500326,\n 'glcm_ClusterTendency': 16.49544108084075,\n 'glcm_Contrast': 1.3356237384685214,\n 'glcm_Correlation': 0.8501980822484076,\n 'glcm_DifferenceAverage': 0.707968381149932,\n 'glcm_DifferenceEntropy': 1.604009559391044,\n 'glcm_DifferenceVariance': 0.8274423016838048,\n 'glcm_Id': 0.7211823116580011,\n 'glcm_Idm': 0.7029306793667398,\n 'glcm_Idmn': 0.9877106858640474,\n 'glcm_Idn': 0.9398891897338928,\n 'glcm_Imc1': -0.34424293407861933,\n 'glcm_Imc2': 0.9348045843815249,\n 'glcm_InverseVariance': 0.3962418065680867,\n 'glcm_JointAverage': 5.03971827293748,\n 'glcm_JointEnergy': 0.04389392588774152,\n 'glcm_JointEntropy': 5.05216824220161,\n 'glcm_MCC': 0.8657818315948901,\n 'glcm_MaximumProbability': 0.10212289528321059,\n 'glcm_SumAverage': 10.079436545874959,\n 'glcm_SumEntropy': 3.946685376354392,\n 'glcm_SumSquares': 4.457766204827317,\n 'gldm_DependenceEntropy': 6.105585384045709,\n 'gldm_DependenceNonUniformity': 17638.263045822103,\n 'gldm_DependenceNonUniformityNormalized': 0.11885621998532414,\n 'gldm_DependenceVariance': 5.444568985803649,\n 'gldm_GrayLevelNonUniformity': 19199.61242587601,\n 'gldm_GrayLevelVariance': 4.455504449800568,\n 'gldm_HighGrayLevelEmphasis': 29.85343665768194,\n 'gldm_LargeDependenceEmphasis': 30.02144204851752,\n 'gldm_LargeDependenceHighGrayLevelEmphasis': 847.155795148248,\n 'gldm_LargeDependenceLowGrayLevelEmphasis': 2.968446534245312,\n 'gldm_LowGrayLevelEmphasis': 0.10241687361820788,\n 'gldm_SmallDependenceEmphasis': 0.12250207530701211,\n 'gldm_SmallDependenceHighGrayLevelEmphasis': 3.606017744404028,\n 'gldm_SmallDependenceLowGrayLevelEmphasis': 0.0133519043180757,\n 'glrlm_GrayLevelNonUniformity': 9462.38180818853,\n 'glrlm_GrayLevelNonUniformityNormalized': 0.1262186846729758,\n 'glrlm_GrayLevelVariance': 4.550857013554643,\n 'glrlm_HighGrayLevelRunEmphasis': 30.655755074615634,\n 'glrlm_LongRunEmphasis': 9.861494861145484,\n 'glrlm_LongRunHighGrayLevelEmphasis': 236.8674557775735,\n 'glrlm_LongRunLowGrayLevelEmphasis': 1.0472496955628394,\n 'glrlm_LowGrayLevelRunEmphasis': 0.10527048103871503,\n 'glrlm_RunEntropy': 4.933632670030153,\n 'glrlm_RunLengthNonUniformity': 31604.447180890314,\n 'glrlm_RunLengthNonUniformityNormalized': 0.41942216492943296,\n 'glrlm_RunPercentage': 0.5053116576819406,\n 'glrlm_RunVariance': 5.891542525106377,\n 'glrlm_ShortRunEmphasis': 0.6708417021685115,\n 'glrlm_ShortRunHighGrayLevelEmphasis': 20.253098499528058,\n 'glrlm_ShortRunLowGrayLevelEmphasis': 0.07307226374095517,\n 'glszm_GrayLevelNonUniformity': 2240.925517551755,\n 'glszm_GrayLevelNonUniformityNormalized': 0.12606466682896914,\n 'glszm_GrayLevelVariance': 4.655786549345754,\n 'glszm_HighGrayLevelZoneEmphasis': 28.986386138613863,\n 'glszm_LargeAreaEmphasis': 12358.399302430244,\n 'glszm_LargeAreaHighGrayLevelEmphasis': 296242.1040729073,\n 'glszm_LargeAreaLowGrayLevelEmphasis': 1028.20303112028,\n 'glszm_LowGrayLevelZoneEmphasis': 0.10917576616292582,\n 'glszm_SizeZoneNonUniformity': 4688.97603510351,\n 'glszm_SizeZoneNonUniformityNormalized': 0.2637812801025827,\n 'glszm_SmallAreaEmphasis': 0.5260989839618405,\n 'glszm_SmallAreaHighGrayLevelEmphasis': 15.119119292563854,\n 'glszm_SmallAreaLowGrayLevelEmphasis': 0.05810996203149684,\n 'glszm_ZoneEntropy': 5.979634873163457,\n 'glszm_ZonePercentage': 0.1197843665768194,\n 'glszm_ZoneVariance': 12288.704607938293,\n 'ngtdm_Busyness': 255.69723891192513,\n 'ngtdm_Coarseness': 0.00010332018901636134,\n 'ngtdm_Complexity': 19.829116443829264,\n 'ngtdm_Contrast': 0.05360495153597773,\n 'ngtdm_Strength': 0.00321552570881395}"
     },
     "execution_count": 9,
     "metadata": {},
     "output_type": "execute_result"
    }
   ],
   "source": [
    "stats_dict"
   ],
   "metadata": {
    "collapsed": false,
    "pycharm": {
     "name": "#%%\n"
    }
   }
  },
  {
   "cell_type": "code",
   "execution_count": 16,
   "outputs": [
    {
     "data": {
      "text/plain": "['firstorder_10Percentile',\n 'firstorder_90Percentile',\n 'firstorder_Energy',\n 'firstorder_Entropy',\n 'firstorder_InterquartileRange',\n 'firstorder_Kurtosis',\n 'firstorder_Maximum',\n 'firstorder_MeanAbsoluteDeviation',\n 'firstorder_Mean',\n 'firstorder_Median',\n 'firstorder_Minimum',\n 'firstorder_Range',\n 'firstorder_RobustMeanAbsoluteDeviation',\n 'firstorder_RootMeanSquared',\n 'firstorder_Skewness',\n 'firstorder_TotalEnergy',\n 'firstorder_Uniformity',\n 'firstorder_Variance',\n 'glcm_Autocorrelation',\n 'glcm_ClusterProminence',\n 'glcm_ClusterShade',\n 'glcm_ClusterTendency',\n 'glcm_Contrast',\n 'glcm_Correlation',\n 'glcm_DifferenceAverage',\n 'glcm_DifferenceEntropy',\n 'glcm_DifferenceVariance',\n 'glcm_Id',\n 'glcm_Idm',\n 'glcm_Idmn',\n 'glcm_Idn',\n 'glcm_Imc1',\n 'glcm_Imc2',\n 'glcm_InverseVariance',\n 'glcm_JointAverage',\n 'glcm_JointEnergy',\n 'glcm_JointEntropy',\n 'glcm_MCC',\n 'glcm_MaximumProbability',\n 'glcm_SumAverage',\n 'glcm_SumEntropy',\n 'glcm_SumSquares',\n 'gldm_DependenceEntropy',\n 'gldm_DependenceNonUniformity',\n 'gldm_DependenceNonUniformityNormalized',\n 'gldm_DependenceVariance',\n 'gldm_GrayLevelNonUniformity',\n 'gldm_GrayLevelVariance',\n 'gldm_HighGrayLevelEmphasis',\n 'gldm_LargeDependenceEmphasis',\n 'gldm_LargeDependenceHighGrayLevelEmphasis',\n 'gldm_LargeDependenceLowGrayLevelEmphasis',\n 'gldm_LowGrayLevelEmphasis',\n 'gldm_SmallDependenceEmphasis',\n 'gldm_SmallDependenceHighGrayLevelEmphasis',\n 'gldm_SmallDependenceLowGrayLevelEmphasis',\n 'glrlm_GrayLevelNonUniformity',\n 'glrlm_GrayLevelNonUniformityNormalized',\n 'glrlm_GrayLevelVariance',\n 'glrlm_HighGrayLevelRunEmphasis',\n 'glrlm_LongRunEmphasis',\n 'glrlm_LongRunHighGrayLevelEmphasis',\n 'glrlm_LongRunLowGrayLevelEmphasis',\n 'glrlm_LowGrayLevelRunEmphasis',\n 'glrlm_RunEntropy',\n 'glrlm_RunLengthNonUniformity',\n 'glrlm_RunLengthNonUniformityNormalized',\n 'glrlm_RunPercentage',\n 'glrlm_RunVariance',\n 'glrlm_ShortRunEmphasis',\n 'glrlm_ShortRunHighGrayLevelEmphasis',\n 'glrlm_ShortRunLowGrayLevelEmphasis',\n 'glszm_GrayLevelNonUniformity',\n 'glszm_GrayLevelNonUniformityNormalized',\n 'glszm_GrayLevelVariance',\n 'glszm_HighGrayLevelZoneEmphasis',\n 'glszm_LargeAreaEmphasis',\n 'glszm_LargeAreaHighGrayLevelEmphasis',\n 'glszm_LargeAreaLowGrayLevelEmphasis',\n 'glszm_LowGrayLevelZoneEmphasis',\n 'glszm_SizeZoneNonUniformity',\n 'glszm_SizeZoneNonUniformityNormalized',\n 'glszm_SmallAreaEmphasis',\n 'glszm_SmallAreaHighGrayLevelEmphasis',\n 'glszm_SmallAreaLowGrayLevelEmphasis',\n 'glszm_ZoneEntropy',\n 'glszm_ZonePercentage',\n 'glszm_ZoneVariance',\n 'ngtdm_Busyness',\n 'ngtdm_Coarseness',\n 'ngtdm_Complexity',\n 'ngtdm_Contrast',\n 'ngtdm_Strength']"
     },
     "execution_count": 16,
     "metadata": {},
     "output_type": "execute_result"
    }
   ],
   "source": [
    "list(stats_dict.keys()\n",
    ")"
   ],
   "metadata": {
    "collapsed": false,
    "pycharm": {
     "name": "#%%\n"
    }
   }
  },
  {
   "cell_type": "code",
   "execution_count": 17,
   "outputs": [],
   "source": [
    "img = imread(path)"
   ],
   "metadata": {
    "collapsed": false,
    "pycharm": {
     "name": "#%%\n"
    }
   }
  },
  {
   "cell_type": "code",
   "execution_count": 18,
   "outputs": [
    {
     "data": {
      "text/plain": "numpy.ndarray"
     },
     "execution_count": 18,
     "metadata": {},
     "output_type": "execute_result"
    }
   ],
   "source": [
    "type(img)"
   ],
   "metadata": {
    "collapsed": false,
    "pycharm": {
     "name": "#%%\n"
    }
   }
  },
  {
   "cell_type": "code",
   "execution_count": 29,
   "outputs": [],
   "source": [
    "import numpy as np\n",
    "from radiomics import featureextractor\n",
    "from cv2 import imread, split\n",
    "import SimpleITK as sitk\n",
    "from PIL import Image, ImageCms, ImageOps\n",
    "import traceback\n",
    "\n",
    "extractor = featureextractor.RadiomicsFeatureExtractor()\n",
    "path = r'C:\\Users\\R\\PycharmProjects\\Thesis_cur-AI-tor\\images\\ff742b8e8e6120f27ec567f60143fc82.jpg'\n",
    "img = imread(path)\n",
    "\n",
    "def load_image(input_path: str):\n",
    "    try:\n",
    "        img = Image.open(input_path)\n",
    "        if img.mode != 'RGB':\n",
    "            img = img.convert('RGB')\n",
    "    except (OSError, IOError):\n",
    "        print(f'Opening image failed: \\n {traceback.format_exc()}')\n",
    "    return np.array(img)\n",
    "\n",
    "def tile_image(img, n_blocks=(3, 3)):\n",
    "    horizontal = np.array_split(img, n_blocks[0])\n",
    "    split_img = [np.array_split(block, n_blocks[1], axis=1) for block in horizontal]\n",
    "    return np.asarray(split_img, dtype=np.ndarray).reshape(n_blocks)\n",
    "\n",
    "def split_image_rgb(image):\n",
    "    # Channel order: R, G, B\n",
    "    return np.dsplit(image,image.shape[-1])\n",
    "\n",
    "def split_image_lab(image):\n",
    "    # Channel order: L, a, b\n",
    "    image = Image.fromarray(image)\n",
    "    srgb_p = ImageCms.createProfile(\"sRGB\")\n",
    "    lab_p  = ImageCms.createProfile(\"LAB\")\n",
    "    rgb2lab = ImageCms.buildTransformFromOpenProfiles(srgb_p, lab_p, \"RGB\", \"LAB\")\n",
    "    image = ImageCms.applyTransform(image, rgb2lab)\n",
    "    return [np.array(x) for x in image.split()]\n",
    "\n",
    "\n",
    "def full_image_metrics(image: np.array):\n",
    "    # Load image and dummy mask\n",
    "    im = sitk.GetImageFromArray(image)\n",
    "    ma = sitk.GetImageFromArray(np.ones(image.shape, dtype='uint8'))\n",
    "    ma.CopyInformation(im)\n",
    "\n",
    "    # Extract features into clean dict\n",
    "    features = extractor.execute(im, ma, label=1)\n",
    "    stats_keys = [x for x in list(features.keys()) if x[0][0] == 'o']\n",
    "    stats_dict = {k[9:]: float(features[k]) for k in stats_keys}\n",
    "    return stats_dict"
   ],
   "metadata": {
    "collapsed": false,
    "pycharm": {
     "name": "#%%\n"
    }
   }
  },
  {
   "cell_type": "code",
   "execution_count": 22,
   "outputs": [
    {
     "name": "stdout",
     "output_type": "stream",
     "text": [
      "<class 'numpy.ndarray'>\n"
     ]
    }
   ],
   "source": [],
   "metadata": {
    "collapsed": false,
    "pycharm": {
     "name": "#%%\n"
    }
   }
  },
  {
   "cell_type": "code",
   "execution_count": 30,
   "outputs": [
    {
     "name": "stdout",
     "output_type": "stream",
     "text": [
      "type = <class 'numpy.ndarray'>, shape = (371, 400, 3)\n"
     ]
    }
   ],
   "source": [
    "image_array = load_image(path)\n",
    "print(f'type = {type(image_array)}, shape = {image_array.shape}')"
   ],
   "metadata": {
    "collapsed": false,
    "pycharm": {
     "name": "#%%\n"
    }
   }
  },
  {
   "cell_type": "code",
   "execution_count": 31,
   "outputs": [
    {
     "name": "stdout",
     "output_type": "stream",
     "text": [
      "type = <class 'numpy.ndarray'>, shape = (3, 3)\n"
     ]
    }
   ],
   "source": [
    "tiled_image = tile_image(image_array)\n",
    "print(f'type = {type(tiled_image)}, shape = {tiled_image.shape}')"
   ],
   "metadata": {
    "collapsed": false,
    "pycharm": {
     "name": "#%%\n"
    }
   }
  },
  {
   "cell_type": "code",
   "execution_count": 73,
   "outputs": [
    {
     "data": {
      "text/plain": "3"
     },
     "execution_count": 73,
     "metadata": {},
     "output_type": "execute_result"
    }
   ],
   "source": [],
   "metadata": {
    "collapsed": false,
    "pycharm": {
     "name": "#%%\n"
    }
   }
  },
  {
   "cell_type": "code",
   "execution_count": 32,
   "outputs": [],
   "source": [
    "tiles = []\n",
    "for i in range(len(tiled_image)):\n",
    "    for j in tiled_image[i]:\n",
    "        tiles.append(j)\n",
    "\n",
    "tiled_split_red = split_image_rgb(tiles[0])\n",
    "tiled_split_l = split_image_lab(tiles[0])"
   ],
   "metadata": {
    "collapsed": false,
    "pycharm": {
     "name": "#%%\n"
    }
   }
  },
  {
   "cell_type": "code",
   "execution_count": 34,
   "outputs": [
    {
     "name": "stderr",
     "output_type": "stream",
     "text": [
      "Shape features are only available 3D input (for 2D input, use shape2D). Found 2D input\n",
      "GLCM is symmetrical, therefore Sum Average = 2 * Joint Average, only 1 needs to be calculated\n"
     ]
    },
    {
     "data": {
      "text/plain": "{'firstorder_10Percentile': 102.0,\n 'firstorder_90Percentile': 171.0,\n 'firstorder_Energy': 343266632.0,\n 'firstorder_Entropy': 1.8169413790747522,\n 'firstorder_InterquartileRange': 41.0,\n 'firstorder_Kurtosis': 2.243281027077956,\n 'firstorder_Maximum': 176.0,\n 'firstorder_MeanAbsoluteDeviation': 21.1641785249595,\n 'firstorder_Mean': 141.52575830524796,\n 'firstorder_Median': 143.0,\n 'firstorder_Minimum': 83.0,\n 'firstorder_Range': 93.0,\n 'firstorder_RobustMeanAbsoluteDeviation': 16.457016496075397,\n 'firstorder_RootMeanSquared': 143.73169683145437,\n 'firstorder_Skewness': -0.49518506772690063,\n 'firstorder_TotalEnergy': 343266632.0,\n 'firstorder_Uniformity': 0.3197239323479826,\n 'firstorder_Variance': 629.2604101736491,\n 'glcm_Autocorrelation': 10.560891788094306,\n 'glcm_ClusterProminence': 36.19010266973587,\n 'glcm_ClusterShade': -5.682575185742244,\n 'glcm_ClusterTendency': 3.7083845400592685,\n 'glcm_Contrast': 0.10540156876096438,\n 'glcm_Correlation': 0.9447374281256673,\n 'glcm_DifferenceAverage': 0.10534044033013121,\n 'glcm_DifferenceEntropy': 0.48162940905056895,\n 'glcm_DifferenceVariance': 0.09376394542101076,\n 'glcm_Id': 0.9473399679067398,\n 'glcm_Idm': 0.9473358926780177,\n 'glcm_Idmn': 0.9959465799423302,\n 'glcm_Idn': 0.9824447153838074,\n 'glcm_Imc1': -0.7026653818399309,\n 'glcm_Imc2': 0.9595702542589912,\n 'glcm_InverseVariance': 0.10528695295315216,\n 'glcm_JointAverage': 3.1080769640201344,\n 'glcm_JointEnergy': 0.263955295866943,\n 'glcm_JointEntropy': 2.3547348120026084,\n 'glcm_MCC': 0.9568651627427684,\n 'glcm_MaximumProbability': 0.40028660905054536,\n 'glcm_SumAverage': 6.21615392804027,\n 'glcm_SumEntropy': 2.2490449718065455,\n 'glcm_SumSquares': 0.9534465272050583,\n 'gldm_DependenceEntropy': 3.436995103812282,\n 'gldm_DependenceNonUniformity': 7983.846292729899,\n 'gldm_DependenceNonUniformityNormalized': 0.48049147163757217,\n 'gldm_DependenceVariance': 2.417342621424692,\n 'gldm_GrayLevelNonUniformity': 5312.532859894078,\n 'gldm_GrayLevelVariance': 0.9551607710743502,\n 'gldm_HighGrayLevelEmphasis': 10.595931632161772,\n 'gldm_LargeDependenceEmphasis': 67.62277323062109,\n 'gldm_LargeDependenceHighGrayLevelEmphasis': 725.8394318728936,\n 'gldm_LargeDependenceLowGrayLevelEmphasis': 13.203083691087572,\n 'gldm_LowGrayLevelEmphasis': 0.19207843510939926,\n 'gldm_SmallDependenceEmphasis': 0.020472731491489232,\n 'gldm_SmallDependenceHighGrayLevelEmphasis': 0.21417983085435358,\n 'gldm_SmallDependenceLowGrayLevelEmphasis': 0.0038392128378719067,\n 'glrlm_GrayLevelNonUniformity': 584.4220580818471,\n 'glrlm_GrayLevelNonUniformityNormalized': 0.30285306323678707,\n 'glrlm_GrayLevelVariance': 0.8435618152585712,\n 'glrlm_HighGrayLevelRunEmphasis': 9.881944435246192,\n 'glrlm_LongRunEmphasis': 242.9544875499501,\n 'glrlm_LongRunHighGrayLevelEmphasis': 2842.8996120493885,\n 'glrlm_LongRunLowGrayLevelEmphasis': 43.962527298246314,\n 'glrlm_LowGrayLevelRunEmphasis': 0.1779925426067537,\n 'glrlm_RunEntropy': 5.901798419244995,\n 'glrlm_RunLengthNonUniformity': 179.64675292658399,\n 'glrlm_RunLengthNonUniformityNormalized': 0.09117482502535801,\n 'glrlm_RunPercentage': 0.11562650457390466,\n 'glrlm_RunVariance': 152.99471509815828,\n 'glrlm_ShortRunEmphasis': 0.2483213367084543,\n 'glrlm_ShortRunHighGrayLevelEmphasis': 2.4456964491891133,\n 'glrlm_ShortRunLowGrayLevelEmphasis': 0.04212188917871308,\n 'glszm_GrayLevelNonUniformity': 23.019801980198018,\n 'glszm_GrayLevelNonUniformityNormalized': 0.22791883148710912,\n 'glszm_GrayLevelVariance': 1.3875110283305558,\n 'glszm_HighGrayLevelZoneEmphasis': 11.425742574257425,\n 'glszm_LargeAreaEmphasis': 661103.5049504951,\n 'glszm_LargeAreaHighGrayLevelEmphasis': 8423908.257425742,\n 'glszm_LargeAreaLowGrayLevelEmphasis': 76127.29330858086,\n 'glszm_LowGrayLevelZoneEmphasis': 0.19033003300330031,\n 'glszm_SizeZoneNonUniformity': 9.336633663366337,\n 'glszm_SizeZoneNonUniformityNormalized': 0.09244191745907264,\n 'glszm_SmallAreaEmphasis': 0.2628930964584625,\n 'glszm_SmallAreaHighGrayLevelEmphasis': 3.0243380585762,\n 'glszm_SmallAreaLowGrayLevelEmphasis': 0.05313668940743826,\n 'glszm_ZoneEntropy': 5.5182567509719025,\n 'glszm_ZonePercentage': 0.006078478574867597,\n 'glszm_ZoneVariance': 634038.3685913145,\n 'ngtdm_Busyness': 29.284322370651893,\n 'ngtdm_Coarseness': 0.0020041629380729547,\n 'ngtdm_Complexity': 0.951186809446387,\n 'ngtdm_Contrast': 0.009576230194911984,\n 'ngtdm_Strength': 0.017805431624601648}"
     },
     "execution_count": 34,
     "metadata": {},
     "output_type": "execute_result"
    }
   ],
   "source": [
    "full_image_metrics(tiled_split_l[1])\n"
   ],
   "metadata": {
    "collapsed": false,
    "pycharm": {
     "name": "#%%\n"
    }
   }
  },
  {
   "cell_type": "code",
   "execution_count": 23,
   "outputs": [
    {
     "data": {
      "text/plain": "<PIL.Image.Image image mode=L size=134x124 at 0x284D7CE8B80>",
      "image/png": "[encoded data removed]"
     },
     "execution_count": 23,
     "metadata": {},
     "output_type": "execute_result"
    }
   ],
   "source": [
    "tiled_split_l[2]"
   ],
   "metadata": {
    "collapsed": false,
    "pycharm": {
     "name": "#%%\n"
    }
   }
  },
  {
   "cell_type": "code",
   "execution_count": 27,
   "outputs": [
    {
     "data": {
      "text/plain": "3"
     },
     "execution_count": 27,
     "metadata": {},
     "output_type": "execute_result"
    }
   ],
   "source": [
    "len(tiled_split_red)"
   ],
   "metadata": {
    "collapsed": false,
    "pycharm": {
     "name": "#%%\n"
    }
   }
  },
  {
   "cell_type": "code",
   "execution_count": 28,
   "outputs": [
    {
     "data": {
      "text/plain": "numpy.ndarray"
     },
     "execution_count": 28,
     "metadata": {},
     "output_type": "execute_result"
    }
   ],
   "source": [
    "type(tiled_split_red[0])"
   ],
   "metadata": {
    "collapsed": false,
    "pycharm": {
     "name": "#%%\n"
    }
   }
  },
  {
   "cell_type": "code",
   "execution_count": 1,
   "outputs": [],
   "source": [
    "\n",
    "import metrics_pyradiomics\n",
    "import metrics\n",
    "import pickle\n",
    "import glob\n",
    "\n",
    "\n",
    "# with open('../files.pkl', 'rb') as f:\n",
    "#     files = pickle.load(f)\n",
    "files = glob.glob('C:/Users/R/PycharmProjects/Thesis_cur-AI-tor/images/*.*')"
   ],
   "metadata": {
    "collapsed": false,
    "pycharm": {
     "name": "#%%\n"
    }
   }
  },
  {
   "cell_type": "code",
   "execution_count": 2,
   "outputs": [],
   "source": [
    "metrics_function_list_tiles = [metrics.contrast_rms, metrics.contrast_tenengrad, metrics.fractal_dimension, metrics.sharpness, metrics.sharpness_laplacian, metrics.color_dominant, metrics.colorfulness, metrics.hue_mean, metrics.pixel_intensity_mean,metrics.saturation_mean, metrics.entropy_shannon, metrics.k_complexity_bw, metrics.k_complexity_lab_l, metrics.k_complexity_lab_a, metrics.k_complexity_lab_b]\n",
    "\n",
    "metrics_function_list_tiles_channels = [metrics.contrast_rms, metrics.contrast_tenengrad, metrics.fractal_dimension, metrics.sharpness, metrics.sharpness_laplacian, metrics.pixel_intensity_mean, metrics.entropy_shannon]"
   ],
   "metadata": {
    "collapsed": false,
    "pycharm": {
     "name": "#%%\n"
    }
   }
  },
  {
   "cell_type": "code",
   "execution_count": 15,
   "outputs": [
    {
     "name": "stderr",
     "output_type": "stream",
     "text": [
      "GLCM is symmetrical, therefore Sum Average = 2 * Joint Average, only 1 needs to be calculated\n",
      "GLCM is symmetrical, therefore Sum Average = 2 * Joint Average, only 1 needs to be calculated\n",
      "GLCM is symmetrical, therefore Sum Average = 2 * Joint Average, only 1 needs to be calculated\n",
      "Shape features are only available 3D input (for 2D input, use shape2D). Found 2D input\n",
      "GLCM is symmetrical, therefore Sum Average = 2 * Joint Average, only 1 needs to be calculated\n",
      "Shape features are only available 3D input (for 2D input, use shape2D). Found 2D input\n",
      "GLCM is symmetrical, therefore Sum Average = 2 * Joint Average, only 1 needs to be calculated\n",
      "Shape features are only available 3D input (for 2D input, use shape2D). Found 2D input\n",
      "GLCM is symmetrical, therefore Sum Average = 2 * Joint Average, only 1 needs to be calculated\n",
      "GLCM is symmetrical, therefore Sum Average = 2 * Joint Average, only 1 needs to be calculated\n",
      "GLCM is symmetrical, therefore Sum Average = 2 * Joint Average, only 1 needs to be calculated\n",
      "GLCM is symmetrical, therefore Sum Average = 2 * Joint Average, only 1 needs to be calculated\n",
      "Shape features are only available 3D input (for 2D input, use shape2D). Found 2D input\n",
      "GLCM is symmetrical, therefore Sum Average = 2 * Joint Average, only 1 needs to be calculated\n",
      "Shape features are only available 3D input (for 2D input, use shape2D). Found 2D input\n",
      "GLCM is symmetrical, therefore Sum Average = 2 * Joint Average, only 1 needs to be calculated\n",
      "Shape features are only available 3D input (for 2D input, use shape2D). Found 2D input\n",
      "GLCM is symmetrical, therefore Sum Average = 2 * Joint Average, only 1 needs to be calculated\n",
      "GLCM is symmetrical, therefore Sum Average = 2 * Joint Average, only 1 needs to be calculated\n",
      "GLCM is symmetrical, therefore Sum Average = 2 * Joint Average, only 1 needs to be calculated\n",
      "GLCM is symmetrical, therefore Sum Average = 2 * Joint Average, only 1 needs to be calculated\n",
      "Shape features are only available 3D input (for 2D input, use shape2D). Found 2D input\n",
      "GLCM is symmetrical, therefore Sum Average = 2 * Joint Average, only 1 needs to be calculated\n",
      "Shape features are only available 3D input (for 2D input, use shape2D). Found 2D input\n",
      "GLCM is symmetrical, therefore Sum Average = 2 * Joint Average, only 1 needs to be calculated\n",
      "Shape features are only available 3D input (for 2D input, use shape2D). Found 2D input\n",
      "GLCM is symmetrical, therefore Sum Average = 2 * Joint Average, only 1 needs to be calculated\n",
      "GLCM is symmetrical, therefore Sum Average = 2 * Joint Average, only 1 needs to be calculated\n",
      "GLCM is symmetrical, therefore Sum Average = 2 * Joint Average, only 1 needs to be calculated\n",
      "GLCM is symmetrical, therefore Sum Average = 2 * Joint Average, only 1 needs to be calculated\n",
      "Shape features are only available 3D input (for 2D input, use shape2D). Found 2D input\n",
      "GLCM is symmetrical, therefore Sum Average = 2 * Joint Average, only 1 needs to be calculated\n",
      "Shape features are only available 3D input (for 2D input, use shape2D). Found 2D input\n",
      "GLCM is symmetrical, therefore Sum Average = 2 * Joint Average, only 1 needs to be calculated\n",
      "Shape features are only available 3D input (for 2D input, use shape2D). Found 2D input\n",
      "GLCM is symmetrical, therefore Sum Average = 2 * Joint Average, only 1 needs to be calculated\n",
      "GLCM is symmetrical, therefore Sum Average = 2 * Joint Average, only 1 needs to be calculated\n",
      "GLCM is symmetrical, therefore Sum Average = 2 * Joint Average, only 1 needs to be calculated\n",
      "GLCM is symmetrical, therefore Sum Average = 2 * Joint Average, only 1 needs to be calculated\n",
      "Shape features are only available 3D input (for 2D input, use shape2D). Found 2D input\n",
      "GLCM is symmetrical, therefore Sum Average = 2 * Joint Average, only 1 needs to be calculated\n",
      "Shape features are only available 3D input (for 2D input, use shape2D). Found 2D input\n",
      "GLCM is symmetrical, therefore Sum Average = 2 * Joint Average, only 1 needs to be calculated\n",
      "Shape features are only available 3D input (for 2D input, use shape2D). Found 2D input\n",
      "GLCM is symmetrical, therefore Sum Average = 2 * Joint Average, only 1 needs to be calculated\n",
      "GLCM is symmetrical, therefore Sum Average = 2 * Joint Average, only 1 needs to be calculated\n",
      "GLCM is symmetrical, therefore Sum Average = 2 * Joint Average, only 1 needs to be calculated\n",
      "GLCM is symmetrical, therefore Sum Average = 2 * Joint Average, only 1 needs to be calculated\n",
      "Shape features are only available 3D input (for 2D input, use shape2D). Found 2D input\n",
      "GLCM is symmetrical, therefore Sum Average = 2 * Joint Average, only 1 needs to be calculated\n",
      "Shape features are only available 3D input (for 2D input, use shape2D). Found 2D input\n",
      "GLCM is symmetrical, therefore Sum Average = 2 * Joint Average, only 1 needs to be calculated\n",
      "Shape features are only available 3D input (for 2D input, use shape2D). Found 2D input\n",
      "GLCM is symmetrical, therefore Sum Average = 2 * Joint Average, only 1 needs to be calculated\n",
      "GLCM is symmetrical, therefore Sum Average = 2 * Joint Average, only 1 needs to be calculated\n",
      "GLCM is symmetrical, therefore Sum Average = 2 * Joint Average, only 1 needs to be calculated\n",
      "GLCM is symmetrical, therefore Sum Average = 2 * Joint Average, only 1 needs to be calculated\n",
      "Shape features are only available 3D input (for 2D input, use shape2D). Found 2D input\n",
      "GLCM is symmetrical, therefore Sum Average = 2 * Joint Average, only 1 needs to be calculated\n",
      "Shape features are only available 3D input (for 2D input, use shape2D). Found 2D input\n",
      "GLCM is symmetrical, therefore Sum Average = 2 * Joint Average, only 1 needs to be calculated\n",
      "Shape features are only available 3D input (for 2D input, use shape2D). Found 2D input\n",
      "GLCM is symmetrical, therefore Sum Average = 2 * Joint Average, only 1 needs to be calculated\n",
      "GLCM is symmetrical, therefore Sum Average = 2 * Joint Average, only 1 needs to be calculated\n",
      "GLCM is symmetrical, therefore Sum Average = 2 * Joint Average, only 1 needs to be calculated\n",
      "GLCM is symmetrical, therefore Sum Average = 2 * Joint Average, only 1 needs to be calculated\n",
      "Shape features are only available 3D input (for 2D input, use shape2D). Found 2D input\n",
      "GLCM is symmetrical, therefore Sum Average = 2 * Joint Average, only 1 needs to be calculated\n",
      "Shape features are only available 3D input (for 2D input, use shape2D). Found 2D input\n",
      "GLCM is symmetrical, therefore Sum Average = 2 * Joint Average, only 1 needs to be calculated\n",
      "Shape features are only available 3D input (for 2D input, use shape2D). Found 2D input\n",
      "GLCM is symmetrical, therefore Sum Average = 2 * Joint Average, only 1 needs to be calculated\n",
      "GLCM is symmetrical, therefore Sum Average = 2 * Joint Average, only 1 needs to be calculated\n",
      "GLCM is symmetrical, therefore Sum Average = 2 * Joint Average, only 1 needs to be calculated\n",
      "GLCM is symmetrical, therefore Sum Average = 2 * Joint Average, only 1 needs to be calculated\n",
      "Shape features are only available 3D input (for 2D input, use shape2D). Found 2D input\n",
      "GLCM is symmetrical, therefore Sum Average = 2 * Joint Average, only 1 needs to be calculated\n",
      "Shape features are only available 3D input (for 2D input, use shape2D). Found 2D input\n",
      "GLCM is symmetrical, therefore Sum Average = 2 * Joint Average, only 1 needs to be calculated\n",
      "Shape features are only available 3D input (for 2D input, use shape2D). Found 2D input\n",
      "GLCM is symmetrical, therefore Sum Average = 2 * Joint Average, only 1 needs to be calculated\n",
      "GLCM is symmetrical, therefore Sum Average = 2 * Joint Average, only 1 needs to be calculated\n",
      "GLCM is symmetrical, therefore Sum Average = 2 * Joint Average, only 1 needs to be calculated\n",
      "GLCM is symmetrical, therefore Sum Average = 2 * Joint Average, only 1 needs to be calculated\n",
      "Shape features are only available 3D input (for 2D input, use shape2D). Found 2D input\n",
      "GLCM is symmetrical, therefore Sum Average = 2 * Joint Average, only 1 needs to be calculated\n",
      "Shape features are only available 3D input (for 2D input, use shape2D). Found 2D input\n",
      "GLCM is symmetrical, therefore Sum Average = 2 * Joint Average, only 1 needs to be calculated\n",
      "Shape features are only available 3D input (for 2D input, use shape2D). Found 2D input\n",
      "GLCM is symmetrical, therefore Sum Average = 2 * Joint Average, only 1 needs to be calculated\n",
      "GLCM is symmetrical, therefore Sum Average = 2 * Joint Average, only 1 needs to be calculated\n",
      "GLCM is symmetrical, therefore Sum Average = 2 * Joint Average, only 1 needs to be calculated\n",
      "GLCM is symmetrical, therefore Sum Average = 2 * Joint Average, only 1 needs to be calculated\n",
      "Shape features are only available 3D input (for 2D input, use shape2D). Found 2D input\n",
      "GLCM is symmetrical, therefore Sum Average = 2 * Joint Average, only 1 needs to be calculated\n",
      "Shape features are only available 3D input (for 2D input, use shape2D). Found 2D input\n",
      "GLCM is symmetrical, therefore Sum Average = 2 * Joint Average, only 1 needs to be calculated\n",
      "Shape features are only available 3D input (for 2D input, use shape2D). Found 2D input\n",
      "GLCM is symmetrical, therefore Sum Average = 2 * Joint Average, only 1 needs to be calculated\n",
      "GLCM is symmetrical, therefore Sum Average = 2 * Joint Average, only 1 needs to be calculated\n",
      "GLCM is symmetrical, therefore Sum Average = 2 * Joint Average, only 1 needs to be calculated\n",
      "GLCM is symmetrical, therefore Sum Average = 2 * Joint Average, only 1 needs to be calculated\n",
      "Shape features are only available 3D input (for 2D input, use shape2D). Found 2D input\n",
      "GLCM is symmetrical, therefore Sum Average = 2 * Joint Average, only 1 needs to be calculated\n",
      "Shape features are only available 3D input (for 2D input, use shape2D). Found 2D input\n",
      "GLCM is symmetrical, therefore Sum Average = 2 * Joint Average, only 1 needs to be calculated\n",
      "Shape features are only available 3D input (for 2D input, use shape2D). Found 2D input\n",
      "GLCM is symmetrical, therefore Sum Average = 2 * Joint Average, only 1 needs to be calculated\n",
      "GLCM is symmetrical, therefore Sum Average = 2 * Joint Average, only 1 needs to be calculated\n",
      "GLCM is symmetrical, therefore Sum Average = 2 * Joint Average, only 1 needs to be calculated\n",
      "GLCM is symmetrical, therefore Sum Average = 2 * Joint Average, only 1 needs to be calculated\n",
      "Shape features are only available 3D input (for 2D input, use shape2D). Found 2D input\n",
      "GLCM is symmetrical, therefore Sum Average = 2 * Joint Average, only 1 needs to be calculated\n",
      "Shape features are only available 3D input (for 2D input, use shape2D). Found 2D input\n",
      "GLCM is symmetrical, therefore Sum Average = 2 * Joint Average, only 1 needs to be calculated\n",
      "Shape features are only available 3D input (for 2D input, use shape2D). Found 2D input\n",
      "GLCM is symmetrical, therefore Sum Average = 2 * Joint Average, only 1 needs to be calculated\n",
      "GLCM is symmetrical, therefore Sum Average = 2 * Joint Average, only 1 needs to be calculated\n",
      "GLCM is symmetrical, therefore Sum Average = 2 * Joint Average, only 1 needs to be calculated\n",
      "GLCM is symmetrical, therefore Sum Average = 2 * Joint Average, only 1 needs to be calculated\n",
      "Shape features are only available 3D input (for 2D input, use shape2D). Found 2D input\n",
      "GLCM is symmetrical, therefore Sum Average = 2 * Joint Average, only 1 needs to be calculated\n",
      "Shape features are only available 3D input (for 2D input, use shape2D). Found 2D input\n",
      "GLCM is symmetrical, therefore Sum Average = 2 * Joint Average, only 1 needs to be calculated\n",
      "Shape features are only available 3D input (for 2D input, use shape2D). Found 2D input\n",
      "GLCM is symmetrical, therefore Sum Average = 2 * Joint Average, only 1 needs to be calculated\n",
      "GLCM is symmetrical, therefore Sum Average = 2 * Joint Average, only 1 needs to be calculated\n",
      "GLCM is symmetrical, therefore Sum Average = 2 * Joint Average, only 1 needs to be calculated\n",
      "GLCM is symmetrical, therefore Sum Average = 2 * Joint Average, only 1 needs to be calculated\n",
      "Shape features are only available 3D input (for 2D input, use shape2D). Found 2D input\n",
      "GLCM is symmetrical, therefore Sum Average = 2 * Joint Average, only 1 needs to be calculated\n",
      "Shape features are only available 3D input (for 2D input, use shape2D). Found 2D input\n",
      "GLCM is symmetrical, therefore Sum Average = 2 * Joint Average, only 1 needs to be calculated\n",
      "Shape features are only available 3D input (for 2D input, use shape2D). Found 2D input\n",
      "GLCM is symmetrical, therefore Sum Average = 2 * Joint Average, only 1 needs to be calculated\n",
      "GLCM is symmetrical, therefore Sum Average = 2 * Joint Average, only 1 needs to be calculated\n",
      "GLCM is symmetrical, therefore Sum Average = 2 * Joint Average, only 1 needs to be calculated\n",
      "GLCM is symmetrical, therefore Sum Average = 2 * Joint Average, only 1 needs to be calculated\n",
      "Shape features are only available 3D input (for 2D input, use shape2D). Found 2D input\n",
      "GLCM is symmetrical, therefore Sum Average = 2 * Joint Average, only 1 needs to be calculated\n",
      "Shape features are only available 3D input (for 2D input, use shape2D). Found 2D input\n",
      "GLCM is symmetrical, therefore Sum Average = 2 * Joint Average, only 1 needs to be calculated\n",
      "Shape features are only available 3D input (for 2D input, use shape2D). Found 2D input\n",
      "GLCM is symmetrical, therefore Sum Average = 2 * Joint Average, only 1 needs to be calculated\n",
      "GLCM is symmetrical, therefore Sum Average = 2 * Joint Average, only 1 needs to be calculated\n",
      "GLCM is symmetrical, therefore Sum Average = 2 * Joint Average, only 1 needs to be calculated\n",
      "GLCM is symmetrical, therefore Sum Average = 2 * Joint Average, only 1 needs to be calculated\n",
      "Shape features are only available 3D input (for 2D input, use shape2D). Found 2D input\n",
      "GLCM is symmetrical, therefore Sum Average = 2 * Joint Average, only 1 needs to be calculated\n",
      "Shape features are only available 3D input (for 2D input, use shape2D). Found 2D input\n",
      "GLCM is symmetrical, therefore Sum Average = 2 * Joint Average, only 1 needs to be calculated\n",
      "Shape features are only available 3D input (for 2D input, use shape2D). Found 2D input\n",
      "GLCM is symmetrical, therefore Sum Average = 2 * Joint Average, only 1 needs to be calculated\n",
      "GLCM is symmetrical, therefore Sum Average = 2 * Joint Average, only 1 needs to be calculated\n",
      "GLCM is symmetrical, therefore Sum Average = 2 * Joint Average, only 1 needs to be calculated\n",
      "GLCM is symmetrical, therefore Sum Average = 2 * Joint Average, only 1 needs to be calculated\n",
      "Shape features are only available 3D input (for 2D input, use shape2D). Found 2D input\n",
      "GLCM is symmetrical, therefore Sum Average = 2 * Joint Average, only 1 needs to be calculated\n",
      "Shape features are only available 3D input (for 2D input, use shape2D). Found 2D input\n",
      "GLCM is symmetrical, therefore Sum Average = 2 * Joint Average, only 1 needs to be calculated\n",
      "Shape features are only available 3D input (for 2D input, use shape2D). Found 2D input\n",
      "GLCM is symmetrical, therefore Sum Average = 2 * Joint Average, only 1 needs to be calculated\n"
     ]
    }
   ],
   "source": [
    "stats_list = []\n",
    "\n",
    "for path in files:\n",
    "    stats_dict = None\n",
    "    image = metrics_pyradiomics.load_image(path)\n",
    "    tiled_image = metrics_pyradiomics.tile_image(image)\n",
    "\n",
    "    tiles = []\n",
    "    for i in range(len(tiled_image)):\n",
    "        for j in tiled_image[i]:\n",
    "            tiles.append(j)\n",
    "\n",
    "    # Pyradiomic stats\n",
    "    stats = {'path': path}\n",
    "    for idx, tile in enumerate(tiles):\n",
    "        r, g, b = metrics_pyradiomics.split_image_rgb(tile)\n",
    "\n",
    "        r_measurement = metrics_pyradiomics.full_image_metrics(r)\n",
    "        g_measurement = metrics_pyradiomics.full_image_metrics(g)\n",
    "        b_measurement = metrics_pyradiomics.full_image_metrics(b)\n",
    "        stats.update({f'tile{idx+1}_red': r_measurement})\n",
    "        stats.update({f'tile{idx+1}_green': g_measurement})\n",
    "        stats.update({f'tile{idx+1}_blue': b_measurement})\n",
    "\n",
    "        l, a, b = metrics_pyradiomics.split_image_lab(tile)\n",
    "        l_measurement = metrics_pyradiomics.full_image_metrics(l)\n",
    "        a_measurement = metrics_pyradiomics.full_image_metrics(a)\n",
    "        b_measurement = metrics_pyradiomics.full_image_metrics(b)\n",
    "        stats.update({f'tile{idx+1}_l': l_measurement})\n",
    "        stats.update({f'tile{idx+1}_a': a_measurement})\n",
    "        stats.update({f'tile{idx+1}_b': b_measurement})\n",
    "\n",
    "    stats_dict = {'path': path}\n",
    "\n",
    "    for k in list(stats.keys())[1:]:\n",
    "        for stat in stats[k]:\n",
    "            stats_dict[k + '_' + stat] = stats[k][stat]\n",
    "\n",
    "    # Oude stats\n",
    "    for idx, tile in enumerate(tiles):\n",
    "        for metric_function in metrics_function_list_tiles:\n",
    "            output = None\n",
    "            try:\n",
    "                output = metric_function(tile)\n",
    "            except Exception:\n",
    "                output = -999\n",
    "            finally:\n",
    "                if not output:\n",
    "                    output = -999\n",
    "                stats_dict.update({f'tile{idx+1}_' + metric_function.__name__: output})\n",
    "\n",
    "        r, g, b = metrics_pyradiomics.split_image_rgb(tile)\n",
    "        l, a, b_ = metrics_pyradiomics.split_image_lab(tile)\n",
    "\n",
    "        for metric_function in metrics_function_list_tiles_channels:\n",
    "            output_red = None\n",
    "            output_green = None\n",
    "            output_blue = None\n",
    "            output_l = None\n",
    "            output_a = None\n",
    "            output_b_ = None\n",
    "            try:\n",
    "                output_red = metric_function(r.squeeze())\n",
    "                output_green = metric_function(g.squeeze())\n",
    "                output_blue = metric_function(b.squeeze())\n",
    "\n",
    "                output_l = metric_function(l)\n",
    "                output_a = metric_function(a)\n",
    "                output_b = metric_function(b_)\n",
    "            except Exception:\n",
    "                output_red = -999\n",
    "                output_green = -999\n",
    "                output_blue = -999\n",
    "                output_l = -999\n",
    "                output_a = -999\n",
    "                output_b = -999\n",
    "\n",
    "            stats_dict.update({f'tile{idx+1}_red_' + metric_function.__name__: output_red})\n",
    "            stats_dict.update({f'tile{idx+1}_green_' + metric_function.__name__: output_green})\n",
    "            stats_dict.update({f'tile{idx+1}_blue_' + metric_function.__name__: output_blue})\n",
    "            stats_dict.update({f'tile{idx+1}_l_' + metric_function.__name__: output_l})\n",
    "            stats_dict.update({f'tile{idx+1}_a_' + metric_function.__name__: output_a})\n",
    "            stats_dict.update({f'tile{idx+1}_b_' + metric_function.__name__: output_b})\n",
    "\n",
    "    stats_list.append(stats_dict)"
   ],
   "metadata": {
    "collapsed": false,
    "pycharm": {
     "name": "#%%\n"
    }
   }
  },
  {
   "cell_type": "code",
   "execution_count": 26,
   "outputs": [],
   "source": [],
   "metadata": {
    "collapsed": false,
    "pycharm": {
     "name": "#%%\n"
    }
   }
  },
  {
   "cell_type": "code",
   "execution_count": 15,
   "outputs": [],
   "source": [],
   "metadata": {
    "collapsed": false,
    "pycharm": {
     "name": "#%%\n"
    }
   }
  },
  {
   "cell_type": "code",
   "execution_count": 16,
   "outputs": [],
   "source": [
    "import pandas as pd\n",
    "df = pd.DataFrame(stats_list)"
   ],
   "metadata": {
    "collapsed": false,
    "pycharm": {
     "name": "#%%\n"
    }
   }
  },
  {
   "cell_type": "code",
   "execution_count": 17,
   "outputs": [],
   "source": [
    "# df.columns"
   ],
   "metadata": {
    "collapsed": false,
    "pycharm": {
     "name": "#%%\n"
    }
   }
  },
  {
   "cell_type": "code",
   "execution_count": 18,
   "outputs": [
    {
     "name": "stdout",
     "output_type": "stream",
     "text": [
      "<class 'pandas.core.frame.DataFrame'>\n",
      "RangeIndex: 2 entries, 0 to 1\n",
      "Columns: 5914 entries, path to tile9_b_entropy_shannon\n",
      "dtypes: float64(5904), object(10)\n",
      "memory usage: 92.5+ KB\n"
     ]
    }
   ],
   "source": [
    "df.info()"
   ],
   "metadata": {
    "collapsed": false,
    "pycharm": {
     "name": "#%%\n"
    }
   }
  },
  {
   "cell_type": "code",
   "execution_count": 19,
   "outputs": [
    {
     "data": {
      "text/plain": "                                                path  \\\n0  C:/Users/R/PycharmProjects/Thesis_cur-AI-tor/i...   \n1  C:/Users/R/PycharmProjects/Thesis_cur-AI-tor/i...   \n\n   tile1_red_shape_Elongation  tile1_red_shape_Flatness  \\\n0                    0.925369                       0.0   \n1                    0.925369                       0.0   \n\n   tile1_red_shape_LeastAxisLength  tile1_red_shape_MajorAxisLength  \\\n0                              0.0                       154.725563   \n1                              0.0                       154.725563   \n\n   tile1_red_shape_Maximum2DDiameterColumn  \\\n0                                    124.0   \n1                                    124.0   \n\n   tile1_red_shape_Maximum2DDiameterRow  \\\n0                            181.892826   \n1                            181.892826   \n\n   tile1_red_shape_Maximum2DDiameterSlice  tile1_red_shape_Maximum3DDiameter  \\\n0                                   134.0                         181.892826   \n1                                   134.0                         181.892826   \n\n   tile1_red_shape_MeshVolume  ...  tile9_blue_pixel_intensity_mean  \\\n0                16487.166667  ...                        78.318846   \n1                16487.166667  ...                        49.071398   \n\n   tile9_l_pixel_intensity_mean  tile9_a_pixel_intensity_mean  \\\n0                    133.927441                    155.556024   \n1                    168.480592                    131.002445   \n\n   tile9_b_pixel_intensity_mean  tile9_red_entropy_shannon  \\\n0                    156.300446                   7.187950   \n1                    184.522831                   7.030413   \n\n   tile9_green_entropy_shannon  tile9_blue_entropy_shannon  \\\n0                     7.304421                    7.259593   \n1                     7.044312                    6.644477   \n\n   tile9_l_entropy_shannon  tile9_a_entropy_shannon  tile9_b_entropy_shannon  \n0                 7.015469                 6.081752                 5.683937  \n1                 6.939141                 4.344989                 4.900725  \n\n[2 rows x 5914 columns]",
      "text/html": "<div>\n<style scoped>\n    .dataframe tbody tr th:only-of-type {\n        vertical-align: middle;\n    }\n\n    .dataframe tbody tr th {\n        vertical-align: top;\n    }\n\n    .dataframe thead th {\n        text-align: right;\n    }\n</style>\n<table border=\"1\" class=\"dataframe\">\n  <thead>\n    <tr style=\"text-align: right;\">\n      <th></th>\n      <th>path</th>\n      <th>tile1_red_shape_Elongation</th>\n      <th>tile1_red_shape_Flatness</th>\n      <th>tile1_red_shape_LeastAxisLength</th>\n      <th>tile1_red_shape_MajorAxisLength</th>\n      <th>tile1_red_shape_Maximum2DDiameterColumn</th>\n      <th>tile1_red_shape_Maximum2DDiameterRow</th>\n      <th>tile1_red_shape_Maximum2DDiameterSlice</th>\n      <th>tile1_red_shape_Maximum3DDiameter</th>\n      <th>tile1_red_shape_MeshVolume</th>\n      <th>...</th>\n      <th>tile9_blue_pixel_intensity_mean</th>\n      <th>tile9_l_pixel_intensity_mean</th>\n      <th>tile9_a_pixel_intensity_mean</th>\n      <th>tile9_b_pixel_intensity_mean</th>\n      <th>tile9_red_entropy_shannon</th>\n      <th>tile9_green_entropy_shannon</th>\n      <th>tile9_blue_entropy_shannon</th>\n      <th>tile9_l_entropy_shannon</th>\n      <th>tile9_a_entropy_shannon</th>\n      <th>tile9_b_entropy_shannon</th>\n    </tr>\n  </thead>\n  <tbody>\n    <tr>\n      <th>0</th>\n      <td>C:/Users/R/PycharmProjects/Thesis_cur-AI-tor/i...</td>\n      <td>0.925369</td>\n      <td>0.0</td>\n      <td>0.0</td>\n      <td>154.725563</td>\n      <td>124.0</td>\n      <td>181.892826</td>\n      <td>134.0</td>\n      <td>181.892826</td>\n      <td>16487.166667</td>\n      <td>...</td>\n      <td>78.318846</td>\n      <td>133.927441</td>\n      <td>155.556024</td>\n      <td>156.300446</td>\n      <td>7.187950</td>\n      <td>7.304421</td>\n      <td>7.259593</td>\n      <td>7.015469</td>\n      <td>6.081752</td>\n      <td>5.683937</td>\n    </tr>\n    <tr>\n      <th>1</th>\n      <td>C:/Users/R/PycharmProjects/Thesis_cur-AI-tor/i...</td>\n      <td>0.925369</td>\n      <td>0.0</td>\n      <td>0.0</td>\n      <td>154.725563</td>\n      <td>124.0</td>\n      <td>181.892826</td>\n      <td>134.0</td>\n      <td>181.892826</td>\n      <td>16487.166667</td>\n      <td>...</td>\n      <td>49.071398</td>\n      <td>168.480592</td>\n      <td>131.002445</td>\n      <td>184.522831</td>\n      <td>7.030413</td>\n      <td>7.044312</td>\n      <td>6.644477</td>\n      <td>6.939141</td>\n      <td>4.344989</td>\n      <td>4.900725</td>\n    </tr>\n  </tbody>\n</table>\n<p>2 rows × 5914 columns</p>\n</div>"
     },
     "execution_count": 19,
     "metadata": {},
     "output_type": "execute_result"
    }
   ],
   "source": [
    "\n",
    "df.head()"
   ],
   "metadata": {
    "collapsed": false,
    "pycharm": {
     "name": "#%%\n"
    }
   }
  },
  {
   "cell_type": "code",
   "execution_count": 20,
   "outputs": [],
   "source": [
    "df.to_excel('xx.xlsx')"
   ],
   "metadata": {
    "collapsed": false,
    "pycharm": {
     "name": "#%%\n"
    }
   }
  },
  {
   "cell_type": "code",
   "execution_count": null,
   "outputs": [],
   "source": [],
   "metadata": {
    "collapsed": false,
    "pycharm": {
     "name": "#%%\n"
    }
   }
  }
 ],
 "metadata": {
  "kernelspec": {
   "name": "thesis_cur-ai-tor",
   "language": "python",
   "display_name": "Thesis_cur-AI-tor"
  },
  "language_info": {
   "codemirror_mode": {
    "name": "ipython",
    "version": 2
   },
   "file_extension": ".py",
   "mimetype": "text/x-python",
   "name": "python",
   "nbconvert_exporter": "python",
   "pygments_lexer": "ipython2",
   "version": "2.7.6"
  }
 },
 "nbformat": 4,
 "nbformat_minor": 0
}