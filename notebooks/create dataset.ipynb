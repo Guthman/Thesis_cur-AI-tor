{
 "cells": [
  {
   "cell_type": "code",
   "execution_count": 2,
   "outputs": [
    {
     "name": "stdout",
     "output_type": "stream",
     "text": [
      "done\n"
     ]
    }
   ],
   "source": [
    "import pandas as pd\n",
    "import ujson\n",
    "import glob\n",
    "from datetime import datetime\n",
    "\n",
    "print('done')"
   ],
   "metadata": {
    "collapsed": false,
    "pycharm": {
     "name": "#%%\n"
    }
   }
  },
  {
   "cell_type": "code",
   "execution_count": 87,
   "outputs": [],
   "source": [
    "# all_except_brisque_shannon_kcomplexity\n",
    "p1_path = r'F:\\temp\\thesisdata\\micro_dataset_1\\calculated_metrics\\all_except_brisque_shannon_kcomplexity'\n",
    "p1_files = [f for f in glob.glob(p1_path + '/*.*')]\n",
    "\n",
    "# entropy_k_complexity\n",
    "p2_path  = r'F:\\temp\\thesisdata\\micro_dataset_1\\calculated_metrics\\entropy_k_complexity'\n",
    "p2_files = [f for f in glob.glob(p2_path + '/*.*')]"
   ],
   "metadata": {
    "collapsed": false,
    "pycharm": {
     "name": "#%%\n"
    }
   }
  },
  {
   "cell_type": "code",
   "execution_count": 95,
   "outputs": [
    {
     "data": {
      "text/plain": "                                             contrast_rms  contrast_tenengrad  \\\nfilename                                                                        \n1008695_1008695_16575_492565-WPTALJUX-7.jpg       67.3857            0.809450   \n1020928_1020928_20375_496298-MVOEZUTF-7.jpg       48.7307            1.319754   \n1051436_1051436_17127_506738-INLFTOGF-7.jpg       60.1173            0.572882   \n1055377_1055377_18467_508857-HYTIVNMU-7.jpg       37.8333            0.791774   \n1057504_1057504_19082_509430-EKIORJVM-7.jpg       79.6164            0.831309   \n\n                                             fractal_dimension  sharpness  \\\nfilename                                                                    \n1008695_1008695_16575_492565-WPTALJUX-7.jpg           1.999658     0.6363   \n1020928_1020928_20375_496298-MVOEZUTF-7.jpg           1.997828     0.7461   \n1051436_1051436_17127_506738-INLFTOGF-7.jpg           1.999576     0.6848   \n1055377_1055377_18467_508857-HYTIVNMU-7.jpg           1.998712     0.5674   \n1057504_1057504_19082_509430-EKIORJVM-7.jpg           1.983047     0.6737   \n\n                                             sharpness_laplacian  \\\nfilename                                                           \n1008695_1008695_16575_492565-WPTALJUX-7.jpg             382.4055   \n1020928_1020928_20375_496298-MVOEZUTF-7.jpg            2754.0773   \n1051436_1051436_17127_506738-INLFTOGF-7.jpg             357.8137   \n1055377_1055377_18467_508857-HYTIVNMU-7.jpg             163.3682   \n1057504_1057504_19082_509430-EKIORJVM-7.jpg             447.3009   \n\n                                            color_dominant  colorfulness  \\\nfilename                                                                   \n1008695_1008695_16575_492565-WPTALJUX-7.jpg        dimgray       60.7760   \n1020928_1020928_20375_496298-MVOEZUTF-7.jpg        dimgray       21.2413   \n1051436_1051436_17127_506738-INLFTOGF-7.jpg        dimgray       66.6751   \n1055377_1055377_18467_508857-HYTIVNMU-7.jpg      rosybrown       70.2885   \n1057504_1057504_19082_509430-EKIORJVM-7.jpg        dimgray       41.5321   \n\n                                             pixel_intensity_mean  \\\nfilename                                                            \n1008695_1008695_16575_492565-WPTALJUX-7.jpg              111.3352   \n1020928_1020928_20375_496298-MVOEZUTF-7.jpg              101.7342   \n1051436_1051436_17127_506738-INLFTOGF-7.jpg              105.8085   \n1055377_1055377_18467_508857-HYTIVNMU-7.jpg              154.9398   \n1057504_1057504_19082_509430-EKIORJVM-7.jpg              104.2915   \n\n                                             saturation_mean  \nfilename                                                      \n1008695_1008695_16575_492565-WPTALJUX-7.jpg         134.5009  \n1020928_1020928_20375_496298-MVOEZUTF-7.jpg          45.3428  \n1051436_1051436_17127_506738-INLFTOGF-7.jpg         130.0306  \n1055377_1055377_18467_508857-HYTIVNMU-7.jpg          94.9129  \n1057504_1057504_19082_509430-EKIORJVM-7.jpg          79.6617  ",
      "text/html": "<div>\n<style scoped>\n    .dataframe tbody tr th:only-of-type {\n        vertical-align: middle;\n    }\n\n    .dataframe tbody tr th {\n        vertical-align: top;\n    }\n\n    .dataframe thead th {\n        text-align: right;\n    }\n</style>\n<table border=\"1\" class=\"dataframe\">\n  <thead>\n    <tr style=\"text-align: right;\">\n      <th></th>\n      <th>contrast_rms</th>\n      <th>contrast_tenengrad</th>\n      <th>fractal_dimension</th>\n      <th>sharpness</th>\n      <th>sharpness_laplacian</th>\n      <th>color_dominant</th>\n      <th>colorfulness</th>\n      <th>pixel_intensity_mean</th>\n      <th>saturation_mean</th>\n    </tr>\n    <tr>\n      <th>filename</th>\n      <th></th>\n      <th></th>\n      <th></th>\n      <th></th>\n      <th></th>\n      <th></th>\n      <th></th>\n      <th></th>\n      <th></th>\n    </tr>\n  </thead>\n  <tbody>\n    <tr>\n      <th>1008695_1008695_16575_492565-WPTALJUX-7.jpg</th>\n      <td>67.3857</td>\n      <td>0.809450</td>\n      <td>1.999658</td>\n      <td>0.6363</td>\n      <td>382.4055</td>\n      <td>dimgray</td>\n      <td>60.7760</td>\n      <td>111.3352</td>\n      <td>134.5009</td>\n    </tr>\n    <tr>\n      <th>1020928_1020928_20375_496298-MVOEZUTF-7.jpg</th>\n      <td>48.7307</td>\n      <td>1.319754</td>\n      <td>1.997828</td>\n      <td>0.7461</td>\n      <td>2754.0773</td>\n      <td>dimgray</td>\n      <td>21.2413</td>\n      <td>101.7342</td>\n      <td>45.3428</td>\n    </tr>\n    <tr>\n      <th>1051436_1051436_17127_506738-INLFTOGF-7.jpg</th>\n      <td>60.1173</td>\n      <td>0.572882</td>\n      <td>1.999576</td>\n      <td>0.6848</td>\n      <td>357.8137</td>\n      <td>dimgray</td>\n      <td>66.6751</td>\n      <td>105.8085</td>\n      <td>130.0306</td>\n    </tr>\n    <tr>\n      <th>1055377_1055377_18467_508857-HYTIVNMU-7.jpg</th>\n      <td>37.8333</td>\n      <td>0.791774</td>\n      <td>1.998712</td>\n      <td>0.5674</td>\n      <td>163.3682</td>\n      <td>rosybrown</td>\n      <td>70.2885</td>\n      <td>154.9398</td>\n      <td>94.9129</td>\n    </tr>\n    <tr>\n      <th>1057504_1057504_19082_509430-EKIORJVM-7.jpg</th>\n      <td>79.6164</td>\n      <td>0.831309</td>\n      <td>1.983047</td>\n      <td>0.6737</td>\n      <td>447.3009</td>\n      <td>dimgray</td>\n      <td>41.5321</td>\n      <td>104.2915</td>\n      <td>79.6617</td>\n    </tr>\n  </tbody>\n</table>\n</div>"
     },
     "execution_count": 95,
     "metadata": {},
     "output_type": "execute_result"
    }
   ],
   "source": [
    "# Load all_except_brisque_shannon_kcomplexity set\n",
    "\n",
    "l = []\n",
    "l2 = []\n",
    "for file in p1_files:\n",
    "    with open(file) as f:\n",
    "        for line in f.readlines():\n",
    "            l.append(ujson.loads(line[:-2]))\n",
    "\n",
    "for d in l:\n",
    "    filename = {'filename': list(d.keys())[0]}\n",
    "    content = list(d.values())[0]\n",
    "    content.update(filename)\n",
    "    l2.append(content)\n",
    "\n",
    "all_except_brisque_shannon_kcomplexity_df = pd.DataFrame.from_records(l2)\n",
    "all_except_brisque_shannon_kcomplexity_df = all_except_brisque_shannon_kcomplexity_df.astype({\n",
    "    'filename': 'string',\n",
    "    'saturation_mean': 'float',\n",
    "    'pixel_intensity_mean': 'float',\n",
    "    'colorfulness': 'float',\n",
    "    'color_dominant': 'string',\n",
    "    'sharpness_laplacian': 'float',\n",
    "    'sharpness': 'float',\n",
    "    'fractal_dimension': 'float',\n",
    "    'contrast_tenengrad': 'float',\n",
    "    'contrast_rms': 'float',                                                               })\n",
    "all_except_brisque_shannon_kcomplexity_df.set_index('filename', inplace=True)\n",
    "all_except_brisque_shannon_kcomplexity_df.sort_index().head()"
   ],
   "metadata": {
    "collapsed": false,
    "pycharm": {
     "name": "#%%\n"
    }
   }
  },
  {
   "cell_type": "code",
   "execution_count": 96,
   "outputs": [
    {
     "data": {
      "text/plain": "                                             entropy_shannon  k_complexity_bw  \\\nfilename                                                                        \n1008695_1008695_16575_492565-WPTALJUX-7.jpg           7.7630     4.346730e+05   \n1020928_1020928_20375_496298-MVOEZUTF-7.jpg           7.6120     1.661271e+06   \n1051436_1051436_17127_506738-INLFTOGF-7.jpg           7.8763     4.951837e+05   \n1055377_1055377_18467_508857-HYTIVNMU-7.jpg           7.1532     2.777123e+05   \n1057504_1057504_19082_509430-EKIORJVM-7.jpg           7.5459     6.821750e+05   \n\n                                             k_complexity_lab_l  \\\nfilename                                                          \n1008695_1008695_16575_492565-WPTALJUX-7.jpg        4.772460e+05   \n1020928_1020928_20375_496298-MVOEZUTF-7.jpg        1.835229e+06   \n1051436_1051436_17127_506738-INLFTOGF-7.jpg        5.476264e+05   \n1055377_1055377_18467_508857-HYTIVNMU-7.jpg        3.043892e+05   \n1057504_1057504_19082_509430-EKIORJVM-7.jpg        7.281850e+05   \n\n                                             k_complexity_lab_a  \\\nfilename                                                          \n1008695_1008695_16575_492565-WPTALJUX-7.jpg          77119.5657   \n1020928_1020928_20375_496298-MVOEZUTF-7.jpg          83299.6389   \n1051436_1051436_17127_506738-INLFTOGF-7.jpg          48080.5637   \n1055377_1055377_18467_508857-HYTIVNMU-7.jpg          23849.7105   \n1057504_1057504_19082_509430-EKIORJVM-7.jpg          65306.2023   \n\n                                             k_complexity_lab_b  \nfilename                                                         \n1008695_1008695_16575_492565-WPTALJUX-7.jpg          34669.9476  \n1020928_1020928_20375_496298-MVOEZUTF-7.jpg          23709.2733  \n1051436_1051436_17127_506738-INLFTOGF-7.jpg          60430.6833  \n1055377_1055377_18467_508857-HYTIVNMU-7.jpg          68777.4201  \n1057504_1057504_19082_509430-EKIORJVM-7.jpg          86827.0739  ",
      "text/html": "<div>\n<style scoped>\n    .dataframe tbody tr th:only-of-type {\n        vertical-align: middle;\n    }\n\n    .dataframe tbody tr th {\n        vertical-align: top;\n    }\n\n    .dataframe thead th {\n        text-align: right;\n    }\n</style>\n<table border=\"1\" class=\"dataframe\">\n  <thead>\n    <tr style=\"text-align: right;\">\n      <th></th>\n      <th>entropy_shannon</th>\n      <th>k_complexity_bw</th>\n      <th>k_complexity_lab_l</th>\n      <th>k_complexity_lab_a</th>\n      <th>k_complexity_lab_b</th>\n    </tr>\n    <tr>\n      <th>filename</th>\n      <th></th>\n      <th></th>\n      <th></th>\n      <th></th>\n      <th></th>\n    </tr>\n  </thead>\n  <tbody>\n    <tr>\n      <th>1008695_1008695_16575_492565-WPTALJUX-7.jpg</th>\n      <td>7.7630</td>\n      <td>4.346730e+05</td>\n      <td>4.772460e+05</td>\n      <td>77119.5657</td>\n      <td>34669.9476</td>\n    </tr>\n    <tr>\n      <th>1020928_1020928_20375_496298-MVOEZUTF-7.jpg</th>\n      <td>7.6120</td>\n      <td>1.661271e+06</td>\n      <td>1.835229e+06</td>\n      <td>83299.6389</td>\n      <td>23709.2733</td>\n    </tr>\n    <tr>\n      <th>1051436_1051436_17127_506738-INLFTOGF-7.jpg</th>\n      <td>7.8763</td>\n      <td>4.951837e+05</td>\n      <td>5.476264e+05</td>\n      <td>48080.5637</td>\n      <td>60430.6833</td>\n    </tr>\n    <tr>\n      <th>1055377_1055377_18467_508857-HYTIVNMU-7.jpg</th>\n      <td>7.1532</td>\n      <td>2.777123e+05</td>\n      <td>3.043892e+05</td>\n      <td>23849.7105</td>\n      <td>68777.4201</td>\n    </tr>\n    <tr>\n      <th>1057504_1057504_19082_509430-EKIORJVM-7.jpg</th>\n      <td>7.5459</td>\n      <td>6.821750e+05</td>\n      <td>7.281850e+05</td>\n      <td>65306.2023</td>\n      <td>86827.0739</td>\n    </tr>\n  </tbody>\n</table>\n</div>"
     },
     "execution_count": 96,
     "metadata": {},
     "output_type": "execute_result"
    }
   ],
   "source": [
    "# Load entropy_k_complexity set\n",
    "\n",
    "l = []\n",
    "l2 = []\n",
    "for file in p2_files:\n",
    "    with open(file) as f:\n",
    "        for line in f.readlines():\n",
    "            l.append(ujson.loads(line[:-2]))\n",
    "\n",
    "for d in l:\n",
    "    filename = {'filename': list(d.keys())[0]}\n",
    "    content = list(d.values())[0]\n",
    "    content.update(filename)\n",
    "    l2.append(content)\n",
    "\n",
    "entropy_k_complexity = pd.DataFrame.from_records(l2)\n",
    "entropy_k_complexity = entropy_k_complexity.astype({\n",
    "    'filename': 'string',\n",
    "    'k_complexity_lab_b': 'float',\n",
    "    'k_complexity_lab_a': 'float',\n",
    "    'k_complexity_lab_l': 'float',\n",
    "    'k_complexity_bw': 'float',\n",
    "    'entropy_shannon': 'float'                                                          })\n",
    "entropy_k_complexity.set_index('filename', inplace=True)\n",
    "entropy_k_complexity.sort_index().head()"
   ],
   "metadata": {
    "collapsed": false,
    "pycharm": {
     "name": "#%%\n"
    }
   }
  },
  {
   "cell_type": "code",
   "execution_count": 83,
   "outputs": [],
   "source": [],
   "metadata": {
    "collapsed": false,
    "pycharm": {
     "name": "#%%\n"
    }
   }
  },
  {
   "cell_type": "code",
   "execution_count": 97,
   "outputs": [
    {
     "data": {
      "text/plain": "                                              contrast_rms  \\\nfilename                                                     \n1094877_1094877_32154_521312-7.jpg                 25.5735   \n1328268_1328268_174157_616403-ISKAPGMI-7.jpg       40.9625   \n1406786_1406786_272116_669162-HTHITOSJ-7.jpg       75.5479   \n1438735_1438735_32555_696596-7.jpg                 55.0539   \n1485961_1485961_298407_725407-JAVQNWUN-7.jpg       47.2385   \n\n                                              contrast_tenengrad  \\\nfilename                                                           \n1094877_1094877_32154_521312-7.jpg                      0.954610   \n1328268_1328268_174157_616403-ISKAPGMI-7.jpg            0.932984   \n1406786_1406786_272116_669162-HTHITOSJ-7.jpg            2.205625   \n1438735_1438735_32555_696596-7.jpg                      0.772807   \n1485961_1485961_298407_725407-JAVQNWUN-7.jpg            0.480240   \n\n                                              fractal_dimension  sharpness  \\\nfilename                                                                     \n1094877_1094877_32154_521312-7.jpg                     2.000518     0.7954   \n1328268_1328268_174157_616403-ISKAPGMI-7.jpg           1.999064     0.2307   \n1406786_1406786_272116_669162-HTHITOSJ-7.jpg           1.999891     0.6432   \n1438735_1438735_32555_696596-7.jpg                     2.000918     0.6650   \n1485961_1485961_298407_725407-JAVQNWUN-7.jpg           2.000298     0.6038   \n\n                                              sharpness_laplacian  \\\nfilename                                                            \n1094877_1094877_32154_521312-7.jpg                      1429.6275   \n1328268_1328268_174157_616403-ISKAPGMI-7.jpg             107.9961   \n1406786_1406786_272116_669162-HTHITOSJ-7.jpg            2848.3024   \n1438735_1438735_32555_696596-7.jpg                       461.1573   \n1485961_1485961_298407_725407-JAVQNWUN-7.jpg             248.3113   \n\n                                             color_dominant  colorfulness  \\\nfilename                                                                    \n1094877_1094877_32154_521312-7.jpg            darkslategray       61.6906   \n1328268_1328268_174157_616403-ISKAPGMI-7.jpg      steelblue       94.0636   \n1406786_1406786_272116_669162-HTHITOSJ-7.jpg      rosybrown       49.4423   \n1438735_1438735_32555_696596-7.jpg                  dimgray       57.9317   \n1485961_1485961_298407_725407-JAVQNWUN-7.jpg        dimgray       53.9887   \n\n                                              pixel_intensity_mean  \\\nfilename                                                             \n1094877_1094877_32154_521312-7.jpg                         60.3282   \n1328268_1328268_174157_616403-ISKAPGMI-7.jpg              102.1731   \n1406786_1406786_272116_669162-HTHITOSJ-7.jpg              160.2091   \n1438735_1438735_32555_696596-7.jpg                        105.7938   \n1485961_1485961_298407_725407-JAVQNWUN-7.jpg              109.7125   \n\n                                              saturation_mean  \\\nfilename                                                        \n1094877_1094877_32154_521312-7.jpg                    73.5998   \n1328268_1328268_174157_616403-ISKAPGMI-7.jpg         157.3986   \n1406786_1406786_272116_669162-HTHITOSJ-7.jpg          67.1480   \n1438735_1438735_32555_696596-7.jpg                   123.2073   \n1485961_1485961_298407_725407-JAVQNWUN-7.jpg          81.1866   \n\n                                              entropy_shannon  \\\nfilename                                                        \n1094877_1094877_32154_521312-7.jpg                     6.5046   \n1328268_1328268_174157_616403-ISKAPGMI-7.jpg           7.8175   \n1406786_1406786_272116_669162-HTHITOSJ-7.jpg           7.5661   \n1438735_1438735_32555_696596-7.jpg                     7.7108   \n1485961_1485961_298407_725407-JAVQNWUN-7.jpg           7.3888   \n\n                                              k_complexity_bw  \\\nfilename                                                        \n1094877_1094877_32154_521312-7.jpg               5.698186e+05   \n1328268_1328268_174157_616403-ISKAPGMI-7.jpg     3.124300e+05   \n1406786_1406786_272116_669162-HTHITOSJ-7.jpg     1.017755e+06   \n1438735_1438735_32555_696596-7.jpg               5.016855e+05   \n1485961_1485961_298407_725407-JAVQNWUN-7.jpg     3.435423e+05   \n\n                                              k_complexity_lab_l  \\\nfilename                                                           \n1094877_1094877_32154_521312-7.jpg                   603878.9939   \n1328268_1328268_174157_616403-ISKAPGMI-7.jpg         405246.6438   \n1406786_1406786_272116_669162-HTHITOSJ-7.jpg         934194.5434   \n1438735_1438735_32555_696596-7.jpg                   581816.2243   \n1485961_1485961_298407_725407-JAVQNWUN-7.jpg         415842.3023   \n\n                                              k_complexity_lab_a  \\\nfilename                                                           \n1094877_1094877_32154_521312-7.jpg                    73484.7845   \n1328268_1328268_174157_616403-ISKAPGMI-7.jpg          37327.1155   \n1406786_1406786_272116_669162-HTHITOSJ-7.jpg         133207.4473   \n1438735_1438735_32555_696596-7.jpg                    63044.6675   \n1485961_1485961_298407_725407-JAVQNWUN-7.jpg          63812.3451   \n\n                                              k_complexity_lab_b  \nfilename                                                          \n1094877_1094877_32154_521312-7.jpg                    38460.6710  \n1328268_1328268_174157_616403-ISKAPGMI-7.jpg          33414.6252  \n1406786_1406786_272116_669162-HTHITOSJ-7.jpg          97299.0720  \n1438735_1438735_32555_696596-7.jpg                    72367.2713  \n1485961_1485961_298407_725407-JAVQNWUN-7.jpg          51757.0777  ",
      "text/html": "<div>\n<style scoped>\n    .dataframe tbody tr th:only-of-type {\n        vertical-align: middle;\n    }\n\n    .dataframe tbody tr th {\n        vertical-align: top;\n    }\n\n    .dataframe thead th {\n        text-align: right;\n    }\n</style>\n<table border=\"1\" class=\"dataframe\">\n  <thead>\n    <tr style=\"text-align: right;\">\n      <th></th>\n      <th>contrast_rms</th>\n      <th>contrast_tenengrad</th>\n      <th>fractal_dimension</th>\n      <th>sharpness</th>\n      <th>sharpness_laplacian</th>\n      <th>color_dominant</th>\n      <th>colorfulness</th>\n      <th>pixel_intensity_mean</th>\n      <th>saturation_mean</th>\n      <th>entropy_shannon</th>\n      <th>k_complexity_bw</th>\n      <th>k_complexity_lab_l</th>\n      <th>k_complexity_lab_a</th>\n      <th>k_complexity_lab_b</th>\n    </tr>\n    <tr>\n      <th>filename</th>\n      <th></th>\n      <th></th>\n      <th></th>\n      <th></th>\n      <th></th>\n      <th></th>\n      <th></th>\n      <th></th>\n      <th></th>\n      <th></th>\n      <th></th>\n      <th></th>\n      <th></th>\n      <th></th>\n    </tr>\n  </thead>\n  <tbody>\n    <tr>\n      <th>1094877_1094877_32154_521312-7.jpg</th>\n      <td>25.5735</td>\n      <td>0.954610</td>\n      <td>2.000518</td>\n      <td>0.7954</td>\n      <td>1429.6275</td>\n      <td>darkslategray</td>\n      <td>61.6906</td>\n      <td>60.3282</td>\n      <td>73.5998</td>\n      <td>6.5046</td>\n      <td>5.698186e+05</td>\n      <td>603878.9939</td>\n      <td>73484.7845</td>\n      <td>38460.6710</td>\n    </tr>\n    <tr>\n      <th>1328268_1328268_174157_616403-ISKAPGMI-7.jpg</th>\n      <td>40.9625</td>\n      <td>0.932984</td>\n      <td>1.999064</td>\n      <td>0.2307</td>\n      <td>107.9961</td>\n      <td>steelblue</td>\n      <td>94.0636</td>\n      <td>102.1731</td>\n      <td>157.3986</td>\n      <td>7.8175</td>\n      <td>3.124300e+05</td>\n      <td>405246.6438</td>\n      <td>37327.1155</td>\n      <td>33414.6252</td>\n    </tr>\n    <tr>\n      <th>1406786_1406786_272116_669162-HTHITOSJ-7.jpg</th>\n      <td>75.5479</td>\n      <td>2.205625</td>\n      <td>1.999891</td>\n      <td>0.6432</td>\n      <td>2848.3024</td>\n      <td>rosybrown</td>\n      <td>49.4423</td>\n      <td>160.2091</td>\n      <td>67.1480</td>\n      <td>7.5661</td>\n      <td>1.017755e+06</td>\n      <td>934194.5434</td>\n      <td>133207.4473</td>\n      <td>97299.0720</td>\n    </tr>\n    <tr>\n      <th>1438735_1438735_32555_696596-7.jpg</th>\n      <td>55.0539</td>\n      <td>0.772807</td>\n      <td>2.000918</td>\n      <td>0.6650</td>\n      <td>461.1573</td>\n      <td>dimgray</td>\n      <td>57.9317</td>\n      <td>105.7938</td>\n      <td>123.2073</td>\n      <td>7.7108</td>\n      <td>5.016855e+05</td>\n      <td>581816.2243</td>\n      <td>63044.6675</td>\n      <td>72367.2713</td>\n    </tr>\n    <tr>\n      <th>1485961_1485961_298407_725407-JAVQNWUN-7.jpg</th>\n      <td>47.2385</td>\n      <td>0.480240</td>\n      <td>2.000298</td>\n      <td>0.6038</td>\n      <td>248.3113</td>\n      <td>dimgray</td>\n      <td>53.9887</td>\n      <td>109.7125</td>\n      <td>81.1866</td>\n      <td>7.3888</td>\n      <td>3.435423e+05</td>\n      <td>415842.3023</td>\n      <td>63812.3451</td>\n      <td>51757.0777</td>\n    </tr>\n  </tbody>\n</table>\n</div>"
     },
     "execution_count": 97,
     "metadata": {},
     "output_type": "execute_result"
    }
   ],
   "source": [
    "subset_list = [all_except_brisque_shannon_kcomplexity_df, entropy_k_complexity]\n",
    "df = pd.concat(subset_list, axis=1)\n",
    "# df.set_index('filename', inplace=True)\n",
    "df.head()"
   ],
   "metadata": {
    "collapsed": false,
    "pycharm": {
     "name": "#%%\n"
    }
   }
  },
  {
   "cell_type": "code",
   "execution_count": 86,
   "outputs": [
    {
     "name": "stdout",
     "output_type": "stream",
     "text": [
      "<class 'pandas.core.frame.DataFrame'>\n",
      "Index: 30446 entries, 1094877_1094877_32154_521312-7.jpg to 8424818_8424818_1637405_7489035-XCPBOJDT-7.jpg\n",
      "Data columns (total 14 columns):\n",
      " #   Column                Non-Null Count  Dtype  \n",
      "---  ------                --------------  -----  \n",
      " 0   contrast_rms          15223 non-null  float64\n",
      " 1   contrast_tenengrad    15223 non-null  float64\n",
      " 2   fractal_dimension     15223 non-null  float64\n",
      " 3   sharpness             15223 non-null  float64\n",
      " 4   sharpness_laplacian   15223 non-null  float64\n",
      " 5   color_dominant        15223 non-null  string \n",
      " 6   colorfulness          15223 non-null  float64\n",
      " 7   pixel_intensity_mean  15223 non-null  float64\n",
      " 8   saturation_mean       15223 non-null  float64\n",
      " 9   entropy_shannon       15223 non-null  float64\n",
      " 10  k_complexity_bw       15223 non-null  float64\n",
      " 11  k_complexity_lab_l    15223 non-null  float64\n",
      " 12  k_complexity_lab_a    15223 non-null  float64\n",
      " 13  k_complexity_lab_b    15223 non-null  float64\n",
      "dtypes: float64(13), string(1)\n",
      "memory usage: 3.5+ MB\n"
     ]
    }
   ],
   "source": [
    "df.info()"
   ],
   "metadata": {
    "collapsed": false,
    "pycharm": {
     "name": "#%%\n"
    }
   }
  },
  {
   "cell_type": "code",
   "execution_count": 102,
   "outputs": [],
   "source": [
    "df.reset_index().to_feather(\n",
    "    f'../cur-AI-tor v{str(datetime.now()).replace(\":\", \"_\")}.feather')"
   ],
   "metadata": {
    "collapsed": false,
    "pycharm": {
     "name": "#%%\n"
    }
   }
  },
  {
   "cell_type": "code",
   "execution_count": 4,
   "outputs": [
    {
     "name": "stdout",
     "output_type": "stream",
     "text": [
      "<class 'pandas.core.frame.DataFrame'>\n",
      "RangeIndex: 15223 entries, 0 to 15222\n",
      "Data columns (total 15 columns):\n",
      " #   Column                Non-Null Count  Dtype  \n",
      "---  ------                --------------  -----  \n",
      " 0   filename              15223 non-null  object \n",
      " 1   contrast_rms          15223 non-null  float64\n",
      " 2   contrast_tenengrad    15223 non-null  float64\n",
      " 3   fractal_dimension     15223 non-null  float64\n",
      " 4   sharpness             15223 non-null  float64\n",
      " 5   sharpness_laplacian   15223 non-null  float64\n",
      " 6   color_dominant        15223 non-null  string \n",
      " 7   colorfulness          15223 non-null  float64\n",
      " 8   pixel_intensity_mean  15223 non-null  float64\n",
      " 9   saturation_mean       15223 non-null  float64\n",
      " 10  entropy_shannon       15223 non-null  float64\n",
      " 11  k_complexity_bw       15223 non-null  float64\n",
      " 12  k_complexity_lab_l    15223 non-null  float64\n",
      " 13  k_complexity_lab_a    15223 non-null  float64\n",
      " 14  k_complexity_lab_b    15223 non-null  float64\n",
      "dtypes: float64(13), object(1), string(1)\n",
      "memory usage: 1.7+ MB\n"
     ]
    }
   ],
   "source": [
    "dff = pd.read_feather(r'C:\\Users\\R\\PycharmProjects\\Thesis_cur-AI-tor\\cur-AI-tor v2021-05-05 23_26_56.822304.feather')\n",
    "dff.info()"
   ],
   "metadata": {
    "collapsed": false,
    "pycharm": {
     "name": "#%%\n"
    }
   }
  },
  {
   "cell_type": "code",
   "execution_count": null,
   "outputs": [],
   "source": [],
   "metadata": {
    "collapsed": false,
    "pycharm": {
     "name": "#%%\n"
    }
   }
  },
  {
   "cell_type": "code",
   "execution_count": null,
   "outputs": [],
   "source": [],
   "metadata": {
    "collapsed": false,
    "pycharm": {
     "name": "#%%\n"
    }
   }
  }
 ],
 "metadata": {
  "kernelspec": {
   "name": "thesis_cur-ai-tor",
   "language": "python",
   "display_name": "Thesis_cur-AI-tor"
  },
  "language_info": {
   "codemirror_mode": {
    "name": "ipython",
    "version": 2
   },
   "file_extension": ".py",
   "mimetype": "text/x-python",
   "name": "python",
   "nbconvert_exporter": "python",
   "pygments_lexer": "ipython2",
   "version": "2.7.6"
  }
 },
 "nbformat": 4,
 "nbformat_minor": 0
}