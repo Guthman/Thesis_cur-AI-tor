{
 "cells": [
  {
   "cell_type": "code",
   "execution_count": 1,
   "outputs": [],
   "source": [
    "import pandas as pd\n",
    "from pathlib import Path\n",
    "import shutil\n",
    "import numpy as np\n",
    "import traceback\n",
    "import ujson as json\n",
    "import umap\n",
    "import hdbscan\n",
    "import pickle\n",
    "import glob\n",
    "from tqdm.auto import tqdm"
   ],
   "metadata": {
    "collapsed": false,
    "pycharm": {
     "name": "#%%\n"
    }
   }
  },
  {
   "cell_type": "code",
   "execution_count": 4,
   "outputs": [],
   "source": [
    "# load ResNet activations\n",
    "df_x = pd.read_csv(r'E:\\temp\\thesisdata\\saatchi_micro_engineered_resnet.csv', index_col=0)\n",
    "# df_x.head()\n",
    "X = df_x.values"
   ],
   "metadata": {
    "collapsed": false,
    "pycharm": {
     "name": "#%%\n"
    }
   }
  },
  {
   "cell_type": "code",
   "execution_count": 5,
   "outputs": [],
   "source": [],
   "metadata": {
    "collapsed": false,
    "pycharm": {
     "name": "#%%\n"
    }
   }
  },
  {
   "cell_type": "code",
   "execution_count": 9,
   "outputs": [],
   "source": [
    "def create_embedding(data: np.array,\n",
    "                     n_neighbors: int,\n",
    "                     n_components: int,\n",
    "                     metric: str = 'euclidean',\n",
    "                     full_dataset: bool = False):\n",
    "\n",
    "    if full_dataset:\n",
    "        filename_prefix = 'macro_all_'\n",
    "    else:\n",
    "        filename_prefix = 'micro_all_'\n",
    "\n",
    "    embedding_filename = Path(f'{filename_prefix}embedding_{n_neighbors}_{n_components}_{metric}.pkl')\n",
    "\n",
    "    if embedding_filename.is_file():\n",
    "        with open(embedding_filename, 'rb') as f:\n",
    "            clusterable_embedding_ = pickle.load(f)\n",
    "\n",
    "    else:\n",
    "        clusterable_embedding_ = umap.UMAP(\n",
    "            n_neighbors=n_neighbors,\n",
    "            min_dist=0.0,\n",
    "            n_components=n_components,\n",
    "            metric=metric,\n",
    "            random_state=3,\n",
    "        ).fit_transform(X)\n",
    "        with open(embedding_filename, 'wb') as f:\n",
    "            pickle.dump(clusterable_embedding_, f)\n",
    "    return clusterable_embedding_\n",
    "\n",
    "def get_clusters(clusterable_embedding_):\n",
    "    clusterer = hdbscan.HDBSCAN(min_cluster_size=250,\n",
    "                                prediction_data=True).fit(clusterable_embedding_)\n",
    "    soft_clusters_ = hdbscan.all_points_membership_vectors(clusterer)\n",
    "    return soft_clusters_"
   ],
   "metadata": {
    "collapsed": false,
    "pycharm": {
     "name": "#%%\n"
    }
   }
  },
  {
   "cell_type": "code",
   "execution_count": null,
   "outputs": [],
   "source": [],
   "metadata": {
    "collapsed": false,
    "pycharm": {
     "name": "#%%\n"
    }
   }
  },
  {
   "cell_type": "code",
   "execution_count": 17,
   "outputs": [
    {
     "data": {
      "text/plain": "                                                class\n4612763_4612763_1071830_3682599-NRIWFPCP-7.jpg      1\n6482875_6482875_242833_5552553-BVGPYMOP-7.jpg       1\n7809282_7809282_850193_6877217-PUYOGUKK-7.jpg       1\n6660719_6660719_91068_5730385-ZDZKMEVJ-7.jpg        1\n7935829_7935829_1667681_7003425-VZVCGCKM-7.jpg      1",
      "text/html": "<div>\n<style scoped>\n    .dataframe tbody tr th:only-of-type {\n        vertical-align: middle;\n    }\n\n    .dataframe tbody tr th {\n        vertical-align: top;\n    }\n\n    .dataframe thead th {\n        text-align: right;\n    }\n</style>\n<table border=\"1\" class=\"dataframe\">\n  <thead>\n    <tr style=\"text-align: right;\">\n      <th></th>\n      <th>class</th>\n    </tr>\n  </thead>\n  <tbody>\n    <tr>\n      <th>4612763_4612763_1071830_3682599-NRIWFPCP-7.jpg</th>\n      <td>1</td>\n    </tr>\n    <tr>\n      <th>6482875_6482875_242833_5552553-BVGPYMOP-7.jpg</th>\n      <td>1</td>\n    </tr>\n    <tr>\n      <th>7809282_7809282_850193_6877217-PUYOGUKK-7.jpg</th>\n      <td>1</td>\n    </tr>\n    <tr>\n      <th>6660719_6660719_91068_5730385-ZDZKMEVJ-7.jpg</th>\n      <td>1</td>\n    </tr>\n    <tr>\n      <th>7935829_7935829_1667681_7003425-VZVCGCKM-7.jpg</th>\n      <td>1</td>\n    </tr>\n  </tbody>\n</table>\n</div>"
     },
     "execution_count": 17,
     "metadata": {},
     "output_type": "execute_result"
    }
   ],
   "source": [
    "clusterable_embedding = create_embedding(data=X, n_neighbors=250, n_components=20, metric='euclidean')\n",
    "soft_clusters = get_clusters(clusterable_embedding)\n",
    "class_labels = [preds.argmax() for preds in soft_clusters]\n",
    "df_x_ = df_x.copy()\n",
    "df_x_['class'] = class_labels\n",
    "df_x_ = df_x_[['class']]\n",
    "df_x_.head()"
   ],
   "metadata": {
    "collapsed": false,
    "pycharm": {
     "name": "#%%\n"
    }
   }
  },
  {
   "cell_type": "code",
   "execution_count": 18,
   "outputs": [
    {
     "data": {
      "text/plain": "class\n1        13108\n0         1729\ndtype: int64"
     },
     "execution_count": 18,
     "metadata": {},
     "output_type": "execute_result"
    }
   ],
   "source": [
    "df_x_.value_counts()"
   ],
   "metadata": {
    "collapsed": false,
    "pycharm": {
     "name": "#%%\n"
    }
   }
  },
  {
   "cell_type": "code",
   "execution_count": 19,
   "outputs": [
    {
     "data": {
      "text/plain": "2"
     },
     "execution_count": 19,
     "metadata": {},
     "output_type": "execute_result"
    }
   ],
   "source": [
    "len(df_x_.value_counts())\n"
   ],
   "metadata": {
    "collapsed": false,
    "pycharm": {
     "name": "#%%\n"
    }
   }
  },
  {
   "cell_type": "code",
   "execution_count": null,
   "outputs": [],
   "source": [
    "class_labels"
   ],
   "metadata": {
    "collapsed": false,
    "pycharm": {
     "name": "#%%\n"
    }
   }
  },
  {
   "cell_type": "code",
   "execution_count": 12,
   "outputs": [],
   "source": [
    "# Load metadata etc\n",
    "df_x_.to_csv('saatchi_micro_umap_hdbscan_clustering_test6.csv')\n",
    "filenames_and_labels = 'saatchi_micro_umap_hdbscan_clustering_test6.csv'\n",
    "target_column_name = 'class'\n",
    "image_input_folder = r'E:\\temp\\thesisdata\\micro_dataset1'\n",
    "image_output_folder = r'E:\\temp\\thesisdata\\umap_hdbscan_test6'\n",
    "size_ = 128\n",
    "image_count_per_class = 1000000\n",
    "\n",
    "# Load target data\n",
    "targets_df = pd.read_csv(filenames_and_labels, index_col=0)\n",
    "\n",
    "# Remove unnecessary columns\n",
    "for col in targets_df.columns:\n",
    "    if col != target_column_name:\n",
    "        targets_df.drop(col, axis=1, inplace=True)\n",
    "\n",
    "# Remove duplicates\n",
    "targets_df = pd.DataFrame(targets_df.reset_index().\n",
    "                          drop_duplicates(subset=['index'])).set_index('index')"
   ],
   "metadata": {
    "collapsed": false,
    "pycharm": {
     "name": "#%%\n"
    }
   }
  },
  {
   "cell_type": "code",
   "execution_count": 13,
   "outputs": [],
   "source": [
    "def resize_pad_crop_image(input_path: str, output_path: str):\n",
    "    input_path_ = Path(input_path)\n",
    "    output_path_ = Path(output_path)\n",
    "    filename = input_path_.name\n",
    "\n",
    "    assert input_path_.is_file()\n",
    "    assert output_path_.is_dir(), print('Supplied output path is not a directory:' + output_path_.__str__())\n",
    "\n",
    "    if input_path_.stat().st_size > 0:\n",
    "        pass\n",
    "    else:\n",
    "        print(f'Filesize is 0, skipping file: {input_path_}')\n",
    "        return\n",
    "\n",
    "    full_output_path = output_path_ / filename\n",
    "    shutil.copy(input_path, full_output_path)"
   ],
   "metadata": {
    "collapsed": false,
    "pycharm": {
     "name": "#%%\n"
    }
   }
  },
  {
   "cell_type": "code",
   "execution_count": 13,
   "outputs": [],
   "source": [],
   "metadata": {
    "collapsed": false,
    "pycharm": {
     "name": "#%%\n"
    }
   }
  },
  {
   "cell_type": "code",
   "execution_count": 14,
   "outputs": [],
   "source": [
    "# Create list with unique class labels\n",
    "label_folder_list = list(np.unique(targets_df[target_column_name].values))\n",
    "counter = {k: 0 for k in label_folder_list}\n",
    "\n",
    "# Create the folders\n",
    "for folder in label_folder_list:\n",
    "    Path(image_output_folder + '/' + str(folder)).mkdir(parents=True, exist_ok=True)"
   ],
   "metadata": {
    "collapsed": false,
    "pycharm": {
     "name": "#%%\n"
    }
   }
  },
  {
   "cell_type": "code",
   "execution_count": 15,
   "outputs": [],
   "source": [
    "def run(file):\n",
    "    filename = None\n",
    "    try:\n",
    "        if all(count >= image_count_per_class for count in counter.values()):\n",
    "            return\n",
    "        else:\n",
    "            filename = Path(file).name\n",
    "            label = targets_df.loc[filename][target_column_name]\n",
    "            if counter[label] < image_count_per_class:\n",
    "                image_output_folder_with_label = image_output_folder + '\\\\' + str(label)\n",
    "                resize_pad_crop_image(file, image_output_folder_with_label)\n",
    "                counter.update({label: counter[label] + 1})\n",
    "    except KeyError:\n",
    "        print(f'Label not found for file {file}, skipping!')\n",
    "    except OSError:\n",
    "        if filename is None:\n",
    "            filename = file\n",
    "        print(f'Skipping file {filename} due to OSError encountered: {traceback.format_exc()}, skipping!')"
   ],
   "metadata": {
    "collapsed": false,
    "pycharm": {
     "name": "#%%\n"
    }
   }
  },
  {
   "cell_type": "code",
   "execution_count": 16,
   "outputs": [
    {
     "name": "stdout",
     "output_type": "stream",
     "text": [
      "15223\n"
     ]
    },
    {
     "data": {
      "text/plain": "  0%|          | 0/15223 [00:00<?, ?it/s]",
      "application/vnd.jupyter.widget-view+json": {
       "version_major": 2,
       "version_minor": 0,
       "model_id": "99bacba76e564c9a8a5fc44352be804c"
      }
     },
     "metadata": {},
     "output_type": "display_data"
    },
    {
     "name": "stdout",
     "output_type": "stream",
     "text": [
      "Label not found for file E:\\temp\\thesisdata\\micro_dataset1\\1547202_1547202_94551_765468-LZWIQDAT-7.jpg, skipping!\n",
      "Label not found for file E:\\temp\\thesisdata\\micro_dataset1\\1731405_1731405_418125_902453-7.jpg, skipping!\n",
      "Label not found for file E:\\temp\\thesisdata\\micro_dataset1\\1784136_1784136_429365_938803-RTKASPON-7.jpg, skipping!\n",
      "Label not found for file E:\\temp\\thesisdata\\micro_dataset1\\1832502_1832502_417160_974813-7.jpg, skipping!\n",
      "Label not found for file E:\\temp\\thesisdata\\micro_dataset1\\1859947_1859947_412755_1005410-7.jpg, skipping!\n",
      "Label not found for file E:\\temp\\thesisdata\\micro_dataset1\\1954361_1954361_344984_1084835-7.jpg, skipping!\n",
      "Label not found for file E:\\temp\\thesisdata\\micro_dataset1\\1976000_1976000_79335_1101883-MDDWHZHO-7.jpg, skipping!\n",
      "Label not found for file E:\\temp\\thesisdata\\micro_dataset1\\1979804_1979804_206047_1104895-HCCBMDXV-7.jpg, skipping!\n",
      "Label not found for file E:\\temp\\thesisdata\\micro_dataset1\\2062029_2062029_680195_1171969-7.jpg, skipping!\n",
      "Label not found for file E:\\temp\\thesisdata\\micro_dataset1\\2073906_2073906_3021_1191830-AEURVXIK-7.jpg, skipping!\n",
      "Label not found for file E:\\temp\\thesisdata\\micro_dataset1\\2077690_2077690_293334_1186434-7.jpg, skipping!\n",
      "Label not found for file E:\\temp\\thesisdata\\micro_dataset1\\2149541_2149541_51091_1245911-EFLEEWUJ-7.jpg, skipping!\n",
      "Label not found for file E:\\temp\\thesisdata\\micro_dataset1\\2188984_2188984_481136_1267681-7.jpg, skipping!\n",
      "Label not found for file E:\\temp\\thesisdata\\micro_dataset1\\2197413_2197413_144695_1275270-7.jpg, skipping!\n",
      "Label not found for file E:\\temp\\thesisdata\\micro_dataset1\\2206184_2206184_417160_1282139-7.jpg, skipping!\n",
      "Label not found for file E:\\temp\\thesisdata\\micro_dataset1\\2217767_2217767_707355_1293029-PNPYUTFK-7.jpg, skipping!\n",
      "Label not found for file E:\\temp\\thesisdata\\micro_dataset1\\2224766_2224766_195372_1300021-PUITSCKU-7.jpg, skipping!\n",
      "Label not found for file E:\\temp\\thesisdata\\micro_dataset1\\2224843_2224843_284518_1300098-FCMUOVUV-7.jpg, skipping!\n",
      "Label not found for file E:\\temp\\thesisdata\\micro_dataset1\\2225549_2225549_337260_1300803-7.jpg, skipping!\n",
      "Label not found for file E:\\temp\\thesisdata\\micro_dataset1\\2225909_2225909_541143_1301162-7.jpg, skipping!\n",
      "Label not found for file E:\\temp\\thesisdata\\micro_dataset1\\2227532_2227532_398986_1302782-NWFDYEYF-7.jpg, skipping!\n",
      "Label not found for file E:\\temp\\thesisdata\\micro_dataset1\\2227584_2227584_571222_1302834-7.jpg, skipping!\n",
      "Label not found for file E:\\temp\\thesisdata\\micro_dataset1\\2227918_2227918_314786_1303168-ZVTQCBTN-7.jpg, skipping!\n",
      "Label not found for file E:\\temp\\thesisdata\\micro_dataset1\\2227932_2227932_314786_1303182-EDWAXCFB-7.jpg, skipping!\n",
      "Label not found for file E:\\temp\\thesisdata\\micro_dataset1\\2229425_2229425_708731_1304674-UPHGVNIK-7.jpg, skipping!\n",
      "Label not found for file E:\\temp\\thesisdata\\micro_dataset1\\2230620_2230620_409301_1305865-GZLDCCBA-7.jpg, skipping!\n",
      "Label not found for file E:\\temp\\thesisdata\\micro_dataset1\\2231070_2231070_556722_1306314-AHHWTKJZ-7.jpg, skipping!\n",
      "Label not found for file E:\\temp\\thesisdata\\micro_dataset1\\2231417_2231417_661446_1306662-7.jpg, skipping!\n",
      "Label not found for file E:\\temp\\thesisdata\\micro_dataset1\\2231738_2231738_700215_1306983-7.jpg, skipping!\n",
      "Label not found for file E:\\temp\\thesisdata\\micro_dataset1\\2234396_2234396_56756_1309634-7.jpg, skipping!\n",
      "Label not found for file E:\\temp\\thesisdata\\micro_dataset1\\2234620_2234620_412927_1309858-PFKYPDRA-7.jpg, skipping!\n",
      "Label not found for file E:\\temp\\thesisdata\\micro_dataset1\\2309324_2309324_692636_1384451-7.jpg, skipping!\n",
      "Label not found for file E:\\temp\\thesisdata\\micro_dataset1\\2461581_2461581_428011_1531597-QKOZEQYA-7.jpg, skipping!\n",
      "Label not found for file E:\\temp\\thesisdata\\micro_dataset1\\2514713_2514713_431311_1584681-JIMAKHRY-7.jpg, skipping!\n",
      "Label not found for file E:\\temp\\thesisdata\\micro_dataset1\\2559074_2559074_770217_1628999-GJAHRZPW-7.jpg, skipping!\n",
      "Label not found for file E:\\temp\\thesisdata\\micro_dataset1\\2608348_2608348_773187_1678241-QEQKYQSW-7.jpg, skipping!\n",
      "Label not found for file E:\\temp\\thesisdata\\micro_dataset1\\2608859_2608859_773187_1678752-NUNDPGEM-7.jpg, skipping!\n",
      "Label not found for file E:\\temp\\thesisdata\\micro_dataset1\\2617692_2617692_780067_1687585-MHEPFTHO-7.jpg, skipping!\n",
      "Label not found for file E:\\temp\\thesisdata\\micro_dataset1\\2639400_2639400_779078_1709293-ULLUNAKK-7.jpg, skipping!\n",
      "Label not found for file E:\\temp\\thesisdata\\micro_dataset1\\2832533_2832533_12463_1902426-TTCDOTXP-7.jpg, skipping!\n",
      "Label not found for file E:\\temp\\thesisdata\\micro_dataset1\\2871862_2871862_809133_1941755-RQNGYWNY-7.jpg, skipping!\n",
      "Label not found for file E:\\temp\\thesisdata\\micro_dataset1\\2872204_2872204_325290_1942097-FFDZADJJ-7.jpg, skipping!\n",
      "Label not found for file E:\\temp\\thesisdata\\micro_dataset1\\2873077_2873077_698945_1942970-ZINZVRZE-7.jpg, skipping!\n",
      "Label not found for file E:\\temp\\thesisdata\\micro_dataset1\\2873436_2873436_426628_1943329-PULSHPOU-7.jpg, skipping!\n",
      "Label not found for file E:\\temp\\thesisdata\\micro_dataset1\\2873787_2873787_670600_1943680-GVGNULBW-7.jpg, skipping!\n",
      "Label not found for file E:\\temp\\thesisdata\\micro_dataset1\\2874316_2874316_386130_1944209-WTYTGMST-7.jpg, skipping!\n",
      "Label not found for file E:\\temp\\thesisdata\\micro_dataset1\\2875283_2875283_619969_1945176-DWRUUGGG-7.jpg, skipping!\n",
      "Label not found for file E:\\temp\\thesisdata\\micro_dataset1\\2875793_2875793_310360_1945686-WXGCWTCM-7.jpg, skipping!\n",
      "Label not found for file E:\\temp\\thesisdata\\micro_dataset1\\2875813_2875813_524246_1945706-GGKGCUFX-7.jpg, skipping!\n",
      "Label not found for file E:\\temp\\thesisdata\\micro_dataset1\\2876540_2876540_426258_1946433-YVBNLUAP-7.jpg, skipping!\n",
      "Label not found for file E:\\temp\\thesisdata\\micro_dataset1\\2876890_2876890_826153_1946783-EAGIMUPU-7.jpg, skipping!\n",
      "Label not found for file E:\\temp\\thesisdata\\micro_dataset1\\2876949_2876949_667348_1946842-OJAWVWZI-7.jpg, skipping!\n",
      "Label not found for file E:\\temp\\thesisdata\\micro_dataset1\\2877272_2877272_314818_1947165-XLEMONQQ-7.jpg, skipping!\n",
      "Label not found for file E:\\temp\\thesisdata\\micro_dataset1\\2877295_2877295_47189_1947188-VNPXYMOC-7.jpg, skipping!\n",
      "Label not found for file E:\\temp\\thesisdata\\micro_dataset1\\2877539_2877539_826626_1947432-MTSTRPTR-7.jpg, skipping!\n",
      "Label not found for file E:\\temp\\thesisdata\\micro_dataset1\\2877984_2877984_751531_1947877-OWRLXYMC-7.jpg, skipping!\n",
      "Label not found for file E:\\temp\\thesisdata\\micro_dataset1\\2879750_2879750_286282_1949643-GLANSEGY-7.jpg, skipping!\n",
      "Label not found for file E:\\temp\\thesisdata\\micro_dataset1\\2881600_2881600_427160_1951493-OSYABJWZ-7.jpg, skipping!\n",
      "Label not found for file E:\\temp\\thesisdata\\micro_dataset1\\2882250_2882250_328288_1952143-UGSJHMQX-7.jpg, skipping!\n",
      "Label not found for file E:\\temp\\thesisdata\\micro_dataset1\\2883465_2883465_554845_1953358-YGGDOQWW-7.jpg, skipping!\n",
      "Label not found for file E:\\temp\\thesisdata\\micro_dataset1\\2883477_2883477_766873_1953370-XYBPSQQX-7.jpg, skipping!\n",
      "Label not found for file E:\\temp\\thesisdata\\micro_dataset1\\2883588_2883588_827247_1953481-AOYDFUSQ-7.jpg, skipping!\n",
      "Label not found for file E:\\temp\\thesisdata\\micro_dataset1\\2949498_2949498_426229_2019391-MAENZRTM-7.jpg, skipping!\n",
      "Label not found for file E:\\temp\\thesisdata\\micro_dataset1\\3034248_3034248_849566_2104141-AYTJXTJB-7.jpg, skipping!\n",
      "Label not found for file E:\\temp\\thesisdata\\micro_dataset1\\3076356_3076356_686090_2146249-CZMTHXLB-7.jpg, skipping!\n",
      "Label not found for file E:\\temp\\thesisdata\\micro_dataset1\\3234692_3234692_890500_2304579-ZNROPPFE-7.jpg, skipping!\n",
      "Label not found for file E:\\temp\\thesisdata\\micro_dataset1\\3261980_3261980_346779_2331867-DXCQGDDP-7.jpg, skipping!\n",
      "Label not found for file E:\\temp\\thesisdata\\micro_dataset1\\3264540_3264540_651579_2334427-SIBLFKOP-7.jpg, skipping!\n",
      "Label not found for file E:\\temp\\thesisdata\\micro_dataset1\\3268217_3268217_729975_2338104-GEWSXBBD-7.jpg, skipping!\n",
      "Label not found for file E:\\temp\\thesisdata\\micro_dataset1\\3300840_3300840_299847_2370727-OCBSEFJN-7.jpg, skipping!\n",
      "Label not found for file E:\\temp\\thesisdata\\micro_dataset1\\3329789_3329789_871801_2399676-YVOTCQNS-7.jpg, skipping!\n",
      "Label not found for file E:\\temp\\thesisdata\\micro_dataset1\\3358436_3358436_676020_2428323-YSWQFYIQ-7.jpg, skipping!\n",
      "Label not found for file E:\\temp\\thesisdata\\micro_dataset1\\3373308_3373308_716818_2443195-OYNJBUJL-7.jpg, skipping!\n",
      "Label not found for file E:\\temp\\thesisdata\\micro_dataset1\\3400323_3400323_160916_2470210-WFHMUODP-7.jpg, skipping!\n",
      "Label not found for file E:\\temp\\thesisdata\\micro_dataset1\\3463105_3463105_921810_2532992-VTJEDVFM-7.jpg, skipping!\n",
      "Label not found for file E:\\temp\\thesisdata\\micro_dataset1\\3465872_3465872_890081_2535759-IMNZTLRH-7.jpg, skipping!\n",
      "Label not found for file E:\\temp\\thesisdata\\micro_dataset1\\3466536_3466536_907483_2536423-MRPSVDFP-7.jpg, skipping!\n",
      "Label not found for file E:\\temp\\thesisdata\\micro_dataset1\\3466544_3466544_680155_2536431-WRTEAWUI-7.jpg, skipping!\n",
      "Label not found for file E:\\temp\\thesisdata\\micro_dataset1\\3466566_3466566_558853_2536453-CEPNBFZP-7.jpg, skipping!\n",
      "Label not found for file E:\\temp\\thesisdata\\micro_dataset1\\3466847_3466847_700045_2536734-FBGEMZQE-7.jpg, skipping!\n",
      "Label not found for file E:\\temp\\thesisdata\\micro_dataset1\\3467161_3467161_94881_2537048-XYXPKMPN-7.jpg, skipping!\n",
      "Label not found for file E:\\temp\\thesisdata\\micro_dataset1\\3468170_3468170_568846_2538057-FIKNQAVR-7.jpg, skipping!\n",
      "Label not found for file E:\\temp\\thesisdata\\micro_dataset1\\3469931_3469931_892417_2539818-OQTVFMVV-7.jpg, skipping!\n",
      "Label not found for file E:\\temp\\thesisdata\\micro_dataset1\\3470509_3470509_517587_2540396-CDDQJMQY-7.jpg, skipping!\n",
      "Label not found for file E:\\temp\\thesisdata\\micro_dataset1\\3471742_3471742_938778_2541629-KZJWWEAE-7.jpg, skipping!\n",
      "Label not found for file E:\\temp\\thesisdata\\micro_dataset1\\3472469_3472469_890003_2542356-XAMAOGVC-7.jpg, skipping!\n",
      "Label not found for file E:\\temp\\thesisdata\\micro_dataset1\\3472796_3472796_928736_2542683-GSDFCYRQ-7.jpg, skipping!\n",
      "Label not found for file E:\\temp\\thesisdata\\micro_dataset1\\3472799_3472799_389887_2542686-TZDKQWZZ-7.jpg, skipping!\n",
      "Label not found for file E:\\temp\\thesisdata\\micro_dataset1\\3473295_3473295_885497_2543182-FXQJPKWJ-7.jpg, skipping!\n",
      "Label not found for file E:\\temp\\thesisdata\\micro_dataset1\\3473619_3473619_393373_2543506-EGLBBWQA-7.jpg, skipping!\n",
      "Label not found for file E:\\temp\\thesisdata\\micro_dataset1\\3474456_3474456_199662_2544343-UNMJQMZN-7.jpg, skipping!\n",
      "Label not found for file E:\\temp\\thesisdata\\micro_dataset1\\3474468_3474468_939408_2544355-ZFRTEBII-7.jpg, skipping!\n",
      "Label not found for file E:\\temp\\thesisdata\\micro_dataset1\\3474671_3474671_532778_2544558-XFVGXQSA-7.jpg, skipping!\n",
      "Label not found for file E:\\temp\\thesisdata\\micro_dataset1\\3521094_3521094_948346_2590981-UWARTCHW-7.jpg, skipping!\n",
      "Label not found for file E:\\temp\\thesisdata\\micro_dataset1\\3557784_3557784_95962_2627670-CJMPCKJH-7.jpg, skipping!\n",
      "Label not found for file E:\\temp\\thesisdata\\micro_dataset1\\3599545_3599545_737634_2669431-TQPJFGZJ-7.jpg, skipping!\n",
      "Label not found for file E:\\temp\\thesisdata\\micro_dataset1\\3600650_3600650_959726_2670536-NWVALLCI-7.jpg, skipping!\n",
      "Label not found for file E:\\temp\\thesisdata\\micro_dataset1\\3628480_3628480_770803_2698365-VPLNHFEN-7.jpg, skipping!\n",
      "Label not found for file E:\\temp\\thesisdata\\micro_dataset1\\3630883_3630883_288153_2700768-VGMYQNNC-7.jpg, skipping!\n",
      "Label not found for file E:\\temp\\thesisdata\\micro_dataset1\\3728387_3728387_927919_2798271-ONRXKIJM-7.jpg, skipping!\n",
      "Label not found for file E:\\temp\\thesisdata\\micro_dataset1\\3761077_3761077_664392_2830961-VHACXSMT-7.jpg, skipping!\n",
      "Label not found for file E:\\temp\\thesisdata\\micro_dataset1\\37840_37840_3202_36293-7.jpg, skipping!\n",
      "Label not found for file E:\\temp\\thesisdata\\micro_dataset1\\3862295_3862295_653952_2932178-JDPBQQVL-7.jpg, skipping!\n",
      "Label not found for file E:\\temp\\thesisdata\\micro_dataset1\\3867755_3867755_942651_2937638-JOYGWWYM-7.jpg, skipping!\n"
     ]
    },
    {
     "ename": "KeyboardInterrupt",
     "evalue": "",
     "output_type": "error",
     "traceback": [
      "\u001B[1;31m---------------------------------------------------------------------------\u001B[0m",
      "\u001B[1;31mKeyboardInterrupt\u001B[0m                         Traceback (most recent call last)",
      "\u001B[1;32m<ipython-input-16-f842c47ac7ca>\u001B[0m in \u001B[0;36m<module>\u001B[1;34m\u001B[0m\n\u001B[0;32m      2\u001B[0m \u001B[0mprint\u001B[0m\u001B[1;33m(\u001B[0m\u001B[0mlen\u001B[0m\u001B[1;33m(\u001B[0m\u001B[0mfilelist\u001B[0m\u001B[1;33m)\u001B[0m\u001B[1;33m)\u001B[0m\u001B[1;33m\u001B[0m\u001B[1;33m\u001B[0m\u001B[0m\n\u001B[0;32m      3\u001B[0m \u001B[1;32mfor\u001B[0m \u001B[0mfile\u001B[0m \u001B[1;32min\u001B[0m \u001B[0mtqdm\u001B[0m\u001B[1;33m(\u001B[0m\u001B[0mfilelist\u001B[0m\u001B[1;33m)\u001B[0m\u001B[1;33m:\u001B[0m\u001B[1;33m\u001B[0m\u001B[1;33m\u001B[0m\u001B[0m\n\u001B[1;32m----> 4\u001B[1;33m     \u001B[0mrun\u001B[0m\u001B[1;33m(\u001B[0m\u001B[0mfile\u001B[0m\u001B[1;33m)\u001B[0m\u001B[1;33m\u001B[0m\u001B[1;33m\u001B[0m\u001B[0m\n\u001B[0m",
      "\u001B[1;32m<ipython-input-15-fd9a9c1425c9>\u001B[0m in \u001B[0;36mrun\u001B[1;34m(file)\u001B[0m\n\u001B[0;32m      9\u001B[0m             \u001B[1;32mif\u001B[0m \u001B[0mcounter\u001B[0m\u001B[1;33m[\u001B[0m\u001B[0mlabel\u001B[0m\u001B[1;33m]\u001B[0m \u001B[1;33m<\u001B[0m \u001B[0mimage_count_per_class\u001B[0m\u001B[1;33m:\u001B[0m\u001B[1;33m\u001B[0m\u001B[1;33m\u001B[0m\u001B[0m\n\u001B[0;32m     10\u001B[0m                 \u001B[0mimage_output_folder_with_label\u001B[0m \u001B[1;33m=\u001B[0m \u001B[0mimage_output_folder\u001B[0m \u001B[1;33m+\u001B[0m \u001B[1;34m'\\\\'\u001B[0m \u001B[1;33m+\u001B[0m \u001B[0mstr\u001B[0m\u001B[1;33m(\u001B[0m\u001B[0mlabel\u001B[0m\u001B[1;33m)\u001B[0m\u001B[1;33m\u001B[0m\u001B[1;33m\u001B[0m\u001B[0m\n\u001B[1;32m---> 11\u001B[1;33m                 \u001B[0mresize_pad_crop_image\u001B[0m\u001B[1;33m(\u001B[0m\u001B[0mfile\u001B[0m\u001B[1;33m,\u001B[0m \u001B[0mimage_output_folder_with_label\u001B[0m\u001B[1;33m)\u001B[0m\u001B[1;33m\u001B[0m\u001B[1;33m\u001B[0m\u001B[0m\n\u001B[0m\u001B[0;32m     12\u001B[0m                 \u001B[0mcounter\u001B[0m\u001B[1;33m.\u001B[0m\u001B[0mupdate\u001B[0m\u001B[1;33m(\u001B[0m\u001B[1;33m{\u001B[0m\u001B[0mlabel\u001B[0m\u001B[1;33m:\u001B[0m \u001B[0mcounter\u001B[0m\u001B[1;33m[\u001B[0m\u001B[0mlabel\u001B[0m\u001B[1;33m]\u001B[0m \u001B[1;33m+\u001B[0m \u001B[1;36m1\u001B[0m\u001B[1;33m}\u001B[0m\u001B[1;33m)\u001B[0m\u001B[1;33m\u001B[0m\u001B[1;33m\u001B[0m\u001B[0m\n\u001B[0;32m     13\u001B[0m     \u001B[1;32mexcept\u001B[0m \u001B[0mKeyError\u001B[0m\u001B[1;33m:\u001B[0m\u001B[1;33m\u001B[0m\u001B[1;33m\u001B[0m\u001B[0m\n",
      "\u001B[1;32m<ipython-input-13-f6d3039dc45e>\u001B[0m in \u001B[0;36mresize_pad_crop_image\u001B[1;34m(input_path, output_path)\u001B[0m\n\u001B[0;32m     14\u001B[0m \u001B[1;33m\u001B[0m\u001B[0m\n\u001B[0;32m     15\u001B[0m     \u001B[0mfull_output_path\u001B[0m \u001B[1;33m=\u001B[0m \u001B[0moutput_path_\u001B[0m \u001B[1;33m/\u001B[0m \u001B[0mfilename\u001B[0m\u001B[1;33m\u001B[0m\u001B[1;33m\u001B[0m\u001B[0m\n\u001B[1;32m---> 16\u001B[1;33m     \u001B[0mshutil\u001B[0m\u001B[1;33m.\u001B[0m\u001B[0mcopy\u001B[0m\u001B[1;33m(\u001B[0m\u001B[0minput_path\u001B[0m\u001B[1;33m,\u001B[0m \u001B[0mfull_output_path\u001B[0m\u001B[1;33m)\u001B[0m\u001B[1;33m\u001B[0m\u001B[1;33m\u001B[0m\u001B[0m\n\u001B[0m\u001B[0;32m     17\u001B[0m \u001B[1;33m\u001B[0m\u001B[0m\n",
      "\u001B[1;32m~\\Anaconda3\\envs\\Thesis_cur-AI-tor\\lib\\shutil.py\u001B[0m in \u001B[0;36mcopy\u001B[1;34m(src, dst, follow_symlinks)\u001B[0m\n\u001B[0;32m    416\u001B[0m     \u001B[1;32mif\u001B[0m \u001B[0mos\u001B[0m\u001B[1;33m.\u001B[0m\u001B[0mpath\u001B[0m\u001B[1;33m.\u001B[0m\u001B[0misdir\u001B[0m\u001B[1;33m(\u001B[0m\u001B[0mdst\u001B[0m\u001B[1;33m)\u001B[0m\u001B[1;33m:\u001B[0m\u001B[1;33m\u001B[0m\u001B[1;33m\u001B[0m\u001B[0m\n\u001B[0;32m    417\u001B[0m         \u001B[0mdst\u001B[0m \u001B[1;33m=\u001B[0m \u001B[0mos\u001B[0m\u001B[1;33m.\u001B[0m\u001B[0mpath\u001B[0m\u001B[1;33m.\u001B[0m\u001B[0mjoin\u001B[0m\u001B[1;33m(\u001B[0m\u001B[0mdst\u001B[0m\u001B[1;33m,\u001B[0m \u001B[0mos\u001B[0m\u001B[1;33m.\u001B[0m\u001B[0mpath\u001B[0m\u001B[1;33m.\u001B[0m\u001B[0mbasename\u001B[0m\u001B[1;33m(\u001B[0m\u001B[0msrc\u001B[0m\u001B[1;33m)\u001B[0m\u001B[1;33m)\u001B[0m\u001B[1;33m\u001B[0m\u001B[1;33m\u001B[0m\u001B[0m\n\u001B[1;32m--> 418\u001B[1;33m     \u001B[0mcopyfile\u001B[0m\u001B[1;33m(\u001B[0m\u001B[0msrc\u001B[0m\u001B[1;33m,\u001B[0m \u001B[0mdst\u001B[0m\u001B[1;33m,\u001B[0m \u001B[0mfollow_symlinks\u001B[0m\u001B[1;33m=\u001B[0m\u001B[0mfollow_symlinks\u001B[0m\u001B[1;33m)\u001B[0m\u001B[1;33m\u001B[0m\u001B[1;33m\u001B[0m\u001B[0m\n\u001B[0m\u001B[0;32m    419\u001B[0m     \u001B[0mcopymode\u001B[0m\u001B[1;33m(\u001B[0m\u001B[0msrc\u001B[0m\u001B[1;33m,\u001B[0m \u001B[0mdst\u001B[0m\u001B[1;33m,\u001B[0m \u001B[0mfollow_symlinks\u001B[0m\u001B[1;33m=\u001B[0m\u001B[0mfollow_symlinks\u001B[0m\u001B[1;33m)\u001B[0m\u001B[1;33m\u001B[0m\u001B[1;33m\u001B[0m\u001B[0m\n\u001B[0;32m    420\u001B[0m     \u001B[1;32mreturn\u001B[0m \u001B[0mdst\u001B[0m\u001B[1;33m\u001B[0m\u001B[1;33m\u001B[0m\u001B[0m\n",
      "\u001B[1;32m~\\Anaconda3\\envs\\Thesis_cur-AI-tor\\lib\\shutil.py\u001B[0m in \u001B[0;36mcopyfile\u001B[1;34m(src, dst, follow_symlinks)\u001B[0m\n\u001B[0;32m    262\u001B[0m         \u001B[0mos\u001B[0m\u001B[1;33m.\u001B[0m\u001B[0msymlink\u001B[0m\u001B[1;33m(\u001B[0m\u001B[0mos\u001B[0m\u001B[1;33m.\u001B[0m\u001B[0mreadlink\u001B[0m\u001B[1;33m(\u001B[0m\u001B[0msrc\u001B[0m\u001B[1;33m)\u001B[0m\u001B[1;33m,\u001B[0m \u001B[0mdst\u001B[0m\u001B[1;33m)\u001B[0m\u001B[1;33m\u001B[0m\u001B[1;33m\u001B[0m\u001B[0m\n\u001B[0;32m    263\u001B[0m     \u001B[1;32melse\u001B[0m\u001B[1;33m:\u001B[0m\u001B[1;33m\u001B[0m\u001B[1;33m\u001B[0m\u001B[0m\n\u001B[1;32m--> 264\u001B[1;33m         \u001B[1;32mwith\u001B[0m \u001B[0mopen\u001B[0m\u001B[1;33m(\u001B[0m\u001B[0msrc\u001B[0m\u001B[1;33m,\u001B[0m \u001B[1;34m'rb'\u001B[0m\u001B[1;33m)\u001B[0m \u001B[1;32mas\u001B[0m \u001B[0mfsrc\u001B[0m\u001B[1;33m,\u001B[0m \u001B[0mopen\u001B[0m\u001B[1;33m(\u001B[0m\u001B[0mdst\u001B[0m\u001B[1;33m,\u001B[0m \u001B[1;34m'wb'\u001B[0m\u001B[1;33m)\u001B[0m \u001B[1;32mas\u001B[0m \u001B[0mfdst\u001B[0m\u001B[1;33m:\u001B[0m\u001B[1;33m\u001B[0m\u001B[1;33m\u001B[0m\u001B[0m\n\u001B[0m\u001B[0;32m    265\u001B[0m             \u001B[1;31m# macOS\u001B[0m\u001B[1;33m\u001B[0m\u001B[1;33m\u001B[0m\u001B[1;33m\u001B[0m\u001B[0m\n\u001B[0;32m    266\u001B[0m             \u001B[1;32mif\u001B[0m \u001B[0m_HAS_FCOPYFILE\u001B[0m\u001B[1;33m:\u001B[0m\u001B[1;33m\u001B[0m\u001B[1;33m\u001B[0m\u001B[0m\n",
      "\u001B[1;31mKeyboardInterrupt\u001B[0m: "
     ]
    }
   ],
   "source": [
    "filelist = glob.glob(image_input_folder + '*/*')\n",
    "print(len(filelist))\n",
    "for file in tqdm(filelist):\n",
    "    run(file)"
   ],
   "metadata": {
    "collapsed": false,
    "pycharm": {
     "name": "#%%\n"
    }
   }
  },
  {
   "cell_type": "code",
   "execution_count": 36,
   "metadata": {
    "collapsed": true
   },
   "outputs": [
    {
     "data": {
      "text/plain": "                    0           1    x\n0                   a           b    c\n1  db_credentials.txt  embeddings  for",
      "text/html": "<div>\n<style scoped>\n    .dataframe tbody tr th:only-of-type {\n        vertical-align: middle;\n    }\n\n    .dataframe tbody tr th {\n        vertical-align: top;\n    }\n\n    .dataframe thead th {\n        text-align: right;\n    }\n</style>\n<table border=\"1\" class=\"dataframe\">\n  <thead>\n    <tr style=\"text-align: right;\">\n      <th></th>\n      <th>0</th>\n      <th>1</th>\n      <th>x</th>\n    </tr>\n  </thead>\n  <tbody>\n    <tr>\n      <th>0</th>\n      <td>a</td>\n      <td>b</td>\n      <td>c</td>\n    </tr>\n    <tr>\n      <th>1</th>\n      <td>db_credentials.txt</td>\n      <td>embeddings</td>\n      <td>for</td>\n    </tr>\n  </tbody>\n</table>\n</div>"
     },
     "execution_count": 36,
     "metadata": {},
     "output_type": "execute_result"
    }
   ],
   "source": [
    "l = [['a', 'b', 'c'], ['db_credentials.txt', 'embeddings', 'for']]\n",
    "df = pd.DataFrame(l)\n",
    "df.columns = [0, 1, 'x']\n",
    "df"
   ]
  },
  {
   "cell_type": "code",
   "execution_count": 37,
   "outputs": [
    {
     "data": {
      "text/plain": "     x\n0    c\n1  for",
      "text/html": "<div>\n<style scoped>\n    .dataframe tbody tr th:only-of-type {\n        vertical-align: middle;\n    }\n\n    .dataframe tbody tr th {\n        vertical-align: top;\n    }\n\n    .dataframe thead th {\n        text-align: right;\n    }\n</style>\n<table border=\"1\" class=\"dataframe\">\n  <thead>\n    <tr style=\"text-align: right;\">\n      <th></th>\n      <th>x</th>\n    </tr>\n  </thead>\n  <tbody>\n    <tr>\n      <th>0</th>\n      <td>c</td>\n    </tr>\n    <tr>\n      <th>1</th>\n      <td>for</td>\n    </tr>\n  </tbody>\n</table>\n</div>"
     },
     "execution_count": 37,
     "metadata": {},
     "output_type": "execute_result"
    }
   ],
   "source": [
    "for col in df.columns:\n",
    "    if type(col) == int:\n",
    "        df.drop(col, axis=1, inplace=True)\n",
    "df"
   ],
   "metadata": {
    "collapsed": false,
    "pycharm": {
     "name": "#%%\n"
    }
   }
  },
  {
   "cell_type": "code",
   "execution_count": null,
   "outputs": [],
   "source": [],
   "metadata": {
    "collapsed": false,
    "pycharm": {
     "name": "#%%\n"
    }
   }
  }
 ],
 "metadata": {
  "kernelspec": {
   "display_name": "Python 3",
   "language": "python",
   "name": "python3"
  },
  "language_info": {
   "codemirror_mode": {
    "name": "ipython",
    "version": 2
   },
   "file_extension": ".py",
   "mimetype": "text/x-python",
   "name": "python",
   "nbconvert_exporter": "python",
   "pygments_lexer": "ipython2",
   "version": "2.7.6"
  }
 },
 "nbformat": 4,
 "nbformat_minor": 0
}