{
 "cells": [
  {
   "cell_type": "code",
   "execution_count": 3,
   "metadata": {
    "collapsed": true
   },
   "outputs": [],
   "source": [
    "import pandas as pd\n",
    "from sklearn.preprocessing import RobustScaler"
   ]
  },
  {
   "cell_type": "code",
   "execution_count": 4,
   "outputs": [],
   "source": [
    "# Load x data\n",
    "df_metrics = pd.read_csv('all_metrics_macro_test.csv')\n",
    "# df_metrics = pd.read_csv('\"$TMPDIR\"/all_metrics_macro.csv')\n",
    "# df_metrics.drop_duplicates(subset='path', inplace=True)\n",
    "# df_metrics.info()\n",
    "# df_metrics.describe()"
   ],
   "metadata": {
    "collapsed": false,
    "pycharm": {
     "name": "#%%\n"
    }
   }
  },
  {
   "cell_type": "code",
   "execution_count": 5,
   "outputs": [
    {
     "data": {
      "text/plain": "   red_firstorder_10percentile  red_firstorder_90percentile  \\\n0                     1.356522                     0.613636   \n1                     1.443478                     0.295455   \n2                     0.591304                    -0.477273   \n3                     0.208696                     0.090909   \n4                     0.973913                     0.659091   \n\n   red_firstorder_energy  red_firstorder_entropy  \\\n0               0.927372                0.099378   \n1               0.937687               -0.325725   \n2               0.194688               -0.429726   \n3               0.392851                0.361851   \n4               1.505253               -0.826406   \n\n   red_firstorder_interquartilerange  red_firstorder_kurtosis  \\\n0                          -0.217687                 0.434140   \n1                          -0.489796                 1.762046   \n2                          -0.489796                 0.671872   \n3                          -0.204082                 0.545374   \n4                          -0.707483                 2.185289   \n\n   red_firstorder_maximum  red_firstorder_meanabsolutedeviation  \\\n0                     0.0                             -0.375943   \n1                     0.0                             -0.601003   \n2                    -7.0                             -0.522350   \n3                     0.0                             -0.067024   \n4                     0.0                             -0.285061   \n\n   red_firstorder_mean  red_firstorder_median  ...  a_pixel_intensity_mean  \\\n0             0.872739               0.564103  ...                0.684069   \n1             0.902755               0.705128  ...                1.036424   \n2             0.323011               0.346154  ...               -0.436605   \n3             0.397021               0.397436  ...                0.254441   \n4             1.217472               1.089744  ...               -0.032224   \n\n   b_pixel_intensity_mean  red_entropy_shannon  green_entropy_shannon  \\\n0                0.063399             0.111293               0.325043   \n1               -0.181575            -0.127445               0.345986   \n2               -0.351879            -0.216042              -0.185059   \n3                0.481222             0.412059               0.669208   \n4                0.116256            -0.553627              -0.408653   \n\n   blue_entropy_shannon  l_entropy_shannon  a_entropy_shannon  \\\n0              0.272772           0.070137           0.363416   \n1              0.219925           0.125344           0.419040   \n2             -0.094798          -0.227769          -0.940039   \n3              0.669286           0.476246           0.688056   \n4             -0.274026          -0.518962          -0.685152   \n\n   b_entropy_shannon                                            path  \\\n0           0.201262   8293656_8293656_297532_7358648-EPKBGPHU-7.jpg   \n1          -0.735323  8293657_8293657_1727713_7358649-KDEBGUZM-7.jpg   \n2          -0.835660  8293764_8293764_1755398_7358756-SVSUTBEP-7.jpg   \n3           0.183431  8293790_8293790_1024196_7358782-PTCAWMAY-7.jpg   \n4          -0.980845  8293950_8293950_1188099_7358941-EBECKIPS-7.jpg   \n\n   color_dominant  \n0        darkgray  \n1        darkgray  \n2        darkgray  \n3  lightslategray  \n4          silver  \n\n[5 rows x 616 columns]",
      "text/html": "<div>\n<style scoped>\n    .dataframe tbody tr th:only-of-type {\n        vertical-align: middle;\n    }\n\n    .dataframe tbody tr th {\n        vertical-align: top;\n    }\n\n    .dataframe thead th {\n        text-align: right;\n    }\n</style>\n<table border=\"1\" class=\"dataframe\">\n  <thead>\n    <tr style=\"text-align: right;\">\n      <th></th>\n      <th>red_firstorder_10percentile</th>\n      <th>red_firstorder_90percentile</th>\n      <th>red_firstorder_energy</th>\n      <th>red_firstorder_entropy</th>\n      <th>red_firstorder_interquartilerange</th>\n      <th>red_firstorder_kurtosis</th>\n      <th>red_firstorder_maximum</th>\n      <th>red_firstorder_meanabsolutedeviation</th>\n      <th>red_firstorder_mean</th>\n      <th>red_firstorder_median</th>\n      <th>...</th>\n      <th>a_pixel_intensity_mean</th>\n      <th>b_pixel_intensity_mean</th>\n      <th>red_entropy_shannon</th>\n      <th>green_entropy_shannon</th>\n      <th>blue_entropy_shannon</th>\n      <th>l_entropy_shannon</th>\n      <th>a_entropy_shannon</th>\n      <th>b_entropy_shannon</th>\n      <th>path</th>\n      <th>color_dominant</th>\n    </tr>\n  </thead>\n  <tbody>\n    <tr>\n      <th>0</th>\n      <td>1.356522</td>\n      <td>0.613636</td>\n      <td>0.927372</td>\n      <td>0.099378</td>\n      <td>-0.217687</td>\n      <td>0.434140</td>\n      <td>0.0</td>\n      <td>-0.375943</td>\n      <td>0.872739</td>\n      <td>0.564103</td>\n      <td>...</td>\n      <td>0.684069</td>\n      <td>0.063399</td>\n      <td>0.111293</td>\n      <td>0.325043</td>\n      <td>0.272772</td>\n      <td>0.070137</td>\n      <td>0.363416</td>\n      <td>0.201262</td>\n      <td>8293656_8293656_297532_7358648-EPKBGPHU-7.jpg</td>\n      <td>darkgray</td>\n    </tr>\n    <tr>\n      <th>1</th>\n      <td>1.443478</td>\n      <td>0.295455</td>\n      <td>0.937687</td>\n      <td>-0.325725</td>\n      <td>-0.489796</td>\n      <td>1.762046</td>\n      <td>0.0</td>\n      <td>-0.601003</td>\n      <td>0.902755</td>\n      <td>0.705128</td>\n      <td>...</td>\n      <td>1.036424</td>\n      <td>-0.181575</td>\n      <td>-0.127445</td>\n      <td>0.345986</td>\n      <td>0.219925</td>\n      <td>0.125344</td>\n      <td>0.419040</td>\n      <td>-0.735323</td>\n      <td>8293657_8293657_1727713_7358649-KDEBGUZM-7.jpg</td>\n      <td>darkgray</td>\n    </tr>\n    <tr>\n      <th>2</th>\n      <td>0.591304</td>\n      <td>-0.477273</td>\n      <td>0.194688</td>\n      <td>-0.429726</td>\n      <td>-0.489796</td>\n      <td>0.671872</td>\n      <td>-7.0</td>\n      <td>-0.522350</td>\n      <td>0.323011</td>\n      <td>0.346154</td>\n      <td>...</td>\n      <td>-0.436605</td>\n      <td>-0.351879</td>\n      <td>-0.216042</td>\n      <td>-0.185059</td>\n      <td>-0.094798</td>\n      <td>-0.227769</td>\n      <td>-0.940039</td>\n      <td>-0.835660</td>\n      <td>8293764_8293764_1755398_7358756-SVSUTBEP-7.jpg</td>\n      <td>darkgray</td>\n    </tr>\n    <tr>\n      <th>3</th>\n      <td>0.208696</td>\n      <td>0.090909</td>\n      <td>0.392851</td>\n      <td>0.361851</td>\n      <td>-0.204082</td>\n      <td>0.545374</td>\n      <td>0.0</td>\n      <td>-0.067024</td>\n      <td>0.397021</td>\n      <td>0.397436</td>\n      <td>...</td>\n      <td>0.254441</td>\n      <td>0.481222</td>\n      <td>0.412059</td>\n      <td>0.669208</td>\n      <td>0.669286</td>\n      <td>0.476246</td>\n      <td>0.688056</td>\n      <td>0.183431</td>\n      <td>8293790_8293790_1024196_7358782-PTCAWMAY-7.jpg</td>\n      <td>lightslategray</td>\n    </tr>\n    <tr>\n      <th>4</th>\n      <td>0.973913</td>\n      <td>0.659091</td>\n      <td>1.505253</td>\n      <td>-0.826406</td>\n      <td>-0.707483</td>\n      <td>2.185289</td>\n      <td>0.0</td>\n      <td>-0.285061</td>\n      <td>1.217472</td>\n      <td>1.089744</td>\n      <td>...</td>\n      <td>-0.032224</td>\n      <td>0.116256</td>\n      <td>-0.553627</td>\n      <td>-0.408653</td>\n      <td>-0.274026</td>\n      <td>-0.518962</td>\n      <td>-0.685152</td>\n      <td>-0.980845</td>\n      <td>8293950_8293950_1188099_7358941-EBECKIPS-7.jpg</td>\n      <td>silver</td>\n    </tr>\n  </tbody>\n</table>\n<p>5 rows × 616 columns</p>\n</div>"
     },
     "execution_count": 5,
     "metadata": {},
     "output_type": "execute_result"
    }
   ],
   "source": [
    "# Scale x data\n",
    "x = df_metrics.drop(['path', 'color_dominant'], axis=1).values\n",
    "x_i = df_metrics['path']\n",
    "x_d = df_metrics['color_dominant']\n",
    "min_max_scaler = RobustScaler()\n",
    "x_scaled = min_max_scaler.fit_transform(x)\n",
    "\n",
    "columns = list(df_metrics.columns)\n",
    "columns.remove('path')\n",
    "columns.remove('color_dominant')\n",
    "df_metrics = pd.DataFrame(x_scaled, columns=columns)\n",
    "df_metrics['path'] = x_i\n",
    "df_metrics['color_dominant'] = x_d\n",
    "\n",
    "# df_metrics.describe()\n",
    "df_metrics.head()"
   ],
   "metadata": {
    "collapsed": false,
    "pycharm": {
     "name": "#%%\n"
    }
   }
  },
  {
   "cell_type": "code",
   "execution_count": 5,
   "outputs": [],
   "source": [],
   "metadata": {
    "collapsed": false,
    "pycharm": {
     "name": "#%%\n"
    }
   }
  },
  {
   "cell_type": "code",
   "execution_count": 6,
   "outputs": [
    {
     "data": {
      "text/plain": "                           FILENAME  PRICE_BIN_IDX  LIKES_VIEWS_RATIO_BIN_IDX\n0   1436943_1436943_85_695409-7.jpg              4                          0\n1  1274662_1274662_419_577785-7.jpg              4                          0\n2  1300633_1300633_183_596137-7.jpg              4                          0\n3  1396299_1396299_211_667936-7.jpg              4                          0\n4  1397657_1397657_771_665998-7.jpg              2                          0",
      "text/html": "<div>\n<style scoped>\n    .dataframe tbody tr th:only-of-type {\n        vertical-align: middle;\n    }\n\n    .dataframe tbody tr th {\n        vertical-align: top;\n    }\n\n    .dataframe thead th {\n        text-align: right;\n    }\n</style>\n<table border=\"1\" class=\"dataframe\">\n  <thead>\n    <tr style=\"text-align: right;\">\n      <th></th>\n      <th>FILENAME</th>\n      <th>PRICE_BIN_IDX</th>\n      <th>LIKES_VIEWS_RATIO_BIN_IDX</th>\n    </tr>\n  </thead>\n  <tbody>\n    <tr>\n      <th>0</th>\n      <td>1436943_1436943_85_695409-7.jpg</td>\n      <td>4</td>\n      <td>0</td>\n    </tr>\n    <tr>\n      <th>1</th>\n      <td>1274662_1274662_419_577785-7.jpg</td>\n      <td>4</td>\n      <td>0</td>\n    </tr>\n    <tr>\n      <th>2</th>\n      <td>1300633_1300633_183_596137-7.jpg</td>\n      <td>4</td>\n      <td>0</td>\n    </tr>\n    <tr>\n      <th>3</th>\n      <td>1396299_1396299_211_667936-7.jpg</td>\n      <td>4</td>\n      <td>0</td>\n    </tr>\n    <tr>\n      <th>4</th>\n      <td>1397657_1397657_771_665998-7.jpg</td>\n      <td>2</td>\n      <td>0</td>\n    </tr>\n  </tbody>\n</table>\n</div>"
     },
     "execution_count": 6,
     "metadata": {},
     "output_type": "execute_result"
    }
   ],
   "source": [
    "#Load y data\n",
    "df_y = pd.read_csv(r'F:\\temp\\thesisdata\\saatchi_macro_price_likesviewsratio.tsv', sep='\\t', header=None)\n",
    "# df_y = pd.read_csv('\"$TMPDIR\"/saatchi_macro_price_likesviewsratio.tsv', sep='\\t', header=None)\n",
    "df_y.columns = ['FILENAME', 'PRICE', 'LIKES_VIEWS_RATIO']\n",
    "\n",
    "# Bin the values\n",
    "df_y['PRICE_BIN_IDX'] = pd.qcut(df_y['PRICE'], q=5, labels=[0, 1, 2, 3, 4])\n",
    "df_y['LIKES_VIEWS_RATIO_BIN_IDX'] = pd.qcut(df_y['LIKES_VIEWS_RATIO'], q=5, labels=[0, 1, 2, 3, 4])\n",
    "df_y = df_y.astype({'PRICE_BIN_IDX': int, 'LIKES_VIEWS_RATIO_BIN_IDX': int})\n",
    "df_y.drop(['PRICE', 'LIKES_VIEWS_RATIO'], axis=1, inplace=True)\n",
    "\n",
    "df_y.head()"
   ],
   "metadata": {
    "collapsed": false,
    "pycharm": {
     "name": "#%%\n"
    }
   }
  },
  {
   "cell_type": "code",
   "execution_count": 8,
   "outputs": [
    {
     "data": {
      "text/plain": "                                               PRICE_BIN_IDX  \\\n8295009_8295009_770662_7359987-UEVDWRGX-7.jpg              1   \n8298951_8298951_966944_7363906-OTZBDFSD-7.jpg              1   \n8300381_8300381_928531_7365328-RAEOXFKG-7.jpg              1   \n8300647_8300647_418393_7365591-UELKWLBZ-7.jpg              3   \n8300769_8300769_796774_7365711-HVNCXNKD-7.jpg              1   \n\n                                               LIKES_VIEWS_RATIO_BIN_IDX  \\\n8295009_8295009_770662_7359987-UEVDWRGX-7.jpg                          3   \n8298951_8298951_966944_7363906-OTZBDFSD-7.jpg                          4   \n8300381_8300381_928531_7365328-RAEOXFKG-7.jpg                          3   \n8300647_8300647_418393_7365591-UELKWLBZ-7.jpg                          3   \n8300769_8300769_796774_7365711-HVNCXNKD-7.jpg                          4   \n\n                                               red_firstorder_10percentile  \\\n8295009_8295009_770662_7359987-UEVDWRGX-7.jpg                    -0.660870   \n8298951_8298951_966944_7363906-OTZBDFSD-7.jpg                    -0.660870   \n8300381_8300381_928531_7365328-RAEOXFKG-7.jpg                     0.591304   \n8300647_8300647_418393_7365591-UELKWLBZ-7.jpg                    -0.782609   \n8300769_8300769_796774_7365711-HVNCXNKD-7.jpg                    -0.782609   \n\n                                               red_firstorder_90percentile  \\\n8295009_8295009_770662_7359987-UEVDWRGX-7.jpg                     0.272727   \n8298951_8298951_966944_7363906-OTZBDFSD-7.jpg                     0.045455   \n8300381_8300381_928531_7365328-RAEOXFKG-7.jpg                    -0.022727   \n8300647_8300647_418393_7365591-UELKWLBZ-7.jpg                    -0.113636   \n8300769_8300769_796774_7365711-HVNCXNKD-7.jpg                    -0.431818   \n\n                                               red_firstorder_energy  \\\n8295009_8295009_770662_7359987-UEVDWRGX-7.jpg              -0.514154   \n8298951_8298951_966944_7363906-OTZBDFSD-7.jpg              -0.000156   \n8300381_8300381_928531_7365328-RAEOXFKG-7.jpg               0.229190   \n8300647_8300647_418393_7365591-UELKWLBZ-7.jpg              -0.577860   \n8300769_8300769_796774_7365711-HVNCXNKD-7.jpg              -0.738524   \n\n                                               red_firstorder_entropy  \\\n8295009_8295009_770662_7359987-UEVDWRGX-7.jpg                0.023772   \n8298951_8298951_966944_7363906-OTZBDFSD-7.jpg                0.080027   \n8300381_8300381_928531_7365328-RAEOXFKG-7.jpg                0.350180   \n8300647_8300647_418393_7365591-UELKWLBZ-7.jpg               -0.939910   \n8300769_8300769_796774_7365711-HVNCXNKD-7.jpg               -0.751978   \n\n                                               red_firstorder_interquartilerange  \\\n8295009_8295009_770662_7359987-UEVDWRGX-7.jpg                           0.979592   \n8298951_8298951_966944_7363906-OTZBDFSD-7.jpg                           1.306122   \n8300381_8300381_928531_7365328-RAEOXFKG-7.jpg                          -0.204082   \n8300647_8300647_418393_7365591-UELKWLBZ-7.jpg                           1.292517   \n8300769_8300769_796774_7365711-HVNCXNKD-7.jpg                           0.993197   \n\n                                               red_firstorder_kurtosis  \\\n8295009_8295009_770662_7359987-UEVDWRGX-7.jpg                -0.280487   \n8298951_8298951_966944_7363906-OTZBDFSD-7.jpg                -0.590624   \n8300381_8300381_928531_7365328-RAEOXFKG-7.jpg                 0.237049   \n8300647_8300647_418393_7365591-UELKWLBZ-7.jpg                -0.507660   \n8300769_8300769_796774_7365711-HVNCXNKD-7.jpg                -0.427593   \n\n                                               red_firstorder_maximum  \\\n8295009_8295009_770662_7359987-UEVDWRGX-7.jpg                     0.0   \n8298951_8298951_966944_7363906-OTZBDFSD-7.jpg                     0.0   \n8300381_8300381_928531_7365328-RAEOXFKG-7.jpg                     0.0   \n8300647_8300647_418393_7365591-UELKWLBZ-7.jpg                     0.0   \n8300769_8300769_796774_7365711-HVNCXNKD-7.jpg                     0.0   \n\n                                               red_firstorder_meanabsolutedeviation  \\\n8295009_8295009_770662_7359987-UEVDWRGX-7.jpg                              0.981583   \n8298951_8298951_966944_7363906-OTZBDFSD-7.jpg                              1.067636   \n8300381_8300381_928531_7365328-RAEOXFKG-7.jpg                             -0.257784   \n8300647_8300647_418393_7365591-UELKWLBZ-7.jpg                              1.298324   \n8300769_8300769_796774_7365711-HVNCXNKD-7.jpg                              0.998828   \n\n                                               ...  l_pixel_intensity_mean  \\\n8295009_8295009_770662_7359987-UEVDWRGX-7.jpg  ...               -1.169329   \n8298951_8298951_966944_7363906-OTZBDFSD-7.jpg  ...               -0.207033   \n8300381_8300381_928531_7365328-RAEOXFKG-7.jpg  ...               -0.591273   \n8300647_8300647_418393_7365591-UELKWLBZ-7.jpg  ...               -1.144834   \n8300769_8300769_796774_7365711-HVNCXNKD-7.jpg  ...               -1.413096   \n\n                                               a_pixel_intensity_mean  \\\n8295009_8295009_770662_7359987-UEVDWRGX-7.jpg                0.236595   \n8298951_8298951_966944_7363906-OTZBDFSD-7.jpg                0.135868   \n8300381_8300381_928531_7365328-RAEOXFKG-7.jpg                3.231917   \n8300647_8300647_418393_7365591-UELKWLBZ-7.jpg               -0.341209   \n8300769_8300769_796774_7365711-HVNCXNKD-7.jpg               -0.240300   \n\n                                               b_pixel_intensity_mean  \\\n8295009_8295009_770662_7359987-UEVDWRGX-7.jpg                0.253374   \n8298951_8298951_966944_7363906-OTZBDFSD-7.jpg                1.606241   \n8300381_8300381_928531_7365328-RAEOXFKG-7.jpg                1.116920   \n8300647_8300647_418393_7365591-UELKWLBZ-7.jpg               -0.506916   \n8300769_8300769_796774_7365711-HVNCXNKD-7.jpg               -0.313741   \n\n                                               red_entropy_shannon  \\\n8295009_8295009_770662_7359987-UEVDWRGX-7.jpg             0.050961   \n8298951_8298951_966944_7363906-OTZBDFSD-7.jpg             0.122794   \n8300381_8300381_928531_7365328-RAEOXFKG-7.jpg             0.396077   \n8300647_8300647_418393_7365591-UELKWLBZ-7.jpg            -3.135120   \n8300769_8300769_796774_7365711-HVNCXNKD-7.jpg            -2.722244   \n\n                                               green_entropy_shannon  \\\n8295009_8295009_770662_7359987-UEVDWRGX-7.jpg               0.043393   \n8298951_8298951_966944_7363906-OTZBDFSD-7.jpg               0.228492   \n8300381_8300381_928531_7365328-RAEOXFKG-7.jpg               0.293969   \n8300647_8300647_418393_7365591-UELKWLBZ-7.jpg              -3.487333   \n8300769_8300769_796774_7365711-HVNCXNKD-7.jpg              -2.904349   \n\n                                               blue_entropy_shannon  \\\n8295009_8295009_770662_7359987-UEVDWRGX-7.jpg             -0.102032   \n8298951_8298951_966944_7363906-OTZBDFSD-7.jpg             -0.280184   \n8300381_8300381_928531_7365328-RAEOXFKG-7.jpg              0.203051   \n8300647_8300647_418393_7365591-UELKWLBZ-7.jpg             -3.521250   \n8300769_8300769_796774_7365711-HVNCXNKD-7.jpg             -2.882170   \n\n                                               l_entropy_shannon  \\\n8295009_8295009_770662_7359987-UEVDWRGX-7.jpg           0.063593   \n8298951_8298951_966944_7363906-OTZBDFSD-7.jpg           0.498652   \n8300381_8300381_928531_7365328-RAEOXFKG-7.jpg           0.304565   \n8300647_8300647_418393_7365591-UELKWLBZ-7.jpg          -3.345245   \n8300769_8300769_796774_7365711-HVNCXNKD-7.jpg          -2.727750   \n\n                                               a_entropy_shannon  \\\n8295009_8295009_770662_7359987-UEVDWRGX-7.jpg          -0.453365   \n8298951_8298951_966944_7363906-OTZBDFSD-7.jpg           0.884654   \n8300381_8300381_928531_7365328-RAEOXFKG-7.jpg           0.798947   \n8300647_8300647_418393_7365591-UELKWLBZ-7.jpg          -0.996410   \n8300769_8300769_796774_7365711-HVNCXNKD-7.jpg          -2.075316   \n\n                                               b_entropy_shannon  \\\n8295009_8295009_770662_7359987-UEVDWRGX-7.jpg          -0.131882   \n8298951_8298951_966944_7363906-OTZBDFSD-7.jpg           0.666194   \n8300381_8300381_928531_7365328-RAEOXFKG-7.jpg           0.417532   \n8300647_8300647_418393_7365591-UELKWLBZ-7.jpg          -1.257612   \n8300769_8300769_796774_7365711-HVNCXNKD-7.jpg          -2.173263   \n\n                                               color_dominant  \n8295009_8295009_770662_7359987-UEVDWRGX-7.jpg   darkslategray  \n8298951_8298951_966944_7363906-OTZBDFSD-7.jpg         dimgray  \n8300381_8300381_928531_7365328-RAEOXFKG-7.jpg   darkslateblue  \n8300647_8300647_418393_7365591-UELKWLBZ-7.jpg   darkslategray  \n8300769_8300769_796774_7365711-HVNCXNKD-7.jpg   darkslategray  \n\n[5 rows x 617 columns]",
      "text/html": "<div>\n<style scoped>\n    .dataframe tbody tr th:only-of-type {\n        vertical-align: middle;\n    }\n\n    .dataframe tbody tr th {\n        vertical-align: top;\n    }\n\n    .dataframe thead th {\n        text-align: right;\n    }\n</style>\n<table border=\"1\" class=\"dataframe\">\n  <thead>\n    <tr style=\"text-align: right;\">\n      <th></th>\n      <th>PRICE_BIN_IDX</th>\n      <th>LIKES_VIEWS_RATIO_BIN_IDX</th>\n      <th>red_firstorder_10percentile</th>\n      <th>red_firstorder_90percentile</th>\n      <th>red_firstorder_energy</th>\n      <th>red_firstorder_entropy</th>\n      <th>red_firstorder_interquartilerange</th>\n      <th>red_firstorder_kurtosis</th>\n      <th>red_firstorder_maximum</th>\n      <th>red_firstorder_meanabsolutedeviation</th>\n      <th>...</th>\n      <th>l_pixel_intensity_mean</th>\n      <th>a_pixel_intensity_mean</th>\n      <th>b_pixel_intensity_mean</th>\n      <th>red_entropy_shannon</th>\n      <th>green_entropy_shannon</th>\n      <th>blue_entropy_shannon</th>\n      <th>l_entropy_shannon</th>\n      <th>a_entropy_shannon</th>\n      <th>b_entropy_shannon</th>\n      <th>color_dominant</th>\n    </tr>\n  </thead>\n  <tbody>\n    <tr>\n      <th>8295009_8295009_770662_7359987-UEVDWRGX-7.jpg</th>\n      <td>1</td>\n      <td>3</td>\n      <td>-0.660870</td>\n      <td>0.272727</td>\n      <td>-0.514154</td>\n      <td>0.023772</td>\n      <td>0.979592</td>\n      <td>-0.280487</td>\n      <td>0.0</td>\n      <td>0.981583</td>\n      <td>...</td>\n      <td>-1.169329</td>\n      <td>0.236595</td>\n      <td>0.253374</td>\n      <td>0.050961</td>\n      <td>0.043393</td>\n      <td>-0.102032</td>\n      <td>0.063593</td>\n      <td>-0.453365</td>\n      <td>-0.131882</td>\n      <td>darkslategray</td>\n    </tr>\n    <tr>\n      <th>8298951_8298951_966944_7363906-OTZBDFSD-7.jpg</th>\n      <td>1</td>\n      <td>4</td>\n      <td>-0.660870</td>\n      <td>0.045455</td>\n      <td>-0.000156</td>\n      <td>0.080027</td>\n      <td>1.306122</td>\n      <td>-0.590624</td>\n      <td>0.0</td>\n      <td>1.067636</td>\n      <td>...</td>\n      <td>-0.207033</td>\n      <td>0.135868</td>\n      <td>1.606241</td>\n      <td>0.122794</td>\n      <td>0.228492</td>\n      <td>-0.280184</td>\n      <td>0.498652</td>\n      <td>0.884654</td>\n      <td>0.666194</td>\n      <td>dimgray</td>\n    </tr>\n    <tr>\n      <th>8300381_8300381_928531_7365328-RAEOXFKG-7.jpg</th>\n      <td>1</td>\n      <td>3</td>\n      <td>0.591304</td>\n      <td>-0.022727</td>\n      <td>0.229190</td>\n      <td>0.350180</td>\n      <td>-0.204082</td>\n      <td>0.237049</td>\n      <td>0.0</td>\n      <td>-0.257784</td>\n      <td>...</td>\n      <td>-0.591273</td>\n      <td>3.231917</td>\n      <td>1.116920</td>\n      <td>0.396077</td>\n      <td>0.293969</td>\n      <td>0.203051</td>\n      <td>0.304565</td>\n      <td>0.798947</td>\n      <td>0.417532</td>\n      <td>darkslateblue</td>\n    </tr>\n    <tr>\n      <th>8300647_8300647_418393_7365591-UELKWLBZ-7.jpg</th>\n      <td>3</td>\n      <td>3</td>\n      <td>-0.782609</td>\n      <td>-0.113636</td>\n      <td>-0.577860</td>\n      <td>-0.939910</td>\n      <td>1.292517</td>\n      <td>-0.507660</td>\n      <td>0.0</td>\n      <td>1.298324</td>\n      <td>...</td>\n      <td>-1.144834</td>\n      <td>-0.341209</td>\n      <td>-0.506916</td>\n      <td>-3.135120</td>\n      <td>-3.487333</td>\n      <td>-3.521250</td>\n      <td>-3.345245</td>\n      <td>-0.996410</td>\n      <td>-1.257612</td>\n      <td>darkslategray</td>\n    </tr>\n    <tr>\n      <th>8300769_8300769_796774_7365711-HVNCXNKD-7.jpg</th>\n      <td>1</td>\n      <td>4</td>\n      <td>-0.782609</td>\n      <td>-0.431818</td>\n      <td>-0.738524</td>\n      <td>-0.751978</td>\n      <td>0.993197</td>\n      <td>-0.427593</td>\n      <td>0.0</td>\n      <td>0.998828</td>\n      <td>...</td>\n      <td>-1.413096</td>\n      <td>-0.240300</td>\n      <td>-0.313741</td>\n      <td>-2.722244</td>\n      <td>-2.904349</td>\n      <td>-2.882170</td>\n      <td>-2.727750</td>\n      <td>-2.075316</td>\n      <td>-2.173263</td>\n      <td>darkslategray</td>\n    </tr>\n  </tbody>\n</table>\n<p>5 rows × 617 columns</p>\n</div>"
     },
     "execution_count": 8,
     "metadata": {},
     "output_type": "execute_result"
    }
   ],
   "source": [
    "df_full = df_y.set_index('FILENAME').join(df_metrics.set_index('path'), how='inner')\n",
    "df_full.head()"
   ],
   "metadata": {
    "collapsed": false,
    "pycharm": {
     "name": "#%%\n"
    }
   }
  },
  {
   "cell_type": "code",
   "execution_count": 12,
   "outputs": [],
   "source": [
    "df_full.to_excel('df_full_test.xlsx')"
   ],
   "metadata": {
    "collapsed": false,
    "pycharm": {
     "name": "#%%\n"
    }
   }
  },
  {
   "cell_type": "code",
   "execution_count": null,
   "outputs": [],
   "source": [],
   "metadata": {
    "collapsed": false,
    "pycharm": {
     "name": "#%%\n"
    }
   }
  }
 ],
 "metadata": {
  "kernelspec": {
   "name": "thesis_cur-ai-tor",
   "language": "python",
   "display_name": "Thesis_cur-AI-tor"
  },
  "language_info": {
   "codemirror_mode": {
    "name": "ipython",
    "version": 2
   },
   "file_extension": ".py",
   "mimetype": "text/x-python",
   "name": "python",
   "nbconvert_exporter": "python",
   "pygments_lexer": "ipython2",
   "version": "2.7.6"
  }
 },
 "nbformat": 4,
 "nbformat_minor": 0
}