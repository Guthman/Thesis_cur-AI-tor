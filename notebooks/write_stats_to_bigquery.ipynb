{
 "cells": [
  {
   "cell_type": "code",
   "execution_count": null,
   "metadata": {
    "collapsed": true
   },
   "outputs": [],
   "source": [
    "from google.cloud import bigquery"
   ]
  },
  {
   "cell_type": "code",
   "execution_count": null,
   "outputs": [],
   "source": [
    "# ------- Define some stuff for BigQuery ------- #\n",
    "\n",
    "# Set authentication info and initialize client for BigQuery\n",
    "os.environ['GOOGLE_APPLICATION_CREDENTIALS'] = '../thesis-bigquery_api_key.json'\n",
    "client = bigquery.Client()"
   ],
   "metadata": {
    "collapsed": false,
    "pycharm": {
     "name": "#%%\n"
    }
   }
  },
  {
   "cell_type": "code",
   "execution_count": null,
   "outputs": [],
   "source": [
    "# Define function to execute BigQuery queries\n",
    "def execute_query(sql_statement):\n",
    "    query_result = client.query(sql_statement).to_dataframe()\n",
    "    return query_result"
   ],
   "metadata": {
    "collapsed": false,
    "pycharm": {
     "name": "#%%\n"
    }
   }
  },
  {
   "cell_type": "code",
   "execution_count": null,
   "outputs": [],
   "source": [
    "import glob\n",
    "import os\n",
    "import gist\n",
    "from cv2 import imread\n",
    "# from tqdm.auto import tqdm\n",
    "import ujson\n",
    "from concurrent.futures import ProcessPoolExecutor\n",
    "from tqdm.contrib.concurrent import process_map\n",
    "\n",
    "files = glob.glob('./micro_dataset1/*.*')[:200]\n",
    "\n",
    "def write_gist(image):\n",
    "    with open(f'p{os.getpid()}.json', 'a') as file:\n",
    "        img = imread(image)\n",
    "        file.write(ujson.dumps({image.replace('./micro_dataset1/', ''): [str(x) for x in list(gist.extract(img))]}) + ',' + '\\n')\n",
    "\n",
    "\n",
    "# def main():\n",
    "#     with ProcessPoolExecutor(max_workers=30) as executor:\n",
    "#         # executor.map(write_gist, files)\n",
    "\n",
    "#         process_map(write_gist, files)\n",
    "\n",
    "if __name__ == '__main__':\n",
    "   r = process_map(write_gist, files, max_workers=16)\n"
   ],
   "metadata": {
    "collapsed": false,
    "pycharm": {
     "name": "#%%\n"
    }
   }
  }
 ],
 "metadata": {
  "kernelspec": {
   "display_name": "Python 3",
   "language": "python",
   "name": "python3"
  },
  "language_info": {
   "codemirror_mode": {
    "name": "ipython",
    "version": 2
   },
   "file_extension": ".py",
   "mimetype": "text/x-python",
   "name": "python",
   "nbconvert_exporter": "python",
   "pygments_lexer": "ipython2",
   "version": "2.7.6"
  }
 },
 "nbformat": 4,
 "nbformat_minor": 0
}