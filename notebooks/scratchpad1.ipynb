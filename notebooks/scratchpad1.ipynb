{
 "cells": [
  {
   "cell_type": "code",
   "execution_count": 1,
   "outputs": [],
   "source": [
    "from cv2 import imread\n",
    "import metrics\n"
   ],
   "metadata": {
    "collapsed": false,
    "pycharm": {
     "name": "#%%\n"
    }
   }
  },
  {
   "cell_type": "code",
   "execution_count": 2,
   "outputs": [],
   "source": [
    "path = r'C:\\Users\\R\\PycharmProjects\\Thesis_cur-AI-tor\\images\\ff742b8e8e6120f27ec567f60143fc82.jpg'\n",
    "\n",
    "image = imread(path)\n"
   ],
   "metadata": {
    "collapsed": false,
    "pycharm": {
     "name": "#%%\n"
    }
   }
  },
  {
   "cell_type": "code",
   "execution_count": 3,
   "outputs": [
    {
     "data": {
      "text/plain": "'sienna'"
     },
     "execution_count": 3,
     "metadata": {},
     "output_type": "execute_result"
    }
   ],
   "source": [
    "metrics.dominant_color(image)"
   ],
   "metadata": {
    "collapsed": false,
    "pycharm": {
     "name": "#%%\n"
    }
   }
  },
  {
   "cell_type": "code",
   "execution_count": 9,
   "outputs": [],
   "source": [
    "metrics.mean_pixel_intensity(image)\n",
    "metrics.mean_hue(image)\n",
    "metrics.mean_saturation(image)\n",
    "metrics.shannon_entropy(image)\n",
    "metrics.fractal_dimension(image)\n",
    "metrics.sharpness(image)\n",
    "metrics.brisque_score(image)\n",
    "metrics.colorfulness(image)\n",
    "metrics.dominant_color(image)"
   ],
   "metadata": {
    "collapsed": false,
    "pycharm": {
     "name": "#%%\n"
    }
   }
  },
  {
   "cell_type": "code",
   "execution_count": 8,
   "outputs": [],
   "source": [],
   "metadata": {
    "collapsed": false,
    "pycharm": {
     "name": "#%%\n"
    }
   }
  },
  {
   "cell_type": "code",
   "execution_count": 11,
   "outputs": [
    {
     "data": {
      "text/plain": "array([[[ 45,  29, 100],\n        [ 42,  33, 100],\n        [ 40,  40, 104],\n        ...,\n        [ 20,  24, 126],\n        [ 25,  27, 127],\n        [ 26,  29, 127]],\n\n       [[ 42,  30, 102],\n        [ 42,  37, 106],\n        [ 43,  44, 112],\n        ...,\n        [ 19,  21, 121],\n        [ 23,  26, 124],\n        [ 26,  28, 123]],\n\n       [[ 38,  34, 105],\n        [ 39,  37, 107],\n        [ 40,  42, 112],\n        ...,\n        [ 20,  23, 121],\n        [ 28,  30, 124],\n        [ 27,  30, 121]],\n\n       ...,\n\n       [[ 60,  82, 100],\n        [ 86, 116, 135],\n        [103, 146, 167],\n        ...,\n        [ 77, 152, 184],\n        [ 83, 153, 193],\n        [ 52, 118, 166]],\n\n       [[ 52,  71,  92],\n        [117, 144, 165],\n        [141, 182, 205],\n        ...,\n        [ 86, 153, 184],\n        [ 79, 141, 181],\n        [ 62, 121, 167]],\n\n       [[ 52,  67,  93],\n        [128, 151, 177],\n        [155, 192, 218],\n        ...,\n        [125, 183, 212],\n        [126, 178, 215],\n        [ 88, 135, 179]]], dtype=uint8)"
     },
     "execution_count": 11,
     "metadata": {},
     "output_type": "execute_result"
    }
   ],
   "source": [
    "image\n"
   ],
   "metadata": {
    "collapsed": false,
    "pycharm": {
     "name": "#%%\n"
    }
   }
  },
  {
   "cell_type": "code",
   "execution_count": null,
   "outputs": [],
   "source": [],
   "metadata": {
    "collapsed": false,
    "pycharm": {
     "name": "#%%\n"
    }
   }
  }
 ],
 "metadata": {
  "kernelspec": {
   "name": "thesis_cur-ai-tor",
   "language": "python",
   "display_name": "Thesis_cur-AI-tor"
  },
  "language_info": {
   "codemirror_mode": {
    "name": "ipython",
    "version": 2
   },
   "file_extension": ".py",
   "mimetype": "text/x-python",
   "name": "python",
   "nbconvert_exporter": "python",
   "pygments_lexer": "ipython2",
   "version": "2.7.6"
  }
 },
 "nbformat": 4,
 "nbformat_minor": 0
}