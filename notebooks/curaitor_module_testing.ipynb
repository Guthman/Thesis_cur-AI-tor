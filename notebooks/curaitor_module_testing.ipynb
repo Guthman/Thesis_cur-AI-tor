{
 "cells": [
  {
   "cell_type": "code",
   "execution_count": 9,
   "outputs": [
    {
     "data": {
      "text/plain": "<PIL.Image.Image image mode=RGB size=576x589 at 0x181BC433160>",
      "image/png": "[encoded data removed]"
     },
     "execution_count": 9,
     "metadata": {},
     "output_type": "execute_result"
    }
   ],
   "source": [
    "def load_image(input_path: str, output_format: 'str' = 'Image'):\n",
    "    img = None\n",
    "    try:\n",
    "        img = Image.open(input_path)\n",
    "        if img.mode != 'RGB':\n",
    "            img = img.convert('RGB')\n",
    "    except (OSError, IOError):\n",
    "        print(f'Opening image failed: \\n {traceback.format_exc()}')\n",
    "    if output_format == 'array':\n",
    "        return np.array(img)\n",
    "    elif output_format == 'Image':\n",
    "        return img\n",
    "\n",
    "image_path = r'F:\\Drive\\School\\UvA\\IS - Data Science\\Thesis\\assets\\conf_matrix_0362.png'\n",
    "img_ = load_image(image_path)\n",
    "img_"
   ],
   "metadata": {
    "collapsed": false,
    "pycharm": {
     "name": "#%%\n"
    }
   }
  },
  {
   "cell_type": "code",
   "execution_count": 1,
   "metadata": {
    "collapsed": true
   },
   "outputs": [],
   "source": [
    "import cv2\n",
    "import skimage.measure\n",
    "from skimage.filters import sobel\n",
    "import SimpleITK as sitk\n",
    "from pybdm import BDM\n",
    "import numpy as np\n",
    "from PIL import Image\n",
    "from cv2 import imread\n",
    "from radiomics import featureextractor\n",
    "import traceback\n",
    "import typing\n",
    "import sys\n",
    "import attr\n",
    "from icecream import ic\n",
    "# The cpbd module tries to import scipy.ndimage.imread, which does not exist in current versions of scipy. The statement below is a workaround for this issue.\n",
    "# noinspection PyTypeChecker\n",
    "sys.modules['scipy.ndimage.imread'] = cv2.imread\n",
    "import cpbd"
   ]
  },
  {
   "cell_type": "code",
   "execution_count": 19,
   "outputs": [],
   "source": [
    "# I'm using attrs wrongly, but it works...\n",
    "\n",
    "# Define lists of bins for the function that calculates the K complexity feature\n",
    "# TODO: make the binning user configurable\n",
    "bins_0_252 = list(range(0, 252, 28))\n",
    "bins_0_0_9 = list(np.arange(0, 0.9, 0.1))\n",
    "\n",
    "full_feature_list = [\n",
    "    'contrast_rms',\n",
    "    'contrast_tenengrad',\n",
    "    'fractal_dimension',\n",
    "    'sharpness',\n",
    "    'sharpness_laplacian',\n",
    "    'colorfulness',\n",
    "    'pixel_intensity_mean',\n",
    "    'hue_mean',\n",
    "    'saturation_mean',\n",
    "    'k_complexity',\n",
    "    'entropy_shannon',\n",
    "    'pyradiomics_features'\n",
    "    ]\n",
    "\n",
    "@attr.s\n",
    "class FeatureExtractor:\n",
    "    str_iterable_validator = attr.validators.instance_of(typing.Iterable[str])\n",
    "    # TODO: Expose all pyradiomics settings to pass through\n",
    "    pyradiomics_config: dict = {'voxelBatch': 100}\n",
    "    enabled_features = attr.ib(default='all')\n",
    "    other_config: dict = {\n",
    "        'number_of_fractal_dimension_scales': 10,\n",
    "        'extract_lab_channels': True,\n",
    "        'extract_rfb_channels': True\n",
    "    }\n",
    "    auto_color_convert: typing.Type[int] = True\n",
    "    # TODO: allow finegrained enabling of pyradiomics features, instead of by class\n",
    "    pyradiomics_feature_classes: str_iterable_validator = ['firstorder', 'glcm', 'glrlm', 'glszm', 'gldm', 'ngtdm']\n",
    "    extracted_features: dict = {}\n",
    "\n",
    "    _cv2_img = None\n",
    "    _cv2_img_bw = None\n",
    "    _cv2_img_hsv = None\n",
    "    _cv2_img_lab = None\n",
    "    _PIL_img = None\n",
    "    _PIL_img_bw = None\n",
    "    img_path = None\n",
    "    fractal_dimension_scales = np.logspace(\n",
    "        start=0.01,\n",
    "        stop=1,\n",
    "        num=other_config['number_of_fractal_dimension_scales'],\n",
    "        endpoint=False,\n",
    "        base=2)\n",
    "\n",
    "    # Initialize and configure Pyradiomics feature extractor\n",
    "    pyradiomics_extractor = featureextractor.RadiomicsFeatureExtractor()\n",
    "    pyradiomics_extractor.settings.update(pyradiomics_config)\n",
    "    pyradiomics_extractor.disableAllFeatures()\n",
    "    for feature_class in pyradiomics_feature_classes:\n",
    "        pyradiomics_extractor.enableFeatureClassByName(feature_class)\n",
    "\n",
    "    @property\n",
    "    def enabled_features_list(self):\n",
    "        if self.enabled_features == 'all' or self.enabled_features is None:\n",
    "            self.enabled_features = full_feature_list\n",
    "        return self.enabled_features\n",
    "\n",
    "    @property\n",
    "    def PIL_img(self):\n",
    "        if self._PIL_img is None:\n",
    "            try:\n",
    "                self._PIL_img = Image.open(self.img_path)\n",
    "                return self._PIL_img\n",
    "            except (OSError, IOError):\n",
    "                print(f'Opening image at {self.img_path} failed: \\n {traceback.format_exc()}')\n",
    "        else:\n",
    "            return self._PIL_img\n",
    "\n",
    "    @property\n",
    "    def PIL_img_bw(self):\n",
    "        if self._PIL_img_bw is None:\n",
    "            self._PIL_img_bw = self.PIL_img.convert('L')\n",
    "        return self._PIL_img_bw\n",
    "\n",
    "    @property\n",
    "    def cv2_img(self):\n",
    "        if self._cv2_img is None:\n",
    "            try:\n",
    "                self._cv2_img = imread(self.img_path)\n",
    "                return self._cv2_img\n",
    "            except (OSError, IOError):\n",
    "                print(f'Opening image at {self.img_path} failed: \\n {traceback.format_exc()}')\n",
    "        else:\n",
    "            return self._cv2_img\n",
    "\n",
    "    @property\n",
    "    def cv2_img_bw(self):\n",
    "        if self._cv2_img_bw is None:\n",
    "            self._cv2_img_bw = cv2.cvtColor(self.cv2_img, cv2.COLOR_BGR2GRAY)\n",
    "        return self._cv2_img_bw\n",
    "\n",
    "    @property\n",
    "    def cv2_img_hsv(self):\n",
    "        if self._cv2_img_hsv is None:\n",
    "            self._cv2_img_hsv = cv2.cvtColor(self.cv2_img, cv2.COLOR_BGR2HSV)\n",
    "        return self._cv2_img_hsv\n",
    "\n",
    "    @property\n",
    "    def cv2_img_lab(self):\n",
    "        if self._cv2_img_lab is None:\n",
    "            self._cv2_img_lab = cv2.cvtColor(self.cv2_img, cv2.COLOR_BGR2Lab)\n",
    "        return self._cv2_img_lab\n",
    "\n",
    "    def extract(self, img_path):\n",
    "        self.img_path = img_path\n",
    "        self.extracted_features.update({'img_path': self.img_path})\n",
    "        extractor_mapping = {\n",
    "            'contrast_rms': self.contrast_rms,\n",
    "            'contrast_tenengrad': self.contrast_tenengrad,\n",
    "            'fractal_dimension': self.fractal_dimension,\n",
    "            'sharpness': self.sharpness,\n",
    "            'sharpness_laplacian': self.sharpness_laplacian,\n",
    "            'colorfulness': self.colorfulness,\n",
    "            'pixel_intensity_mean': self.pixel_intensity_mean,\n",
    "            'saturation_mean': self.saturation_mean,\n",
    "            'hue_mean': self.hue_mean,\n",
    "            'entropy_shannon': self.entropy_shannon,\n",
    "            'k_complexity': self.k_complexity,\n",
    "            'pyradiomics_features': self.pyradiomics_features\n",
    "        }\n",
    "        # Call all enabled feature extractors\n",
    "        for extractor in extractor_mapping:\n",
    "            if extractor in self.enabled_features_list:\n",
    "                ic(extractor)\n",
    "                extractor_mapping[extractor]()\n",
    "\n",
    "    def contrast_rms(self):\n",
    "        feature_value = self.cv2_img_bw.std()\n",
    "        self.extracted_features.update({'contrast_rms': feature_value})\n",
    "\n",
    "    def contrast_tenengrad(self):\n",
    "        sobel_img = sobel(self.cv2_img_bw) ** 2\n",
    "        feature_value = np.sqrt(np.sum(sobel_img)) / self.cv2_img_bw.size * 10000\n",
    "        self.extracted_features.update({'contrast_tenengrad': feature_value})\n",
    "\n",
    "    def fractal_dimension(self):\n",
    "        # Adapted from https://francescoturci.net/2016/03/31/box-counting-in-numpy/\n",
    "        # Find all the non-zero pixels\n",
    "        pixels = []\n",
    "        for i in range(self.cv2_img_bw.shape[0]):\n",
    "            for j in range(self.cv2_img_bw.shape[1]):\n",
    "                if self.cv2_img_bw[i, j] > 0:\n",
    "                    pixels.append((i, j))\n",
    "\n",
    "        lx = self.cv2_img_bw.shape[1]\n",
    "        ly = self.cv2_img_bw.shape[0]\n",
    "        pixels = np.array(pixels)\n",
    "\n",
    "        # Compute the fractal dimension considering only scales in a logarithmic list\n",
    "        ns = []\n",
    "        # Loop over the scales\n",
    "        for scale in self.fractal_dimension_scales:\n",
    "            # Compute the histogram\n",
    "            h, edges = np.histogramdd(pixels, bins=(np.arange(0, lx, scale), np.arange(0, ly, scale)))\n",
    "            ns.append(np.sum(h > 0))\n",
    "\n",
    "        # linear fit, polynomial of degree 1\n",
    "        coeffs = np.polyfit(np.log(self.fractal_dimension_scales), np.log(ns), 1)\n",
    "        feature_value = -coeffs[0]  # the fractal dimension is the OPPOSITE of the fitting coefficient\n",
    "        self.extracted_features.update({'contrast_rms': feature_value})\n",
    "\n",
    "    def sharpness(self):\n",
    "        feature_value = cpbd.compute(self.cv2_img_bw)\n",
    "        self.extracted_features.update({'sharpness': feature_value})\n",
    "\n",
    "    def sharpness_laplacian(self):\n",
    "        feature_value = cv2.Laplacian(self.cv2_img_bw, cv2.CV_64F).var()\n",
    "        self.extracted_features.update({'sharpness_laplacian': feature_value})\n",
    "\n",
    "    def colorfulness(self):\n",
    "        # https://www.pyimagesearch.com/2017/06/05/computing-image-colorfulness-with-opencv-and-python/\n",
    "        # \"Measuring colourfulness in natural images\" David Hasler and Sabine Susstrunk\n",
    "        (B, G, R) = cv2.split(self.cv2_img.astype('float'))\n",
    "        rg = np.absolute(R - G)\n",
    "        yb = np.absolute(0.5 * (R + G) - B)\n",
    "        (rbMean, rbStd) = (np.mean(rg), np.std(rg))\n",
    "        (ybMean, ybStd) = (np.mean(yb), np.std(yb))\n",
    "        std_root = np.sqrt((rbStd ** 2) + (ybStd ** 2))\n",
    "        mean_root = np.sqrt((rbMean ** 2) + (ybMean ** 2))\n",
    "        feature_value = std_root + (0.3 * mean_root)\n",
    "        self.extracted_features.update({'colorfulness': feature_value})\n",
    "\n",
    "    def pixel_intensity_mean(self):\n",
    "        feature_value = self.cv2_img.mean()\n",
    "        self.extracted_features.update({'pixel_intensity_mean': feature_value})\n",
    "\n",
    "    def hue_mean(self):\n",
    "        feature_value = self.cv2_img_hsv.mean()\n",
    "        self.extracted_features.update({'hue_mean': feature_value})\n",
    "\n",
    "    def saturation_mean(self):\n",
    "        feature_value = self.cv2_img_hsv[:, :, 1].mean()\n",
    "        self.extracted_features.update({'saturation_mean': feature_value})\n",
    "\n",
    "    def entropy_shannon(self):\n",
    "        feature_value = skimage.measure.shannon_entropy(self.cv2_img)\n",
    "        self.extracted_features.update({'entropy_shannon': feature_value})\n",
    "\n",
    "    def k_complexity(self):\n",
    "        image = self.cv2_img_bw\n",
    "        image = image.reshape(image.shape[0]*image.shape[1])\n",
    "        image = image*(252/256)\n",
    "        image = np.digitize(image, bins=bins_0_252)-1\n",
    "        bdm = BDM(ndim=1, nsymbols=9, warn_if_missing_ctm=False)\n",
    "        feature_value = bdm.bdm(image)\n",
    "        self.extracted_features.update({'k_complexity_bw': feature_value})\n",
    "\n",
    "        if self.other_config['extract_lab_channels']:\n",
    "            for k, v in {'L': 0, 'a': 1, 'b': 2}.items():\n",
    "                image_ = self.cv2_img_lab*(252/256)\n",
    "                image_ = image_.astype('float32') / 255  # transformation to fix Euclidian distances in Lab space\n",
    "                image_ = image_[:, :, v]\n",
    "                image_ = image_.reshape(image_.shape[0]*image_.shape[1])\n",
    "                image_ = np.digitize(image_, bins=bins_0_0_9)-1\n",
    "                feature_value = bdm.bdm(image_)\n",
    "                self.extracted_features.update({f'k_complexity_{k}_channel': feature_value})\n",
    "\n",
    "    def pyradiomics_features(self):\n",
    "        img = self.PIL_img\n",
    "        print(img)\n",
    "        img = np.array(img)\n",
    "        im = sitk.GetImageFromArray(img)\n",
    "        # Create dummy mask that exposes the whole image\n",
    "        ma = sitk.GetImageFromArray(np.ones(img.shape, dtype='uint8'))\n",
    "        ma.CopyInformation(im)\n",
    "\n",
    "        # Extract features into clean dict\n",
    "        features = self.pyradiomics_extractor.execute(im, ma, label=1)\n",
    "        stats_keys = [x for x in list(features.keys()) if x[0][0] == 'o']\n",
    "        stats_dict = {k[9:]: float(features[k]) for k in stats_keys}\n",
    "        self.extracted_features.update(stats_dict)"
   ],
   "metadata": {
    "collapsed": false,
    "pycharm": {
     "name": "#%%\n"
    }
   }
  },
  {
   "cell_type": "code",
   "execution_count": 20,
   "outputs": [],
   "source": [
    "s = FeatureExtractor()"
   ],
   "metadata": {
    "collapsed": false,
    "pycharm": {
     "name": "#%%\n"
    }
   }
  },
  {
   "cell_type": "code",
   "execution_count": 21,
   "outputs": [
    {
     "name": "stderr",
     "output_type": "stream",
     "text": [
      "ic| extractor: 'contrast_rms'\n",
      "ic| extractor: 'contrast_tenengrad'\n",
      "ic| extractor: 'fractal_dimension'\n",
      "ic| extractor: 'sharpness'\n",
      "ic| extractor: 'sharpness_laplacian'\n",
      "ic| extractor: 'colorfulness'\n",
      "ic| extractor: 'pixel_intensity_mean'\n",
      "ic| extractor: 'saturation_mean'\n",
      "ic| extractor: 'hue_mean'\n",
      "ic| extractor: 'entropy_shannon'\n",
      "ic| extractor: 'k_complexity'\n",
      "ic| extractor: 'pyradiomics_features'\n"
     ]
    },
    {
     "name": "stdout",
     "output_type": "stream",
     "text": [
      "<PIL.PngImagePlugin.PngImageFile image mode=RGBA size=576x589 at 0x1BC4A5D6B20>\n"
     ]
    },
    {
     "name": "stderr",
     "output_type": "stream",
     "text": [
      "GLCM is symmetrical, therefore Sum Average = 2 * Joint Average, only 1 needs to be calculated\n"
     ]
    }
   ],
   "source": [
    "image_path = r'F:\\Drive\\School\\UvA\\IS - Data Science\\Thesis\\assets\\conf_matrix_0362.png'\n",
    "s.extract(image_path)"
   ],
   "metadata": {
    "collapsed": false,
    "pycharm": {
     "name": "#%%\n"
    }
   }
  },
  {
   "cell_type": "code",
   "execution_count": 22,
   "outputs": [
    {
     "data": {
      "text/plain": "{'img_path': 'F:\\\\Drive\\\\School\\\\UvA\\\\IS - Data Science\\\\Thesis\\\\assets\\\\conf_matrix_0362.png',\n 'contrast_rms': 1.999611926648627,\n 'contrast_tenengrad': 1.6621727942302766,\n 'sharpness': 0.9699745547073793,\n 'sharpness_laplacian': 2308.3360509809468,\n 'colorfulness': 94.53421519108497,\n 'pixel_intensity_mean': 150.29226305571277,\n 'saturation_mean': 120.75230793718167,\n 'hue_mean': 124.43072356630825,\n 'entropy_shannon': 5.362531822325216,\n 'k_complexity_bw': 18419.82607932553,\n 'k_complexity_L_channel': 18765.69585469488,\n 'k_complexity_a_channel': 7865.651346433254,\n 'k_complexity_b_channel': 5398.109455426785,\n 'firstorder_10Percentile': 11.0,\n 'firstorder_90Percentile': 255.0,\n 'firstorder_Energy': 48631246562.0,\n 'firstorder_Entropy': 2.8880676875091478,\n 'firstorder_InterquartileRange': 192.0,\n 'firstorder_Kurtosis': 1.5043192903616733,\n 'firstorder_Maximum': 255.0,\n 'firstorder_MeanAbsoluteDeviation': 91.42079604669476,\n 'firstorder_Mean': 161.30434705715902,\n 'firstorder_Median': 204.0,\n 'firstorder_Minimum': 0.0,\n 'firstorder_Range': 255.0,\n 'firstorder_RobustMeanAbsoluteDeviation': 81.85386873068545,\n 'firstorder_RootMeanSquared': 189.30357522325272,\n 'firstorder_Skewness': -0.4359418352470486,\n 'firstorder_TotalEnergy': 48631246562.0,\n 'firstorder_Uniformity': 0.19248149931287073,\n 'firstorder_Variance': 9816.751212769297,\n 'glcm_Autocorrelation': 52.864223335669855,\n 'glcm_ClusterProminence': 3732.5524153605143,\n 'glcm_ClusterShade': -99.14875874080863,\n 'glcm_ClusterTendency': 44.80495097891886,\n 'glcm_Contrast': 17.861060759486943,\n 'glcm_Correlation': 0.42532319546796554,\n 'glcm_DifferenceAverage': 2.5959567694186445,\n 'glcm_DifferenceEntropy': 2.279308014992474,\n 'glcm_DifferenceVariance': 8.38897687783326,\n 'glcm_Id': 0.5901387005422669,\n 'glcm_Idm': 0.5416484003242925,\n 'glcm_Idmn': 0.9027954669964569,\n 'glcm_Idn': 0.8508455818921188,\n 'glcm_Imc1': -0.41505049505665903,\n 'glcm_Imc2': 0.8770185766329159,\n 'glcm_InverseVariance': 0.1593241991231008,\n 'glcm_JointAverage': 6.7887747386076605,\n 'glcm_JointEnergy': 0.08552669140724345,\n 'glcm_JointEntropy': 4.752292218009281,\n 'glcm_MCC': 0.6571059699016383,\n 'glcm_MaximumProbability': 0.22004862172834314,\n 'glcm_SumAverage': 13.577549477215321,\n 'glcm_SumEntropy': 3.63543052342609,\n 'glcm_SumSquares': 15.66650293460145,\n 'glrlm_GrayLevelNonUniformity': 124827.1318087816,\n 'glrlm_GrayLevelNonUniformityNormalized': 0.15237684473740593,\n 'glrlm_GrayLevelVariance': 15.239281878111814,\n 'glrlm_HighGrayLevelRunEmphasis': 60.37645188490732,\n 'glrlm_LongRunEmphasis': 2590.3577983660844,\n 'glrlm_LongRunHighGrayLevelEmphasis': 218833.79158725168,\n 'glrlm_LongRunLowGrayLevelEmphasis': 391.63264731877945,\n 'glrlm_LowGrayLevelRunEmphasis': 0.19160862564144357,\n 'glrlm_RunEntropy': 4.643823121689165,\n 'glrlm_RunLengthNonUniformity': 610505.6147918061,\n 'glrlm_RunLengthNonUniformityNormalized': 0.5621294802381683,\n 'glrlm_RunPercentage': 0.5879871291519743,\n 'glrlm_RunVariance': 1938.9337054511209,\n 'glrlm_ShortRunEmphasis': 0.6966724605211674,\n 'glrlm_ShortRunHighGrayLevelEmphasis': 41.11630753427549,\n 'glrlm_ShortRunLowGrayLevelEmphasis': 0.11574084049824578,\n 'glszm_GrayLevelNonUniformity': 289.0125441003528,\n 'glszm_GrayLevelNonUniformityNormalized': 0.11329382363792741,\n 'glszm_GrayLevelVariance': 5.975555661756152,\n 'glszm_HighGrayLevelZoneEmphasis': 42.62289298314386,\n 'glszm_LargeAreaEmphasis': 129143579.14621717,\n 'glszm_LargeAreaHighGrayLevelEmphasis': 13014440133.629166,\n 'glszm_LargeAreaLowGrayLevelEmphasis': 14137963.572796725,\n 'glszm_LowGrayLevelZoneEmphasis': 0.056859764210834836,\n 'glszm_SizeZoneNonUniformity': 728.6550372402979,\n 'glszm_SizeZoneNonUniformityNormalized': 0.2856350596786742,\n 'glszm_SmallAreaEmphasis': 0.5489566416789188,\n 'glszm_SmallAreaHighGrayLevelEmphasis': 21.196786038007236,\n 'glszm_SmallAreaLowGrayLevelEmphasis': 0.03241873760698908,\n 'glszm_ZoneEntropy': 5.707534584440323,\n 'glszm_ZonePercentage': 0.0018798045180154687,\n 'glszm_ZoneVariance': 128860586.84427117,\n 'gldm_DependenceEntropy': 3.9760147824240275,\n 'gldm_DependenceNonUniformity': 720253.6759573666,\n 'gldm_DependenceNonUniformityNormalized': 0.5307472027369294,\n 'gldm_DependenceVariance': 26.88296560561515,\n 'gldm_GrayLevelNonUniformity': 261208.17353152708,\n 'gldm_GrayLevelVariance': 15.977389875106034,\n 'gldm_HighGrayLevelEmphasis': 66.32090790652707,\n 'gldm_LargeDependenceEmphasis': 164.0617483729485,\n 'gldm_LargeDependenceHighGrayLevelEmphasis': 13045.448403013583,\n 'gldm_LargeDependenceLowGrayLevelEmphasis': 30.139083237278154,\n 'gldm_LowGrayLevelEmphasis': 0.18318509284593867,\n 'gldm_SmallDependenceEmphasis': 0.011610944348326869,\n 'gldm_SmallDependenceHighGrayLevelEmphasis': 0.6828154306384415,\n 'gldm_SmallDependenceLowGrayLevelEmphasis': 0.0018438188372181521,\n 'ngtdm_Busyness': 6343.212431715177,\n 'ngtdm_Coarseness': 1.6130796330660054e-06,\n 'ngtdm_Complexity': 147.75310753729204,\n 'ngtdm_Contrast': 0.6472471113404589,\n 'ngtdm_Strength': 0.0001977430280285556}"
     },
     "execution_count": 22,
     "metadata": {},
     "output_type": "execute_result"
    }
   ],
   "source": [
    "s.extracted_features"
   ],
   "metadata": {
    "collapsed": false,
    "pycharm": {
     "name": "#%%\n"
    }
   }
  },
  {
   "cell_type": "code",
   "execution_count": 29,
   "outputs": [
    {
     "data": {
      "text/plain": "()"
     },
     "execution_count": 29,
     "metadata": {},
     "output_type": "execute_result"
    }
   ],
   "source": [
    "attr.fields(FeatureExtractor)"
   ],
   "metadata": {
    "collapsed": false,
    "pycharm": {
     "name": "#%%\n"
    }
   }
  },
  {
   "cell_type": "code",
   "execution_count": 5,
   "outputs": [],
   "source": [],
   "metadata": {
    "collapsed": false,
    "pycharm": {
     "name": "#%%\n"
    }
   }
  },
  {
   "cell_type": "code",
   "execution_count": 15,
   "outputs": [],
   "source": [
    "img_hsv = cv2.cvtColor(cv2.imread(image_path), cv2.COLOR_BGR2HSV)\n"
   ],
   "metadata": {
    "collapsed": false,
    "pycharm": {
     "name": "#%%\n"
    }
   }
  },
  {
   "cell_type": "code",
   "execution_count": 23,
   "outputs": [],
   "source": [
    "#####################################"
   ],
   "metadata": {
    "collapsed": false,
    "pycharm": {
     "name": "#%%\n"
    }
   }
  },
  {
   "cell_type": "code",
   "execution_count": 1,
   "outputs": [],
   "source": [
    "from curaitor import aestheticevaluator\n",
    "model = aestheticevaluator.initialize_model(r'C:\\Users\\R\\Downloads\\resnet50_model_batch_size(512)_learning_rate(0.0002)_l2_norm_(0.0)_lr_scheduler_factor(0.2)_lr_scheduler_patience(8)_lr_scheduler_min_lr(1e-11)_gradient_clip_val(1)_stochastic_weight_avg(True)_epochs(50).ckpt')"
   ],
   "metadata": {
    "collapsed": false,
    "pycharm": {
     "name": "#%%\n"
    }
   }
  },
  {
   "cell_type": "code",
   "execution_count": 5,
   "outputs": [
    {
     "data": {
      "text/plain": "{'class_probabilities': tensor([[5.9013e-02, 1.2764e-01, 8.0264e-02, 7.3294e-01, 1.4362e-04],\n         [6.2138e-03, 2.3404e-04, 7.7988e-02, 2.9505e-01, 6.2052e-01]]),\n 'class_predictions': tensor([3, 4])}"
     },
     "execution_count": 5,
     "metadata": {},
     "output_type": "execute_result"
    }
   ],
   "source": [
    "model(files)"
   ],
   "metadata": {
    "collapsed": false,
    "pycharm": {
     "name": "#%%\n"
    }
   }
  },
  {
   "cell_type": "code",
   "execution_count": 31,
   "outputs": [],
   "source": [],
   "metadata": {
    "collapsed": false,
    "pycharm": {
     "name": "#%%\n"
    }
   }
  },
  {
   "cell_type": "code",
   "execution_count": 4,
   "outputs": [
    {
     "data": {
      "text/plain": "['C:/Users/R/PycharmProjects/Thesis_cur-AI-tor/images\\\\fb14bb0c4a024d8f93522ed47c3cde97 - Copy (2).jpg',\n 'C:/Users/R/PycharmProjects/Thesis_cur-AI-tor/images\\\\ff742b8e8e6120f27ec567f60143fc82.jpg']"
     },
     "execution_count": 4,
     "metadata": {},
     "output_type": "execute_result"
    }
   ],
   "source": [
    "import glob\n",
    "files = glob.glob('C:/Users/R/PycharmProjects/Thesis_cur-AI-tor/images/*.*')\n",
    "files"
   ],
   "metadata": {
    "collapsed": false,
    "pycharm": {
     "name": "#%%\n"
    }
   }
  },
  {
   "cell_type": "code",
   "execution_count": null,
   "outputs": [],
   "source": [],
   "metadata": {
    "collapsed": false,
    "pycharm": {
     "name": "#%%\n"
    }
   }
  }
 ],
 "metadata": {
  "kernelspec": {
   "name": "thesis_cur-ai-tor",
   "language": "python",
   "display_name": "Thesis_cur-AI-tor"
  },
  "language_info": {
   "codemirror_mode": {
    "name": "ipython",
    "version": 2
   },
   "file_extension": ".py",
   "mimetype": "text/x-python",
   "name": "python",
   "nbconvert_exporter": "python",
   "pygments_lexer": "ipython2",
   "version": "2.7.6"
  }
 },
 "nbformat": 4,
 "nbformat_minor": 0
}