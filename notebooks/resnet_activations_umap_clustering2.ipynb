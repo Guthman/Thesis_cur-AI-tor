{
 "cells": [
  {
   "cell_type": "code",
   "execution_count": null,
   "outputs": [],
   "source": [],
   "metadata": {
    "collapsed": false,
    "pycharm": {
     "name": "#%%\n"
    }
   }
  },
  {
   "cell_type": "code",
   "execution_count": 1,
   "outputs": [],
   "source": [
    "import numpy as np\n",
    "import matplotlib.pyplot as plt\n",
    "import seaborn as sns\n",
    "import pandas as pd\n",
    "import ujson as json\n",
    "from sklearn.decomposition import PCA\n",
    "\n",
    "import umap\n",
    "import hdbscan\n",
    "import sklearn.cluster as cluster\n",
    "from sklearn.metrics import adjusted_rand_score, adjusted_mutual_info_score\n",
    "from tqdm.auto import tqdm\n",
    "%matplotlib inline\n",
    "sns.set(style='white', rc={'figure.figsize':(10,8)})"
   ],
   "metadata": {
    "collapsed": false,
    "pycharm": {
     "name": "#%%\n"
    }
   }
  },
  {
   "cell_type": "code",
   "execution_count": 2,
   "outputs": [],
   "source": [
    "# load ResNet activations\n",
    "data_dir = r'C:\\Users\\Rodney\\PycharmProjects\\Thesis_cur-AI-tor\\notebooks\\micro_dataset1_resnet18_output_identity.json'\n",
    "with open(data_dir, 'r') as f:\n",
    "    data_dict_list = json.load(f)\n",
    "\n",
    "data_dict = {}\n",
    "for element in data_dict_list:\n",
    "    data_dict.update(element)\n",
    "\n",
    "df_x = pd.DataFrame.from_dict(data_dict, orient='index')\n",
    "# df_x.head()\n",
    "X = df_x.values"
   ],
   "metadata": {
    "collapsed": false,
    "pycharm": {
     "name": "#%%\n"
    }
   }
  },
  {
   "cell_type": "code",
   "execution_count": 10,
   "outputs": [
    {
     "name": "stdout",
     "output_type": "stream",
     "text": [
      "(360, 50, 10, 500)\n",
      "(360, 50, 20, 500)\n",
      "(360, 25, 10, 500)\n",
      "(360, 25, 20, 500)\n",
      "(480, 50, 10, 500)\n",
      "(480, 50, 20, 500)\n",
      "(480, 25, 10, 500)\n",
      "(480, 25, 20, 500)\n",
      "(720, 50, 10, 500)\n",
      "(720, 50, 20, 500)\n",
      "(720, 25, 10, 500)\n",
      "(720, 25, 20, 500)\n"
     ]
    }
   ],
   "source": [
    "# n_neighbors_l = [60, 120, 240, 480, 960]\n",
    "n_neighbors_l = [360, 480, 720]\n",
    "# n_components_l = [10, 20, 40, 80, 160]\n",
    "n_components_l = [50, 25]\n",
    "min_samples_l = [10, 20]\n",
    "# min_cluster_size_l = [500, 750, 1000, 1250, 1500]\n",
    "min_cluster_size_l = [500]\n",
    "\n",
    "ls = [n_neighbors_l, n_components_l, min_samples_l, min_cluster_size_l]\n",
    "\n",
    "\n",
    "import itertools\n",
    "for element in itertools.product(*ls):\n",
    "    print(element)"
   ],
   "metadata": {
    "collapsed": false,
    "pycharm": {
     "name": "#%%\n"
    }
   }
  },
  {
   "cell_type": "code",
   "execution_count": 24,
   "outputs": [
    {
     "data": {
      "text/plain": "[(1440, 10), (2880, 10)]"
     },
     "execution_count": 24,
     "metadata": {},
     "output_type": "execute_result"
    }
   ],
   "source": [
    "# n_neighbors_l = [360, 480, 720]\n",
    "n_neighbors_l = [1440, 2880]\n",
    "n_components_l = [10]\n",
    "ls = [n_neighbors_l, n_components_l]\n",
    "umap_params = list(itertools.product(*ls))\n",
    "umap_params"
   ],
   "metadata": {
    "collapsed": false,
    "pycharm": {
     "name": "#%%\n"
    }
   }
  },
  {
   "cell_type": "code",
   "execution_count": 25,
   "outputs": [
    {
     "data": {
      "text/plain": "  0%|          | 0/2 [00:00<?, ?it/s]",
      "application/vnd.jupyter.widget-view+json": {
       "version_major": 2,
       "version_minor": 0,
       "model_id": "0898f5d1d6784fadb1b7730c6d1be0f3"
      }
     },
     "metadata": {},
     "output_type": "display_data"
    }
   ],
   "source": [
    "# Generate UMAP embeddings\n",
    "embedding_list = []\n",
    "for hparams in tqdm(umap_params):\n",
    "    clusterable_embedding = umap.UMAP(\n",
    "        n_neighbors=hparams[0],\n",
    "        min_dist=0.0,\n",
    "        n_components=hparams[1],\n",
    "        random_state=3,\n",
    "    ).fit_transform(X)\n",
    "    embedding_list.append(clusterable_embedding)"
   ],
   "metadata": {
    "collapsed": false,
    "pycharm": {
     "name": "#%%\n"
    }
   }
  },
  {
   "cell_type": "code",
   "execution_count": 26,
   "outputs": [
    {
     "data": {
      "text/plain": "[(1, 25),\n (1, 250),\n (1, 1000),\n (1, 2000),\n (10, 25),\n (10, 250),\n (10, 1000),\n (10, 2000),\n (20, 25),\n (20, 250),\n (20, 1000),\n (20, 2000),\n (100, 25),\n (100, 250),\n (100, 1000),\n (100, 2000)]"
     },
     "execution_count": 26,
     "metadata": {},
     "output_type": "execute_result"
    }
   ],
   "source": [
    "min_samples_l = [1, 10, 20, 100]\n",
    "min_cluster_size_l = [25, 250, 1000, 2000]\n",
    "ls = [min_samples_l, min_cluster_size_l]\n",
    "hdbscan_params = list(itertools.product(*ls))\n",
    "hdbscan_params"
   ],
   "metadata": {
    "collapsed": false,
    "pycharm": {
     "name": "#%%\n"
    }
   }
  },
  {
   "cell_type": "code",
   "execution_count": 27,
   "outputs": [
    {
     "data": {
      "text/plain": "0it [00:00, ?it/s]",
      "application/vnd.jupyter.widget-view+json": {
       "version_major": 2,
       "version_minor": 0,
       "model_id": "7e38980e872247adb32fd519d3240027"
      }
     },
     "metadata": {},
     "output_type": "display_data"
    },
    {
     "data": {
      "text/plain": "  0%|          | 0/16 [00:00<?, ?it/s]",
      "application/vnd.jupyter.widget-view+json": {
       "version_major": 2,
       "version_minor": 0,
       "model_id": "9208c73e3256451facf6cd8cea4cb16e"
      }
     },
     "metadata": {},
     "output_type": "display_data"
    },
    {
     "name": "stdout",
     "output_type": "stream",
     "text": [
      "hparams: (1, 25), metric: 0.9637390790251593\n",
      "hparams: (1, 250), metric: 0.38888523944032055\n",
      "hparams: (1, 1000), metric: 0.3337055770873021\n",
      "hparams: (1, 2000), metric: 0.0\n",
      "hparams: (10, 25), metric: 0.29606516455363596\n",
      "hparams: (10, 250), metric: 0.30368521316429087\n",
      "hparams: (10, 1000), metric: 0.2696577547132628\n",
      "hparams: (10, 2000), metric: 0.0\n",
      "hparams: (20, 25), metric: 0.29934966826512516\n",
      "hparams: (20, 250), metric: 0.27583262169086253\n",
      "hparams: (20, 1000), metric: 0.31222492281416275\n",
      "hparams: (20, 2000), metric: 0.0\n",
      "hparams: (100, 25), metric: 0.3231951652105367\n",
      "hparams: (100, 250), metric: 0.29797017670629966\n",
      "hparams: (100, 1000), metric: 0.3193851409052092\n",
      "hparams: (100, 2000), metric: 0.0\n"
     ]
    },
    {
     "data": {
      "text/plain": "  0%|          | 0/16 [00:00<?, ?it/s]",
      "application/vnd.jupyter.widget-view+json": {
       "version_major": 2,
       "version_minor": 0,
       "model_id": "dfd190abf11a4d908259416c64f6f948"
      }
     },
     "metadata": {},
     "output_type": "display_data"
    },
    {
     "name": "stdout",
     "output_type": "stream",
     "text": [
      "hparams: (1, 25), metric: 0.4941864284306641\n",
      "hparams: (1, 250), metric: 0.4482690665440452\n",
      "hparams: (1, 1000), metric: 0.4628522630230572\n",
      "hparams: (1, 2000), metric: 0.0\n",
      "hparams: (10, 25), metric: 0.7520856598567957\n",
      "hparams: (10, 250), metric: 0.30368521316429087\n",
      "hparams: (10, 1000), metric: 0.3260855284766472\n",
      "hparams: (10, 2000), metric: 0.0\n",
      "hparams: (20, 25), metric: 0.32569138803126846\n",
      "hparams: (20, 250), metric: 0.3629376601195559\n",
      "hparams: (20, 1000), metric: 0.3817250213492741\n",
      "hparams: (20, 2000), metric: 0.2843723313407344\n",
      "hparams: (100, 25), metric: 0.34776325297247584\n",
      "hparams: (100, 250), metric: 0.4608815607961637\n",
      "hparams: (100, 1000), metric: 0.5488405701898443\n",
      "hparams: (100, 2000), metric: 0.5488405701898443\n"
     ]
    }
   ],
   "source": [
    "results = {}\n",
    "for i, clusterable_embedding in tqdm(enumerate(embedding_list)):\n",
    "    for hparams in tqdm(hdbscan_params, leave=False):\n",
    "        labels = hdbscan.HDBSCAN(\n",
    "            min_samples=hparams[0],\n",
    "            min_cluster_size=hparams[1],\n",
    "        ).fit_predict(clusterable_embedding)\n",
    "\n",
    "        clustered = (labels >= 0)\n",
    "\n",
    "        d = {hparams: {\n",
    "            'embedding':(i, clusterable_embedding),\n",
    "            'metric': np.sum(clustered) / X.shape[0]}}\n",
    "        results.update(d)\n",
    "        print(f'hparams: {hparams}, metric: {np.sum(clustered) / X.shape[0]}')"
   ],
   "metadata": {
    "collapsed": false,
    "pycharm": {
     "name": "#%%\n"
    }
   }
  },
  {
   "cell_type": "code",
   "execution_count": 11,
   "outputs": [
    {
     "data": {
      "text/plain": "  0%|          | 0/12 [00:00<?, ?it/s]",
      "application/vnd.jupyter.widget-view+json": {
       "version_major": 2,
       "version_minor": 0,
       "model_id": "c4dbcc3ae4254488ba5c3bcc5a651021"
      }
     },
     "metadata": {},
     "output_type": "display_data"
    },
    {
     "name": "stdout",
     "output_type": "stream",
     "text": [
      "hparams: (360, 50, 10, 500), metric: 0.26906654404519476\n",
      "hparams: (360, 50, 20, 500), metric: 0.30473625435196744\n",
      "hparams: (360, 25, 10, 500), metric: 0.2750443408001051\n",
      "hparams: (360, 25, 20, 500), metric: 0.38435262431846545\n",
      "hparams: (480, 50, 10, 500), metric: 0.41457005846416606\n"
     ]
    },
    {
     "ename": "KeyboardInterrupt",
     "evalue": "",
     "output_type": "error",
     "traceback": [
      "\u001B[1;31m---------------------------------------------------------------------------\u001B[0m",
      "\u001B[1;31mKeyboardInterrupt\u001B[0m                         Traceback (most recent call last)",
      "\u001B[1;32m<ipython-input-11-30bf97ed1e9d>\u001B[0m in \u001B[0;36m<module>\u001B[1;34m\u001B[0m\n\u001B[0;32m      4\u001B[0m \u001B[1;32mfor\u001B[0m \u001B[0mhparams\u001B[0m \u001B[1;32min\u001B[0m \u001B[0mtqdm\u001B[0m\u001B[1;33m(\u001B[0m\u001B[0mhparams_list\u001B[0m\u001B[1;33m)\u001B[0m\u001B[1;33m:\u001B[0m\u001B[1;33m\u001B[0m\u001B[1;33m\u001B[0m\u001B[0m\n\u001B[0;32m      5\u001B[0m \u001B[1;33m\u001B[0m\u001B[0m\n\u001B[1;32m----> 6\u001B[1;33m     clusterable_embedding = umap.UMAP(\n\u001B[0m\u001B[0;32m      7\u001B[0m         \u001B[0mn_neighbors\u001B[0m\u001B[1;33m=\u001B[0m\u001B[0mhparams\u001B[0m\u001B[1;33m[\u001B[0m\u001B[1;36m0\u001B[0m\u001B[1;33m]\u001B[0m\u001B[1;33m,\u001B[0m\u001B[1;33m\u001B[0m\u001B[1;33m\u001B[0m\u001B[0m\n\u001B[0;32m      8\u001B[0m         \u001B[0mmin_dist\u001B[0m\u001B[1;33m=\u001B[0m\u001B[1;36m0.0\u001B[0m\u001B[1;33m,\u001B[0m\u001B[1;33m\u001B[0m\u001B[1;33m\u001B[0m\u001B[0m\n",
      "\u001B[1;32m~\\Anaconda3\\envs\\Thesis_cur-AI-tor\\lib\\site-packages\\umap\\umap_.py\u001B[0m in \u001B[0;36mfit_transform\u001B[1;34m(self, X, y)\u001B[0m\n\u001B[0;32m   2632\u001B[0m             \u001B[0mLocal\u001B[0m \u001B[0mradii\u001B[0m \u001B[0mof\u001B[0m \u001B[0mdata\u001B[0m \u001B[0mpoints\u001B[0m \u001B[1;32min\u001B[0m \u001B[0mthe\u001B[0m \u001B[0membedding\u001B[0m \u001B[1;33m(\u001B[0m\u001B[0mlog\u001B[0m\u001B[1;33m-\u001B[0m\u001B[0mtransformed\u001B[0m\u001B[1;33m)\u001B[0m\u001B[1;33m.\u001B[0m\u001B[1;33m\u001B[0m\u001B[1;33m\u001B[0m\u001B[0m\n\u001B[0;32m   2633\u001B[0m         \"\"\"\n\u001B[1;32m-> 2634\u001B[1;33m         \u001B[0mself\u001B[0m\u001B[1;33m.\u001B[0m\u001B[0mfit\u001B[0m\u001B[1;33m(\u001B[0m\u001B[0mX\u001B[0m\u001B[1;33m,\u001B[0m \u001B[0my\u001B[0m\u001B[1;33m)\u001B[0m\u001B[1;33m\u001B[0m\u001B[1;33m\u001B[0m\u001B[0m\n\u001B[0m\u001B[0;32m   2635\u001B[0m         \u001B[1;32mif\u001B[0m \u001B[0mself\u001B[0m\u001B[1;33m.\u001B[0m\u001B[0mtransform_mode\u001B[0m \u001B[1;33m==\u001B[0m \u001B[1;34m\"embedding\"\u001B[0m\u001B[1;33m:\u001B[0m\u001B[1;33m\u001B[0m\u001B[1;33m\u001B[0m\u001B[0m\n\u001B[0;32m   2636\u001B[0m             \u001B[1;32mif\u001B[0m \u001B[0mself\u001B[0m\u001B[1;33m.\u001B[0m\u001B[0moutput_dens\u001B[0m\u001B[1;33m:\u001B[0m\u001B[1;33m\u001B[0m\u001B[1;33m\u001B[0m\u001B[0m\n",
      "\u001B[1;32m~\\Anaconda3\\envs\\Thesis_cur-AI-tor\\lib\\site-packages\\umap\\umap_.py\u001B[0m in \u001B[0;36mfit\u001B[1;34m(self, X, y)\u001B[0m\n\u001B[0;32m   2551\u001B[0m \u001B[1;33m\u001B[0m\u001B[0m\n\u001B[0;32m   2552\u001B[0m         \u001B[1;32mif\u001B[0m \u001B[0mself\u001B[0m\u001B[1;33m.\u001B[0m\u001B[0mtransform_mode\u001B[0m \u001B[1;33m==\u001B[0m \u001B[1;34m\"embedding\"\u001B[0m\u001B[1;33m:\u001B[0m\u001B[1;33m\u001B[0m\u001B[1;33m\u001B[0m\u001B[0m\n\u001B[1;32m-> 2553\u001B[1;33m             self.embedding_, aux_data = self._fit_embed_data(\n\u001B[0m\u001B[0;32m   2554\u001B[0m                 \u001B[0mself\u001B[0m\u001B[1;33m.\u001B[0m\u001B[0m_raw_data\u001B[0m\u001B[1;33m[\u001B[0m\u001B[0mindex\u001B[0m\u001B[1;33m]\u001B[0m\u001B[1;33m,\u001B[0m \u001B[0mn_epochs\u001B[0m\u001B[1;33m,\u001B[0m \u001B[0minit\u001B[0m\u001B[1;33m,\u001B[0m \u001B[0mrandom_state\u001B[0m\u001B[1;33m,\u001B[0m  \u001B[1;31m# JH why raw data?\u001B[0m\u001B[1;33m\u001B[0m\u001B[1;33m\u001B[0m\u001B[0m\n\u001B[0;32m   2555\u001B[0m             )\n",
      "\u001B[1;32m~\\Anaconda3\\envs\\Thesis_cur-AI-tor\\lib\\site-packages\\umap\\umap_.py\u001B[0m in \u001B[0;36m_fit_embed_data\u001B[1;34m(self, X, n_epochs, init, random_state)\u001B[0m\n\u001B[0;32m   2578\u001B[0m         \u001B[0mreplaced\u001B[0m \u001B[0mby\u001B[0m \u001B[0msubclasses\u001B[0m\u001B[1;33m.\u001B[0m\u001B[1;33m\u001B[0m\u001B[1;33m\u001B[0m\u001B[0m\n\u001B[0;32m   2579\u001B[0m         \"\"\"\n\u001B[1;32m-> 2580\u001B[1;33m         return simplicial_set_embedding(\n\u001B[0m\u001B[0;32m   2581\u001B[0m             \u001B[0mX\u001B[0m\u001B[1;33m,\u001B[0m\u001B[1;33m\u001B[0m\u001B[1;33m\u001B[0m\u001B[0m\n\u001B[0;32m   2582\u001B[0m             \u001B[0mself\u001B[0m\u001B[1;33m.\u001B[0m\u001B[0mgraph_\u001B[0m\u001B[1;33m,\u001B[0m\u001B[1;33m\u001B[0m\u001B[1;33m\u001B[0m\u001B[0m\n",
      "\u001B[1;32m~\\Anaconda3\\envs\\Thesis_cur-AI-tor\\lib\\site-packages\\umap\\umap_.py\u001B[0m in \u001B[0;36msimplicial_set_embedding\u001B[1;34m(data, graph, n_components, initial_alpha, a, b, gamma, negative_sample_rate, n_epochs, init, random_state, metric, metric_kwds, densmap, densmap_kwds, output_dens, output_metric, output_metric_kwds, euclidean_output, parallel, verbose)\u001B[0m\n\u001B[0;32m   1130\u001B[0m \u001B[1;33m\u001B[0m\u001B[0m\n\u001B[0;32m   1131\u001B[0m     \u001B[1;32mif\u001B[0m \u001B[0meuclidean_output\u001B[0m\u001B[1;33m:\u001B[0m\u001B[1;33m\u001B[0m\u001B[1;33m\u001B[0m\u001B[0m\n\u001B[1;32m-> 1132\u001B[1;33m         embedding = optimize_layout_euclidean(\n\u001B[0m\u001B[0;32m   1133\u001B[0m             \u001B[0membedding\u001B[0m\u001B[1;33m,\u001B[0m\u001B[1;33m\u001B[0m\u001B[1;33m\u001B[0m\u001B[0m\n\u001B[0;32m   1134\u001B[0m             \u001B[0membedding\u001B[0m\u001B[1;33m,\u001B[0m\u001B[1;33m\u001B[0m\u001B[1;33m\u001B[0m\u001B[0m\n",
      "\u001B[1;32m~\\Anaconda3\\envs\\Thesis_cur-AI-tor\\lib\\site-packages\\umap\\layouts.py\u001B[0m in \u001B[0;36moptimize_layout_euclidean\u001B[1;34m(head_embedding, tail_embedding, head, tail, n_epochs, n_vertices, epochs_per_sample, a, b, rng_state, gamma, initial_alpha, negative_sample_rate, parallel, verbose, densmap, densmap_kwds)\u001B[0m\n\u001B[0;32m    372\u001B[0m         )\n\u001B[0;32m    373\u001B[0m \u001B[1;33m\u001B[0m\u001B[0m\n\u001B[1;32m--> 374\u001B[1;33m         \u001B[0malpha\u001B[0m \u001B[1;33m=\u001B[0m \u001B[0minitial_alpha\u001B[0m \u001B[1;33m*\u001B[0m \u001B[1;33m(\u001B[0m\u001B[1;36m1.0\u001B[0m \u001B[1;33m-\u001B[0m \u001B[1;33m(\u001B[0m\u001B[0mfloat\u001B[0m\u001B[1;33m(\u001B[0m\u001B[0mn\u001B[0m\u001B[1;33m)\u001B[0m \u001B[1;33m/\u001B[0m \u001B[0mfloat\u001B[0m\u001B[1;33m(\u001B[0m\u001B[0mn_epochs\u001B[0m\u001B[1;33m)\u001B[0m\u001B[1;33m)\u001B[0m\u001B[1;33m)\u001B[0m\u001B[1;33m\u001B[0m\u001B[1;33m\u001B[0m\u001B[0m\n\u001B[0m\u001B[0;32m    375\u001B[0m \u001B[1;33m\u001B[0m\u001B[0m\n\u001B[0;32m    376\u001B[0m         \u001B[1;32mif\u001B[0m \u001B[0mverbose\u001B[0m \u001B[1;32mand\u001B[0m \u001B[0mn\u001B[0m \u001B[1;33m%\u001B[0m \u001B[0mint\u001B[0m\u001B[1;33m(\u001B[0m\u001B[0mn_epochs\u001B[0m \u001B[1;33m/\u001B[0m \u001B[1;36m10\u001B[0m\u001B[1;33m)\u001B[0m \u001B[1;33m==\u001B[0m \u001B[1;36m0\u001B[0m\u001B[1;33m:\u001B[0m\u001B[1;33m\u001B[0m\u001B[1;33m\u001B[0m\u001B[0m\n",
      "\u001B[1;31mKeyboardInterrupt\u001B[0m: "
     ]
    }
   ],
   "source": [
    "results = {}\n",
    "# Hyperparameter search\n",
    "hparams_list = list(itertools.product(*ls))\n",
    "for hparams in tqdm(hparams_list):\n",
    "\n",
    "    clusterable_embedding = umap.UMAP(\n",
    "        n_neighbors=hparams[0],\n",
    "        min_dist=0.0,\n",
    "        n_components=hparams[1],\n",
    "        random_state=3,\n",
    "    ).fit_transform(X)\n",
    "\n",
    "    labels = hdbscan.HDBSCAN(\n",
    "        min_samples=hparams[2],\n",
    "        min_cluster_size=hparams[3],\n",
    "    ).fit_predict(clusterable_embedding)\n",
    "\n",
    "    clustered = (labels >= 0)\n",
    "\n",
    "    d = {hparams: {\n",
    "        'embedding':clusterable_embedding,\n",
    "        'metric': np.sum(clustered) / X.shape[0]}}\n",
    "    results.update(d)\n",
    "    print(f'hparams: {hparams}, metric: {np.sum(clustered) / X.shape[0]}')"
   ],
   "metadata": {
    "collapsed": false,
    "pycharm": {
     "name": "#%%\n"
    }
   }
  },
  {
   "cell_type": "code",
   "execution_count": null,
   "outputs": [],
   "source": [
    "# 372\n",
    "for k in results.keys():\n",
    "    print(results[k]['metric'])"
   ],
   "metadata": {
    "collapsed": false,
    "pycharm": {
     "name": "#%%\n"
    }
   }
  },
  {
   "cell_type": "code",
   "execution_count": 33,
   "metadata": {
    "collapsed": true,
    "pycharm": {
     "name": "#%%\n"
    }
   },
   "outputs": [
    {
     "data": {
      "text/plain": "-1    6868\n 1    4578\n 0    3777\ndtype: int64"
     },
     "execution_count": 33,
     "metadata": {},
     "output_type": "execute_result"
    }
   ],
   "source": [
    "\n",
    "pd.DataFrame(labels).value_counts()"
   ]
  },
  {
   "cell_type": "code",
   "execution_count": 34,
   "outputs": [],
   "source": [
    "\n",
    "\n",
    "clusterable_embedding = umap.UMAP(\n",
    "    n_neighbors=1440,\n",
    "    min_dist=0.0,\n",
    "    n_components=10,\n",
    "    random_state=3,\n",
    ").fit_transform(X)\n",
    "\n",
    "labels = hdbscan.HDBSCAN(\n",
    "    min_samples=1,\n",
    "    min_cluster_size=500,\n",
    ").fit_predict(clusterable_embedding)\n",
    "\n",
    "clustered = (labels >= 0)"
   ],
   "metadata": {
    "collapsed": false,
    "pycharm": {
     "name": "#%%\n"
    }
   }
  },
  {
   "cell_type": "code",
   "execution_count": 35,
   "outputs": [
    {
     "data": {
      "text/plain": "0.37581291466859357"
     },
     "execution_count": 35,
     "metadata": {},
     "output_type": "execute_result"
    }
   ],
   "source": [
    "np.sum(clustered) / X.shape[0]"
   ],
   "metadata": {
    "collapsed": false,
    "pycharm": {
     "name": "#%%\n"
    }
   }
  },
  {
   "cell_type": "code",
   "execution_count": null,
   "outputs": [],
   "source": [],
   "metadata": {
    "collapsed": false,
    "pycharm": {
     "name": "#%%\n"
    }
   }
  }
 ],
 "metadata": {
  "kernelspec": {
   "display_name": "Python 3",
   "language": "python",
   "name": "python3"
  },
  "language_info": {
   "codemirror_mode": {
    "name": "ipython",
    "version": 2
   },
   "file_extension": ".py",
   "mimetype": "text/x-python",
   "name": "python",
   "nbconvert_exporter": "python",
   "pygments_lexer": "ipython2",
   "version": "2.7.6"
  }
 },
 "nbformat": 4,
 "nbformat_minor": 0
}