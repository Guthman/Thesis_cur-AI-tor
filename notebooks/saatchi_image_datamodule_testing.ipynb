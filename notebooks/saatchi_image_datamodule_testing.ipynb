{
 "cells": [
  {
   "cell_type": "code",
   "execution_count": 1,
   "outputs": [],
   "source": [
    "import pandas as pd\n",
    "import pytorch_lightning as pl\n",
    "from PIL import Image\n",
    "from torch.utils.data import Dataset, DataLoader\n",
    "from torchvision import transforms\n",
    "from torch import as_tensor\n",
    "import tarfile\n",
    "from glob import glob\n",
    "from pathlib import Path"
   ],
   "metadata": {
    "collapsed": false,
    "pycharm": {
     "name": "#%%\n"
    }
   }
  },
  {
   "cell_type": "code",
   "execution_count": 13,
   "metadata": {
    "collapsed": true
   },
   "outputs": [],
   "source": [
    "\n",
    "class SaatchiImageDataset(Dataset):\n",
    "    def untar_images(self,\n",
    "                     path,\n",
    "                     image_extraction_path):\n",
    "        self.dataset_tarfile = tarfile.open(path)\n",
    "        self.dataset_tarfile.extractall(image_extraction_path)\n",
    "        self.dataset_tarfile.close()\n",
    "        return glob(image_extraction_path + '/*/*')\n",
    "\n",
    "    def __init__(self,\n",
    "                 stage: str = 'train',\n",
    "                 target_selection: str = 'LIKES_VIEWS_RATIO_BIN_IDX',\n",
    "                 source_selection: str = 'resnet18+engineered_features',\n",
    "                 path_to_image_tar: str = './data/saatchi512.tar',\n",
    "                 image_extraction_path: str = './data/images/',\n",
    "                 path_to_target_data: str = './data/saatchi_targets.csv'\n",
    "                 ):\n",
    "        self.path_to_image_tar = path_to_image_tar\n",
    "        self.image_extraction_path = image_extraction_path\n",
    "        self.path_to_target_data = path_to_target_data\n",
    "        self.dataset_tarfile = None\n",
    "        self.filelist = None\n",
    "        self.split_fractions = {'train': 0.8, 'validation': 0.1, 'test': 0.1}\n",
    "\n",
    "        # Load target data\n",
    "        self.targets_df = pd.read_csv(path_to_target_data, header=None)\n",
    "        self.targets_df.columns = ['FILENAME', 'PRICE', 'LIKES_VIEWS_RATIO']\n",
    "        # Bin the values\n",
    "        self.targets_df['PRICE_BIN_IDX'] = pd.qcut(self.targets_df['PRICE'], q=5, labels=[0, 1, 2, 3, 4])\n",
    "        self.targets_df['LIKES_VIEWS_RATIO_BIN_IDX'] = pd.qcut(self.targets_df['LIKES_VIEWS_RATIO'],\n",
    "                                                               q=5, labels=[0, 1, 2, 3, 4])\n",
    "        self.targets_df = self.targets_df.astype({'PRICE_BIN_IDX': int, 'LIKES_VIEWS_RATIO_BIN_IDX': int})\n",
    "        self.targets_df.drop(['PRICE', 'LIKES_VIEWS_RATIO'], axis=1, inplace=True)\n",
    "        self.targets_df.set_index('FILENAME', inplace=True)\n",
    "        self.targets_df.head()\n",
    "\n",
    "\n",
    "        # Validate arguments\n",
    "        if stage not in ['train', 'validation', 'test']:\n",
    "            print(f'Invalid stage specified: \"{stage}\" , valid options are: [train, validation, test].')\n",
    "        else:\n",
    "            self.stage = stage\n",
    "\n",
    "        if target_selection not in ['PRICE_BIN_IDX', 'LIKES_VIEWS_RATIO_BIN_IDX']:\n",
    "            print(\n",
    "                f'Invalid target selection specified: \"{target_selection}\"'\n",
    "                f', valid options are: [PRICE_BIN_IDX, LIKES_VIEWS_RATIO_BIN_IDX].')\n",
    "        else:\n",
    "            self.target_selection = target_selection\n",
    "\n",
    "        # Define transforms for images\n",
    "        self.transform = transforms.Compose(\n",
    "        [transforms.ToTensor(), transforms.Normalize(mean=[0.485, 0.456, 0.406], std=[0.229, 0.224, 0.225])]\n",
    "        )\n",
    "\n",
    "        # Create dataset\n",
    "        if Path(image_extraction_path).exists():\n",
    "            print('Image extraction path already exists, using existing contents!')\n",
    "            self.filelist = glob(image_extraction_path + '/*/*')\n",
    "        else:\n",
    "            # Only extract if folder doesn't exist yet\n",
    "            self.filelist = self.untar_images(self.path_to_image_tar, self.image_extraction_path)\n",
    "        # Calculate how many images belong in train, validation, and test\n",
    "        self.train_fraction = int(len(self.filelist) * self.split_fractions['train'])\n",
    "        self.validation_fraction = int(len(self.filelist) * self.split_fractions['validation'])\n",
    "        self.test_fraction = int(len(self.filelist) * self.split_fractions['test'])\n",
    "\n",
    "        if self.stage == 'train':\n",
    "            self.data_ = self.filelist[:self.train_fraction]\n",
    "        elif self.stage == 'validation':\n",
    "            self.data_ = self.filelist[self.train_fraction:self.train_fraction + self.validation_fraction]\n",
    "        elif self.stage == 'test':\n",
    "            self.data_ = self.filelist[self.train_fraction + self.validation_fraction:]\n",
    "\n",
    "    def __getitem__(self, index):\n",
    "        path = self.data_[index]\n",
    "        img = Image.open(path)\n",
    "        image_tensor = self.transform(img)\n",
    "        filename = Path(path).name\n",
    "        target = self.targets_df.loc[filename][self.target_selection]\n",
    "        return image_tensor, as_tensor(target)\n",
    "\n",
    "    def __len__(self):\n",
    "        return len(self.data_)"
   ]
  },
  {
   "cell_type": "code",
   "execution_count": 14,
   "outputs": [],
   "source": [
    "class SaatchiDataModule(pl.LightningDataModule):\n",
    "    def __init__(self,\n",
    "                 batch_size: int = 128,\n",
    "                 num_workers: int = 4,\n",
    "                 target_selection: str = 'LIKES_VIEWS_RATIO_BIN_IDX'):\n",
    "        super().__init__()\n",
    "        self.batch_size = batch_size\n",
    "        self.data = None\n",
    "        self.num_workers = num_workers\n",
    "        self.target_selection = target_selection\n",
    "\n",
    "    def prepare_data(self):\n",
    "        pass\n",
    "\n",
    "    def setup(self, stage: str = None):\n",
    "        if stage == 'fit':\n",
    "            self.data = SaatchiImageDataset(stage='train', target_selection=self.target_selection)\n",
    "        else:\n",
    "            self.data = SaatchiImageDataset(stage=stage, target_selection=self.target_selection)\n",
    "\n",
    "    def train_dataloader(self):\n",
    "        return DataLoader(self.data,\n",
    "                          batch_size=self.batch_size,\n",
    "                          drop_last=True,\n",
    "                          num_workers=self.num_workers,\n",
    "                          pin_memory=True\n",
    "                          )\n",
    "\n",
    "    def val_dataloader(self):\n",
    "        return DataLoader(self.data,\n",
    "                          batch_size=self.batch_size,\n",
    "                          drop_last=True,\n",
    "                          num_workers=self.num_workers,\n",
    "                          pin_memory=True\n",
    "                          )\n",
    "\n",
    "    def test_dataloader(self):\n",
    "        return DataLoader(self.data,\n",
    "                          batch_size=self.batch_size,\n",
    "                          drop_last=True,\n",
    "                          num_workers=self.num_workers,\n",
    "                          pin_memory=True\n",
    "                          )"
   ],
   "metadata": {
    "collapsed": false,
    "pycharm": {
     "name": "#%%\n"
    }
   }
  },
  {
   "cell_type": "code",
   "execution_count": 16,
   "outputs": [
    {
     "name": "stdout",
     "output_type": "stream",
     "text": [
      "Image extraction path already exists, using existing contents!\n"
     ]
    }
   ],
   "source": [
    "d = SaatchiImageDataset(stage='validation',\n",
    "                        target_selection='PRICE_BIN_IDX',\n",
    "                        source_selection='images',\n",
    "                        path_to_image_tar=r'F:\\temp\\thesisdata\\automobile.tar',\n",
    "                        image_extraction_path=r'F:\\temp\\thesisdata\\datamodule_testing',\n",
    "                        path_to_target_data=r'C:\\Users\\R\\PycharmProjects\\Thesis_cur-AI-tor\\notebooks\\data/saatchi_targets.csv')"
   ],
   "metadata": {
    "collapsed": false,
    "pycharm": {
     "name": "#%%\n"
    }
   }
  },
  {
   "cell_type": "code",
   "execution_count": 21,
   "outputs": [
    {
     "ename": "IndexError",
     "evalue": "list index out of range",
     "output_type": "error",
     "traceback": [
      "\u001B[1;31m---------------------------------------------------------------------------\u001B[0m",
      "\u001B[1;31mIndexError\u001B[0m                                Traceback (most recent call last)",
      "\u001B[1;32m<ipython-input-21-ead727612ea4>\u001B[0m in \u001B[0;36m<module>\u001B[1;34m\u001B[0m\n\u001B[1;32m----> 1\u001B[1;33m \u001B[0md\u001B[0m\u001B[1;33m.\u001B[0m\u001B[0m__getitem__\u001B[0m\u001B[1;33m(\u001B[0m\u001B[1;36m2\u001B[0m\u001B[1;33m)\u001B[0m\u001B[1;33m\u001B[0m\u001B[1;33m\u001B[0m\u001B[0m\n\u001B[0m",
      "\u001B[1;32m<ipython-input-13-368f93e7f6b8>\u001B[0m in \u001B[0;36m__getitem__\u001B[1;34m(self, index)\u001B[0m\n\u001B[0;32m     74\u001B[0m \u001B[1;33m\u001B[0m\u001B[0m\n\u001B[0;32m     75\u001B[0m     \u001B[1;32mdef\u001B[0m \u001B[0m__getitem__\u001B[0m\u001B[1;33m(\u001B[0m\u001B[0mself\u001B[0m\u001B[1;33m,\u001B[0m \u001B[0mindex\u001B[0m\u001B[1;33m)\u001B[0m\u001B[1;33m:\u001B[0m\u001B[1;33m\u001B[0m\u001B[1;33m\u001B[0m\u001B[0m\n\u001B[1;32m---> 76\u001B[1;33m         \u001B[0mpath\u001B[0m \u001B[1;33m=\u001B[0m \u001B[0mself\u001B[0m\u001B[1;33m.\u001B[0m\u001B[0mdata_\u001B[0m\u001B[1;33m[\u001B[0m\u001B[0mindex\u001B[0m\u001B[1;33m]\u001B[0m\u001B[1;33m\u001B[0m\u001B[1;33m\u001B[0m\u001B[0m\n\u001B[0m\u001B[0;32m     77\u001B[0m         \u001B[0mimg\u001B[0m \u001B[1;33m=\u001B[0m \u001B[0mImage\u001B[0m\u001B[1;33m.\u001B[0m\u001B[0mopen\u001B[0m\u001B[1;33m(\u001B[0m\u001B[0mpath\u001B[0m\u001B[1;33m)\u001B[0m\u001B[1;33m\u001B[0m\u001B[1;33m\u001B[0m\u001B[0m\n\u001B[0;32m     78\u001B[0m         \u001B[0mimage_tensor\u001B[0m \u001B[1;33m=\u001B[0m \u001B[0mself\u001B[0m\u001B[1;33m.\u001B[0m\u001B[0mtransform\u001B[0m\u001B[1;33m(\u001B[0m\u001B[0mimg\u001B[0m\u001B[1;33m)\u001B[0m\u001B[1;33m\u001B[0m\u001B[1;33m\u001B[0m\u001B[0m\n",
      "\u001B[1;31mIndexError\u001B[0m: list index out of range"
     ]
    }
   ],
   "source": [
    "d.__getitem__(2)"
   ],
   "metadata": {
    "collapsed": false,
    "pycharm": {
     "name": "#%%\n"
    }
   }
  },
  {
   "cell_type": "code",
   "execution_count": null,
   "outputs": [],
   "source": [],
   "metadata": {
    "collapsed": false,
    "pycharm": {
     "name": "#%%\n"
    }
   }
  }
 ],
 "metadata": {
  "kernelspec": {
   "name": "thesis_cur-ai-tor",
   "language": "python",
   "display_name": "Thesis_cur-AI-tor"
  },
  "language_info": {
   "codemirror_mode": {
    "name": "ipython",
    "version": 2
   },
   "file_extension": ".py",
   "mimetype": "text/x-python",
   "name": "python",
   "nbconvert_exporter": "python",
   "pygments_lexer": "ipython2",
   "version": "2.7.6"
  }
 },
 "nbformat": 4,
 "nbformat_minor": 0
}