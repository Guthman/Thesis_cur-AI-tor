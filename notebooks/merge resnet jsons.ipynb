{
 "cells": [
  {
   "cell_type": "code",
   "execution_count": 4,
   "metadata": {
    "collapsed": true
   },
   "outputs": [],
   "source": [
    "import ujson as json\n",
    "import pandas as pd\n",
    "import glob"
   ]
  },
  {
   "cell_type": "code",
   "execution_count": 5,
   "outputs": [],
   "source": [
    "df_list = []\n",
    "for path in glob.glob(r'F:\\temp\\thesisdata\\metrics2\\*.*'):\n",
    "    with open(path, 'r') as f:\n",
    "        data_dict_list = json.load(f)\n",
    "\n",
    "    data_dict = {}\n",
    "    for element in data_dict_list:\n",
    "        data_dict.update(element)\n",
    "\n",
    "    df_list.append(pd.DataFrame.from_dict(data_dict, orient='index'))"
   ],
   "metadata": {
    "collapsed": false,
    "pycharm": {
     "name": "#%%\n"
    }
   }
  },
  {
   "cell_type": "code",
   "execution_count": 6,
   "outputs": [
    {
     "name": "stdout",
     "output_type": "stream",
     "text": [
      "<class 'pandas.core.frame.DataFrame'>\n",
      "Index: 619738 entries, 5674273_5674273_986181_4744079-ZNYHIDDQ-7.jpg to 5412357_5412357_910894_4482169-KBUGPXMJ-7.jpg\n",
      "Columns: 512 entries, 0 to 511\n",
      "dtypes: float64(512)\n",
      "memory usage: 2.4+ GB\n"
     ]
    }
   ],
   "source": [
    "df = pd.concat(df_list)\n",
    "df.info()"
   ],
   "metadata": {
    "collapsed": false,
    "pycharm": {
     "name": "#%%\n"
    }
   }
  },
  {
   "cell_type": "code",
   "execution_count": 7,
   "outputs": [],
   "source": [
    "df.to_csv(r'F:\\temp\\thesisdata\\saatchi_all_resnet_features.csv')"
   ],
   "metadata": {
    "collapsed": false,
    "pycharm": {
     "name": "#%%\n"
    }
   }
  },
  {
   "cell_type": "code",
   "execution_count": 10,
   "outputs": [],
   "source": [
    "# df.to_feather(r'F:\\temp\\thesisdata\\saatchi_all_resnet_features.feather')\n",
    "df.to_pickle(r'F:\\temp\\thesisdata\\saatchi_all_resnet_features.json.xz', compression='xz')\n",
    "# df.to_pickle(r'F:\\temp\\thesisdata\\saatchi_all_resnet_features.bz2',\n",
    "#       compression='bz2')"
   ],
   "metadata": {
    "collapsed": false,
    "pycharm": {
     "name": "#%%\n"
    }
   }
  },
  {
   "cell_type": "code",
   "execution_count": 12,
   "outputs": [
    {
     "data": {
      "text/plain": "               0            1            2            3            4    \\\ncount  1000.000000  1000.000000  1000.000000  1000.000000  1000.000000   \nmean      0.748577     0.835344     0.776728     1.503486     0.720054   \nstd       0.692974     0.676360     0.798304     0.989899     0.665580   \nmin       0.000000     0.000000     0.000000     0.000000     0.000000   \n25%       0.229378     0.314617     0.220726     0.739849     0.209445   \n50%       0.591214     0.689676     0.567848     1.356044     0.541703   \n75%       1.039060     1.199009     1.066098     2.102161     1.053478   \nmax       8.190742     4.060330     6.947083     6.038032     4.585546   \n\n               5            6            7            8            9    ...  \\\ncount  1000.000000  1000.000000  1000.000000  1000.000000  1000.000000  ...   \nmean      0.604812     0.742864     1.364809     1.646435     0.997931  ...   \nstd       0.687826     0.696464     1.178323     1.203178     0.791093  ...   \nmin       0.000000     0.000000     0.000000     0.000000     0.000000  ...   \n25%       0.124055     0.224728     0.509538     0.736707     0.387525  ...   \n50%       0.355377     0.555810     1.102302     1.375686     0.829860  ...   \n75%       0.823078     1.070883     1.893577     2.266713     1.438313  ...   \nmax       4.146064     4.990133     9.319199     7.097270     4.511406  ...   \n\n               502          503          504          505          506  \\\ncount  1000.000000  1000.000000  1000.000000  1000.000000  1000.000000   \nmean      0.739216     0.844083     0.948276     1.187547     0.645330   \nstd       0.702904     0.746274     0.795021     0.976016     0.658574   \nmin       0.000000     0.000000     0.000000     0.000000     0.000000   \n25%       0.232735     0.282330     0.304798     0.448926     0.129868   \n50%       0.537056     0.673050     0.776381     0.971749     0.438455   \n75%       1.043409     1.207035     1.410273     1.719461     0.945214   \nmax       4.856810     5.252320     4.700143     7.140769     3.788110   \n\n               507          508          509          510          511  \ncount  1000.000000  1000.000000  1000.000000  1000.000000  1000.000000  \nmean      0.776435     0.829300     1.463031     0.531199     1.081743  \nstd       0.787902     0.710025     1.223899     0.607025     0.956794  \nmin       0.000000     0.000000     0.000000     0.000000     0.000000  \n25%       0.173229     0.310222     0.598723     0.100928     0.349424  \n50%       0.552686     0.637070     1.155368     0.359045     0.842112  \n75%       1.111190     1.139451     1.999853     0.745681     1.583163  \nmax       4.539532     5.073754     8.356642     4.988269     6.452543  \n\n[8 rows x 512 columns]",
      "text/html": "<div>\n<style scoped>\n    .dataframe tbody tr th:only-of-type {\n        vertical-align: middle;\n    }\n\n    .dataframe tbody tr th {\n        vertical-align: top;\n    }\n\n    .dataframe thead th {\n        text-align: right;\n    }\n</style>\n<table border=\"1\" class=\"dataframe\">\n  <thead>\n    <tr style=\"text-align: right;\">\n      <th></th>\n      <th>0</th>\n      <th>1</th>\n      <th>2</th>\n      <th>3</th>\n      <th>4</th>\n      <th>5</th>\n      <th>6</th>\n      <th>7</th>\n      <th>8</th>\n      <th>9</th>\n      <th>...</th>\n      <th>502</th>\n      <th>503</th>\n      <th>504</th>\n      <th>505</th>\n      <th>506</th>\n      <th>507</th>\n      <th>508</th>\n      <th>509</th>\n      <th>510</th>\n      <th>511</th>\n    </tr>\n  </thead>\n  <tbody>\n    <tr>\n      <th>count</th>\n      <td>1000.000000</td>\n      <td>1000.000000</td>\n      <td>1000.000000</td>\n      <td>1000.000000</td>\n      <td>1000.000000</td>\n      <td>1000.000000</td>\n      <td>1000.000000</td>\n      <td>1000.000000</td>\n      <td>1000.000000</td>\n      <td>1000.000000</td>\n      <td>...</td>\n      <td>1000.000000</td>\n      <td>1000.000000</td>\n      <td>1000.000000</td>\n      <td>1000.000000</td>\n      <td>1000.000000</td>\n      <td>1000.000000</td>\n      <td>1000.000000</td>\n      <td>1000.000000</td>\n      <td>1000.000000</td>\n      <td>1000.000000</td>\n    </tr>\n    <tr>\n      <th>mean</th>\n      <td>0.748577</td>\n      <td>0.835344</td>\n      <td>0.776728</td>\n      <td>1.503486</td>\n      <td>0.720054</td>\n      <td>0.604812</td>\n      <td>0.742864</td>\n      <td>1.364809</td>\n      <td>1.646435</td>\n      <td>0.997931</td>\n      <td>...</td>\n      <td>0.739216</td>\n      <td>0.844083</td>\n      <td>0.948276</td>\n      <td>1.187547</td>\n      <td>0.645330</td>\n      <td>0.776435</td>\n      <td>0.829300</td>\n      <td>1.463031</td>\n      <td>0.531199</td>\n      <td>1.081743</td>\n    </tr>\n    <tr>\n      <th>std</th>\n      <td>0.692974</td>\n      <td>0.676360</td>\n      <td>0.798304</td>\n      <td>0.989899</td>\n      <td>0.665580</td>\n      <td>0.687826</td>\n      <td>0.696464</td>\n      <td>1.178323</td>\n      <td>1.203178</td>\n      <td>0.791093</td>\n      <td>...</td>\n      <td>0.702904</td>\n      <td>0.746274</td>\n      <td>0.795021</td>\n      <td>0.976016</td>\n      <td>0.658574</td>\n      <td>0.787902</td>\n      <td>0.710025</td>\n      <td>1.223899</td>\n      <td>0.607025</td>\n      <td>0.956794</td>\n    </tr>\n    <tr>\n      <th>min</th>\n      <td>0.000000</td>\n      <td>0.000000</td>\n      <td>0.000000</td>\n      <td>0.000000</td>\n      <td>0.000000</td>\n      <td>0.000000</td>\n      <td>0.000000</td>\n      <td>0.000000</td>\n      <td>0.000000</td>\n      <td>0.000000</td>\n      <td>...</td>\n      <td>0.000000</td>\n      <td>0.000000</td>\n      <td>0.000000</td>\n      <td>0.000000</td>\n      <td>0.000000</td>\n      <td>0.000000</td>\n      <td>0.000000</td>\n      <td>0.000000</td>\n      <td>0.000000</td>\n      <td>0.000000</td>\n    </tr>\n    <tr>\n      <th>25%</th>\n      <td>0.229378</td>\n      <td>0.314617</td>\n      <td>0.220726</td>\n      <td>0.739849</td>\n      <td>0.209445</td>\n      <td>0.124055</td>\n      <td>0.224728</td>\n      <td>0.509538</td>\n      <td>0.736707</td>\n      <td>0.387525</td>\n      <td>...</td>\n      <td>0.232735</td>\n      <td>0.282330</td>\n      <td>0.304798</td>\n      <td>0.448926</td>\n      <td>0.129868</td>\n      <td>0.173229</td>\n      <td>0.310222</td>\n      <td>0.598723</td>\n      <td>0.100928</td>\n      <td>0.349424</td>\n    </tr>\n    <tr>\n      <th>50%</th>\n      <td>0.591214</td>\n      <td>0.689676</td>\n      <td>0.567848</td>\n      <td>1.356044</td>\n      <td>0.541703</td>\n      <td>0.355377</td>\n      <td>0.555810</td>\n      <td>1.102302</td>\n      <td>1.375686</td>\n      <td>0.829860</td>\n      <td>...</td>\n      <td>0.537056</td>\n      <td>0.673050</td>\n      <td>0.776381</td>\n      <td>0.971749</td>\n      <td>0.438455</td>\n      <td>0.552686</td>\n      <td>0.637070</td>\n      <td>1.155368</td>\n      <td>0.359045</td>\n      <td>0.842112</td>\n    </tr>\n    <tr>\n      <th>75%</th>\n      <td>1.039060</td>\n      <td>1.199009</td>\n      <td>1.066098</td>\n      <td>2.102161</td>\n      <td>1.053478</td>\n      <td>0.823078</td>\n      <td>1.070883</td>\n      <td>1.893577</td>\n      <td>2.266713</td>\n      <td>1.438313</td>\n      <td>...</td>\n      <td>1.043409</td>\n      <td>1.207035</td>\n      <td>1.410273</td>\n      <td>1.719461</td>\n      <td>0.945214</td>\n      <td>1.111190</td>\n      <td>1.139451</td>\n      <td>1.999853</td>\n      <td>0.745681</td>\n      <td>1.583163</td>\n    </tr>\n    <tr>\n      <th>max</th>\n      <td>8.190742</td>\n      <td>4.060330</td>\n      <td>6.947083</td>\n      <td>6.038032</td>\n      <td>4.585546</td>\n      <td>4.146064</td>\n      <td>4.990133</td>\n      <td>9.319199</td>\n      <td>7.097270</td>\n      <td>4.511406</td>\n      <td>...</td>\n      <td>4.856810</td>\n      <td>5.252320</td>\n      <td>4.700143</td>\n      <td>7.140769</td>\n      <td>3.788110</td>\n      <td>4.539532</td>\n      <td>5.073754</td>\n      <td>8.356642</td>\n      <td>4.988269</td>\n      <td>6.452543</td>\n    </tr>\n  </tbody>\n</table>\n<p>8 rows × 512 columns</p>\n</div>"
     },
     "execution_count": 12,
     "metadata": {},
     "output_type": "execute_result"
    }
   ],
   "source": [
    "df[:1000].describe()"
   ],
   "metadata": {
    "collapsed": false,
    "pycharm": {
     "name": "#%%\n"
    }
   }
  },
  {
   "cell_type": "code",
   "execution_count": 13,
   "outputs": [],
   "source": [
    "def z_standardize_df(df):\n",
    "    for column in df.columns:\n",
    "        df[column] = (df[column] - df[column].mean()) / df[column].std()\n",
    "    return df"
   ],
   "metadata": {
    "collapsed": false,
    "pycharm": {
     "name": "#%%\n"
    }
   }
  },
  {
   "cell_type": "code",
   "execution_count": 14,
   "outputs": [],
   "source": [
    "df_standardized = z_standardize_df(df)"
   ],
   "metadata": {
    "collapsed": false,
    "pycharm": {
     "name": "#%%\n"
    }
   }
  },
  {
   "cell_type": "code",
   "execution_count": 15,
   "outputs": [
    {
     "data": {
      "text/plain": "               0            1            2            3            4    \\\ncount  1000.000000  1000.000000  1000.000000  1000.000000  1000.000000   \nmean      0.034962    -0.019064     0.011400     0.011379    -0.019519   \nstd       1.009168     0.922831     1.028425     0.985054     0.976901   \nmin      -1.055181    -1.158815    -0.989229    -1.484748    -1.076374   \n25%      -0.721141    -0.729549    -0.704876    -0.748520    -0.768962   \n50%      -0.194203    -0.217815    -0.257692    -0.135341    -0.281292   \n75%       0.457988     0.477124     0.384185     0.607123     0.469863   \nmax      10.872888     4.381134     7.960440     4.523729     5.654041   \n\n               5            6            7            8            9    ...  \\\ncount  1000.000000  1000.000000  1000.000000  1000.000000  1000.000000  ...   \nmean     -0.022873     0.005552     0.017459     0.024436    -0.002204  ...   \nstd       0.969423     0.995183     1.018904     0.962596     0.984778  ...   \nmin      -0.875297    -1.055932    -1.162701    -1.292785    -1.244461  ...   \n25%      -0.700453    -0.734817    -0.722100    -0.703387    -0.762058  ...   \n50%      -0.374428    -0.261730    -0.209533    -0.192175    -0.211425  ...   \n75%       0.284750     0.474261     0.474689     0.520686     0.545997  ...   \nmax       4.968171     6.074509     6.895676     4.385345     4.371483  ...   \n\n               502          503          504          505          506  \\\ncount  1000.000000  1000.000000  1000.000000  1000.000000  1000.000000   \nmean      0.017022     0.032330     0.015645     0.038556     0.006825   \nstd       1.003644     0.995723     0.971450     1.061384     0.990816   \nmin      -1.038470    -1.093896    -1.143070    -1.252861    -0.964066   \n25%      -0.706159    -0.717194    -0.770632    -0.764669    -0.768681   \n50%      -0.271634    -0.195873    -0.194396    -0.196116    -0.304416   \n75%       0.451364     0.516603     0.580168     0.616996     0.457997   \nmax       5.896340     5.914064     4.600120     6.512485     4.735097   \n\n               507          508          509          510           511  \ncount  1000.000000  1000.000000  1000.000000  1000.000000  1.000000e+03  \nmean      0.010080     0.020534    -0.004613    -0.014496  2.928793e-07  \nstd       1.012000     0.963078     1.006297     0.951594  1.018334e+00  \nmin      -0.987192    -1.104328    -1.207527    -0.847222 -1.151319e+00  \n25%      -0.764692    -0.683543    -0.715253    -0.689003 -7.794211e-01  \n50%      -0.277310    -0.240206    -0.257576    -0.284370 -2.550432e-01  \n75%       0.440047     0.441223     0.436765     0.321734  5.336715e-01  \nmax       4.843487     5.777713     5.663357     6.972561  5.716245e+00  \n\n[8 rows x 512 columns]",
      "text/html": "<div>\n<style scoped>\n    .dataframe tbody tr th:only-of-type {\n        vertical-align: middle;\n    }\n\n    .dataframe tbody tr th {\n        vertical-align: top;\n    }\n\n    .dataframe thead th {\n        text-align: right;\n    }\n</style>\n<table border=\"1\" class=\"dataframe\">\n  <thead>\n    <tr style=\"text-align: right;\">\n      <th></th>\n      <th>0</th>\n      <th>1</th>\n      <th>2</th>\n      <th>3</th>\n      <th>4</th>\n      <th>5</th>\n      <th>6</th>\n      <th>7</th>\n      <th>8</th>\n      <th>9</th>\n      <th>...</th>\n      <th>502</th>\n      <th>503</th>\n      <th>504</th>\n      <th>505</th>\n      <th>506</th>\n      <th>507</th>\n      <th>508</th>\n      <th>509</th>\n      <th>510</th>\n      <th>511</th>\n    </tr>\n  </thead>\n  <tbody>\n    <tr>\n      <th>count</th>\n      <td>1000.000000</td>\n      <td>1000.000000</td>\n      <td>1000.000000</td>\n      <td>1000.000000</td>\n      <td>1000.000000</td>\n      <td>1000.000000</td>\n      <td>1000.000000</td>\n      <td>1000.000000</td>\n      <td>1000.000000</td>\n      <td>1000.000000</td>\n      <td>...</td>\n      <td>1000.000000</td>\n      <td>1000.000000</td>\n      <td>1000.000000</td>\n      <td>1000.000000</td>\n      <td>1000.000000</td>\n      <td>1000.000000</td>\n      <td>1000.000000</td>\n      <td>1000.000000</td>\n      <td>1000.000000</td>\n      <td>1.000000e+03</td>\n    </tr>\n    <tr>\n      <th>mean</th>\n      <td>0.034962</td>\n      <td>-0.019064</td>\n      <td>0.011400</td>\n      <td>0.011379</td>\n      <td>-0.019519</td>\n      <td>-0.022873</td>\n      <td>0.005552</td>\n      <td>0.017459</td>\n      <td>0.024436</td>\n      <td>-0.002204</td>\n      <td>...</td>\n      <td>0.017022</td>\n      <td>0.032330</td>\n      <td>0.015645</td>\n      <td>0.038556</td>\n      <td>0.006825</td>\n      <td>0.010080</td>\n      <td>0.020534</td>\n      <td>-0.004613</td>\n      <td>-0.014496</td>\n      <td>2.928793e-07</td>\n    </tr>\n    <tr>\n      <th>std</th>\n      <td>1.009168</td>\n      <td>0.922831</td>\n      <td>1.028425</td>\n      <td>0.985054</td>\n      <td>0.976901</td>\n      <td>0.969423</td>\n      <td>0.995183</td>\n      <td>1.018904</td>\n      <td>0.962596</td>\n      <td>0.984778</td>\n      <td>...</td>\n      <td>1.003644</td>\n      <td>0.995723</td>\n      <td>0.971450</td>\n      <td>1.061384</td>\n      <td>0.990816</td>\n      <td>1.012000</td>\n      <td>0.963078</td>\n      <td>1.006297</td>\n      <td>0.951594</td>\n      <td>1.018334e+00</td>\n    </tr>\n    <tr>\n      <th>min</th>\n      <td>-1.055181</td>\n      <td>-1.158815</td>\n      <td>-0.989229</td>\n      <td>-1.484748</td>\n      <td>-1.076374</td>\n      <td>-0.875297</td>\n      <td>-1.055932</td>\n      <td>-1.162701</td>\n      <td>-1.292785</td>\n      <td>-1.244461</td>\n      <td>...</td>\n      <td>-1.038470</td>\n      <td>-1.093896</td>\n      <td>-1.143070</td>\n      <td>-1.252861</td>\n      <td>-0.964066</td>\n      <td>-0.987192</td>\n      <td>-1.104328</td>\n      <td>-1.207527</td>\n      <td>-0.847222</td>\n      <td>-1.151319e+00</td>\n    </tr>\n    <tr>\n      <th>25%</th>\n      <td>-0.721141</td>\n      <td>-0.729549</td>\n      <td>-0.704876</td>\n      <td>-0.748520</td>\n      <td>-0.768962</td>\n      <td>-0.700453</td>\n      <td>-0.734817</td>\n      <td>-0.722100</td>\n      <td>-0.703387</td>\n      <td>-0.762058</td>\n      <td>...</td>\n      <td>-0.706159</td>\n      <td>-0.717194</td>\n      <td>-0.770632</td>\n      <td>-0.764669</td>\n      <td>-0.768681</td>\n      <td>-0.764692</td>\n      <td>-0.683543</td>\n      <td>-0.715253</td>\n      <td>-0.689003</td>\n      <td>-7.794211e-01</td>\n    </tr>\n    <tr>\n      <th>50%</th>\n      <td>-0.194203</td>\n      <td>-0.217815</td>\n      <td>-0.257692</td>\n      <td>-0.135341</td>\n      <td>-0.281292</td>\n      <td>-0.374428</td>\n      <td>-0.261730</td>\n      <td>-0.209533</td>\n      <td>-0.192175</td>\n      <td>-0.211425</td>\n      <td>...</td>\n      <td>-0.271634</td>\n      <td>-0.195873</td>\n      <td>-0.194396</td>\n      <td>-0.196116</td>\n      <td>-0.304416</td>\n      <td>-0.277310</td>\n      <td>-0.240206</td>\n      <td>-0.257576</td>\n      <td>-0.284370</td>\n      <td>-2.550432e-01</td>\n    </tr>\n    <tr>\n      <th>75%</th>\n      <td>0.457988</td>\n      <td>0.477124</td>\n      <td>0.384185</td>\n      <td>0.607123</td>\n      <td>0.469863</td>\n      <td>0.284750</td>\n      <td>0.474261</td>\n      <td>0.474689</td>\n      <td>0.520686</td>\n      <td>0.545997</td>\n      <td>...</td>\n      <td>0.451364</td>\n      <td>0.516603</td>\n      <td>0.580168</td>\n      <td>0.616996</td>\n      <td>0.457997</td>\n      <td>0.440047</td>\n      <td>0.441223</td>\n      <td>0.436765</td>\n      <td>0.321734</td>\n      <td>5.336715e-01</td>\n    </tr>\n    <tr>\n      <th>max</th>\n      <td>10.872888</td>\n      <td>4.381134</td>\n      <td>7.960440</td>\n      <td>4.523729</td>\n      <td>5.654041</td>\n      <td>4.968171</td>\n      <td>6.074509</td>\n      <td>6.895676</td>\n      <td>4.385345</td>\n      <td>4.371483</td>\n      <td>...</td>\n      <td>5.896340</td>\n      <td>5.914064</td>\n      <td>4.600120</td>\n      <td>6.512485</td>\n      <td>4.735097</td>\n      <td>4.843487</td>\n      <td>5.777713</td>\n      <td>5.663357</td>\n      <td>6.972561</td>\n      <td>5.716245e+00</td>\n    </tr>\n  </tbody>\n</table>\n<p>8 rows × 512 columns</p>\n</div>"
     },
     "execution_count": 15,
     "metadata": {},
     "output_type": "execute_result"
    }
   ],
   "source": [
    "\n",
    "df_standardized[:1000].describe()"
   ],
   "metadata": {
    "collapsed": false,
    "pycharm": {
     "name": "#%%\n"
    }
   }
  },
  {
   "cell_type": "code",
   "execution_count": 17,
   "outputs": [
    {
     "data": {
      "text/plain": "                                                     0         1         2    \\\n5674273_5674273_986181_4744079-ZNYHIDDQ-7.jpg   0.179038 -0.205466  0.318404   \n2657917_2657917_706469_1727810-RUDCWNOL-7.jpg  -0.417495 -0.241157 -0.938346   \n7677942_7677942_707204_6746238-UMMTTFII-7.jpg   1.247015  0.480881 -0.692408   \n3988560_3988560_729659_3058414-RBPCDLCN-7.jpg  -0.097193  0.813333 -0.669511   \n6144759_6144759_1254304_5214543-LZPKQGNA-7.jpg -0.399032  1.346748  2.756703   \n\n                                                     3         4         5    \\\n5674273_5674273_986181_4744079-ZNYHIDDQ-7.jpg   0.141340  0.750415  1.004249   \n2657917_2657917_706469_1727810-RUDCWNOL-7.jpg   0.867238 -0.742303 -0.224647   \n7677942_7677942_707204_6746238-UMMTTFII-7.jpg  -0.808201 -0.212283 -0.875297   \n3988560_3988560_729659_3058414-RBPCDLCN-7.jpg   0.629872 -0.891591 -0.031148   \n6144759_6144759_1254304_5214543-LZPKQGNA-7.jpg -0.592330 -1.040331 -0.790362   \n\n                                                     6         7         8    \\\n5674273_5674273_986181_4744079-ZNYHIDDQ-7.jpg   0.887049 -0.578304 -0.170313   \n2657917_2657917_706469_1727810-RUDCWNOL-7.jpg  -1.055932 -0.319362  1.683470   \n7677942_7677942_707204_6746238-UMMTTFII-7.jpg  -1.055304 -0.572417 -0.657747   \n3988560_3988560_729659_3058414-RBPCDLCN-7.jpg  -1.044521 -0.445586 -0.040810   \n6144759_6144759_1254304_5214543-LZPKQGNA-7.jpg  1.276759  0.248141 -0.245839   \n\n                                                     9    ...       502  \\\n5674273_5674273_986181_4744079-ZNYHIDDQ-7.jpg  -0.632462  ... -0.154463   \n2657917_2657917_706469_1727810-RUDCWNOL-7.jpg  -1.125901  ... -0.914675   \n7677942_7677942_707204_6746238-UMMTTFII-7.jpg  -0.906358  ... -0.575768   \n3988560_3988560_729659_3058414-RBPCDLCN-7.jpg  -1.180393  ... -0.148187   \n6144759_6144759_1254304_5214543-LZPKQGNA-7.jpg  1.434968  ... -0.026579   \n\n                                                     503       504       505  \\\n5674273_5674273_986181_4744079-ZNYHIDDQ-7.jpg   1.020453  0.555110  0.725540   \n2657917_2657917_706469_1727810-RUDCWNOL-7.jpg  -0.788363  1.141675  0.967299   \n7677942_7677942_707204_6746238-UMMTTFII-7.jpg  -0.116853 -1.143070  0.088063   \n3988560_3988560_729659_3058414-RBPCDLCN-7.jpg  -0.196854 -1.143070  2.413292   \n6144759_6144759_1254304_5214543-LZPKQGNA-7.jpg  1.113776 -0.354404 -0.299224   \n\n                                                     506       507       508  \\\n5674273_5674273_986181_4744079-ZNYHIDDQ-7.jpg   0.019443 -0.727982 -0.466989   \n2657917_2657917_706469_1727810-RUDCWNOL-7.jpg   1.040670 -0.971622 -1.078314   \n7677942_7677942_707204_6746238-UMMTTFII-7.jpg   1.482434 -0.766345  0.103612   \n3988560_3988560_729659_3058414-RBPCDLCN-7.jpg   3.220347 -0.805215 -0.962947   \n6144759_6144759_1254304_5214543-LZPKQGNA-7.jpg -0.712443 -0.810850 -0.589564   \n\n                                                     509       510       511  \n5674273_5674273_986181_4744079-ZNYHIDDQ-7.jpg  -0.165042 -0.084941  2.579252  \n2657917_2657917_706469_1727810-RUDCWNOL-7.jpg  -0.718224 -0.844247  1.073028  \n7677942_7677942_707204_6746238-UMMTTFII-7.jpg  -1.192113  0.483415  1.315784  \n3988560_3988560_729659_3058414-RBPCDLCN-7.jpg  -0.242884  2.554668  0.255638  \n6144759_6144759_1254304_5214543-LZPKQGNA-7.jpg -1.103905 -0.470548 -0.636606  \n\n[5 rows x 512 columns]",
      "text/html": "<div>\n<style scoped>\n    .dataframe tbody tr th:only-of-type {\n        vertical-align: middle;\n    }\n\n    .dataframe tbody tr th {\n        vertical-align: top;\n    }\n\n    .dataframe thead th {\n        text-align: right;\n    }\n</style>\n<table border=\"1\" class=\"dataframe\">\n  <thead>\n    <tr style=\"text-align: right;\">\n      <th></th>\n      <th>0</th>\n      <th>1</th>\n      <th>2</th>\n      <th>3</th>\n      <th>4</th>\n      <th>5</th>\n      <th>6</th>\n      <th>7</th>\n      <th>8</th>\n      <th>9</th>\n      <th>...</th>\n      <th>502</th>\n      <th>503</th>\n      <th>504</th>\n      <th>505</th>\n      <th>506</th>\n      <th>507</th>\n      <th>508</th>\n      <th>509</th>\n      <th>510</th>\n      <th>511</th>\n    </tr>\n  </thead>\n  <tbody>\n    <tr>\n      <th>5674273_5674273_986181_4744079-ZNYHIDDQ-7.jpg</th>\n      <td>0.179038</td>\n      <td>-0.205466</td>\n      <td>0.318404</td>\n      <td>0.141340</td>\n      <td>0.750415</td>\n      <td>1.004249</td>\n      <td>0.887049</td>\n      <td>-0.578304</td>\n      <td>-0.170313</td>\n      <td>-0.632462</td>\n      <td>...</td>\n      <td>-0.154463</td>\n      <td>1.020453</td>\n      <td>0.555110</td>\n      <td>0.725540</td>\n      <td>0.019443</td>\n      <td>-0.727982</td>\n      <td>-0.466989</td>\n      <td>-0.165042</td>\n      <td>-0.084941</td>\n      <td>2.579252</td>\n    </tr>\n    <tr>\n      <th>2657917_2657917_706469_1727810-RUDCWNOL-7.jpg</th>\n      <td>-0.417495</td>\n      <td>-0.241157</td>\n      <td>-0.938346</td>\n      <td>0.867238</td>\n      <td>-0.742303</td>\n      <td>-0.224647</td>\n      <td>-1.055932</td>\n      <td>-0.319362</td>\n      <td>1.683470</td>\n      <td>-1.125901</td>\n      <td>...</td>\n      <td>-0.914675</td>\n      <td>-0.788363</td>\n      <td>1.141675</td>\n      <td>0.967299</td>\n      <td>1.040670</td>\n      <td>-0.971622</td>\n      <td>-1.078314</td>\n      <td>-0.718224</td>\n      <td>-0.844247</td>\n      <td>1.073028</td>\n    </tr>\n    <tr>\n      <th>7677942_7677942_707204_6746238-UMMTTFII-7.jpg</th>\n      <td>1.247015</td>\n      <td>0.480881</td>\n      <td>-0.692408</td>\n      <td>-0.808201</td>\n      <td>-0.212283</td>\n      <td>-0.875297</td>\n      <td>-1.055304</td>\n      <td>-0.572417</td>\n      <td>-0.657747</td>\n      <td>-0.906358</td>\n      <td>...</td>\n      <td>-0.575768</td>\n      <td>-0.116853</td>\n      <td>-1.143070</td>\n      <td>0.088063</td>\n      <td>1.482434</td>\n      <td>-0.766345</td>\n      <td>0.103612</td>\n      <td>-1.192113</td>\n      <td>0.483415</td>\n      <td>1.315784</td>\n    </tr>\n    <tr>\n      <th>3988560_3988560_729659_3058414-RBPCDLCN-7.jpg</th>\n      <td>-0.097193</td>\n      <td>0.813333</td>\n      <td>-0.669511</td>\n      <td>0.629872</td>\n      <td>-0.891591</td>\n      <td>-0.031148</td>\n      <td>-1.044521</td>\n      <td>-0.445586</td>\n      <td>-0.040810</td>\n      <td>-1.180393</td>\n      <td>...</td>\n      <td>-0.148187</td>\n      <td>-0.196854</td>\n      <td>-1.143070</td>\n      <td>2.413292</td>\n      <td>3.220347</td>\n      <td>-0.805215</td>\n      <td>-0.962947</td>\n      <td>-0.242884</td>\n      <td>2.554668</td>\n      <td>0.255638</td>\n    </tr>\n    <tr>\n      <th>6144759_6144759_1254304_5214543-LZPKQGNA-7.jpg</th>\n      <td>-0.399032</td>\n      <td>1.346748</td>\n      <td>2.756703</td>\n      <td>-0.592330</td>\n      <td>-1.040331</td>\n      <td>-0.790362</td>\n      <td>1.276759</td>\n      <td>0.248141</td>\n      <td>-0.245839</td>\n      <td>1.434968</td>\n      <td>...</td>\n      <td>-0.026579</td>\n      <td>1.113776</td>\n      <td>-0.354404</td>\n      <td>-0.299224</td>\n      <td>-0.712443</td>\n      <td>-0.810850</td>\n      <td>-0.589564</td>\n      <td>-1.103905</td>\n      <td>-0.470548</td>\n      <td>-0.636606</td>\n    </tr>\n  </tbody>\n</table>\n<p>5 rows × 512 columns</p>\n</div>"
     },
     "execution_count": 17,
     "metadata": {},
     "output_type": "execute_result"
    }
   ],
   "source": [
    "df_standardized.head()\n"
   ],
   "metadata": {
    "collapsed": false,
    "pycharm": {
     "name": "#%%\n"
    }
   }
  },
  {
   "cell_type": "code",
   "execution_count": 19,
   "outputs": [
    {
     "ename": "ValueError",
     "evalue": "DataFrame index must be unique for orient='columns'.",
     "output_type": "error",
     "traceback": [
      "\u001B[1;31m---------------------------------------------------------------------------\u001B[0m",
      "\u001B[1;31mValueError\u001B[0m                                Traceback (most recent call last)",
      "\u001B[1;32m<ipython-input-19-6556a1d7f1b7>\u001B[0m in \u001B[0;36m<module>\u001B[1;34m\u001B[0m\n\u001B[1;32m----> 1\u001B[1;33m df_standardized.to_json(r'F:\\temp\\thesisdata\\saatchi_all_resnet_features.json.bz2',\n\u001B[0m\u001B[0;32m      2\u001B[0m       compression='bz2')\n",
      "\u001B[1;32m~\\anaconda3\\envs\\Thesis_cur-AI-tor\\lib\\site-packages\\pandas\\core\\generic.py\u001B[0m in \u001B[0;36mto_json\u001B[1;34m(self, path_or_buf, orient, date_format, double_precision, force_ascii, date_unit, default_handler, lines, compression, index, indent, storage_options)\u001B[0m\n\u001B[0;32m   2464\u001B[0m         \u001B[0mindent\u001B[0m \u001B[1;33m=\u001B[0m \u001B[0mindent\u001B[0m \u001B[1;32mor\u001B[0m \u001B[1;36m0\u001B[0m\u001B[1;33m\u001B[0m\u001B[1;33m\u001B[0m\u001B[0m\n\u001B[0;32m   2465\u001B[0m \u001B[1;33m\u001B[0m\u001B[0m\n\u001B[1;32m-> 2466\u001B[1;33m         return json.to_json(\n\u001B[0m\u001B[0;32m   2467\u001B[0m             \u001B[0mpath_or_buf\u001B[0m\u001B[1;33m=\u001B[0m\u001B[0mpath_or_buf\u001B[0m\u001B[1;33m,\u001B[0m\u001B[1;33m\u001B[0m\u001B[1;33m\u001B[0m\u001B[0m\n\u001B[0;32m   2468\u001B[0m             \u001B[0mobj\u001B[0m\u001B[1;33m=\u001B[0m\u001B[0mself\u001B[0m\u001B[1;33m,\u001B[0m\u001B[1;33m\u001B[0m\u001B[1;33m\u001B[0m\u001B[0m\n",
      "\u001B[1;32m~\\anaconda3\\envs\\Thesis_cur-AI-tor\\lib\\site-packages\\pandas\\io\\json\\_json.py\u001B[0m in \u001B[0;36mto_json\u001B[1;34m(path_or_buf, obj, orient, date_format, double_precision, force_ascii, date_unit, default_handler, lines, compression, index, indent, storage_options)\u001B[0m\n\u001B[0;32m     83\u001B[0m         \u001B[1;32mraise\u001B[0m \u001B[0mNotImplementedError\u001B[0m\u001B[1;33m(\u001B[0m\u001B[1;34m\"'obj' should be a Series or a DataFrame\"\u001B[0m\u001B[1;33m)\u001B[0m\u001B[1;33m\u001B[0m\u001B[1;33m\u001B[0m\u001B[0m\n\u001B[0;32m     84\u001B[0m \u001B[1;33m\u001B[0m\u001B[0m\n\u001B[1;32m---> 85\u001B[1;33m     s = writer(\n\u001B[0m\u001B[0;32m     86\u001B[0m         \u001B[0mobj\u001B[0m\u001B[1;33m,\u001B[0m\u001B[1;33m\u001B[0m\u001B[1;33m\u001B[0m\u001B[0m\n\u001B[0;32m     87\u001B[0m         \u001B[0morient\u001B[0m\u001B[1;33m=\u001B[0m\u001B[0morient\u001B[0m\u001B[1;33m,\u001B[0m\u001B[1;33m\u001B[0m\u001B[1;33m\u001B[0m\u001B[0m\n",
      "\u001B[1;32m~\\anaconda3\\envs\\Thesis_cur-AI-tor\\lib\\site-packages\\pandas\\io\\json\\_json.py\u001B[0m in \u001B[0;36m__init__\u001B[1;34m(self, obj, orient, date_format, double_precision, ensure_ascii, date_unit, index, default_handler, indent)\u001B[0m\n\u001B[0;32m    138\u001B[0m \u001B[1;33m\u001B[0m\u001B[0m\n\u001B[0;32m    139\u001B[0m         \u001B[0mself\u001B[0m\u001B[1;33m.\u001B[0m\u001B[0mis_copy\u001B[0m \u001B[1;33m=\u001B[0m \u001B[1;32mNone\u001B[0m\u001B[1;33m\u001B[0m\u001B[1;33m\u001B[0m\u001B[0m\n\u001B[1;32m--> 140\u001B[1;33m         \u001B[0mself\u001B[0m\u001B[1;33m.\u001B[0m\u001B[0m_format_axes\u001B[0m\u001B[1;33m(\u001B[0m\u001B[1;33m)\u001B[0m\u001B[1;33m\u001B[0m\u001B[1;33m\u001B[0m\u001B[0m\n\u001B[0m\u001B[0;32m    141\u001B[0m \u001B[1;33m\u001B[0m\u001B[0m\n\u001B[0;32m    142\u001B[0m     \u001B[1;32mdef\u001B[0m \u001B[0m_format_axes\u001B[0m\u001B[1;33m(\u001B[0m\u001B[0mself\u001B[0m\u001B[1;33m)\u001B[0m\u001B[1;33m:\u001B[0m\u001B[1;33m\u001B[0m\u001B[1;33m\u001B[0m\u001B[0m\n",
      "\u001B[1;32m~\\anaconda3\\envs\\Thesis_cur-AI-tor\\lib\\site-packages\\pandas\\io\\json\\_json.py\u001B[0m in \u001B[0;36m_format_axes\u001B[1;34m(self)\u001B[0m\n\u001B[0;32m    195\u001B[0m         \"\"\"\n\u001B[0;32m    196\u001B[0m         \u001B[1;32mif\u001B[0m \u001B[1;32mnot\u001B[0m \u001B[0mself\u001B[0m\u001B[1;33m.\u001B[0m\u001B[0mobj\u001B[0m\u001B[1;33m.\u001B[0m\u001B[0mindex\u001B[0m\u001B[1;33m.\u001B[0m\u001B[0mis_unique\u001B[0m \u001B[1;32mand\u001B[0m \u001B[0mself\u001B[0m\u001B[1;33m.\u001B[0m\u001B[0morient\u001B[0m \u001B[1;32min\u001B[0m \u001B[1;33m(\u001B[0m\u001B[1;34m\"index\"\u001B[0m\u001B[1;33m,\u001B[0m \u001B[1;34m\"columns\"\u001B[0m\u001B[1;33m)\u001B[0m\u001B[1;33m:\u001B[0m\u001B[1;33m\u001B[0m\u001B[1;33m\u001B[0m\u001B[0m\n\u001B[1;32m--> 197\u001B[1;33m             raise ValueError(\n\u001B[0m\u001B[0;32m    198\u001B[0m                 \u001B[1;34mf\"DataFrame index must be unique for orient='{self.orient}'.\"\u001B[0m\u001B[1;33m\u001B[0m\u001B[1;33m\u001B[0m\u001B[0m\n\u001B[0;32m    199\u001B[0m             )\n",
      "\u001B[1;31mValueError\u001B[0m: DataFrame index must be unique for orient='columns'."
     ]
    }
   ],
   "source": [
    "df_standardized.to_json(r'F:\\temp\\thesisdata\\saatchi_all_resnet_features.json.bz2',\n",
    "      compression='bz2')"
   ],
   "metadata": {
    "collapsed": false,
    "pycharm": {
     "name": "#%%\n"
    }
   }
  },
  {
   "cell_type": "code",
   "execution_count": 23,
   "outputs": [
    {
     "name": "stdout",
     "output_type": "stream",
     "text": [
      "<class 'pandas.core.frame.DataFrame'>\n",
      "Int64Index: 496566 entries, 0 to 619732\n",
      "Columns: 513 entries, index to 511\n",
      "dtypes: float64(512), object(1)\n",
      "memory usage: 1.9+ GB\n"
     ]
    }
   ],
   "source": [
    "dff = df_standardized.reset_index().drop_duplicates(subset=['index'])\n",
    "dff.info()"
   ],
   "metadata": {
    "collapsed": false,
    "pycharm": {
     "name": "#%%\n"
    }
   }
  },
  {
   "cell_type": "code",
   "execution_count": 22,
   "outputs": [
    {
     "data": {
      "text/plain": "                                            index         0         1  \\\n0   5674273_5674273_986181_4744079-ZNYHIDDQ-7.jpg  0.179038 -0.205466   \n1   2657917_2657917_706469_1727810-RUDCWNOL-7.jpg -0.417495 -0.241157   \n2   7677942_7677942_707204_6746238-UMMTTFII-7.jpg  1.247015  0.480881   \n3   3988560_3988560_729659_3058414-RBPCDLCN-7.jpg -0.097193  0.813333   \n4  6144759_6144759_1254304_5214543-LZPKQGNA-7.jpg -0.399032  1.346748   \n\n          2         3         4         5         6         7         8  ...  \\\n0  0.318404  0.141340  0.750415  1.004249  0.887049 -0.578304 -0.170313  ...   \n1 -0.938346  0.867238 -0.742303 -0.224647 -1.055932 -0.319362  1.683470  ...   \n2 -0.692408 -0.808201 -0.212283 -0.875297 -1.055304 -0.572417 -0.657747  ...   \n3 -0.669511  0.629872 -0.891591 -0.031148 -1.044521 -0.445586 -0.040810  ...   \n4  2.756703 -0.592330 -1.040331 -0.790362  1.276759  0.248141 -0.245839  ...   \n\n        502       503       504       505       506       507       508  \\\n0 -0.154463  1.020453  0.555110  0.725540  0.019443 -0.727982 -0.466989   \n1 -0.914675 -0.788363  1.141675  0.967299  1.040670 -0.971622 -1.078314   \n2 -0.575768 -0.116853 -1.143070  0.088063  1.482434 -0.766345  0.103612   \n3 -0.148187 -0.196854 -1.143070  2.413292  3.220347 -0.805215 -0.962947   \n4 -0.026579  1.113776 -0.354404 -0.299224 -0.712443 -0.810850 -0.589564   \n\n        509       510       511  \n0 -0.165042 -0.084941  2.579252  \n1 -0.718224 -0.844247  1.073028  \n2 -1.192113  0.483415  1.315784  \n3 -0.242884  2.554668  0.255638  \n4 -1.103905 -0.470548 -0.636606  \n\n[5 rows x 513 columns]",
      "text/html": "<div>\n<style scoped>\n    .dataframe tbody tr th:only-of-type {\n        vertical-align: middle;\n    }\n\n    .dataframe tbody tr th {\n        vertical-align: top;\n    }\n\n    .dataframe thead th {\n        text-align: right;\n    }\n</style>\n<table border=\"1\" class=\"dataframe\">\n  <thead>\n    <tr style=\"text-align: right;\">\n      <th></th>\n      <th>index</th>\n      <th>0</th>\n      <th>1</th>\n      <th>2</th>\n      <th>3</th>\n      <th>4</th>\n      <th>5</th>\n      <th>6</th>\n      <th>7</th>\n      <th>8</th>\n      <th>...</th>\n      <th>502</th>\n      <th>503</th>\n      <th>504</th>\n      <th>505</th>\n      <th>506</th>\n      <th>507</th>\n      <th>508</th>\n      <th>509</th>\n      <th>510</th>\n      <th>511</th>\n    </tr>\n  </thead>\n  <tbody>\n    <tr>\n      <th>0</th>\n      <td>5674273_5674273_986181_4744079-ZNYHIDDQ-7.jpg</td>\n      <td>0.179038</td>\n      <td>-0.205466</td>\n      <td>0.318404</td>\n      <td>0.141340</td>\n      <td>0.750415</td>\n      <td>1.004249</td>\n      <td>0.887049</td>\n      <td>-0.578304</td>\n      <td>-0.170313</td>\n      <td>...</td>\n      <td>-0.154463</td>\n      <td>1.020453</td>\n      <td>0.555110</td>\n      <td>0.725540</td>\n      <td>0.019443</td>\n      <td>-0.727982</td>\n      <td>-0.466989</td>\n      <td>-0.165042</td>\n      <td>-0.084941</td>\n      <td>2.579252</td>\n    </tr>\n    <tr>\n      <th>1</th>\n      <td>2657917_2657917_706469_1727810-RUDCWNOL-7.jpg</td>\n      <td>-0.417495</td>\n      <td>-0.241157</td>\n      <td>-0.938346</td>\n      <td>0.867238</td>\n      <td>-0.742303</td>\n      <td>-0.224647</td>\n      <td>-1.055932</td>\n      <td>-0.319362</td>\n      <td>1.683470</td>\n      <td>...</td>\n      <td>-0.914675</td>\n      <td>-0.788363</td>\n      <td>1.141675</td>\n      <td>0.967299</td>\n      <td>1.040670</td>\n      <td>-0.971622</td>\n      <td>-1.078314</td>\n      <td>-0.718224</td>\n      <td>-0.844247</td>\n      <td>1.073028</td>\n    </tr>\n    <tr>\n      <th>2</th>\n      <td>7677942_7677942_707204_6746238-UMMTTFII-7.jpg</td>\n      <td>1.247015</td>\n      <td>0.480881</td>\n      <td>-0.692408</td>\n      <td>-0.808201</td>\n      <td>-0.212283</td>\n      <td>-0.875297</td>\n      <td>-1.055304</td>\n      <td>-0.572417</td>\n      <td>-0.657747</td>\n      <td>...</td>\n      <td>-0.575768</td>\n      <td>-0.116853</td>\n      <td>-1.143070</td>\n      <td>0.088063</td>\n      <td>1.482434</td>\n      <td>-0.766345</td>\n      <td>0.103612</td>\n      <td>-1.192113</td>\n      <td>0.483415</td>\n      <td>1.315784</td>\n    </tr>\n    <tr>\n      <th>3</th>\n      <td>3988560_3988560_729659_3058414-RBPCDLCN-7.jpg</td>\n      <td>-0.097193</td>\n      <td>0.813333</td>\n      <td>-0.669511</td>\n      <td>0.629872</td>\n      <td>-0.891591</td>\n      <td>-0.031148</td>\n      <td>-1.044521</td>\n      <td>-0.445586</td>\n      <td>-0.040810</td>\n      <td>...</td>\n      <td>-0.148187</td>\n      <td>-0.196854</td>\n      <td>-1.143070</td>\n      <td>2.413292</td>\n      <td>3.220347</td>\n      <td>-0.805215</td>\n      <td>-0.962947</td>\n      <td>-0.242884</td>\n      <td>2.554668</td>\n      <td>0.255638</td>\n    </tr>\n    <tr>\n      <th>4</th>\n      <td>6144759_6144759_1254304_5214543-LZPKQGNA-7.jpg</td>\n      <td>-0.399032</td>\n      <td>1.346748</td>\n      <td>2.756703</td>\n      <td>-0.592330</td>\n      <td>-1.040331</td>\n      <td>-0.790362</td>\n      <td>1.276759</td>\n      <td>0.248141</td>\n      <td>-0.245839</td>\n      <td>...</td>\n      <td>-0.026579</td>\n      <td>1.113776</td>\n      <td>-0.354404</td>\n      <td>-0.299224</td>\n      <td>-0.712443</td>\n      <td>-0.810850</td>\n      <td>-0.589564</td>\n      <td>-1.103905</td>\n      <td>-0.470548</td>\n      <td>-0.636606</td>\n    </tr>\n  </tbody>\n</table>\n<p>5 rows × 513 columns</p>\n</div>"
     },
     "execution_count": 22,
     "metadata": {},
     "output_type": "execute_result"
    }
   ],
   "source": [
    "df_standardized.reset_index().head()"
   ],
   "metadata": {
    "collapsed": false,
    "pycharm": {
     "name": "#%%\n"
    }
   }
  },
  {
   "cell_type": "code",
   "execution_count": 29,
   "outputs": [],
   "source": [
    "x = pd.DataFrame(df_standardized.reset_index().drop_duplicates(subset=['index'])['index'])\n",
    "x.to_csv('incomplete_file_list_metrics.csv')"
   ],
   "metadata": {
    "collapsed": false,
    "pycharm": {
     "name": "#%%\n"
    }
   }
  },
  {
   "cell_type": "code",
   "execution_count": 28,
   "outputs": [
    {
     "data": {
      "text/plain": "                                            index         0         1  \\\n0   5674273_5674273_986181_4744079-ZNYHIDDQ-7.jpg  0.179038 -0.205466   \n1   2657917_2657917_706469_1727810-RUDCWNOL-7.jpg -0.417495 -0.241157   \n2   7677942_7677942_707204_6746238-UMMTTFII-7.jpg  1.247015  0.480881   \n3   3988560_3988560_729659_3058414-RBPCDLCN-7.jpg -0.097193  0.813333   \n4  6144759_6144759_1254304_5214543-LZPKQGNA-7.jpg -0.399032  1.346748   \n\n          2         3         4         5         6         7         8  ...  \\\n0  0.318404  0.141340  0.750415  1.004249  0.887049 -0.578304 -0.170313  ...   \n1 -0.938346  0.867238 -0.742303 -0.224647 -1.055932 -0.319362  1.683470  ...   \n2 -0.692408 -0.808201 -0.212283 -0.875297 -1.055304 -0.572417 -0.657747  ...   \n3 -0.669511  0.629872 -0.891591 -0.031148 -1.044521 -0.445586 -0.040810  ...   \n4  2.756703 -0.592330 -1.040331 -0.790362  1.276759  0.248141 -0.245839  ...   \n\n        502       503       504       505       506       507       508  \\\n0 -0.154463  1.020453  0.555110  0.725540  0.019443 -0.727982 -0.466989   \n1 -0.914675 -0.788363  1.141675  0.967299  1.040670 -0.971622 -1.078314   \n2 -0.575768 -0.116853 -1.143070  0.088063  1.482434 -0.766345  0.103612   \n3 -0.148187 -0.196854 -1.143070  2.413292  3.220347 -0.805215 -0.962947   \n4 -0.026579  1.113776 -0.354404 -0.299224 -0.712443 -0.810850 -0.589564   \n\n        509       510       511  \n0 -0.165042 -0.084941  2.579252  \n1 -0.718224 -0.844247  1.073028  \n2 -1.192113  0.483415  1.315784  \n3 -0.242884  2.554668  0.255638  \n4 -1.103905 -0.470548 -0.636606  \n\n[5 rows x 513 columns]",
      "text/html": "<div>\n<style scoped>\n    .dataframe tbody tr th:only-of-type {\n        vertical-align: middle;\n    }\n\n    .dataframe tbody tr th {\n        vertical-align: top;\n    }\n\n    .dataframe thead th {\n        text-align: right;\n    }\n</style>\n<table border=\"1\" class=\"dataframe\">\n  <thead>\n    <tr style=\"text-align: right;\">\n      <th></th>\n      <th>index</th>\n      <th>0</th>\n      <th>1</th>\n      <th>2</th>\n      <th>3</th>\n      <th>4</th>\n      <th>5</th>\n      <th>6</th>\n      <th>7</th>\n      <th>8</th>\n      <th>...</th>\n      <th>502</th>\n      <th>503</th>\n      <th>504</th>\n      <th>505</th>\n      <th>506</th>\n      <th>507</th>\n      <th>508</th>\n      <th>509</th>\n      <th>510</th>\n      <th>511</th>\n    </tr>\n  </thead>\n  <tbody>\n    <tr>\n      <th>0</th>\n      <td>5674273_5674273_986181_4744079-ZNYHIDDQ-7.jpg</td>\n      <td>0.179038</td>\n      <td>-0.205466</td>\n      <td>0.318404</td>\n      <td>0.141340</td>\n      <td>0.750415</td>\n      <td>1.004249</td>\n      <td>0.887049</td>\n      <td>-0.578304</td>\n      <td>-0.170313</td>\n      <td>...</td>\n      <td>-0.154463</td>\n      <td>1.020453</td>\n      <td>0.555110</td>\n      <td>0.725540</td>\n      <td>0.019443</td>\n      <td>-0.727982</td>\n      <td>-0.466989</td>\n      <td>-0.165042</td>\n      <td>-0.084941</td>\n      <td>2.579252</td>\n    </tr>\n    <tr>\n      <th>1</th>\n      <td>2657917_2657917_706469_1727810-RUDCWNOL-7.jpg</td>\n      <td>-0.417495</td>\n      <td>-0.241157</td>\n      <td>-0.938346</td>\n      <td>0.867238</td>\n      <td>-0.742303</td>\n      <td>-0.224647</td>\n      <td>-1.055932</td>\n      <td>-0.319362</td>\n      <td>1.683470</td>\n      <td>...</td>\n      <td>-0.914675</td>\n      <td>-0.788363</td>\n      <td>1.141675</td>\n      <td>0.967299</td>\n      <td>1.040670</td>\n      <td>-0.971622</td>\n      <td>-1.078314</td>\n      <td>-0.718224</td>\n      <td>-0.844247</td>\n      <td>1.073028</td>\n    </tr>\n    <tr>\n      <th>2</th>\n      <td>7677942_7677942_707204_6746238-UMMTTFII-7.jpg</td>\n      <td>1.247015</td>\n      <td>0.480881</td>\n      <td>-0.692408</td>\n      <td>-0.808201</td>\n      <td>-0.212283</td>\n      <td>-0.875297</td>\n      <td>-1.055304</td>\n      <td>-0.572417</td>\n      <td>-0.657747</td>\n      <td>...</td>\n      <td>-0.575768</td>\n      <td>-0.116853</td>\n      <td>-1.143070</td>\n      <td>0.088063</td>\n      <td>1.482434</td>\n      <td>-0.766345</td>\n      <td>0.103612</td>\n      <td>-1.192113</td>\n      <td>0.483415</td>\n      <td>1.315784</td>\n    </tr>\n    <tr>\n      <th>3</th>\n      <td>3988560_3988560_729659_3058414-RBPCDLCN-7.jpg</td>\n      <td>-0.097193</td>\n      <td>0.813333</td>\n      <td>-0.669511</td>\n      <td>0.629872</td>\n      <td>-0.891591</td>\n      <td>-0.031148</td>\n      <td>-1.044521</td>\n      <td>-0.445586</td>\n      <td>-0.040810</td>\n      <td>...</td>\n      <td>-0.148187</td>\n      <td>-0.196854</td>\n      <td>-1.143070</td>\n      <td>2.413292</td>\n      <td>3.220347</td>\n      <td>-0.805215</td>\n      <td>-0.962947</td>\n      <td>-0.242884</td>\n      <td>2.554668</td>\n      <td>0.255638</td>\n    </tr>\n    <tr>\n      <th>4</th>\n      <td>6144759_6144759_1254304_5214543-LZPKQGNA-7.jpg</td>\n      <td>-0.399032</td>\n      <td>1.346748</td>\n      <td>2.756703</td>\n      <td>-0.592330</td>\n      <td>-1.040331</td>\n      <td>-0.790362</td>\n      <td>1.276759</td>\n      <td>0.248141</td>\n      <td>-0.245839</td>\n      <td>...</td>\n      <td>-0.026579</td>\n      <td>1.113776</td>\n      <td>-0.354404</td>\n      <td>-0.299224</td>\n      <td>-0.712443</td>\n      <td>-0.810850</td>\n      <td>-0.589564</td>\n      <td>-1.103905</td>\n      <td>-0.470548</td>\n      <td>-0.636606</td>\n    </tr>\n  </tbody>\n</table>\n<p>5 rows × 513 columns</p>\n</div>"
     },
     "execution_count": 28,
     "metadata": {},
     "output_type": "execute_result"
    }
   ],
   "source": [],
   "metadata": {
    "collapsed": false,
    "pycharm": {
     "name": "#%%\n"
    }
   }
  },
  {
   "cell_type": "code",
   "execution_count": 31,
   "outputs": [
    {
     "data": {
      "text/plain": "5674273_5674273_986181_4744079-ZNYHIDDQ-7.jpg     0.179038\n2657917_2657917_706469_1727810-RUDCWNOL-7.jpg    -0.417495\n7677942_7677942_707204_6746238-UMMTTFII-7.jpg     1.247015\n3988560_3988560_729659_3058414-RBPCDLCN-7.jpg    -0.097193\n6144759_6144759_1254304_5214543-LZPKQGNA-7.jpg   -0.399032\n                                                    ...   \n2009836_2009836_667336_1123829-7.jpg             -1.001386\n7587337_7587337_653828_6655951-PWFJWMRB-7.jpg    -0.052308\n7725600_7725600_1607275_6793723-OUTFGPUN-7.jpg   -0.665219\n6969913_6969913_1396893_6039249-WFRNWRVS-7.jpg   -0.180074\n5412357_5412357_910894_4482169-KBUGPXMJ-7.jpg     4.917459\nName: 0, Length: 619738, dtype: float64"
     },
     "execution_count": 31,
     "metadata": {},
     "output_type": "execute_result"
    }
   ],
   "source": [
    "\n",
    "df_standardized[0]"
   ],
   "metadata": {
    "collapsed": false,
    "pycharm": {
     "name": "#%%\n"
    }
   }
  },
  {
   "cell_type": "code",
   "execution_count": null,
   "outputs": [],
   "source": [],
   "metadata": {
    "collapsed": false,
    "pycharm": {
     "name": "#%%\n"
    }
   }
  }
 ],
 "metadata": {
  "kernelspec": {
   "name": "thesis_cur-ai-tor",
   "language": "python",
   "display_name": "Thesis_cur-AI-tor"
  },
  "language_info": {
   "codemirror_mode": {
    "name": "ipython",
    "version": 2
   },
   "file_extension": ".py",
   "mimetype": "text/x-python",
   "name": "python",
   "nbconvert_exporter": "python",
   "pygments_lexer": "ipython2",
   "version": "2.7.6"
  }
 },
 "nbformat": 4,
 "nbformat_minor": 0
}