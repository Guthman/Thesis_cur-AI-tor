{
 "cells": [
  {
   "cell_type": "code",
   "execution_count": 4,
   "metadata": {
    "collapsed": true
   },
   "outputs": [],
   "source": [
    "import ujson as json\n",
    "import pandas as pd\n",
    "import glob"
   ]
  },
  {
   "cell_type": "code",
   "execution_count": 5,
   "outputs": [],
   "source": [
    "df_list = []\n",
    "for path in glob.glob(r'F:\\temp\\thesisdata\\metrics2\\*.*'):\n",
    "    with open(path, 'r') as f:\n",
    "        data_dict_list = json.load(f)\n",
    "\n",
    "    data_dict = {}\n",
    "    for element in data_dict_list:\n",
    "        data_dict.update(element)\n",
    "\n",
    "    df_list.append(pd.DataFrame.from_dict(data_dict, orient='index'))"
   ],
   "metadata": {
    "collapsed": false,
    "pycharm": {
     "name": "#%%\n"
    }
   }
  },
  {
   "cell_type": "code",
   "execution_count": 6,
   "outputs": [
    {
     "name": "stdout",
     "output_type": "stream",
     "text": [
      "<class 'pandas.core.frame.DataFrame'>\n",
      "Index: 619738 entries, 5674273_5674273_986181_4744079-ZNYHIDDQ-7.jpg to 5412357_5412357_910894_4482169-KBUGPXMJ-7.jpg\n",
      "Columns: 512 entries, 0 to 511\n",
      "dtypes: float64(512)\n",
      "memory usage: 2.4+ GB\n"
     ]
    }
   ],
   "source": [
    "df = pd.concat(df_list)\n",
    "df.info()"
   ],
   "metadata": {
    "collapsed": false,
    "pycharm": {
     "name": "#%%\n"
    }
   }
  },
  {
   "cell_type": "code",
   "execution_count": 7,
   "outputs": [],
   "source": [
    "df.to_csv(r'F:\\temp\\thesisdata\\saatchi_all_resnet_features.csv')"
   ],
   "metadata": {
    "collapsed": false,
    "pycharm": {
     "name": "#%%\n"
    }
   }
  },
  {
   "cell_type": "code",
   "execution_count": 9,
   "outputs": [],
   "source": [
    "# df.to_feather(r'F:\\temp\\thesisdata\\saatchi_all_resnet_features.feather')\n",
    "# df.to_pickle(r'F:\\temp\\thesisdata\\saatchi_all_resnet_features.pkl')\n",
    "df.to_pickle(r'F:\\temp\\thesisdata\\saatchi_all_resnet_features.bz2',\n",
    "      compression='bz2')"
   ],
   "metadata": {
    "collapsed": false,
    "pycharm": {
     "name": "#%%\n"
    }
   }
  },
  {
   "cell_type": "code",
   "execution_count": null,
   "outputs": [],
   "source": [],
   "metadata": {
    "collapsed": false,
    "pycharm": {
     "name": "#%%\n"
    }
   }
  }
 ],
 "metadata": {
  "kernelspec": {
   "name": "thesis_cur-ai-tor",
   "language": "python",
   "display_name": "Thesis_cur-AI-tor"
  },
  "language_info": {
   "codemirror_mode": {
    "name": "ipython",
    "version": 2
   },
   "file_extension": ".py",
   "mimetype": "text/x-python",
   "name": "python",
   "nbconvert_exporter": "python",
   "pygments_lexer": "ipython2",
   "version": "2.7.6"
  }
 },
 "nbformat": 4,
 "nbformat_minor": 0
}