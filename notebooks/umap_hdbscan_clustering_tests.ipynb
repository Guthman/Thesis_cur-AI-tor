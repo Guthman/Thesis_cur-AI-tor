{
 "cells": [
  {
   "cell_type": "code",
   "execution_count": 10,
   "metadata": {
    "collapsed": true
   },
   "outputs": [],
   "source": [
    "import pandas as pd\n",
    "from pathlib import Path\n",
    "import shutil\n",
    "import numpy as np\n",
    "import traceback\n",
    "import ujson as json\n",
    "import umap\n",
    "import hdbscan\n",
    "import pickle\n",
    "import glob\n",
    "from tqdm.auto import tqdm"
   ]
  },
  {
   "cell_type": "code",
   "execution_count": 11,
   "outputs": [],
   "source": [
    "# load ResNet activations\n",
    "data_dir = r'C:\\Users\\Rodney\\PycharmProjects\\Thesis_cur-AI-tor\\notebooks\\micro_dataset1_resnet18_output_identity.json'\n",
    "with open(data_dir, 'r') as f:\n",
    "    data_dict_list = json.load(f)\n",
    "\n",
    "data_dict = {}\n",
    "for element in data_dict_list:\n",
    "    data_dict.update(element)\n",
    "\n",
    "df_x = pd.DataFrame.from_dict(data_dict, orient='index')\n",
    "X = df_x.values"
   ],
   "metadata": {
    "collapsed": false,
    "pycharm": {
     "name": "#%%\n"
    }
   }
  },
  {
   "cell_type": "code",
   "execution_count": null,
   "outputs": [],
   "source": [
    "# Load engineered data\n",
    "engineered_features_path = r'C:\\Users\\Rodney\\Desktop\\saatchi\\df_full.csv'\n",
    "df_engineered = pd.read_csv(engineered_features_path, index_col=0)\n",
    "df_engineered.drop('color_dominant', axis=1, inplace=True)"
   ],
   "metadata": {
    "collapsed": false,
    "pycharm": {
     "name": "#%%\n"
    }
   }
  },
  {
   "cell_type": "code",
   "execution_count": 79,
   "outputs": [],
   "source": [
    "def create_embedding(data: np.array,\n",
    "                     n_neighbors: int,\n",
    "                     n_components: int,\n",
    "                     metric: str = 'euclidean',\n",
    "                     full_dataset: bool = False):\n",
    "\n",
    "    if full_dataset:\n",
    "        filename_prefix = 'macro_'\n",
    "    else:\n",
    "        filename_prefix = 'micro_'\n",
    "\n",
    "    embedding_filename = Path(f'{filename_prefix}embedding_{n_neighbors}_{n_components}_{metric}.pkl')\n",
    "\n",
    "    if embedding_filename.is_file():\n",
    "        with open(embedding_filename, 'rb') as f:\n",
    "            clusterable_embedding_ = pickle.load(f)\n",
    "\n",
    "    else:\n",
    "        clusterable_embedding_ = umap.UMAP(\n",
    "            n_neighbors=n_neighbors,\n",
    "            min_dist=0.0,\n",
    "            n_components=n_components,\n",
    "            metric=metric,\n",
    "            random_state=3,\n",
    "        ).fit_transform(X)\n",
    "        with open(embedding_filename, 'wb') as f:\n",
    "            pickle.dump(clusterable_embedding_, f)\n",
    "    return clusterable_embedding_\n",
    "\n",
    "def get_clusters(clusterable_embedding_):\n",
    "    clusterer = hdbscan.HDBSCAN(min_cluster_size=1000,\n",
    "                                prediction_data=True).fit(clusterable_embedding_)\n",
    "    soft_clusters_ = hdbscan.all_points_membership_vectors(clusterer)\n",
    "    return soft_clusters_"
   ],
   "metadata": {
    "collapsed": false,
    "pycharm": {
     "name": "#%%\n"
    }
   }
  },
  {
   "cell_type": "code",
   "execution_count": 81,
   "outputs": [
    {
     "data": {
      "text/plain": "                                               class\n3865991_3865991_691412_2935874-DSMUXGTJ-7.jpg      1\n7980766_7980766_669333_7048178-XOYQRJZQ-7.jpg      0\n3749936_3749936_314728_2819820-JDANXKLD-7.jpg      1\n5610715_5610715_91068_4680525-LMQNOWJA-7.jpg       1\n6771765_6771765_786228_5841405-PSPFNCAV-7.jpg      1",
      "text/html": "<div>\n<style scoped>\n    .dataframe tbody tr th:only-of-type {\n        vertical-align: middle;\n    }\n\n    .dataframe tbody tr th {\n        vertical-align: top;\n    }\n\n    .dataframe thead th {\n        text-align: right;\n    }\n</style>\n<table border=\"1\" class=\"dataframe\">\n  <thead>\n    <tr style=\"text-align: right;\">\n      <th></th>\n      <th>class</th>\n    </tr>\n  </thead>\n  <tbody>\n    <tr>\n      <th>3865991_3865991_691412_2935874-DSMUXGTJ-7.jpg</th>\n      <td>1</td>\n    </tr>\n    <tr>\n      <th>7980766_7980766_669333_7048178-XOYQRJZQ-7.jpg</th>\n      <td>0</td>\n    </tr>\n    <tr>\n      <th>3749936_3749936_314728_2819820-JDANXKLD-7.jpg</th>\n      <td>1</td>\n    </tr>\n    <tr>\n      <th>5610715_5610715_91068_4680525-LMQNOWJA-7.jpg</th>\n      <td>1</td>\n    </tr>\n    <tr>\n      <th>6771765_6771765_786228_5841405-PSPFNCAV-7.jpg</th>\n      <td>1</td>\n    </tr>\n  </tbody>\n</table>\n</div>"
     },
     "execution_count": 81,
     "metadata": {},
     "output_type": "execute_result"
    }
   ],
   "source": [
    "clusterable_embedding = create_embedding(data=X, n_neighbors=1250, n_components=25, metric='euclidean')\n",
    "soft_clusters = get_clusters(clusterable_embedding)\n",
    "class_labels = [preds.argmax() for preds in soft_clusters]\n",
    "df_x_ = df_x.copy()\n",
    "df_x_['class'] = class_labels\n",
    "df_x_ = df_x_[['class']]\n",
    "df_x_.head()"
   ],
   "metadata": {
    "collapsed": false,
    "pycharm": {
     "name": "#%%\n"
    }
   }
  },
  {
   "cell_type": "code",
   "execution_count": 82,
   "outputs": [
    {
     "data": {
      "text/plain": "class\n1        9062\n0        6161\ndtype: int64"
     },
     "execution_count": 82,
     "metadata": {},
     "output_type": "execute_result"
    }
   ],
   "source": [
    "df_x_.value_counts()"
   ],
   "metadata": {
    "collapsed": false,
    "pycharm": {
     "name": "#%%\n"
    }
   }
  },
  {
   "cell_type": "code",
   "execution_count": 74,
   "outputs": [],
   "source": [
    "# Load metadata etc\n",
    "df_x_.to_csv('saatchi_micro_umap_hdbscan_clustering_test6.csv')\n",
    "filenames_and_labels = 'saatchi_micro_umap_hdbscan_clustering_test6.csv'\n",
    "target_column_name = 'class'\n",
    "image_input_folder = r'E:\\temp\\thesisdata\\micro_dataset1'\n",
    "image_output_folder = r'E:\\temp\\thesisdata\\umap_hdbscan_test6'\n",
    "size_ = 128\n",
    "image_count_per_class = 1000000\n",
    "\n",
    "# Load target data\n",
    "targets_df = pd.read_csv(filenames_and_labels, index_col=0)\n",
    "\n",
    "# Remove unnecessary columns\n",
    "for col in targets_df.columns:\n",
    "    if col != target_column_name:\n",
    "        targets_df.drop(col, axis=1, inplace=True)\n",
    "\n",
    "# Remove duplicates\n",
    "targets_df = pd.DataFrame(targets_df.reset_index().\n",
    "                          drop_duplicates(subset=['index'])).set_index('index')"
   ],
   "metadata": {
    "collapsed": false,
    "pycharm": {
     "name": "#%%\n"
    }
   }
  },
  {
   "cell_type": "code",
   "execution_count": 75,
   "outputs": [],
   "source": [
    "def resize_pad_crop_image(input_path: str, output_path: str):\n",
    "    input_path_ = Path(input_path)\n",
    "    output_path_ = Path(output_path)\n",
    "    filename = input_path_.name\n",
    "\n",
    "    assert input_path_.is_file()\n",
    "    assert output_path_.is_dir(), print('Supplied output path is not a directory:' + output_path_.__str__())\n",
    "\n",
    "    if input_path_.stat().st_size > 0:\n",
    "        pass\n",
    "    else:\n",
    "        print(f'Filesize is 0, skipping file: {input_path_}')\n",
    "        return\n",
    "\n",
    "    full_output_path = output_path_ / filename\n",
    "    shutil.copy(input_path, full_output_path)"
   ],
   "metadata": {
    "collapsed": false,
    "pycharm": {
     "name": "#%%\n"
    }
   }
  },
  {
   "cell_type": "code",
   "execution_count": 75,
   "outputs": [],
   "source": [],
   "metadata": {
    "collapsed": false,
    "pycharm": {
     "name": "#%%\n"
    }
   }
  },
  {
   "cell_type": "code",
   "execution_count": 76,
   "outputs": [],
   "source": [
    "# Create list with unique class labels\n",
    "label_folder_list = list(np.unique(targets_df[target_column_name].values))\n",
    "counter = {k: 0 for k in label_folder_list}\n",
    "\n",
    "# Create the folders\n",
    "for folder in label_folder_list:\n",
    "    Path(image_output_folder + '/' + str(folder)).mkdir(parents=True, exist_ok=True)"
   ],
   "metadata": {
    "collapsed": false,
    "pycharm": {
     "name": "#%%\n"
    }
   }
  },
  {
   "cell_type": "code",
   "execution_count": 77,
   "outputs": [],
   "source": [
    "def run(file):\n",
    "    filename = None\n",
    "    try:\n",
    "        if all(count >= image_count_per_class for count in counter.values()):\n",
    "            return\n",
    "        else:\n",
    "            filename = Path(file).name\n",
    "            label = targets_df.loc[filename][target_column_name]\n",
    "            if counter[label] < image_count_per_class:\n",
    "                image_output_folder_with_label = image_output_folder + '\\\\' + str(label)\n",
    "                resize_pad_crop_image(file, image_output_folder_with_label)\n",
    "                counter.update({label: counter[label] + 1})\n",
    "    except KeyError:\n",
    "        print(f'Label not found for file {file}, skipping!')\n",
    "    except OSError:\n",
    "        if filename is None:\n",
    "            filename = file\n",
    "        print(f'Skipping file {filename} due to OSError encountered: {traceback.format_exc()}, skipping!')"
   ],
   "metadata": {
    "collapsed": false,
    "pycharm": {
     "name": "#%%\n"
    }
   }
  },
  {
   "cell_type": "code",
   "execution_count": 78,
   "outputs": [
    {
     "name": "stdout",
     "output_type": "stream",
     "text": [
      "15223\n"
     ]
    },
    {
     "data": {
      "text/plain": "  0%|          | 0/15223 [00:00<?, ?it/s]",
      "application/vnd.jupyter.widget-view+json": {
       "version_major": 2,
       "version_minor": 0,
       "model_id": "1bb7189f02aa4ba9a1ff58412230dd63"
      }
     },
     "metadata": {},
     "output_type": "display_data"
    }
   ],
   "source": [
    "filelist = glob.glob(image_input_folder + '*/*')\n",
    "print(len(filelist))\n",
    "for file in tqdm(filelist):\n",
    "    run(file)"
   ],
   "metadata": {
    "collapsed": false,
    "pycharm": {
     "name": "#%%\n"
    }
   }
  },
  {
   "cell_type": "code",
   "execution_count": null,
   "outputs": [],
   "source": [],
   "metadata": {
    "collapsed": false,
    "pycharm": {
     "name": "#%%\n"
    }
   }
  }
 ],
 "metadata": {
  "kernelspec": {
   "display_name": "Python 3",
   "language": "python",
   "name": "python3"
  },
  "language_info": {
   "codemirror_mode": {
    "name": "ipython",
    "version": 2
   },
   "file_extension": ".py",
   "mimetype": "text/x-python",
   "name": "python",
   "nbconvert_exporter": "python",
   "pygments_lexer": "ipython2",
   "version": "2.7.6"
  }
 },
 "nbformat": 4,
 "nbformat_minor": 0
}