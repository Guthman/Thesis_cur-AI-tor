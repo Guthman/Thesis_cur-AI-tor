{
 "cells": [
  {
   "cell_type": "code",
   "execution_count": null,
   "metadata": {
    "collapsed": true
   },
   "outputs": [],
   "source": [
    "import glob\n",
    "import cv2\n",
    "import os\n",
    "from tqdm.auto import tqdm"
   ]
  },
  {
   "cell_type": "code",
   "execution_count": null,
   "outputs": [],
   "source": [
    "# Define paths where the images are located, and where the transformed images should be saved\n",
    "path = r'E:\\temp\\thesisdata\\behance_gallery_images'\n",
    "path_transformed = r'M:\\temp\\behance_gallery_images_resized'\n",
    "\n",
    "# Generate list of all image paths (path+filename)\n",
    "image_paths = glob.glob(path + '/*.*')\n",
    "\n",
    "# Change to the transformed images path in order to save transformed images there\n",
    "os.chdir(path_transformed)"
   ],
   "metadata": {
    "collapsed": false,
    "pycharm": {
     "name": "#%%\n"
    }
   }
  },
  {
   "cell_type": "code",
   "execution_count": null,
   "outputs": [],
   "source": [
    "def resize(image_):\n",
    "    return"
   ],
   "metadata": {
    "collapsed": false,
    "pycharm": {
     "name": "#%%\n"
    }
   }
  },
  {
   "cell_type": "code",
   "execution_count": null,
   "outputs": [],
   "source": [
    "for image_path in tqdm(image_paths):\n",
    "    filename = os.path.basename(image_path)\n",
    "    image = cv2.imread(image_path)\n",
    "\n",
    "    x = image.shape[0]\n",
    "    y = image.shape[1]\n",
    "\n",
    "    image_resized = resize(image)\n",
    "    cv2.imwrite(filename, image_resized)"
   ],
   "metadata": {
    "collapsed": false,
    "pycharm": {
     "name": "#%%\n"
    }
   }
  }
 ],
 "metadata": {
  "kernelspec": {
   "display_name": "Python 3",
   "language": "python",
   "name": "python3"
  },
  "language_info": {
   "codemirror_mode": {
    "name": "ipython",
    "version": 2
   },
   "file_extension": ".py",
   "mimetype": "text/x-python",
   "name": "python",
   "nbconvert_exporter": "python",
   "pygments_lexer": "ipython2",
   "version": "2.7.6"
  }
 },
 "nbformat": 4,
 "nbformat_minor": 0
}