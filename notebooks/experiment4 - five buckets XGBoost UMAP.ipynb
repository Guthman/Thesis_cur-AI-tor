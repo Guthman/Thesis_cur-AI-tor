{
 "cells": [
  {
   "cell_type": "code",
   "execution_count": 1,
   "metadata": {
    "collapsed": true,
    "pycharm": {
     "name": "#%%\n"
    }
   },
   "outputs": [],
   "source": [
    "try:\n",
    "    import ujson as json\n",
    "    import umap\n",
    "except ModuleNotFoundError:\n",
    "    ! pip install ujson -qU\n",
    "    ! pip install umap-learn -qU\n",
    "    import ujson as json\n",
    "    import umap\n",
    "\n",
    "import requests\n",
    "import pandas as pd\n",
    "import random\n",
    "\n",
    "import xgboost as xgb\n",
    "from sklearn.multioutput import MultiOutputClassifier\n",
    "from sklearn.metrics import accuracy_score\n",
    "\n",
    "if 'google.colab' in str(get_ipython()):\n",
    "    on_colab = True\n",
    "else:\n",
    "    on_colab = False\n",
    "\n",
    "# xgb_mode = 'gbtree'\n",
    "xgb_mode = 'dart'\n"
   ]
  },
  {
   "cell_type": "code",
   "execution_count": 2,
   "outputs": [],
   "source": [
    "# Helper function to download files\n",
    "def download_file(url):\n",
    "    local_filename = url.split('/')[-1]\n",
    "    with requests.get(url, stream=True) as r:\n",
    "        r.raise_for_status()\n",
    "        with open(local_filename, 'wb') as f:\n",
    "            for chunk in r.iter_content(chunk_size=8192):\n",
    "                f.write(chunk)\n",
    "    return local_filename"
   ],
   "metadata": {
    "collapsed": false,
    "pycharm": {
     "name": "#%%\n"
    }
   }
  },
  {
   "cell_type": "code",
   "execution_count": 3,
   "outputs": [],
   "source": [
    "# Helper function to pick random parameter from iterable or range\n",
    "def random_element(parameter_iterable):\n",
    "    # If it's a tuple treat it as an upper and lower bound\n",
    "    if isinstance(parameter_iterable, tuple):\n",
    "        out = random.uniform(parameter_iterable[0], parameter_iterable[1])\n",
    "        return round(out, 6)\n",
    "\n",
    "    # If it's a list, return a random element from the list\n",
    "    elif isinstance(parameter_iterable, list):\n",
    "        no_choices = len(parameter_iterable)\n",
    "        return parameter_iterable[random.randrange(0, no_choices)]\n",
    "\n",
    "    else:\n",
    "        print('Input not a tuple or list.')\n",
    "        raise TypeError"
   ],
   "metadata": {
    "collapsed": false,
    "pycharm": {
     "name": "#%%\n"
    }
   }
  },
  {
   "cell_type": "code",
   "execution_count": 4,
   "outputs": [],
   "source": [
    "# Dart booster\n",
    "learning_task_parameters = {'seed': 3}\n",
    "\n",
    "dart_general_parameters = {'booster': random_element(['gbtree', 'dart']), 'nthread': 2}\n",
    "\n",
    "gbtree_general_parameters = {'booster': 'gbtree', 'nthread': 2}\n",
    "\n",
    "def randomize_hparams():\n",
    "    if xgb_mode == 'dart':\n",
    "        booster_parameters_ = {'learning_rate': random_element((0.1, 0.8)),\n",
    "                              'gamma': random_element((0, 5)),\n",
    "                              'max_depth': random_element(list(range(3,12))),\n",
    "                              'min_child_weight': random_element((0, 3)),\n",
    "                              'max_delta_step': 0,\n",
    "                              'subsample': random_element((0.4, 0.8)),\n",
    "                              'sampling_method': random_element(['uniform', 'gradient_based']),\n",
    "                              'lambda': random_element((0.3, 3)),\n",
    "                              'alpha': random_element((0, 2)),\n",
    "                              'grow_policy': random_element(['depthwise', 'lossguide']),\n",
    "                              'max_leaves': random_element([1, 2, 3, 4]),\n",
    "                              'sample_type': random_element(['uniform', 'weighted']),\n",
    "                              'normalize_type': random_element(['tree', 'forest']),\n",
    "                              'rate_drop': random_element((0, 1)),\n",
    "                              'one_drop': random_element([0, 1]),\n",
    "                              }\n",
    "\n",
    "    elif xgb_mode == 'gbtree':\n",
    "        booster_parameters_ = {'learning_rate': random_element((0.1, 0.8)),\n",
    "                              'gamma': random_element((0, 5)),\n",
    "                              'max_depth': random_element(list(range(3,12))),\n",
    "                              'min_child_weight': random_element((0, 3)),\n",
    "                              'max_delta_step': 0,\n",
    "                              'subsample': random_element((0.4, 0.8)),\n",
    "                              'sampling_method': random_element(['uniform', 'gradient_based']),\n",
    "                              'lambda': random_element((0.3, 3)),\n",
    "                              'alpha': random_element((0, 2)),\n",
    "                              'grow_policy': random_element(['depthwise', 'lossguide']),\n",
    "                              'max_leaves': random_element([1, 2, 3, 4]),\n",
    "                              }\n",
    "    else:\n",
    "        print('\"Global varialbe \"xgb_mode\" not set!')\n",
    "        raise TypeError\n",
    "\n",
    "    if on_colab:\n",
    "        booster_parameters_.update({'tree_method': 'gpu_hist'})\n",
    "    else:\n",
    "        booster_parameters_.update({'tree_method': 'auto'})\n",
    "    return booster_parameters_\n",
    "\n",
    "booster_parameters = randomize_hparams()"
   ],
   "metadata": {
    "collapsed": false,
    "pycharm": {
     "name": "#%%\n"
    }
   }
  },
  {
   "cell_type": "code",
   "execution_count": 5,
   "outputs": [
    {
     "data": {
      "text/plain": "                                                    0         1         2    \\\n3865991_3865991_691412_2935874-DSMUXGTJ-7.jpg  0.402192  0.215186  1.006052   \n7980766_7980766_669333_7048178-XOYQRJZQ-7.jpg  1.073950  0.707743  0.106056   \n3749936_3749936_314728_2819820-JDANXKLD-7.jpg  2.806773  0.006849  0.898165   \n5610715_5610715_91068_4680525-LMQNOWJA-7.jpg   0.039423  0.658119  1.192224   \n6771765_6771765_786228_5841405-PSPFNCAV-7.jpg  0.292377  0.011645  0.000842   \n\n                                                    3         4         5    \\\n3865991_3865991_691412_2935874-DSMUXGTJ-7.jpg  2.535887  0.223182  0.966906   \n7980766_7980766_669333_7048178-XOYQRJZQ-7.jpg  0.551383  0.680530  1.220285   \n3749936_3749936_314728_2819820-JDANXKLD-7.jpg  0.802126  0.967394  0.287235   \n5610715_5610715_91068_4680525-LMQNOWJA-7.jpg   2.684522  2.460881  0.046748   \n6771765_6771765_786228_5841405-PSPFNCAV-7.jpg  1.337585  0.382337  0.305897   \n\n                                                    6         7         8    \\\n3865991_3865991_691412_2935874-DSMUXGTJ-7.jpg  0.067344  3.101986  1.115319   \n7980766_7980766_669333_7048178-XOYQRJZQ-7.jpg  1.024527  0.305020  1.039700   \n3749936_3749936_314728_2819820-JDANXKLD-7.jpg  0.244238  1.446031  6.778771   \n5610715_5610715_91068_4680525-LMQNOWJA-7.jpg   0.357242  3.366874  0.919030   \n6771765_6771765_786228_5841405-PSPFNCAV-7.jpg  0.060697  0.592383  1.287450   \n\n                                                    9    ...       502  \\\n3865991_3865991_691412_2935874-DSMUXGTJ-7.jpg  0.726254  ...  0.732725   \n7980766_7980766_669333_7048178-XOYQRJZQ-7.jpg  0.217051  ...  0.649347   \n3749936_3749936_314728_2819820-JDANXKLD-7.jpg  0.235296  ...  1.267828   \n5610715_5610715_91068_4680525-LMQNOWJA-7.jpg   0.776935  ...  0.823428   \n6771765_6771765_786228_5841405-PSPFNCAV-7.jpg  0.122081  ...  0.067053   \n\n                                                    503       504       505  \\\n3865991_3865991_691412_2935874-DSMUXGTJ-7.jpg  0.914586  0.618770  0.791526   \n7980766_7980766_669333_7048178-XOYQRJZQ-7.jpg  1.637149  2.630768  2.322523   \n3749936_3749936_314728_2819820-JDANXKLD-7.jpg  0.326778  0.115728  0.466623   \n5610715_5610715_91068_4680525-LMQNOWJA-7.jpg   0.713102  0.531813  1.427407   \n6771765_6771765_786228_5841405-PSPFNCAV-7.jpg  0.803128  0.234250  2.015079   \n\n                                                    506       507       508  \\\n3865991_3865991_691412_2935874-DSMUXGTJ-7.jpg  2.018329  0.108899  0.651192   \n7980766_7980766_669333_7048178-XOYQRJZQ-7.jpg  0.047876  1.300324  3.735312   \n3749936_3749936_314728_2819820-JDANXKLD-7.jpg  0.193548  1.720899  1.446586   \n5610715_5610715_91068_4680525-LMQNOWJA-7.jpg   0.424931  2.481088  0.868538   \n6771765_6771765_786228_5841405-PSPFNCAV-7.jpg  1.405711  0.291771  0.038078   \n\n                                                    509       510       511  \n3865991_3865991_691412_2935874-DSMUXGTJ-7.jpg  0.192771  2.346089  1.501905  \n7980766_7980766_669333_7048178-XOYQRJZQ-7.jpg  1.352288  0.054118  3.584239  \n3749936_3749936_314728_2819820-JDANXKLD-7.jpg  2.535370  0.864782  0.062465  \n5610715_5610715_91068_4680525-LMQNOWJA-7.jpg   2.333207  0.845097  1.062181  \n6771765_6771765_786228_5841405-PSPFNCAV-7.jpg  0.586244  0.069435  0.066380  \n\n[5 rows x 512 columns]",
      "text/html": "<div>\n<style scoped>\n    .dataframe tbody tr th:only-of-type {\n        vertical-align: middle;\n    }\n\n    .dataframe tbody tr th {\n        vertical-align: top;\n    }\n\n    .dataframe thead th {\n        text-align: right;\n    }\n</style>\n<table border=\"1\" class=\"dataframe\">\n  <thead>\n    <tr style=\"text-align: right;\">\n      <th></th>\n      <th>0</th>\n      <th>1</th>\n      <th>2</th>\n      <th>3</th>\n      <th>4</th>\n      <th>5</th>\n      <th>6</th>\n      <th>7</th>\n      <th>8</th>\n      <th>9</th>\n      <th>...</th>\n      <th>502</th>\n      <th>503</th>\n      <th>504</th>\n      <th>505</th>\n      <th>506</th>\n      <th>507</th>\n      <th>508</th>\n      <th>509</th>\n      <th>510</th>\n      <th>511</th>\n    </tr>\n  </thead>\n  <tbody>\n    <tr>\n      <th>3865991_3865991_691412_2935874-DSMUXGTJ-7.jpg</th>\n      <td>0.402192</td>\n      <td>0.215186</td>\n      <td>1.006052</td>\n      <td>2.535887</td>\n      <td>0.223182</td>\n      <td>0.966906</td>\n      <td>0.067344</td>\n      <td>3.101986</td>\n      <td>1.115319</td>\n      <td>0.726254</td>\n      <td>...</td>\n      <td>0.732725</td>\n      <td>0.914586</td>\n      <td>0.618770</td>\n      <td>0.791526</td>\n      <td>2.018329</td>\n      <td>0.108899</td>\n      <td>0.651192</td>\n      <td>0.192771</td>\n      <td>2.346089</td>\n      <td>1.501905</td>\n    </tr>\n    <tr>\n      <th>7980766_7980766_669333_7048178-XOYQRJZQ-7.jpg</th>\n      <td>1.073950</td>\n      <td>0.707743</td>\n      <td>0.106056</td>\n      <td>0.551383</td>\n      <td>0.680530</td>\n      <td>1.220285</td>\n      <td>1.024527</td>\n      <td>0.305020</td>\n      <td>1.039700</td>\n      <td>0.217051</td>\n      <td>...</td>\n      <td>0.649347</td>\n      <td>1.637149</td>\n      <td>2.630768</td>\n      <td>2.322523</td>\n      <td>0.047876</td>\n      <td>1.300324</td>\n      <td>3.735312</td>\n      <td>1.352288</td>\n      <td>0.054118</td>\n      <td>3.584239</td>\n    </tr>\n    <tr>\n      <th>3749936_3749936_314728_2819820-JDANXKLD-7.jpg</th>\n      <td>2.806773</td>\n      <td>0.006849</td>\n      <td>0.898165</td>\n      <td>0.802126</td>\n      <td>0.967394</td>\n      <td>0.287235</td>\n      <td>0.244238</td>\n      <td>1.446031</td>\n      <td>6.778771</td>\n      <td>0.235296</td>\n      <td>...</td>\n      <td>1.267828</td>\n      <td>0.326778</td>\n      <td>0.115728</td>\n      <td>0.466623</td>\n      <td>0.193548</td>\n      <td>1.720899</td>\n      <td>1.446586</td>\n      <td>2.535370</td>\n      <td>0.864782</td>\n      <td>0.062465</td>\n    </tr>\n    <tr>\n      <th>5610715_5610715_91068_4680525-LMQNOWJA-7.jpg</th>\n      <td>0.039423</td>\n      <td>0.658119</td>\n      <td>1.192224</td>\n      <td>2.684522</td>\n      <td>2.460881</td>\n      <td>0.046748</td>\n      <td>0.357242</td>\n      <td>3.366874</td>\n      <td>0.919030</td>\n      <td>0.776935</td>\n      <td>...</td>\n      <td>0.823428</td>\n      <td>0.713102</td>\n      <td>0.531813</td>\n      <td>1.427407</td>\n      <td>0.424931</td>\n      <td>2.481088</td>\n      <td>0.868538</td>\n      <td>2.333207</td>\n      <td>0.845097</td>\n      <td>1.062181</td>\n    </tr>\n    <tr>\n      <th>6771765_6771765_786228_5841405-PSPFNCAV-7.jpg</th>\n      <td>0.292377</td>\n      <td>0.011645</td>\n      <td>0.000842</td>\n      <td>1.337585</td>\n      <td>0.382337</td>\n      <td>0.305897</td>\n      <td>0.060697</td>\n      <td>0.592383</td>\n      <td>1.287450</td>\n      <td>0.122081</td>\n      <td>...</td>\n      <td>0.067053</td>\n      <td>0.803128</td>\n      <td>0.234250</td>\n      <td>2.015079</td>\n      <td>1.405711</td>\n      <td>0.291771</td>\n      <td>0.038078</td>\n      <td>0.586244</td>\n      <td>0.069435</td>\n      <td>0.066380</td>\n    </tr>\n  </tbody>\n</table>\n<p>5 rows × 512 columns</p>\n</div>"
     },
     "execution_count": 5,
     "metadata": {},
     "output_type": "execute_result"
    }
   ],
   "source": [
    "# Load x data\n",
    "if on_colab:\n",
    "    download_file('https://objectstorage.eu-frankfurt-1.oraclecloud.com/n/frwwzrj6ghal/b/thesis/o/micro_dataset1_resnet18_output_identity.json')\n",
    "    data_dir = r'micro_dataset1_resnet18_output_identity.json'\n",
    "    booster_parameters.update({'tree_method': 'gpu_hist'})\n",
    "else:\n",
    "    data_dir = r'F:\\temp\\thesisdata\\micro_dataset_1\\micro_dataset1_resnet18_output_identity.json'\n",
    "\n",
    "with open(data_dir, 'r') as f:\n",
    "    data_dict_list = json.load(f)\n",
    "\n",
    "data_dict = {}\n",
    "for element in data_dict_list:\n",
    "    data_dict.update(element)\n",
    "\n",
    "# Show first two elements of the dict\n",
    "# dict(itertools.islice(data_dict.items(), 2))\n",
    "df_x = pd.DataFrame.from_dict(data_dict, orient='index')\n",
    "df_x.head()"
   ],
   "metadata": {
    "collapsed": false,
    "pycharm": {
     "name": "#%%\n"
    }
   }
  },
  {
   "cell_type": "code",
   "execution_count": null,
   "outputs": [],
   "source": [
    "# Load y data\n",
    "if on_colab:\n",
    "    download_file('https://objectstorage.eu-frankfurt-1.oraclecloud.com/n/frwwzrj6ghal/b/thesis/o/SAATCHI_MICRO_DATASET_PRICE_VIEWSLIKES.tsv')\n",
    "    data_dir = 'SAATCHI_MICRO_DATASET_PRICE_VIEWSLIKES.tsv'\n",
    "else:\n",
    "    data_dir = r'F:\\temp\\thesisdata\\SAATCHI_MICRO_DATASET_PRICE_VIEWSLIKES.tsv'\n",
    "\n",
    "df_y = pd.read_csv(data_dir, sep='\\t')\n",
    "df_y.set_index('FILENAME', inplace=True)\n",
    "\n",
    "# Bin the data\n",
    "# df_y['PRICE_BIN'] = pd.qcut(df_y['PRICE'], q=5)\n",
    "df_y['PRICE_BIN_IDX'] = pd.qcut(df_y['PRICE'], q=5, labels=[0, 1, 2, 3, 4])\n",
    "# df_y['LIKES_VIEWS_RATIO_BIN'] = pd.qcut(df_y['LIKES_VIEWS_RATIO'], q=5)\n",
    "df_y['LIKES_VIEWS_RATIO_BIN_IDX'] = pd.qcut(df_y['LIKES_VIEWS_RATIO'], q=5, labels=[0, 1, 2, 3, 4])\n",
    "df_y = df_y.astype({'PRICE_BIN_IDX': int, 'LIKES_VIEWS_RATIO_BIN_IDX': int})\n",
    "df_y.drop(['PRICE', 'LIKES_VIEWS_RATIO'], axis=1, inplace=True)\n",
    "\n",
    "df_y.head()"
   ],
   "metadata": {
    "collapsed": false,
    "pycharm": {
     "name": "#%%\n"
    }
   }
  },
  {
   "cell_type": "code",
   "execution_count": 1,
   "outputs": [
    {
     "ename": "NameError",
     "evalue": "name 'df_y' is not defined",
     "output_type": "error",
     "traceback": [
      "\u001B[1;31m---------------------------------------------------------------------------\u001B[0m",
      "\u001B[1;31mNameError\u001B[0m                                 Traceback (most recent call last)",
      "\u001B[1;32m<ipython-input-1-2a0877c740ee>\u001B[0m in \u001B[0;36m<module>\u001B[1;34m\u001B[0m\n\u001B[0;32m      1\u001B[0m \u001B[1;31m# Join x and y into a single dataframe\u001B[0m\u001B[1;33m\u001B[0m\u001B[1;33m\u001B[0m\u001B[1;33m\u001B[0m\u001B[0m\n\u001B[1;32m----> 2\u001B[1;33m \u001B[0mdf\u001B[0m \u001B[1;33m=\u001B[0m \u001B[0mdf_y\u001B[0m\u001B[1;33m.\u001B[0m\u001B[0mjoin\u001B[0m\u001B[1;33m(\u001B[0m\u001B[0mdf_x\u001B[0m\u001B[1;33m)\u001B[0m\u001B[1;33m\u001B[0m\u001B[1;33m\u001B[0m\u001B[0m\n\u001B[0m\u001B[0;32m      3\u001B[0m \u001B[0mdf\u001B[0m\u001B[1;33m.\u001B[0m\u001B[0mhead\u001B[0m\u001B[1;33m(\u001B[0m\u001B[1;33m)\u001B[0m\u001B[1;33m\u001B[0m\u001B[1;33m\u001B[0m\u001B[0m\n\u001B[0;32m      4\u001B[0m \u001B[1;33m\u001B[0m\u001B[0m\n",
      "\u001B[1;31mNameError\u001B[0m: name 'df_y' is not defined"
     ]
    }
   ],
   "source": [
    "# Join x and y into a single dataframe\n",
    "df = df_y.join(df_x)\n",
    "df.head()"
   ],
   "metadata": {
    "collapsed": false,
    "pycharm": {
     "name": "#%%\n"
    }
   }
  },
  {
   "cell_type": "code",
   "execution_count": null,
   "outputs": [],
   "source": [
    "X = df.drop(['PRICE_BIN_IDX', 'LIKES_VIEWS_RATIO_BIN_IDX'], axis=1).values\n",
    "y = pd.get_dummies(df['LIKES_VIEWS_RATIO_BIN_IDX'].values).to_numpy()\n",
    "y_idx = df['LIKES_VIEWS_RATIO_BIN_IDX'].values\n",
    "\n",
    "X_train, X_val, X_test = X[:13000], X[12000:13000], X[13000:]\n",
    "y_train, y_val, y_test = y[:13000], y[12000:13000], y[13000:]\n",
    "y_idx_train, y_idx_val, y_idx_test = y_idx[:13000], y_idx[12000:13000], y_idx[13000:]"
   ],
   "metadata": {
    "collapsed": false,
    "pycharm": {
     "name": "#%%\n"
    }
   }
  },
  {
   "cell_type": "code",
   "execution_count": null,
   "outputs": [],
   "source": [
    "# Reduce dimensionality\n",
    "reducer = umap.UMAP(n_neighbors=30, min_dist=0.0, n_components=50)\n",
    "\n",
    "mapper = umap.UMAP(n_neighbors=30, min_dist=0.0, n_components=50).fit(X_train, y=y_idx_train)\n",
    "\n",
    "X_train_embedding = mapper.transform(X_train)\n",
    "X_test_embedding = mapper.transform(X_test)"
   ],
   "metadata": {
    "collapsed": false,
    "pycharm": {
     "name": "#%%\n"
    }
   }
  },
  {
   "cell_type": "code",
   "execution_count": null,
   "outputs": [],
   "source": [
    "results = []"
   ],
   "metadata": {
    "collapsed": false,
    "pycharm": {
     "name": "#%%\n"
    }
   }
  },
  {
   "cell_type": "code",
   "execution_count": null,
   "outputs": [],
   "source": [
    "# Training\n",
    "no_iterations = 100\n",
    "for i in range(no_iterations):\n",
    "    # create XGBoost instance with default hyper-parameters\n",
    "    xgb_estimator = xgb.XGBClassifier(objective='binary:logistic',\n",
    "                                      use_label_encoder=False)\n",
    "\n",
    "    booster_parameters = randomize_hparams()\n",
    "    xgb_estimator.set_params(**booster_parameters)\n",
    "\n",
    "    # create MultiOutputClassifier instance with XGBoost model inside\n",
    "    multilabel_model = MultiOutputClassifier(xgb_estimator, n_jobs=1)\n",
    "\n",
    "    multilabel_model.fit(X_train_embedding, y_train)\n",
    "\n",
    "    accuracy = accuracy_score(y_test, multilabel_model.predict(X_test_embedding)) * 100\n",
    "    # print(f'Accuracy on test data: {accuracy}')\n",
    "\n",
    "    r_ = {'run': i,\n",
    "                    'accuracy': accuracy,\n",
    "                    'hparams': booster_parameters}\n",
    "\n",
    "    print(r_)\n",
    "    results.append(r_)"
   ],
   "metadata": {
    "collapsed": false,
    "pycharm": {
     "name": "#%%\n"
    }
   }
  }
 ],
 "metadata": {
  "kernelspec": {
   "name": "thesis_cur-ai-tor",
   "language": "python",
   "display_name": "Thesis_cur-AI-tor"
  },
  "language_info": {
   "codemirror_mode": {
    "name": "ipython",
    "version": 2
   },
   "file_extension": ".py",
   "mimetype": "text/x-python",
   "name": "python",
   "nbconvert_exporter": "python",
   "pygments_lexer": "ipython2",
   "version": "2.7.6"
  }
 },
 "nbformat": 4,
 "nbformat_minor": 0
}